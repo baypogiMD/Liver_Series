{
  "nbformat": 4,
  "nbformat_minor": 0,
  "metadata": {
    "colab": {
      "name": "10 - Liver Series - Part 2.ipynb",
      "provenance": [],
      "collapsed_sections": []
    },
    "kernelspec": {
      "display_name": "Python 3",
      "name": "python3"
    },
    "language_info": {
      "name": "python"
    }
  },
  "cells": [
    {
      "cell_type": "markdown",
      "metadata": {
        "id": "gxyM4KkbnEfd"
      },
      "source": [
        "# LIVER SERIES - Part 2\n",
        "Statistical inference in all categorical variables."
      ]
    },
    {
      "cell_type": "code",
      "metadata": {
        "id": "Toa-GCRhm0gl"
      },
      "source": [
        "# Import the necessary libraries\n",
        "\n",
        "import pandas as pd\n",
        "import numpy as np\n",
        "import matplotlib.pyplot as plt\n",
        "import seaborn as sns\n",
        "from scipy.stats import chi2_contingency\n",
        "from scipy.stats import chi2"
      ],
      "execution_count": 1,
      "outputs": []
    },
    {
      "cell_type": "code",
      "metadata": {
        "colab": {
          "base_uri": "https://localhost:8080/",
          "height": 16
        },
        "id": "9QX5BXdJgn-U",
        "outputId": "e6337113-2363-4f17-e71e-3a155253a985"
      },
      "source": [
        "# We need this additional code to be able to display tables/dataframes in one output.\n",
        "\n",
        "from IPython.display import display, HTML\n",
        "\n",
        "CSS = \"\"\"\n",
        ".output {\n",
        "    flex-direction: row;\n",
        "}\n",
        "\"\"\"\n",
        "\n",
        "HTML('<style>{}</style>'.format(CSS))"
      ],
      "execution_count": 2,
      "outputs": [
        {
          "output_type": "execute_result",
          "data": {
            "text/html": [
              "<style>\n",
              ".output {\n",
              "    flex-direction: row;\n",
              "}\n",
              "</style>"
            ],
            "text/plain": [
              "<IPython.core.display.HTML object>"
            ]
          },
          "metadata": {
            "tags": []
          },
          "execution_count": 2
        }
      ]
    },
    {
      "cell_type": "markdown",
      "metadata": {
        "id": "wAZsqBufnTX1"
      },
      "source": [
        "# Import the dataset"
      ]
    },
    {
      "cell_type": "code",
      "metadata": {
        "colab": {
          "base_uri": "https://localhost:8080/",
          "height": 197
        },
        "id": "qaUWv2WRoFOe",
        "outputId": "66bf6788-2d0f-4bfd-e06c-4c2049a758c2"
      },
      "source": [
        "pbc = pd.read_csv('primary biliary cirrhosis RCT mod1.csv')\n",
        "pbc.head()"
      ],
      "execution_count": 3,
      "outputs": [
        {
          "output_type": "execute_result",
          "data": {
            "text/html": [
              "<div>\n",
              "<style scoped>\n",
              "    .dataframe tbody tr th:only-of-type {\n",
              "        vertical-align: middle;\n",
              "    }\n",
              "\n",
              "    .dataframe tbody tr th {\n",
              "        vertical-align: top;\n",
              "    }\n",
              "\n",
              "    .dataframe thead th {\n",
              "        text-align: right;\n",
              "    }\n",
              "</style>\n",
              "<table border=\"1\" class=\"dataframe\">\n",
              "  <thead>\n",
              "    <tr style=\"text-align: right;\">\n",
              "      <th></th>\n",
              "      <th>PatientID</th>\n",
              "      <th>DaySurvival</th>\n",
              "      <th>Status</th>\n",
              "      <th>Treatment</th>\n",
              "      <th>AgeYrs</th>\n",
              "      <th>Sex</th>\n",
              "      <th>Ascites</th>\n",
              "      <th>Hepatomegaly</th>\n",
              "      <th>SpiderAngiomata</th>\n",
              "      <th>Edema</th>\n",
              "      <th>Bilirubin</th>\n",
              "      <th>Cholesterol</th>\n",
              "      <th>Albumin</th>\n",
              "      <th>Copper</th>\n",
              "      <th>ALP</th>\n",
              "      <th>AST</th>\n",
              "      <th>Triglyceride</th>\n",
              "      <th>Platelet</th>\n",
              "      <th>Protime</th>\n",
              "      <th>HistologyStage</th>\n",
              "    </tr>\n",
              "  </thead>\n",
              "  <tbody>\n",
              "    <tr>\n",
              "      <th>0</th>\n",
              "      <td>1</td>\n",
              "      <td>400</td>\n",
              "      <td>censored</td>\n",
              "      <td>penicillamine</td>\n",
              "      <td>58.77</td>\n",
              "      <td>F</td>\n",
              "      <td>yes</td>\n",
              "      <td>yes</td>\n",
              "      <td>yes</td>\n",
              "      <td>present</td>\n",
              "      <td>14.5</td>\n",
              "      <td>261.0</td>\n",
              "      <td>2.60</td>\n",
              "      <td>156.0</td>\n",
              "      <td>1718.0</td>\n",
              "      <td>137.95</td>\n",
              "      <td>172.0</td>\n",
              "      <td>190.0</td>\n",
              "      <td>12.2</td>\n",
              "      <td>4.0</td>\n",
              "    </tr>\n",
              "    <tr>\n",
              "      <th>1</th>\n",
              "      <td>2</td>\n",
              "      <td>4500</td>\n",
              "      <td>dead</td>\n",
              "      <td>penicillamine</td>\n",
              "      <td>56.45</td>\n",
              "      <td>F</td>\n",
              "      <td>no</td>\n",
              "      <td>yes</td>\n",
              "      <td>yes</td>\n",
              "      <td>absent</td>\n",
              "      <td>1.1</td>\n",
              "      <td>302.0</td>\n",
              "      <td>4.14</td>\n",
              "      <td>54.0</td>\n",
              "      <td>7394.8</td>\n",
              "      <td>113.52</td>\n",
              "      <td>88.0</td>\n",
              "      <td>221.0</td>\n",
              "      <td>10.6</td>\n",
              "      <td>3.0</td>\n",
              "    </tr>\n",
              "    <tr>\n",
              "      <th>2</th>\n",
              "      <td>3</td>\n",
              "      <td>1012</td>\n",
              "      <td>censored</td>\n",
              "      <td>penicillamine</td>\n",
              "      <td>70.07</td>\n",
              "      <td>M</td>\n",
              "      <td>no</td>\n",
              "      <td>no</td>\n",
              "      <td>no</td>\n",
              "      <td>diurese</td>\n",
              "      <td>1.4</td>\n",
              "      <td>176.0</td>\n",
              "      <td>3.48</td>\n",
              "      <td>210.0</td>\n",
              "      <td>516.0</td>\n",
              "      <td>96.10</td>\n",
              "      <td>55.0</td>\n",
              "      <td>151.0</td>\n",
              "      <td>12.0</td>\n",
              "      <td>4.0</td>\n",
              "    </tr>\n",
              "    <tr>\n",
              "      <th>3</th>\n",
              "      <td>4</td>\n",
              "      <td>1925</td>\n",
              "      <td>censored</td>\n",
              "      <td>penicillamine</td>\n",
              "      <td>54.74</td>\n",
              "      <td>F</td>\n",
              "      <td>no</td>\n",
              "      <td>yes</td>\n",
              "      <td>yes</td>\n",
              "      <td>diurese</td>\n",
              "      <td>1.8</td>\n",
              "      <td>244.0</td>\n",
              "      <td>2.54</td>\n",
              "      <td>64.0</td>\n",
              "      <td>6121.8</td>\n",
              "      <td>60.63</td>\n",
              "      <td>92.0</td>\n",
              "      <td>183.0</td>\n",
              "      <td>10.3</td>\n",
              "      <td>4.0</td>\n",
              "    </tr>\n",
              "    <tr>\n",
              "      <th>4</th>\n",
              "      <td>5</td>\n",
              "      <td>1504</td>\n",
              "      <td>transplant</td>\n",
              "      <td>placebo</td>\n",
              "      <td>38.11</td>\n",
              "      <td>F</td>\n",
              "      <td>no</td>\n",
              "      <td>yes</td>\n",
              "      <td>yes</td>\n",
              "      <td>absent</td>\n",
              "      <td>3.4</td>\n",
              "      <td>279.0</td>\n",
              "      <td>3.53</td>\n",
              "      <td>143.0</td>\n",
              "      <td>671.0</td>\n",
              "      <td>113.15</td>\n",
              "      <td>72.0</td>\n",
              "      <td>136.0</td>\n",
              "      <td>10.9</td>\n",
              "      <td>3.0</td>\n",
              "    </tr>\n",
              "  </tbody>\n",
              "</table>\n",
              "</div>"
            ],
            "text/plain": [
              "   PatientID  DaySurvival      Status  ... Platelet  Protime HistologyStage\n",
              "0          1          400    censored  ...    190.0     12.2            4.0\n",
              "1          2         4500        dead  ...    221.0     10.6            3.0\n",
              "2          3         1012    censored  ...    151.0     12.0            4.0\n",
              "3          4         1925    censored  ...    183.0     10.3            4.0\n",
              "4          5         1504  transplant  ...    136.0     10.9            3.0\n",
              "\n",
              "[5 rows x 20 columns]"
            ]
          },
          "metadata": {
            "tags": []
          },
          "execution_count": 3
        }
      ]
    },
    {
      "cell_type": "code",
      "metadata": {
        "colab": {
          "base_uri": "https://localhost:8080/"
        },
        "id": "kbdBRE9qoaXr",
        "outputId": "f220dc9a-f623-4ad1-91d6-365e136ec028"
      },
      "source": [
        "pbc.info()"
      ],
      "execution_count": 4,
      "outputs": [
        {
          "output_type": "stream",
          "text": [
            "<class 'pandas.core.frame.DataFrame'>\n",
            "RangeIndex: 418 entries, 0 to 417\n",
            "Data columns (total 20 columns):\n",
            " #   Column           Non-Null Count  Dtype  \n",
            "---  ------           --------------  -----  \n",
            " 0   PatientID        418 non-null    int64  \n",
            " 1   DaySurvival      418 non-null    int64  \n",
            " 2   Status           418 non-null    object \n",
            " 3   Treatment        312 non-null    object \n",
            " 4   AgeYrs           418 non-null    float64\n",
            " 5   Sex              418 non-null    object \n",
            " 6   Ascites          312 non-null    object \n",
            " 7   Hepatomegaly     312 non-null    object \n",
            " 8   SpiderAngiomata  312 non-null    object \n",
            " 9   Edema            418 non-null    object \n",
            " 10  Bilirubin        418 non-null    float64\n",
            " 11  Cholesterol      284 non-null    float64\n",
            " 12  Albumin          418 non-null    float64\n",
            " 13  Copper           310 non-null    float64\n",
            " 14  ALP              312 non-null    float64\n",
            " 15  AST              312 non-null    float64\n",
            " 16  Triglyceride     282 non-null    float64\n",
            " 17  Platelet         407 non-null    float64\n",
            " 18  Protime          416 non-null    float64\n",
            " 19  HistologyStage   412 non-null    float64\n",
            "dtypes: float64(11), int64(2), object(7)\n",
            "memory usage: 65.4+ KB\n"
          ],
          "name": "stdout"
        }
      ]
    },
    {
      "cell_type": "markdown",
      "metadata": {
        "id": "D43xRhAconGP"
      },
      "source": [
        "# Handling the null values in our dataset"
      ]
    },
    {
      "cell_type": "markdown",
      "metadata": {
        "id": "gcb_6zPwpOIr"
      },
      "source": [
        "How many null values does our dataset have?"
      ]
    },
    {
      "cell_type": "code",
      "metadata": {
        "colab": {
          "base_uri": "https://localhost:8080/"
        },
        "id": "UCEAEcEiosjP",
        "outputId": "8fa49c82-fc5a-4c0c-efdb-c667790e6b2d"
      },
      "source": [
        "pbc.isna().sum()"
      ],
      "execution_count": 5,
      "outputs": [
        {
          "output_type": "execute_result",
          "data": {
            "text/plain": [
              "PatientID            0\n",
              "DaySurvival          0\n",
              "Status               0\n",
              "Treatment          106\n",
              "AgeYrs               0\n",
              "Sex                  0\n",
              "Ascites            106\n",
              "Hepatomegaly       106\n",
              "SpiderAngiomata    106\n",
              "Edema                0\n",
              "Bilirubin            0\n",
              "Cholesterol        134\n",
              "Albumin              0\n",
              "Copper             108\n",
              "ALP                106\n",
              "AST                106\n",
              "Triglyceride       136\n",
              "Platelet            11\n",
              "Protime              2\n",
              "HistologyStage       6\n",
              "dtype: int64"
            ]
          },
          "metadata": {
            "tags": []
          },
          "execution_count": 5
        }
      ]
    },
    {
      "cell_type": "markdown",
      "metadata": {
        "id": "Q0vyqvt7pRy8"
      },
      "source": [
        "We will drop the all null values that coincide with the variable **Treatment**."
      ]
    },
    {
      "cell_type": "code",
      "metadata": {
        "colab": {
          "base_uri": "https://localhost:8080/",
          "height": 197
        },
        "id": "oUZaBH8uotYF",
        "outputId": "27c8836c-4b83-45c2-fac2-964d40ccf55e"
      },
      "source": [
        "pbc = pbc.dropna(subset=['Treatment'])\n",
        "pbc.tail()"
      ],
      "execution_count": 6,
      "outputs": [
        {
          "output_type": "execute_result",
          "data": {
            "text/html": [
              "<div>\n",
              "<style scoped>\n",
              "    .dataframe tbody tr th:only-of-type {\n",
              "        vertical-align: middle;\n",
              "    }\n",
              "\n",
              "    .dataframe tbody tr th {\n",
              "        vertical-align: top;\n",
              "    }\n",
              "\n",
              "    .dataframe thead th {\n",
              "        text-align: right;\n",
              "    }\n",
              "</style>\n",
              "<table border=\"1\" class=\"dataframe\">\n",
              "  <thead>\n",
              "    <tr style=\"text-align: right;\">\n",
              "      <th></th>\n",
              "      <th>PatientID</th>\n",
              "      <th>DaySurvival</th>\n",
              "      <th>Status</th>\n",
              "      <th>Treatment</th>\n",
              "      <th>AgeYrs</th>\n",
              "      <th>Sex</th>\n",
              "      <th>Ascites</th>\n",
              "      <th>Hepatomegaly</th>\n",
              "      <th>SpiderAngiomata</th>\n",
              "      <th>Edema</th>\n",
              "      <th>Bilirubin</th>\n",
              "      <th>Cholesterol</th>\n",
              "      <th>Albumin</th>\n",
              "      <th>Copper</th>\n",
              "      <th>ALP</th>\n",
              "      <th>AST</th>\n",
              "      <th>Triglyceride</th>\n",
              "      <th>Platelet</th>\n",
              "      <th>Protime</th>\n",
              "      <th>HistologyStage</th>\n",
              "    </tr>\n",
              "  </thead>\n",
              "  <tbody>\n",
              "    <tr>\n",
              "      <th>307</th>\n",
              "      <td>308</td>\n",
              "      <td>1153</td>\n",
              "      <td>dead</td>\n",
              "      <td>penicillamine</td>\n",
              "      <td>61.18</td>\n",
              "      <td>F</td>\n",
              "      <td>no</td>\n",
              "      <td>yes</td>\n",
              "      <td>no</td>\n",
              "      <td>absent</td>\n",
              "      <td>0.4</td>\n",
              "      <td>246.0</td>\n",
              "      <td>3.58</td>\n",
              "      <td>24.0</td>\n",
              "      <td>797.0</td>\n",
              "      <td>91.0</td>\n",
              "      <td>113.0</td>\n",
              "      <td>288.0</td>\n",
              "      <td>10.4</td>\n",
              "      <td>2.0</td>\n",
              "    </tr>\n",
              "    <tr>\n",
              "      <th>308</th>\n",
              "      <td>309</td>\n",
              "      <td>994</td>\n",
              "      <td>dead</td>\n",
              "      <td>placebo</td>\n",
              "      <td>58.30</td>\n",
              "      <td>F</td>\n",
              "      <td>no</td>\n",
              "      <td>no</td>\n",
              "      <td>no</td>\n",
              "      <td>absent</td>\n",
              "      <td>0.4</td>\n",
              "      <td>260.0</td>\n",
              "      <td>2.75</td>\n",
              "      <td>41.0</td>\n",
              "      <td>1166.0</td>\n",
              "      <td>70.0</td>\n",
              "      <td>82.0</td>\n",
              "      <td>231.0</td>\n",
              "      <td>10.8</td>\n",
              "      <td>2.0</td>\n",
              "    </tr>\n",
              "    <tr>\n",
              "      <th>309</th>\n",
              "      <td>310</td>\n",
              "      <td>939</td>\n",
              "      <td>dead</td>\n",
              "      <td>penicillamine</td>\n",
              "      <td>62.33</td>\n",
              "      <td>F</td>\n",
              "      <td>no</td>\n",
              "      <td>no</td>\n",
              "      <td>no</td>\n",
              "      <td>absent</td>\n",
              "      <td>1.7</td>\n",
              "      <td>434.0</td>\n",
              "      <td>3.35</td>\n",
              "      <td>39.0</td>\n",
              "      <td>1713.0</td>\n",
              "      <td>171.0</td>\n",
              "      <td>100.0</td>\n",
              "      <td>234.0</td>\n",
              "      <td>10.2</td>\n",
              "      <td>2.0</td>\n",
              "    </tr>\n",
              "    <tr>\n",
              "      <th>310</th>\n",
              "      <td>311</td>\n",
              "      <td>839</td>\n",
              "      <td>dead</td>\n",
              "      <td>penicillamine</td>\n",
              "      <td>38.00</td>\n",
              "      <td>F</td>\n",
              "      <td>no</td>\n",
              "      <td>no</td>\n",
              "      <td>no</td>\n",
              "      <td>absent</td>\n",
              "      <td>2.0</td>\n",
              "      <td>247.0</td>\n",
              "      <td>3.16</td>\n",
              "      <td>69.0</td>\n",
              "      <td>1050.0</td>\n",
              "      <td>117.0</td>\n",
              "      <td>88.0</td>\n",
              "      <td>335.0</td>\n",
              "      <td>10.5</td>\n",
              "      <td>2.0</td>\n",
              "    </tr>\n",
              "    <tr>\n",
              "      <th>311</th>\n",
              "      <td>312</td>\n",
              "      <td>788</td>\n",
              "      <td>dead</td>\n",
              "      <td>placebo</td>\n",
              "      <td>33.15</td>\n",
              "      <td>F</td>\n",
              "      <td>no</td>\n",
              "      <td>no</td>\n",
              "      <td>yes</td>\n",
              "      <td>absent</td>\n",
              "      <td>6.4</td>\n",
              "      <td>576.0</td>\n",
              "      <td>3.79</td>\n",
              "      <td>186.0</td>\n",
              "      <td>2115.0</td>\n",
              "      <td>136.0</td>\n",
              "      <td>149.0</td>\n",
              "      <td>200.0</td>\n",
              "      <td>10.8</td>\n",
              "      <td>2.0</td>\n",
              "    </tr>\n",
              "  </tbody>\n",
              "</table>\n",
              "</div>"
            ],
            "text/plain": [
              "     PatientID  DaySurvival Status  ... Platelet  Protime HistologyStage\n",
              "307        308         1153   dead  ...    288.0     10.4            2.0\n",
              "308        309          994   dead  ...    231.0     10.8            2.0\n",
              "309        310          939   dead  ...    234.0     10.2            2.0\n",
              "310        311          839   dead  ...    335.0     10.5            2.0\n",
              "311        312          788   dead  ...    200.0     10.8            2.0\n",
              "\n",
              "[5 rows x 20 columns]"
            ]
          },
          "metadata": {
            "tags": []
          },
          "execution_count": 6
        }
      ]
    },
    {
      "cell_type": "markdown",
      "metadata": {
        "id": "dD2REZqUpco2"
      },
      "source": [
        "Do we still have null values?"
      ]
    },
    {
      "cell_type": "code",
      "metadata": {
        "colab": {
          "base_uri": "https://localhost:8080/"
        },
        "id": "dknsCTN9o_qa",
        "outputId": "1128fa46-e27d-44e4-9add-f230593b0eb8"
      },
      "source": [
        "pbc.isna().sum()"
      ],
      "execution_count": 7,
      "outputs": [
        {
          "output_type": "execute_result",
          "data": {
            "text/plain": [
              "PatientID           0\n",
              "DaySurvival         0\n",
              "Status              0\n",
              "Treatment           0\n",
              "AgeYrs              0\n",
              "Sex                 0\n",
              "Ascites             0\n",
              "Hepatomegaly        0\n",
              "SpiderAngiomata     0\n",
              "Edema               0\n",
              "Bilirubin           0\n",
              "Cholesterol        28\n",
              "Albumin             0\n",
              "Copper              2\n",
              "ALP                 0\n",
              "AST                 0\n",
              "Triglyceride       30\n",
              "Platelet            4\n",
              "Protime             0\n",
              "HistologyStage      0\n",
              "dtype: int64"
            ]
          },
          "metadata": {
            "tags": []
          },
          "execution_count": 7
        }
      ]
    },
    {
      "cell_type": "markdown",
      "metadata": {
        "id": "zcbwrrRzrRTZ"
      },
      "source": [
        "For now we will not handle the continuous variables with null values because we will be focusing on categorical variables in this notebook."
      ]
    },
    {
      "cell_type": "markdown",
      "metadata": {
        "id": "cMXuvXBgu4Wy"
      },
      "source": [
        "# Create subset/variables"
      ]
    },
    {
      "cell_type": "markdown",
      "metadata": {
        "id": "-9GZSJ2AEELT"
      },
      "source": [
        "## Histology stage\n",
        "Even though this variable is the last column of the main dataset, we need to first create it's subset so that it's changes will be applied to succeeding subsets/variables.\n",
        "<br>\n",
        "Here, we convert the integers into string so that it will be easier to categorize them in performing statistical inference."
      ]
    },
    {
      "cell_type": "code",
      "metadata": {
        "colab": {
          "base_uri": "https://localhost:8080/",
          "height": 167
        },
        "id": "9zgdLudRrIgv",
        "outputId": "7c087311-0d80-4b1e-f214-e4d878655262"
      },
      "source": [
        "pbc['HistologyStage'] = pbc['HistologyStage'].apply(str)\n",
        "pbc['HistologyStage'].replace('1.0', 'Stage1', inplace=True)\n",
        "pbc['HistologyStage'].replace('2.0', 'Stage2', inplace=True)\n",
        "pbc['HistologyStage'].replace('3.0', 'Stage3', inplace=True)\n",
        "pbc['HistologyStage'].replace('4.0', 'Stage4', inplace=True)\n",
        "\n",
        "Stage1 = pbc[pbc['HistologyStage'] == 'Stage1']\n",
        "Stage2 = pbc[pbc['HistologyStage'] == 'Stage2']\n",
        "Stage3 = pbc[pbc['HistologyStage'] == 'Stage3']\n",
        "Stage4 = pbc[pbc['HistologyStage'] == 'Stage4']\n",
        "\n",
        "histo = pd.DataFrame(pbc['HistologyStage'].value_counts())\n",
        "histo"
      ],
      "execution_count": 8,
      "outputs": [
        {
          "output_type": "execute_result",
          "data": {
            "text/html": [
              "<div>\n",
              "<style scoped>\n",
              "    .dataframe tbody tr th:only-of-type {\n",
              "        vertical-align: middle;\n",
              "    }\n",
              "\n",
              "    .dataframe tbody tr th {\n",
              "        vertical-align: top;\n",
              "    }\n",
              "\n",
              "    .dataframe thead th {\n",
              "        text-align: right;\n",
              "    }\n",
              "</style>\n",
              "<table border=\"1\" class=\"dataframe\">\n",
              "  <thead>\n",
              "    <tr style=\"text-align: right;\">\n",
              "      <th></th>\n",
              "      <th>HistologyStage</th>\n",
              "    </tr>\n",
              "  </thead>\n",
              "  <tbody>\n",
              "    <tr>\n",
              "      <th>Stage3</th>\n",
              "      <td>120</td>\n",
              "    </tr>\n",
              "    <tr>\n",
              "      <th>Stage4</th>\n",
              "      <td>109</td>\n",
              "    </tr>\n",
              "    <tr>\n",
              "      <th>Stage2</th>\n",
              "      <td>67</td>\n",
              "    </tr>\n",
              "    <tr>\n",
              "      <th>Stage1</th>\n",
              "      <td>16</td>\n",
              "    </tr>\n",
              "  </tbody>\n",
              "</table>\n",
              "</div>"
            ],
            "text/plain": [
              "        HistologyStage\n",
              "Stage3             120\n",
              "Stage4             109\n",
              "Stage2              67\n",
              "Stage1              16"
            ]
          },
          "metadata": {
            "tags": []
          },
          "execution_count": 8
        }
      ]
    },
    {
      "cell_type": "markdown",
      "metadata": {
        "id": "nQUU75wqEGyZ"
      },
      "source": [
        "## Censoring status"
      ]
    },
    {
      "cell_type": "code",
      "metadata": {
        "colab": {
          "base_uri": "https://localhost:8080/",
          "height": 137
        },
        "id": "IEFVu7Bkqj7B",
        "outputId": "e66b1089-7668-4256-9349-006b461a2214"
      },
      "source": [
        "dead = pbc[pbc['Status'] == 'dead']\n",
        "censored = pbc[pbc['Status'] == 'censored']\n",
        "transplant = pbc[pbc['Status'] == 'transplant']\n",
        "\n",
        "status = pd.DataFrame(pbc['Status'].value_counts())\n",
        "status"
      ],
      "execution_count": 9,
      "outputs": [
        {
          "output_type": "execute_result",
          "data": {
            "text/html": [
              "<div>\n",
              "<style scoped>\n",
              "    .dataframe tbody tr th:only-of-type {\n",
              "        vertical-align: middle;\n",
              "    }\n",
              "\n",
              "    .dataframe tbody tr th {\n",
              "        vertical-align: top;\n",
              "    }\n",
              "\n",
              "    .dataframe thead th {\n",
              "        text-align: right;\n",
              "    }\n",
              "</style>\n",
              "<table border=\"1\" class=\"dataframe\">\n",
              "  <thead>\n",
              "    <tr style=\"text-align: right;\">\n",
              "      <th></th>\n",
              "      <th>Status</th>\n",
              "    </tr>\n",
              "  </thead>\n",
              "  <tbody>\n",
              "    <tr>\n",
              "      <th>dead</th>\n",
              "      <td>168</td>\n",
              "    </tr>\n",
              "    <tr>\n",
              "      <th>censored</th>\n",
              "      <td>125</td>\n",
              "    </tr>\n",
              "    <tr>\n",
              "      <th>transplant</th>\n",
              "      <td>19</td>\n",
              "    </tr>\n",
              "  </tbody>\n",
              "</table>\n",
              "</div>"
            ],
            "text/plain": [
              "            Status\n",
              "dead           168\n",
              "censored       125\n",
              "transplant      19"
            ]
          },
          "metadata": {
            "tags": []
          },
          "execution_count": 9
        }
      ]
    },
    {
      "cell_type": "markdown",
      "metadata": {
        "id": "KbZR8aBkEJsj"
      },
      "source": [
        "## Treatment group"
      ]
    },
    {
      "cell_type": "code",
      "metadata": {
        "colab": {
          "base_uri": "https://localhost:8080/",
          "height": 107
        },
        "id": "KtoYqNZMw3eM",
        "outputId": "ae61c21e-8246-4043-d9b1-002cd1613dd5"
      },
      "source": [
        "penicillamine = pbc[pbc['Treatment'] == 'penicillamine']\n",
        "placebo = pbc[pbc['Treatment'] == 'placebo']\n",
        "\n",
        "treat = pd.DataFrame(pbc['Treatment'].value_counts())\n",
        "treat"
      ],
      "execution_count": 10,
      "outputs": [
        {
          "output_type": "execute_result",
          "data": {
            "text/html": [
              "<div>\n",
              "<style scoped>\n",
              "    .dataframe tbody tr th:only-of-type {\n",
              "        vertical-align: middle;\n",
              "    }\n",
              "\n",
              "    .dataframe tbody tr th {\n",
              "        vertical-align: top;\n",
              "    }\n",
              "\n",
              "    .dataframe thead th {\n",
              "        text-align: right;\n",
              "    }\n",
              "</style>\n",
              "<table border=\"1\" class=\"dataframe\">\n",
              "  <thead>\n",
              "    <tr style=\"text-align: right;\">\n",
              "      <th></th>\n",
              "      <th>Treatment</th>\n",
              "    </tr>\n",
              "  </thead>\n",
              "  <tbody>\n",
              "    <tr>\n",
              "      <th>penicillamine</th>\n",
              "      <td>158</td>\n",
              "    </tr>\n",
              "    <tr>\n",
              "      <th>placebo</th>\n",
              "      <td>154</td>\n",
              "    </tr>\n",
              "  </tbody>\n",
              "</table>\n",
              "</div>"
            ],
            "text/plain": [
              "               Treatment\n",
              "penicillamine        158\n",
              "placebo              154"
            ]
          },
          "metadata": {
            "tags": []
          },
          "execution_count": 10
        }
      ]
    },
    {
      "cell_type": "markdown",
      "metadata": {
        "id": "-qEYTbnIEMCt"
      },
      "source": [
        "## Sex"
      ]
    },
    {
      "cell_type": "code",
      "metadata": {
        "colab": {
          "base_uri": "https://localhost:8080/",
          "height": 107
        },
        "id": "Wu3Uahn_w7sq",
        "outputId": "aae42ca1-b1cb-4156-cc64-b2e537ae6d51"
      },
      "source": [
        "female = pbc[pbc['Sex'] == 'F']\n",
        "male = pbc[pbc['Sex'] == 'M']\n",
        "\n",
        "sex = pd.DataFrame(pbc['Sex'].value_counts())\n",
        "sex"
      ],
      "execution_count": 11,
      "outputs": [
        {
          "output_type": "execute_result",
          "data": {
            "text/html": [
              "<div>\n",
              "<style scoped>\n",
              "    .dataframe tbody tr th:only-of-type {\n",
              "        vertical-align: middle;\n",
              "    }\n",
              "\n",
              "    .dataframe tbody tr th {\n",
              "        vertical-align: top;\n",
              "    }\n",
              "\n",
              "    .dataframe thead th {\n",
              "        text-align: right;\n",
              "    }\n",
              "</style>\n",
              "<table border=\"1\" class=\"dataframe\">\n",
              "  <thead>\n",
              "    <tr style=\"text-align: right;\">\n",
              "      <th></th>\n",
              "      <th>Sex</th>\n",
              "    </tr>\n",
              "  </thead>\n",
              "  <tbody>\n",
              "    <tr>\n",
              "      <th>F</th>\n",
              "      <td>276</td>\n",
              "    </tr>\n",
              "    <tr>\n",
              "      <th>M</th>\n",
              "      <td>36</td>\n",
              "    </tr>\n",
              "  </tbody>\n",
              "</table>\n",
              "</div>"
            ],
            "text/plain": [
              "   Sex\n",
              "F  276\n",
              "M   36"
            ]
          },
          "metadata": {
            "tags": []
          },
          "execution_count": 11
        }
      ]
    },
    {
      "cell_type": "markdown",
      "metadata": {
        "id": "oT_28ictENya"
      },
      "source": [
        "## Ascites"
      ]
    },
    {
      "cell_type": "code",
      "metadata": {
        "colab": {
          "base_uri": "https://localhost:8080/",
          "height": 107
        },
        "id": "GrmA5BTWqmjr",
        "outputId": "0e77c933-d0a0-4c62-93aa-56099482cae3"
      },
      "source": [
        "noascites = pbc[pbc['Ascites'] == 'no']\n",
        "yesascites = pbc[pbc['Ascites'] == 'yes']\n",
        "\n",
        "ascites = pd.DataFrame(pbc['Ascites'].value_counts())\n",
        "ascites"
      ],
      "execution_count": 12,
      "outputs": [
        {
          "output_type": "execute_result",
          "data": {
            "text/html": [
              "<div>\n",
              "<style scoped>\n",
              "    .dataframe tbody tr th:only-of-type {\n",
              "        vertical-align: middle;\n",
              "    }\n",
              "\n",
              "    .dataframe tbody tr th {\n",
              "        vertical-align: top;\n",
              "    }\n",
              "\n",
              "    .dataframe thead th {\n",
              "        text-align: right;\n",
              "    }\n",
              "</style>\n",
              "<table border=\"1\" class=\"dataframe\">\n",
              "  <thead>\n",
              "    <tr style=\"text-align: right;\">\n",
              "      <th></th>\n",
              "      <th>Ascites</th>\n",
              "    </tr>\n",
              "  </thead>\n",
              "  <tbody>\n",
              "    <tr>\n",
              "      <th>no</th>\n",
              "      <td>288</td>\n",
              "    </tr>\n",
              "    <tr>\n",
              "      <th>yes</th>\n",
              "      <td>24</td>\n",
              "    </tr>\n",
              "  </tbody>\n",
              "</table>\n",
              "</div>"
            ],
            "text/plain": [
              "     Ascites\n",
              "no       288\n",
              "yes       24"
            ]
          },
          "metadata": {
            "tags": []
          },
          "execution_count": 12
        }
      ]
    },
    {
      "cell_type": "markdown",
      "metadata": {
        "id": "iXv7jWviEPxr"
      },
      "source": [
        "## Hepatomegaly"
      ]
    },
    {
      "cell_type": "code",
      "metadata": {
        "colab": {
          "base_uri": "https://localhost:8080/",
          "height": 107
        },
        "id": "Tpx6wILwrE3-",
        "outputId": "3ceee98c-a6db-4dcc-ffde-71e61427309a"
      },
      "source": [
        "nohepato = pbc[pbc['Hepatomegaly'] == 'no']\n",
        "yeshepato = pbc[pbc['Hepatomegaly'] == 'yes']\n",
        "\n",
        "hepato = pd.DataFrame(pbc['Hepatomegaly'].value_counts())\n",
        "hepato"
      ],
      "execution_count": 13,
      "outputs": [
        {
          "output_type": "execute_result",
          "data": {
            "text/html": [
              "<div>\n",
              "<style scoped>\n",
              "    .dataframe tbody tr th:only-of-type {\n",
              "        vertical-align: middle;\n",
              "    }\n",
              "\n",
              "    .dataframe tbody tr th {\n",
              "        vertical-align: top;\n",
              "    }\n",
              "\n",
              "    .dataframe thead th {\n",
              "        text-align: right;\n",
              "    }\n",
              "</style>\n",
              "<table border=\"1\" class=\"dataframe\">\n",
              "  <thead>\n",
              "    <tr style=\"text-align: right;\">\n",
              "      <th></th>\n",
              "      <th>Hepatomegaly</th>\n",
              "    </tr>\n",
              "  </thead>\n",
              "  <tbody>\n",
              "    <tr>\n",
              "      <th>yes</th>\n",
              "      <td>160</td>\n",
              "    </tr>\n",
              "    <tr>\n",
              "      <th>no</th>\n",
              "      <td>152</td>\n",
              "    </tr>\n",
              "  </tbody>\n",
              "</table>\n",
              "</div>"
            ],
            "text/plain": [
              "     Hepatomegaly\n",
              "yes           160\n",
              "no            152"
            ]
          },
          "metadata": {
            "tags": []
          },
          "execution_count": 13
        }
      ]
    },
    {
      "cell_type": "markdown",
      "metadata": {
        "id": "74dOz8WoESQx"
      },
      "source": [
        "## Spider angiomata"
      ]
    },
    {
      "cell_type": "code",
      "metadata": {
        "colab": {
          "base_uri": "https://localhost:8080/",
          "height": 107
        },
        "id": "1Sn5xGnCy9kR",
        "outputId": "19337e11-3e97-4d0c-ce80-5b4abfc33aec"
      },
      "source": [
        "nospider = pbc[pbc['SpiderAngiomata'] == 'no']\n",
        "yesspider = pbc[pbc['SpiderAngiomata'] == 'yes']\n",
        "\n",
        "spider = pd.DataFrame(pbc['SpiderAngiomata'].value_counts())\n",
        "spider"
      ],
      "execution_count": 14,
      "outputs": [
        {
          "output_type": "execute_result",
          "data": {
            "text/html": [
              "<div>\n",
              "<style scoped>\n",
              "    .dataframe tbody tr th:only-of-type {\n",
              "        vertical-align: middle;\n",
              "    }\n",
              "\n",
              "    .dataframe tbody tr th {\n",
              "        vertical-align: top;\n",
              "    }\n",
              "\n",
              "    .dataframe thead th {\n",
              "        text-align: right;\n",
              "    }\n",
              "</style>\n",
              "<table border=\"1\" class=\"dataframe\">\n",
              "  <thead>\n",
              "    <tr style=\"text-align: right;\">\n",
              "      <th></th>\n",
              "      <th>SpiderAngiomata</th>\n",
              "    </tr>\n",
              "  </thead>\n",
              "  <tbody>\n",
              "    <tr>\n",
              "      <th>no</th>\n",
              "      <td>222</td>\n",
              "    </tr>\n",
              "    <tr>\n",
              "      <th>yes</th>\n",
              "      <td>90</td>\n",
              "    </tr>\n",
              "  </tbody>\n",
              "</table>\n",
              "</div>"
            ],
            "text/plain": [
              "     SpiderAngiomata\n",
              "no               222\n",
              "yes               90"
            ]
          },
          "metadata": {
            "tags": []
          },
          "execution_count": 14
        }
      ]
    },
    {
      "cell_type": "markdown",
      "metadata": {
        "id": "fPhO-IwvEU2f"
      },
      "source": [
        "## Edema"
      ]
    },
    {
      "cell_type": "code",
      "metadata": {
        "colab": {
          "base_uri": "https://localhost:8080/",
          "height": 137
        },
        "id": "UQ6kWE5Qy_xZ",
        "outputId": "3003c190-e24c-4a02-f33b-c841e6d9356a"
      },
      "source": [
        "present = pbc[pbc['Edema'] == 'present']\n",
        "diurese = pbc[pbc['Edema'] == 'diurese']\n",
        "absent = pbc[pbc['Edema'] == 'absent']\n",
        "\n",
        "edema = pd.DataFrame(pbc['Edema'].value_counts())\n",
        "edema"
      ],
      "execution_count": 15,
      "outputs": [
        {
          "output_type": "execute_result",
          "data": {
            "text/html": [
              "<div>\n",
              "<style scoped>\n",
              "    .dataframe tbody tr th:only-of-type {\n",
              "        vertical-align: middle;\n",
              "    }\n",
              "\n",
              "    .dataframe tbody tr th {\n",
              "        vertical-align: top;\n",
              "    }\n",
              "\n",
              "    .dataframe thead th {\n",
              "        text-align: right;\n",
              "    }\n",
              "</style>\n",
              "<table border=\"1\" class=\"dataframe\">\n",
              "  <thead>\n",
              "    <tr style=\"text-align: right;\">\n",
              "      <th></th>\n",
              "      <th>Edema</th>\n",
              "    </tr>\n",
              "  </thead>\n",
              "  <tbody>\n",
              "    <tr>\n",
              "      <th>absent</th>\n",
              "      <td>263</td>\n",
              "    </tr>\n",
              "    <tr>\n",
              "      <th>diurese</th>\n",
              "      <td>29</td>\n",
              "    </tr>\n",
              "    <tr>\n",
              "      <th>present</th>\n",
              "      <td>20</td>\n",
              "    </tr>\n",
              "  </tbody>\n",
              "</table>\n",
              "</div>"
            ],
            "text/plain": [
              "         Edema\n",
              "absent     263\n",
              "diurese     29\n",
              "present     20"
            ]
          },
          "metadata": {
            "tags": []
          },
          "execution_count": 15
        }
      ]
    },
    {
      "cell_type": "markdown",
      "metadata": {
        "id": "pUcjaBsO-Kra"
      },
      "source": [
        "# Performing the $\\chi^2$ test"
      ]
    },
    {
      "cell_type": "markdown",
      "metadata": {
        "id": "QmkHz8abAHbQ"
      },
      "source": [
        "## A. Censoring status"
      ]
    },
    {
      "cell_type": "markdown",
      "metadata": {
        "id": "PQPohGuUAV-_"
      },
      "source": [
        "###(1) Is there a relationship between censoring status and treatment assignment?\n",
        "$H_0$: There is no relation between censoring status and treatment assignment.\n",
        "<br>\n",
        "$H_A$: There is relation between censoring status and treatment assignment.\n",
        "<br>\n",
        "Significance level: $\\alpha = 0.05$\n"
      ]
    },
    {
      "cell_type": "code",
      "metadata": {
        "colab": {
          "base_uri": "https://localhost:8080/",
          "height": 107
        },
        "id": "1edRmEgPQkIM",
        "outputId": "9b54571b-2002-4ade-9c10-8b8cb039f9e6"
      },
      "source": [
        "# Create the contingency table - censoring status versus treatment assignment\n",
        "\n",
        "deadpenicillamine = dead[dead['Treatment'] == 'penicillamine']\n",
        "deadpenicillamine = deadpenicillamine['Treatment'].count()\n",
        "deadplacebo = dead[dead['Treatment'] == 'placebo']\n",
        "deadplacebo = deadplacebo['Treatment'].count()\n",
        "\n",
        "censoredpenicillamine = censored[censored['Treatment'] == 'penicillamine']\n",
        "censoredpenicillamine = censoredpenicillamine['Treatment'].count()\n",
        "censoredplacebo = censored[censored['Treatment'] == 'placebo']\n",
        "censoredplacebo = censoredplacebo['Treatment'].count()\n",
        "\n",
        "transplantpenicillamine = transplant[transplant['Treatment'] == 'penicillamine']\n",
        "transplantpenicillamine = transplantpenicillamine['Treatment'].count()\n",
        "transplantplacebo = transplant[transplant['Treatment'] == 'placebo']\n",
        "transplantplacebo = transplantplacebo['Treatment'].count()\n",
        "\n",
        "CensorVsTreatment = pd.DataFrame({'Dead': [deadpenicillamine, deadplacebo], \n",
        "                             'Censored': [censoredpenicillamine, censoredplacebo],\n",
        "                             'Transplant': [transplantpenicillamine, transplantplacebo]}, \n",
        "                            index=['Penicillamine', 'Placebo'])\n",
        "CensorVsTreatment"
      ],
      "execution_count": 72,
      "outputs": [
        {
          "output_type": "execute_result",
          "data": {
            "text/html": [
              "<div>\n",
              "<style scoped>\n",
              "    .dataframe tbody tr th:only-of-type {\n",
              "        vertical-align: middle;\n",
              "    }\n",
              "\n",
              "    .dataframe tbody tr th {\n",
              "        vertical-align: top;\n",
              "    }\n",
              "\n",
              "    .dataframe thead th {\n",
              "        text-align: right;\n",
              "    }\n",
              "</style>\n",
              "<table border=\"1\" class=\"dataframe\">\n",
              "  <thead>\n",
              "    <tr style=\"text-align: right;\">\n",
              "      <th></th>\n",
              "      <th>Dead</th>\n",
              "      <th>Censored</th>\n",
              "      <th>Transplant</th>\n",
              "    </tr>\n",
              "  </thead>\n",
              "  <tbody>\n",
              "    <tr>\n",
              "      <th>Penicillamine</th>\n",
              "      <td>83</td>\n",
              "      <td>65</td>\n",
              "      <td>10</td>\n",
              "    </tr>\n",
              "    <tr>\n",
              "      <th>Placebo</th>\n",
              "      <td>85</td>\n",
              "      <td>60</td>\n",
              "      <td>9</td>\n",
              "    </tr>\n",
              "  </tbody>\n",
              "</table>\n",
              "</div>"
            ],
            "text/plain": [
              "               Dead  Censored  Transplant\n",
              "Penicillamine    83        65          10\n",
              "Placebo          85        60           9"
            ]
          },
          "metadata": {
            "tags": []
          },
          "execution_count": 72
        }
      ]
    },
    {
      "cell_type": "code",
      "metadata": {
        "colab": {
          "base_uri": "https://localhost:8080/",
          "height": 258
        },
        "id": "Zbs8xuFRN7Eg",
        "outputId": "1f9b98e8-3646-4967-86c5-a98149cd6cd0"
      },
      "source": [
        "# Perform the chi square test and determine the critical value (using 95% probability)\n",
        "\n",
        "chi2stat, pval, dof, expected = chi2_contingency(CensorVsTreatment)\n",
        "prob = 0.95\n",
        "critval = chi2.ppf(prob, dof)\n",
        "result = pd.DataFrame([chi2stat, critval, pval, dof], \n",
        "                      index=['Chi2 statistics', 'Critical value', 'p-value', 'degrees of freedom'])\n",
        "expectedval = pd.DataFrame(expected, columns=['Dead', 'Censored', 'Transplant'], \n",
        "                           index=['Penicillamine', 'Placebo'])\n",
        "display(result)\n",
        "display(expectedval)"
      ],
      "execution_count": 73,
      "outputs": [
        {
          "output_type": "display_data",
          "data": {
            "text/html": [
              "<div>\n",
              "<style scoped>\n",
              "    .dataframe tbody tr th:only-of-type {\n",
              "        vertical-align: middle;\n",
              "    }\n",
              "\n",
              "    .dataframe tbody tr th {\n",
              "        vertical-align: top;\n",
              "    }\n",
              "\n",
              "    .dataframe thead th {\n",
              "        text-align: right;\n",
              "    }\n",
              "</style>\n",
              "<table border=\"1\" class=\"dataframe\">\n",
              "  <thead>\n",
              "    <tr style=\"text-align: right;\">\n",
              "      <th></th>\n",
              "      <th>0</th>\n",
              "    </tr>\n",
              "  </thead>\n",
              "  <tbody>\n",
              "    <tr>\n",
              "      <th>Chi2 statistics</th>\n",
              "      <td>0.225196</td>\n",
              "    </tr>\n",
              "    <tr>\n",
              "      <th>Critical value</th>\n",
              "      <td>5.991465</td>\n",
              "    </tr>\n",
              "    <tr>\n",
              "      <th>p-value</th>\n",
              "      <td>0.893510</td>\n",
              "    </tr>\n",
              "    <tr>\n",
              "      <th>degrees of freedom</th>\n",
              "      <td>2.000000</td>\n",
              "    </tr>\n",
              "  </tbody>\n",
              "</table>\n",
              "</div>"
            ],
            "text/plain": [
              "                           0\n",
              "Chi2 statistics     0.225196\n",
              "Critical value      5.991465\n",
              "p-value             0.893510\n",
              "degrees of freedom  2.000000"
            ]
          },
          "metadata": {
            "tags": []
          }
        },
        {
          "output_type": "display_data",
          "data": {
            "text/html": [
              "<div>\n",
              "<style scoped>\n",
              "    .dataframe tbody tr th:only-of-type {\n",
              "        vertical-align: middle;\n",
              "    }\n",
              "\n",
              "    .dataframe tbody tr th {\n",
              "        vertical-align: top;\n",
              "    }\n",
              "\n",
              "    .dataframe thead th {\n",
              "        text-align: right;\n",
              "    }\n",
              "</style>\n",
              "<table border=\"1\" class=\"dataframe\">\n",
              "  <thead>\n",
              "    <tr style=\"text-align: right;\">\n",
              "      <th></th>\n",
              "      <th>Dead</th>\n",
              "      <th>Censored</th>\n",
              "      <th>Transplant</th>\n",
              "    </tr>\n",
              "  </thead>\n",
              "  <tbody>\n",
              "    <tr>\n",
              "      <th>Penicillamine</th>\n",
              "      <td>85.076923</td>\n",
              "      <td>63.301282</td>\n",
              "      <td>9.621795</td>\n",
              "    </tr>\n",
              "    <tr>\n",
              "      <th>Placebo</th>\n",
              "      <td>82.923077</td>\n",
              "      <td>61.698718</td>\n",
              "      <td>9.378205</td>\n",
              "    </tr>\n",
              "  </tbody>\n",
              "</table>\n",
              "</div>"
            ],
            "text/plain": [
              "                    Dead   Censored  Transplant\n",
              "Penicillamine  85.076923  63.301282    9.621795\n",
              "Placebo        82.923077  61.698718    9.378205"
            ]
          },
          "metadata": {
            "tags": []
          }
        }
      ]
    },
    {
      "cell_type": "markdown",
      "metadata": {
        "id": "UcQU2Tqrj5nn"
      },
      "source": [
        "### Result and Interpretation\n",
        "Our result revealed that:\n",
        "<br><br>\n",
        "p-value = 0.89 $>$ $\\alpha = 0.05$\n",
        "<br>\n",
        "$\\chi^2$ stat = 0.225 $<$ Critical Value = 5.99\n",
        "<br><br>\n",
        "We will **not reject** our null hypothesis. Based on the data that we have, and the test that we did, we can say that there is no relationship between censoring status and treatment assignment."
      ]
    },
    {
      "cell_type": "markdown",
      "metadata": {
        "id": "71S-fU3wm0R1"
      },
      "source": [
        "###(2) Is there a relationship between censoring status and sex?\n",
        "$H_0$: There is no relationship between censoring status and sex.\n",
        "<br>\n",
        "$H_A$: There is a significant relationship between censoring status and sex.\n",
        "<br>\n",
        "Significance level: $\\alpha = 0.05$\n"
      ]
    },
    {
      "cell_type": "code",
      "metadata": {
        "colab": {
          "base_uri": "https://localhost:8080/",
          "height": 107
        },
        "id": "UfdR0aKojXDV",
        "outputId": "ded2d5af-2c61-42b2-aa4c-95246b7c7ba6"
      },
      "source": [
        "# Create the contingency table - censoring status versus sex\n",
        "\n",
        "deadfemale = dead[dead['Sex'] == 'F']\n",
        "deadfemale = deadfemale['Sex'].count()\n",
        "deadmale = dead[dead['Sex'] == 'M']\n",
        "deadmale = deadmale['Sex'].count()\n",
        "\n",
        "censoredfemale = censored[censored['Sex'] == 'F']\n",
        "censoredfemale = censoredfemale['Sex'].count()\n",
        "censoredmale = censored[censored['Sex'] == 'M']\n",
        "censoredmale = censoredmale['Sex'].count()\n",
        "\n",
        "transplantfemale = transplant[transplant['Sex'] == 'F']\n",
        "transplantfemale = transplant['Sex'].count()\n",
        "transplantmale = transplant[transplant['Sex'] == 'M']\n",
        "transplantmale = transplantmale['Sex'].count()\n",
        "\n",
        "CensorVsSex = pd.DataFrame({'Dead': [deadfemale, deadmale], \n",
        "                            'Censored': [censoredfemale, censoredmale],\n",
        "                            'Transplant': [transplantfemale, transplantmale]}, \n",
        "                           index=['Female', 'Male'])\n",
        "CensorVsSex"
      ],
      "execution_count": 74,
      "outputs": [
        {
          "output_type": "execute_result",
          "data": {
            "text/html": [
              "<div>\n",
              "<style scoped>\n",
              "    .dataframe tbody tr th:only-of-type {\n",
              "        vertical-align: middle;\n",
              "    }\n",
              "\n",
              "    .dataframe tbody tr th {\n",
              "        vertical-align: top;\n",
              "    }\n",
              "\n",
              "    .dataframe thead th {\n",
              "        text-align: right;\n",
              "    }\n",
              "</style>\n",
              "<table border=\"1\" class=\"dataframe\">\n",
              "  <thead>\n",
              "    <tr style=\"text-align: right;\">\n",
              "      <th></th>\n",
              "      <th>Dead</th>\n",
              "      <th>Censored</th>\n",
              "      <th>Transplant</th>\n",
              "    </tr>\n",
              "  </thead>\n",
              "  <tbody>\n",
              "    <tr>\n",
              "      <th>Female</th>\n",
              "      <td>157</td>\n",
              "      <td>103</td>\n",
              "      <td>19</td>\n",
              "    </tr>\n",
              "    <tr>\n",
              "      <th>Male</th>\n",
              "      <td>11</td>\n",
              "      <td>22</td>\n",
              "      <td>3</td>\n",
              "    </tr>\n",
              "  </tbody>\n",
              "</table>\n",
              "</div>"
            ],
            "text/plain": [
              "        Dead  Censored  Transplant\n",
              "Female   157       103          19\n",
              "Male      11        22           3"
            ]
          },
          "metadata": {
            "tags": []
          },
          "execution_count": 74
        }
      ]
    },
    {
      "cell_type": "code",
      "metadata": {
        "colab": {
          "base_uri": "https://localhost:8080/",
          "height": 258
        },
        "id": "kaQ0NC2Osrhp",
        "outputId": "89b6c909-d82a-4623-b167-a3e303abc128"
      },
      "source": [
        "# Perform the chi square test and determine the critical value (using 95% probability)\n",
        "\n",
        "chi2stat, pval, dof, expected = chi2_contingency(CensorVsSex)\n",
        "prob = 0.95\n",
        "critval = chi2.ppf(prob, dof)\n",
        "result = pd.DataFrame([chi2stat, critval, pval, dof], \n",
        "                      index=['Chi2 statistics', 'Critical value', 'p-value', 'degrees of freedom'])\n",
        "expectedval = pd.DataFrame(expected, columns=['Dead', 'Censored', 'Transplant'], \n",
        "                           index=['Female', 'Male'])\n",
        "display(result)\n",
        "display(expectedval)"
      ],
      "execution_count": 75,
      "outputs": [
        {
          "output_type": "display_data",
          "data": {
            "text/html": [
              "<div>\n",
              "<style scoped>\n",
              "    .dataframe tbody tr th:only-of-type {\n",
              "        vertical-align: middle;\n",
              "    }\n",
              "\n",
              "    .dataframe tbody tr th {\n",
              "        vertical-align: top;\n",
              "    }\n",
              "\n",
              "    .dataframe thead th {\n",
              "        text-align: right;\n",
              "    }\n",
              "</style>\n",
              "<table border=\"1\" class=\"dataframe\">\n",
              "  <thead>\n",
              "    <tr style=\"text-align: right;\">\n",
              "      <th></th>\n",
              "      <th>0</th>\n",
              "    </tr>\n",
              "  </thead>\n",
              "  <tbody>\n",
              "    <tr>\n",
              "      <th>Chi2 statistics</th>\n",
              "      <td>8.763129</td>\n",
              "    </tr>\n",
              "    <tr>\n",
              "      <th>Critical value</th>\n",
              "      <td>5.991465</td>\n",
              "    </tr>\n",
              "    <tr>\n",
              "      <th>p-value</th>\n",
              "      <td>0.012506</td>\n",
              "    </tr>\n",
              "    <tr>\n",
              "      <th>degrees of freedom</th>\n",
              "      <td>2.000000</td>\n",
              "    </tr>\n",
              "  </tbody>\n",
              "</table>\n",
              "</div>"
            ],
            "text/plain": [
              "                           0\n",
              "Chi2 statistics     8.763129\n",
              "Critical value      5.991465\n",
              "p-value             0.012506\n",
              "degrees of freedom  2.000000"
            ]
          },
          "metadata": {
            "tags": []
          }
        },
        {
          "output_type": "display_data",
          "data": {
            "text/html": [
              "<div>\n",
              "<style scoped>\n",
              "    .dataframe tbody tr th:only-of-type {\n",
              "        vertical-align: middle;\n",
              "    }\n",
              "\n",
              "    .dataframe tbody tr th {\n",
              "        vertical-align: top;\n",
              "    }\n",
              "\n",
              "    .dataframe thead th {\n",
              "        text-align: right;\n",
              "    }\n",
              "</style>\n",
              "<table border=\"1\" class=\"dataframe\">\n",
              "  <thead>\n",
              "    <tr style=\"text-align: right;\">\n",
              "      <th></th>\n",
              "      <th>Dead</th>\n",
              "      <th>Censored</th>\n",
              "      <th>Transplant</th>\n",
              "    </tr>\n",
              "  </thead>\n",
              "  <tbody>\n",
              "    <tr>\n",
              "      <th>Female</th>\n",
              "      <td>148.8</td>\n",
              "      <td>110.714286</td>\n",
              "      <td>19.485714</td>\n",
              "    </tr>\n",
              "    <tr>\n",
              "      <th>Male</th>\n",
              "      <td>19.2</td>\n",
              "      <td>14.285714</td>\n",
              "      <td>2.514286</td>\n",
              "    </tr>\n",
              "  </tbody>\n",
              "</table>\n",
              "</div>"
            ],
            "text/plain": [
              "         Dead    Censored  Transplant\n",
              "Female  148.8  110.714286   19.485714\n",
              "Male     19.2   14.285714    2.514286"
            ]
          },
          "metadata": {
            "tags": []
          }
        }
      ]
    },
    {
      "cell_type": "markdown",
      "metadata": {
        "id": "nQmTizM_vWsC"
      },
      "source": [
        "### Result and Interpretation\n",
        "Our result revealed that:\n",
        "<br><br>\n",
        "p-value = 0.0125 $<$ $\\alpha = 0.05$\n",
        "<br>\n",
        "$\\chi^2$ stat = 8.76 $>$ Critical Value = 5.99\n",
        "<br><br>\n",
        "We will **reject** our null hypothesis. There is a relationship between censoring status and sex."
      ]
    },
    {
      "cell_type": "markdown",
      "metadata": {
        "id": "SWwv63KHwJkB"
      },
      "source": [
        "###(3) Is there a relationship between censoring status and presence of ascites?\n",
        "$H_0$: There is no relationship between censoring status and presence of ascites.\n",
        "<br>\n",
        "$H_A$: There is a significant relationship between censoring status and presence of ascites.\n",
        "<br>\n",
        "Significance level: $\\alpha = 0.05$\n"
      ]
    },
    {
      "cell_type": "code",
      "metadata": {
        "colab": {
          "base_uri": "https://localhost:8080/",
          "height": 107
        },
        "id": "-nfxU43IvRZC",
        "outputId": "5c861033-309e-4c26-93ac-c8c775db326c"
      },
      "source": [
        "# Create the contingency table - censoring status versus ascites\n",
        "\n",
        "deadascites = dead[dead['Ascites'] == 'yes']\n",
        "deadascites = deadascites['Ascites'].count()\n",
        "deadnoascites = dead[dead['Ascites'] == 'no']\n",
        "deadnoascites = deadnoascites['Ascites'].count()\n",
        "\n",
        "censoredascites = censored[censored['Ascites'] == 'yes']\n",
        "censoredascites = censoredascites['Ascites'].count()\n",
        "censorednoascites = censored[censored['Ascites'] == 'no']\n",
        "censorednoascites = censorednoascites['Ascites'].count()\n",
        "\n",
        "transplantascites = transplant[transplant['Ascites'] == 'yes']\n",
        "transplantascites = transplantascites['Ascites'].count()\n",
        "transplantnoascites = transplant[transplant['Ascites'] == 'no']\n",
        "transplantnoascites = transplantnoascites['Ascites'].count()\n",
        "\n",
        "CensorVsAscites = pd.DataFrame({'Dead': [deadascites, deadnoascites], \n",
        "                            'Censored': [censoredascites, censorednoascites],\n",
        "                            'Transplant': [transplantascites, transplantnoascites]}, \n",
        "                           index=['With ascites', 'Without ascites'])\n",
        "CensorVsAscites"
      ],
      "execution_count": 76,
      "outputs": [
        {
          "output_type": "execute_result",
          "data": {
            "text/html": [
              "<div>\n",
              "<style scoped>\n",
              "    .dataframe tbody tr th:only-of-type {\n",
              "        vertical-align: middle;\n",
              "    }\n",
              "\n",
              "    .dataframe tbody tr th {\n",
              "        vertical-align: top;\n",
              "    }\n",
              "\n",
              "    .dataframe thead th {\n",
              "        text-align: right;\n",
              "    }\n",
              "</style>\n",
              "<table border=\"1\" class=\"dataframe\">\n",
              "  <thead>\n",
              "    <tr style=\"text-align: right;\">\n",
              "      <th></th>\n",
              "      <th>Dead</th>\n",
              "      <th>Censored</th>\n",
              "      <th>Transplant</th>\n",
              "    </tr>\n",
              "  </thead>\n",
              "  <tbody>\n",
              "    <tr>\n",
              "      <th>With ascites</th>\n",
              "      <td>1</td>\n",
              "      <td>23</td>\n",
              "      <td>0</td>\n",
              "    </tr>\n",
              "    <tr>\n",
              "      <th>Without ascites</th>\n",
              "      <td>167</td>\n",
              "      <td>102</td>\n",
              "      <td>19</td>\n",
              "    </tr>\n",
              "  </tbody>\n",
              "</table>\n",
              "</div>"
            ],
            "text/plain": [
              "                 Dead  Censored  Transplant\n",
              "With ascites        1        23           0\n",
              "Without ascites   167       102          19"
            ]
          },
          "metadata": {
            "tags": []
          },
          "execution_count": 76
        }
      ]
    },
    {
      "cell_type": "code",
      "metadata": {
        "colab": {
          "base_uri": "https://localhost:8080/",
          "height": 258
        },
        "id": "uoj_OJ0zxQX7",
        "outputId": "8e67ca48-0746-4a67-fd50-bdb5f0732bb1"
      },
      "source": [
        "# Perform the chi square test and determine the critical value (using 95% probability)\n",
        "\n",
        "chi2stat, pval, dof, expected = chi2_contingency(CensorVsAscites)\n",
        "prob = 0.95\n",
        "critval = chi2.ppf(prob, dof)\n",
        "result = pd.DataFrame([chi2stat, critval, pval, dof], \n",
        "                      index=['Chi2 statistics', 'Critical value', 'p-value', 'degrees of freedom'])\n",
        "expectedval = pd.DataFrame(expected, columns=['Dead', 'Censored', 'Transplant'], \n",
        "                           index=['With ascites', 'Without ascites'])\n",
        "display(result)\n",
        "display(expectedval)"
      ],
      "execution_count": 77,
      "outputs": [
        {
          "output_type": "display_data",
          "data": {
            "text/html": [
              "<div>\n",
              "<style scoped>\n",
              "    .dataframe tbody tr th:only-of-type {\n",
              "        vertical-align: middle;\n",
              "    }\n",
              "\n",
              "    .dataframe tbody tr th {\n",
              "        vertical-align: top;\n",
              "    }\n",
              "\n",
              "    .dataframe thead th {\n",
              "        text-align: right;\n",
              "    }\n",
              "</style>\n",
              "<table border=\"1\" class=\"dataframe\">\n",
              "  <thead>\n",
              "    <tr style=\"text-align: right;\">\n",
              "      <th></th>\n",
              "      <th>0</th>\n",
              "    </tr>\n",
              "  </thead>\n",
              "  <tbody>\n",
              "    <tr>\n",
              "      <th>Chi2 statistics</th>\n",
              "      <td>3.368450e+01</td>\n",
              "    </tr>\n",
              "    <tr>\n",
              "      <th>Critical value</th>\n",
              "      <td>5.991465e+00</td>\n",
              "    </tr>\n",
              "    <tr>\n",
              "      <th>p-value</th>\n",
              "      <td>4.847353e-08</td>\n",
              "    </tr>\n",
              "    <tr>\n",
              "      <th>degrees of freedom</th>\n",
              "      <td>2.000000e+00</td>\n",
              "    </tr>\n",
              "  </tbody>\n",
              "</table>\n",
              "</div>"
            ],
            "text/plain": [
              "                               0\n",
              "Chi2 statistics     3.368450e+01\n",
              "Critical value      5.991465e+00\n",
              "p-value             4.847353e-08\n",
              "degrees of freedom  2.000000e+00"
            ]
          },
          "metadata": {
            "tags": []
          }
        },
        {
          "output_type": "display_data",
          "data": {
            "text/html": [
              "<div>\n",
              "<style scoped>\n",
              "    .dataframe tbody tr th:only-of-type {\n",
              "        vertical-align: middle;\n",
              "    }\n",
              "\n",
              "    .dataframe tbody tr th {\n",
              "        vertical-align: top;\n",
              "    }\n",
              "\n",
              "    .dataframe thead th {\n",
              "        text-align: right;\n",
              "    }\n",
              "</style>\n",
              "<table border=\"1\" class=\"dataframe\">\n",
              "  <thead>\n",
              "    <tr style=\"text-align: right;\">\n",
              "      <th></th>\n",
              "      <th>Dead</th>\n",
              "      <th>Censored</th>\n",
              "      <th>Transplant</th>\n",
              "    </tr>\n",
              "  </thead>\n",
              "  <tbody>\n",
              "    <tr>\n",
              "      <th>With ascites</th>\n",
              "      <td>12.923077</td>\n",
              "      <td>9.615385</td>\n",
              "      <td>1.461538</td>\n",
              "    </tr>\n",
              "    <tr>\n",
              "      <th>Without ascites</th>\n",
              "      <td>155.076923</td>\n",
              "      <td>115.384615</td>\n",
              "      <td>17.538462</td>\n",
              "    </tr>\n",
              "  </tbody>\n",
              "</table>\n",
              "</div>"
            ],
            "text/plain": [
              "                       Dead    Censored  Transplant\n",
              "With ascites      12.923077    9.615385    1.461538\n",
              "Without ascites  155.076923  115.384615   17.538462"
            ]
          },
          "metadata": {
            "tags": []
          }
        }
      ]
    },
    {
      "cell_type": "markdown",
      "metadata": {
        "id": "WLxLjeTvx0bd"
      },
      "source": [
        "### Result and Interpretation\n",
        "Our result revealed that:\n",
        "<br><br>\n",
        "p-value = 4.84e-08 $<$ $\\alpha = 0.05$\n",
        "<br>\n",
        "$\\chi^2$ stat = 3.37e+1 $>$ Critical Value = 5.99\n",
        "<br><br>\n",
        "We will **reject** our null hypothesis. There is a relationship between censoring status and presence of ascites."
      ]
    },
    {
      "cell_type": "markdown",
      "metadata": {
        "id": "q5VYqoGLy5Ai"
      },
      "source": [
        "###(4) Is there a relationship between censoring status and presence of hepatomegaly?\n",
        "$H_0$: There is no relationship between censoring status and presence of hepatomegaly.\n",
        "<br>\n",
        "$H_A$: There is a significant relationship between censoring status and presence of hepatomegaly.\n",
        "<br>\n",
        "Significance level: $\\alpha = 0.05$\n"
      ]
    },
    {
      "cell_type": "code",
      "metadata": {
        "colab": {
          "base_uri": "https://localhost:8080/",
          "height": 107
        },
        "id": "N5zcgC0kxuiO",
        "outputId": "994e66fa-38ac-4a59-be30-fd8a768843f6"
      },
      "source": [
        "# Create the contingency table - censoring status versus hepatomegaly\n",
        "\n",
        "deadhepato = dead[dead['Hepatomegaly'] == 'yes']\n",
        "deadhepato = deadhepato['Hepatomegaly'].count()\n",
        "deadnohepato = dead[dead['Hepatomegaly'] == 'no']\n",
        "deadnohepato = deadnohepato['Hepatomegaly'].count()\n",
        "\n",
        "censoredhepato = censored[censored['Hepatomegaly'] == 'yes']\n",
        "censoredhepato = censoredhepato['Hepatomegaly'].count()\n",
        "censorednohepato = censored[censored['Hepatomegaly'] == 'no']\n",
        "censorednohepato = censorednohepato['Hepatomegaly'].count()\n",
        "\n",
        "transplanthepato = transplant[transplant['Hepatomegaly'] == 'yes']\n",
        "transplanthepato = transplanthepato['Hepatomegaly'].count()\n",
        "transplantnohepato = transplant[transplant['Hepatomegaly'] == 'no']\n",
        "transplantnohepato = transplantnohepato['Hepatomegaly'].count()\n",
        "\n",
        "CensorVsHepatomegaly = pd.DataFrame({'Dead': [deadhepato, deadnohepato], \n",
        "                            'Censored': [censoredhepato, censorednohepato],\n",
        "                            'Transplant': [transplanthepato, transplantnohepato]}, \n",
        "                           index=['With hepatomegaly', 'Without hepatomegaly'])\n",
        "CensorVsHepatomegaly"
      ],
      "execution_count": 79,
      "outputs": [
        {
          "output_type": "execute_result",
          "data": {
            "text/html": [
              "<div>\n",
              "<style scoped>\n",
              "    .dataframe tbody tr th:only-of-type {\n",
              "        vertical-align: middle;\n",
              "    }\n",
              "\n",
              "    .dataframe tbody tr th {\n",
              "        vertical-align: top;\n",
              "    }\n",
              "\n",
              "    .dataframe thead th {\n",
              "        text-align: right;\n",
              "    }\n",
              "</style>\n",
              "<table border=\"1\" class=\"dataframe\">\n",
              "  <thead>\n",
              "    <tr style=\"text-align: right;\">\n",
              "      <th></th>\n",
              "      <th>Dead</th>\n",
              "      <th>Censored</th>\n",
              "      <th>Transplant</th>\n",
              "    </tr>\n",
              "  </thead>\n",
              "  <tbody>\n",
              "    <tr>\n",
              "      <th>With hepatomegaly</th>\n",
              "      <td>60</td>\n",
              "      <td>88</td>\n",
              "      <td>12</td>\n",
              "    </tr>\n",
              "    <tr>\n",
              "      <th>Without hepatomegaly</th>\n",
              "      <td>108</td>\n",
              "      <td>37</td>\n",
              "      <td>7</td>\n",
              "    </tr>\n",
              "  </tbody>\n",
              "</table>\n",
              "</div>"
            ],
            "text/plain": [
              "                      Dead  Censored  Transplant\n",
              "With hepatomegaly       60        88          12\n",
              "Without hepatomegaly   108        37           7"
            ]
          },
          "metadata": {
            "tags": []
          },
          "execution_count": 79
        }
      ]
    },
    {
      "cell_type": "code",
      "metadata": {
        "colab": {
          "base_uri": "https://localhost:8080/",
          "height": 258
        },
        "id": "_hKf64a_0QSY",
        "outputId": "787d073e-25c9-4705-d80c-e50cf354d4e3"
      },
      "source": [
        "# Perform the chi square test and determine the critical value (using 95% probability)\n",
        "\n",
        "chi2stat, pval, dof, expected = chi2_contingency(CensorVsHepatomegaly)\n",
        "prob = 0.95\n",
        "critval = chi2.ppf(prob, dof)\n",
        "result = pd.DataFrame([chi2stat, critval, pval, dof], \n",
        "                      index=['Chi2 statistics', 'Critical value', 'p-value', 'degrees of freedom'])\n",
        "expectedval = pd.DataFrame(expected, columns=['Dead', 'Censored', 'Transplant'], \n",
        "                           index=['With hepatomegaly', 'Without hepatomegaly'])\n",
        "display(result)\n",
        "display(expectedval)"
      ],
      "execution_count": 80,
      "outputs": [
        {
          "output_type": "display_data",
          "data": {
            "text/html": [
              "<div>\n",
              "<style scoped>\n",
              "    .dataframe tbody tr th:only-of-type {\n",
              "        vertical-align: middle;\n",
              "    }\n",
              "\n",
              "    .dataframe tbody tr th {\n",
              "        vertical-align: top;\n",
              "    }\n",
              "\n",
              "    .dataframe thead th {\n",
              "        text-align: right;\n",
              "    }\n",
              "</style>\n",
              "<table border=\"1\" class=\"dataframe\">\n",
              "  <thead>\n",
              "    <tr style=\"text-align: right;\">\n",
              "      <th></th>\n",
              "      <th>0</th>\n",
              "    </tr>\n",
              "  </thead>\n",
              "  <tbody>\n",
              "    <tr>\n",
              "      <th>Chi2 statistics</th>\n",
              "      <td>3.565639e+01</td>\n",
              "    </tr>\n",
              "    <tr>\n",
              "      <th>Critical value</th>\n",
              "      <td>5.991465e+00</td>\n",
              "    </tr>\n",
              "    <tr>\n",
              "      <th>p-value</th>\n",
              "      <td>1.808479e-08</td>\n",
              "    </tr>\n",
              "    <tr>\n",
              "      <th>degrees of freedom</th>\n",
              "      <td>2.000000e+00</td>\n",
              "    </tr>\n",
              "  </tbody>\n",
              "</table>\n",
              "</div>"
            ],
            "text/plain": [
              "                               0\n",
              "Chi2 statistics     3.565639e+01\n",
              "Critical value      5.991465e+00\n",
              "p-value             1.808479e-08\n",
              "degrees of freedom  2.000000e+00"
            ]
          },
          "metadata": {
            "tags": []
          }
        },
        {
          "output_type": "display_data",
          "data": {
            "text/html": [
              "<div>\n",
              "<style scoped>\n",
              "    .dataframe tbody tr th:only-of-type {\n",
              "        vertical-align: middle;\n",
              "    }\n",
              "\n",
              "    .dataframe tbody tr th {\n",
              "        vertical-align: top;\n",
              "    }\n",
              "\n",
              "    .dataframe thead th {\n",
              "        text-align: right;\n",
              "    }\n",
              "</style>\n",
              "<table border=\"1\" class=\"dataframe\">\n",
              "  <thead>\n",
              "    <tr style=\"text-align: right;\">\n",
              "      <th></th>\n",
              "      <th>Dead</th>\n",
              "      <th>Censored</th>\n",
              "      <th>Transplant</th>\n",
              "    </tr>\n",
              "  </thead>\n",
              "  <tbody>\n",
              "    <tr>\n",
              "      <th>With hepatomegaly</th>\n",
              "      <td>86.153846</td>\n",
              "      <td>64.102564</td>\n",
              "      <td>9.74359</td>\n",
              "    </tr>\n",
              "    <tr>\n",
              "      <th>Without hepatomegaly</th>\n",
              "      <td>81.846154</td>\n",
              "      <td>60.897436</td>\n",
              "      <td>9.25641</td>\n",
              "    </tr>\n",
              "  </tbody>\n",
              "</table>\n",
              "</div>"
            ],
            "text/plain": [
              "                           Dead   Censored  Transplant\n",
              "With hepatomegaly     86.153846  64.102564     9.74359\n",
              "Without hepatomegaly  81.846154  60.897436     9.25641"
            ]
          },
          "metadata": {
            "tags": []
          }
        }
      ]
    },
    {
      "cell_type": "markdown",
      "metadata": {
        "id": "EODSpru40i78"
      },
      "source": [
        "### Result and Interpretation\n",
        "Our result revealed that:\n",
        "<br><br>\n",
        "p-value = 1.8e-08 $<$ $\\alpha = 0.05$\n",
        "<br>\n",
        "$\\chi^2$ stat = 3.6e+1 $>$ Critical Value = 5.99\n",
        "<br><br>\n",
        "We will **reject** our null hypothesis. There is a relationship between censoring status and presence of hepatomegaly."
      ]
    },
    {
      "cell_type": "markdown",
      "metadata": {
        "id": "d9cJScbK1BHv"
      },
      "source": [
        "###(5) Is there a relationship between censoring status and presence of spider angiomata?\n",
        "$H_0$: There is no relationship between censoring status and presence of spider angiomata.\n",
        "<br>\n",
        "$H_A$: There is a significant relationship between censoring status and presence of spider angiomata.\n",
        "<br>\n",
        "Significance level: $\\alpha = 0.05$\n"
      ]
    },
    {
      "cell_type": "code",
      "metadata": {
        "colab": {
          "base_uri": "https://localhost:8080/",
          "height": 107
        },
        "id": "Vnx3Okb01sL0",
        "outputId": "4ee016e2-2b20-4985-ad17-7a3b2f837ef8"
      },
      "source": [
        "# Create the contingency table - censoring status versus spider angiomata\n",
        "\n",
        "deadspider = dead[dead['SpiderAngiomata'] == 'yes']\n",
        "deadspider = deadspider['SpiderAngiomata'].count()\n",
        "deadnospider = dead[dead['SpiderAngiomata'] == 'no']\n",
        "deadnospider = deadnospider['SpiderAngiomata'].count()\n",
        "\n",
        "censoredspider = censored[censored['SpiderAngiomata'] == 'yes']\n",
        "censoredspider = censoredspider['SpiderAngiomata'].count()\n",
        "censorednospider = censored[censored['SpiderAngiomata'] == 'no']\n",
        "censorednospider = censorednospider['SpiderAngiomata'].count()\n",
        "\n",
        "transplantspider = transplant[transplant['SpiderAngiomata'] == 'yes']\n",
        "transplantspider = transplantspider['SpiderAngiomata'].count()\n",
        "transplantnospider = transplant[transplant['SpiderAngiomata'] == 'no']\n",
        "transplantnospider = transplantnospider['SpiderAngiomata'].count()\n",
        "\n",
        "CensorVsSpiderAngiomata = pd.DataFrame({'Dead': [deadspider, deadnospider], \n",
        "                            'Censored': [censoredspider, censorednospider],\n",
        "                            'Transplant': [transplantspider, transplantnospider]}, \n",
        "                           index=['With spider angiomata', 'Without spider angiomata'])\n",
        "CensorVsSpiderAngiomata"
      ],
      "execution_count": 81,
      "outputs": [
        {
          "output_type": "execute_result",
          "data": {
            "text/html": [
              "<div>\n",
              "<style scoped>\n",
              "    .dataframe tbody tr th:only-of-type {\n",
              "        vertical-align: middle;\n",
              "    }\n",
              "\n",
              "    .dataframe tbody tr th {\n",
              "        vertical-align: top;\n",
              "    }\n",
              "\n",
              "    .dataframe thead th {\n",
              "        text-align: right;\n",
              "    }\n",
              "</style>\n",
              "<table border=\"1\" class=\"dataframe\">\n",
              "  <thead>\n",
              "    <tr style=\"text-align: right;\">\n",
              "      <th></th>\n",
              "      <th>Dead</th>\n",
              "      <th>Censored</th>\n",
              "      <th>Transplant</th>\n",
              "    </tr>\n",
              "  </thead>\n",
              "  <tbody>\n",
              "    <tr>\n",
              "      <th>With spider angiomata</th>\n",
              "      <td>33</td>\n",
              "      <td>52</td>\n",
              "      <td>5</td>\n",
              "    </tr>\n",
              "    <tr>\n",
              "      <th>Without spider angiomata</th>\n",
              "      <td>135</td>\n",
              "      <td>73</td>\n",
              "      <td>14</td>\n",
              "    </tr>\n",
              "  </tbody>\n",
              "</table>\n",
              "</div>"
            ],
            "text/plain": [
              "                          Dead  Censored  Transplant\n",
              "With spider angiomata       33        52           5\n",
              "Without spider angiomata   135        73          14"
            ]
          },
          "metadata": {
            "tags": []
          },
          "execution_count": 81
        }
      ]
    },
    {
      "cell_type": "code",
      "metadata": {
        "colab": {
          "base_uri": "https://localhost:8080/",
          "height": 258
        },
        "id": "lrWlWhmM0cry",
        "outputId": "1287a6dc-fc5c-48ca-c5fd-dbe1edddca52"
      },
      "source": [
        "# Perform the chi square test and determine the critical value (using 95% probability)\n",
        "\n",
        "chi2stat, pval, dof, expected = chi2_contingency(CensorVsSpiderAngiomata)\n",
        "prob = 0.95\n",
        "critval = chi2.ppf(prob, dof)\n",
        "result = pd.DataFrame([chi2stat, critval, pval, dof], \n",
        "                      index=['Chi2 statistics', 'Critical value', 'p-value', 'degrees of freedom'])\n",
        "expectedval = pd.DataFrame(expected, columns=['Dead', 'Censored', 'Transplant'], \n",
        "                           index=['With spider angiomata', 'Without spider angiomata'])\n",
        "display(result)\n",
        "display(expectedval)"
      ],
      "execution_count": 82,
      "outputs": [
        {
          "output_type": "display_data",
          "data": {
            "text/html": [
              "<div>\n",
              "<style scoped>\n",
              "    .dataframe tbody tr th:only-of-type {\n",
              "        vertical-align: middle;\n",
              "    }\n",
              "\n",
              "    .dataframe tbody tr th {\n",
              "        vertical-align: top;\n",
              "    }\n",
              "\n",
              "    .dataframe thead th {\n",
              "        text-align: right;\n",
              "    }\n",
              "</style>\n",
              "<table border=\"1\" class=\"dataframe\">\n",
              "  <thead>\n",
              "    <tr style=\"text-align: right;\">\n",
              "      <th></th>\n",
              "      <th>0</th>\n",
              "    </tr>\n",
              "  </thead>\n",
              "  <tbody>\n",
              "    <tr>\n",
              "      <th>Chi2 statistics</th>\n",
              "      <td>16.898265</td>\n",
              "    </tr>\n",
              "    <tr>\n",
              "      <th>Critical value</th>\n",
              "      <td>5.991465</td>\n",
              "    </tr>\n",
              "    <tr>\n",
              "      <th>p-value</th>\n",
              "      <td>0.000214</td>\n",
              "    </tr>\n",
              "    <tr>\n",
              "      <th>degrees of freedom</th>\n",
              "      <td>2.000000</td>\n",
              "    </tr>\n",
              "  </tbody>\n",
              "</table>\n",
              "</div>"
            ],
            "text/plain": [
              "                            0\n",
              "Chi2 statistics     16.898265\n",
              "Critical value       5.991465\n",
              "p-value              0.000214\n",
              "degrees of freedom   2.000000"
            ]
          },
          "metadata": {
            "tags": []
          }
        },
        {
          "output_type": "display_data",
          "data": {
            "text/html": [
              "<div>\n",
              "<style scoped>\n",
              "    .dataframe tbody tr th:only-of-type {\n",
              "        vertical-align: middle;\n",
              "    }\n",
              "\n",
              "    .dataframe tbody tr th {\n",
              "        vertical-align: top;\n",
              "    }\n",
              "\n",
              "    .dataframe thead th {\n",
              "        text-align: right;\n",
              "    }\n",
              "</style>\n",
              "<table border=\"1\" class=\"dataframe\">\n",
              "  <thead>\n",
              "    <tr style=\"text-align: right;\">\n",
              "      <th></th>\n",
              "      <th>Dead</th>\n",
              "      <th>Censored</th>\n",
              "      <th>Transplant</th>\n",
              "    </tr>\n",
              "  </thead>\n",
              "  <tbody>\n",
              "    <tr>\n",
              "      <th>With spider angiomata</th>\n",
              "      <td>48.461538</td>\n",
              "      <td>36.057692</td>\n",
              "      <td>5.480769</td>\n",
              "    </tr>\n",
              "    <tr>\n",
              "      <th>Without spider angiomata</th>\n",
              "      <td>119.538462</td>\n",
              "      <td>88.942308</td>\n",
              "      <td>13.519231</td>\n",
              "    </tr>\n",
              "  </tbody>\n",
              "</table>\n",
              "</div>"
            ],
            "text/plain": [
              "                                Dead   Censored  Transplant\n",
              "With spider angiomata      48.461538  36.057692    5.480769\n",
              "Without spider angiomata  119.538462  88.942308   13.519231"
            ]
          },
          "metadata": {
            "tags": []
          }
        }
      ]
    },
    {
      "cell_type": "markdown",
      "metadata": {
        "id": "pcreryS-5vDV"
      },
      "source": [
        "### Result and Interpretation\n",
        "Our result revealed that:\n",
        "<br><br>\n",
        "p-value = 0.0002 $<$ $\\alpha = 0.05$\n",
        "<br>\n",
        "$\\chi^2$ stat = 16.898 $>$ Critical Value = 5.99\n",
        "<br><br>\n",
        "We will **reject** our null hypothesis. There is a relationship between censoring status and presence of spider angiomata."
      ]
    },
    {
      "cell_type": "markdown",
      "metadata": {
        "id": "yS1nIbdN3A3n"
      },
      "source": [
        "###(6) Is there a relationship between censoring status and presence of edema?\n",
        "$H_0$: There is no relationship between censoring status and presence of edema.\n",
        "<br>\n",
        "$H_A$: There is a significant relationship between censoring status and presence of edema.\n",
        "<br>\n",
        "Significance level: $\\alpha = 0.05$\n"
      ]
    },
    {
      "cell_type": "code",
      "metadata": {
        "colab": {
          "base_uri": "https://localhost:8080/",
          "height": 137
        },
        "id": "zVPaRcxS2j5j",
        "outputId": "3c115918-b010-46d6-8f9c-d57e0db6dc07"
      },
      "source": [
        "# Create the contingency table - censoring status versus edema\n",
        "\n",
        "deadedema = dead[dead['Edema'] == 'present']\n",
        "deadedema = deadedema['Edema'].count()\n",
        "deaddiurese = dead[dead['Edema'] == 'diurese']\n",
        "deaddiurese = deaddiurese['Edema'].count()\n",
        "deadabsent = dead[dead['Edema'] == 'absent']\n",
        "deadabsent = deadabsent['Edema'].count()\n",
        "\n",
        "censorededema = censored[censored['Edema'] == 'present']\n",
        "censorededema = censorededema['Edema'].count()\n",
        "censoreddiurese = censored[censored['Edema'] == 'diurese']\n",
        "censoreddiurese = censoreddiurese['Edema'].count()\n",
        "censoredabsent = censored[censored['Edema'] == 'absent']\n",
        "censoredabsent = censoredabsent['Edema'].count()\n",
        "\n",
        "transplantededema = transplant[transplant['Edema'] == 'present']\n",
        "transplantededema = transplantededema['Edema'].count()\n",
        "transplantdiurese = transplant[transplant['Edema'] == 'diurese']\n",
        "transplantdiurese = transplantdiurese['Edema'].count()\n",
        "transplantabsent = transplant[transplant['Edema'] == 'absent']\n",
        "transplantabsent = transplantabsent['Edema'].count()\n",
        "\n",
        "CensorVsEdema = pd.DataFrame({'Dead': [deadedema, deaddiurese, deadabsent], \n",
        "                            'Censored': [censorededema, censoreddiurese, censoredabsent],\n",
        "                            'Transplant': [transplantededema, transplantdiurese, transplantabsent]}, \n",
        "                           index=['With edema', 'Diuresed edema', 'Absent edema'])\n",
        "CensorVsEdema"
      ],
      "execution_count": 83,
      "outputs": [
        {
          "output_type": "execute_result",
          "data": {
            "text/html": [
              "<div>\n",
              "<style scoped>\n",
              "    .dataframe tbody tr th:only-of-type {\n",
              "        vertical-align: middle;\n",
              "    }\n",
              "\n",
              "    .dataframe tbody tr th {\n",
              "        vertical-align: top;\n",
              "    }\n",
              "\n",
              "    .dataframe thead th {\n",
              "        text-align: right;\n",
              "    }\n",
              "</style>\n",
              "<table border=\"1\" class=\"dataframe\">\n",
              "  <thead>\n",
              "    <tr style=\"text-align: right;\">\n",
              "      <th></th>\n",
              "      <th>Dead</th>\n",
              "      <th>Censored</th>\n",
              "      <th>Transplant</th>\n",
              "    </tr>\n",
              "  </thead>\n",
              "  <tbody>\n",
              "    <tr>\n",
              "      <th>With edema</th>\n",
              "      <td>1</td>\n",
              "      <td>19</td>\n",
              "      <td>0</td>\n",
              "    </tr>\n",
              "    <tr>\n",
              "      <th>Diuresed edema</th>\n",
              "      <td>10</td>\n",
              "      <td>17</td>\n",
              "      <td>2</td>\n",
              "    </tr>\n",
              "    <tr>\n",
              "      <th>Absent edema</th>\n",
              "      <td>157</td>\n",
              "      <td>89</td>\n",
              "      <td>17</td>\n",
              "    </tr>\n",
              "  </tbody>\n",
              "</table>\n",
              "</div>"
            ],
            "text/plain": [
              "                Dead  Censored  Transplant\n",
              "With edema         1        19           0\n",
              "Diuresed edema    10        17           2\n",
              "Absent edema     157        89          17"
            ]
          },
          "metadata": {
            "tags": []
          },
          "execution_count": 83
        }
      ]
    },
    {
      "cell_type": "code",
      "metadata": {
        "colab": {
          "base_uri": "https://localhost:8080/",
          "height": 288
        },
        "id": "HNU7YtXr5dUk",
        "outputId": "455dcaab-375d-4877-c336-5697be994623"
      },
      "source": [
        "# Perform the chi square test and determine the critical value (using 95% probability)\n",
        "\n",
        "chi2stat, pval, dof, expected = chi2_contingency(CensorVsEdema)\n",
        "prob = 0.95\n",
        "critval = chi2.ppf(prob, dof)\n",
        "result = pd.DataFrame([chi2stat, critval, pval, dof], \n",
        "                      index=['Chi2 statistics', 'Critical value', 'p-value', 'degrees of freedom'])\n",
        "expectedval = pd.DataFrame(expected, columns=['Dead', 'Censored', 'Transplant'], \n",
        "                           index=['With edema', 'Diuresed edema', 'Absent edema'])\n",
        "display(result)\n",
        "display(expectedval)"
      ],
      "execution_count": 84,
      "outputs": [
        {
          "output_type": "display_data",
          "data": {
            "text/html": [
              "<div>\n",
              "<style scoped>\n",
              "    .dataframe tbody tr th:only-of-type {\n",
              "        vertical-align: middle;\n",
              "    }\n",
              "\n",
              "    .dataframe tbody tr th {\n",
              "        vertical-align: top;\n",
              "    }\n",
              "\n",
              "    .dataframe thead th {\n",
              "        text-align: right;\n",
              "    }\n",
              "</style>\n",
              "<table border=\"1\" class=\"dataframe\">\n",
              "  <thead>\n",
              "    <tr style=\"text-align: right;\">\n",
              "      <th></th>\n",
              "      <th>0</th>\n",
              "    </tr>\n",
              "  </thead>\n",
              "  <tbody>\n",
              "    <tr>\n",
              "      <th>Chi2 statistics</th>\n",
              "      <td>3.396308e+01</td>\n",
              "    </tr>\n",
              "    <tr>\n",
              "      <th>Critical value</th>\n",
              "      <td>9.487729e+00</td>\n",
              "    </tr>\n",
              "    <tr>\n",
              "      <th>p-value</th>\n",
              "      <td>7.582937e-07</td>\n",
              "    </tr>\n",
              "    <tr>\n",
              "      <th>degrees of freedom</th>\n",
              "      <td>4.000000e+00</td>\n",
              "    </tr>\n",
              "  </tbody>\n",
              "</table>\n",
              "</div>"
            ],
            "text/plain": [
              "                               0\n",
              "Chi2 statistics     3.396308e+01\n",
              "Critical value      9.487729e+00\n",
              "p-value             7.582937e-07\n",
              "degrees of freedom  4.000000e+00"
            ]
          },
          "metadata": {
            "tags": []
          }
        },
        {
          "output_type": "display_data",
          "data": {
            "text/html": [
              "<div>\n",
              "<style scoped>\n",
              "    .dataframe tbody tr th:only-of-type {\n",
              "        vertical-align: middle;\n",
              "    }\n",
              "\n",
              "    .dataframe tbody tr th {\n",
              "        vertical-align: top;\n",
              "    }\n",
              "\n",
              "    .dataframe thead th {\n",
              "        text-align: right;\n",
              "    }\n",
              "</style>\n",
              "<table border=\"1\" class=\"dataframe\">\n",
              "  <thead>\n",
              "    <tr style=\"text-align: right;\">\n",
              "      <th></th>\n",
              "      <th>Dead</th>\n",
              "      <th>Censored</th>\n",
              "      <th>Transplant</th>\n",
              "    </tr>\n",
              "  </thead>\n",
              "  <tbody>\n",
              "    <tr>\n",
              "      <th>With edema</th>\n",
              "      <td>10.769231</td>\n",
              "      <td>8.012821</td>\n",
              "      <td>1.217949</td>\n",
              "    </tr>\n",
              "    <tr>\n",
              "      <th>Diuresed edema</th>\n",
              "      <td>15.615385</td>\n",
              "      <td>11.618590</td>\n",
              "      <td>1.766026</td>\n",
              "    </tr>\n",
              "    <tr>\n",
              "      <th>Absent edema</th>\n",
              "      <td>141.615385</td>\n",
              "      <td>105.368590</td>\n",
              "      <td>16.016026</td>\n",
              "    </tr>\n",
              "  </tbody>\n",
              "</table>\n",
              "</div>"
            ],
            "text/plain": [
              "                      Dead    Censored  Transplant\n",
              "With edema       10.769231    8.012821    1.217949\n",
              "Diuresed edema   15.615385   11.618590    1.766026\n",
              "Absent edema    141.615385  105.368590   16.016026"
            ]
          },
          "metadata": {
            "tags": []
          }
        }
      ]
    },
    {
      "cell_type": "markdown",
      "metadata": {
        "id": "IcIu_-ep6iHC"
      },
      "source": [
        "### Result and Interpretation\n",
        "Our result revealed that:\n",
        "<br><br>\n",
        "p-value = 7.58e-7 $<$ $\\alpha = 0.05$\n",
        "<br>\n",
        "$\\chi^2$ stat = 3.396e+1 $>$ Critical Value = 9.488\n",
        "<br><br>\n",
        "We will **reject** our null hypothesis. There is a relationship between censoring status and edema."
      ]
    },
    {
      "cell_type": "markdown",
      "metadata": {
        "id": "dVg9mtNk604H"
      },
      "source": [
        "###(7) Is there a relationship between censoring status and histological stage of the disease?\n",
        "$H_0$: There is no relationship between censoring status and histological stage.\n",
        "<br>\n",
        "$H_A$: There is a significant relationship between censoring status and histological stage.\n",
        "<br>\n",
        "Significance level: $\\alpha = 0.05$\n"
      ]
    },
    {
      "cell_type": "code",
      "metadata": {
        "colab": {
          "base_uri": "https://localhost:8080/",
          "height": 167
        },
        "id": "qjGS4ywW6d0q",
        "outputId": "0f80ac3d-0296-4adc-c6fd-433acd3ac88f"
      },
      "source": [
        "# Create the contingency table - censoring status versus histological stage\n",
        "\n",
        "deadStage1 = dead[dead['HistologyStage'] == 'Stage1']\n",
        "deadStage1 = deadStage1['HistologyStage'].count()\n",
        "deadStage2 = dead[dead['HistologyStage'] == 'Stage2']\n",
        "deadStage2 = deadStage2['HistologyStage'].count()\n",
        "deadStage3 = dead[dead['HistologyStage'] == 'Stage3']\n",
        "deadStage3 = deadStage3['HistologyStage'].count()\n",
        "deadStage4 = dead[dead['HistologyStage'] == 'Stage4']\n",
        "deadStage4 = deadStage4['HistologyStage'].count()\n",
        "censoredStage1 = censored[censored['HistologyStage'] == 'Stage1']\n",
        "censoredStage1 = censoredStage1['HistologyStage'].count()\n",
        "censoredStage2 = censored[censored['HistologyStage'] == 'Stage2']\n",
        "censoredStage2 = censoredStage2['HistologyStage'].count()\n",
        "censoredStage3 = censored[censored['HistologyStage'] == 'Stage3']\n",
        "censoredStage3 = censoredStage3['HistologyStage'].count()\n",
        "censoredStage4 = censored[censored['HistologyStage'] == 'Stage4']\n",
        "censoredStage4 = censoredStage4['HistologyStage'].count()\n",
        "transplantStage1 = transplant[transplant['HistologyStage'] == 'Stage1']\n",
        "transplantStage1 = transplantStage1['HistologyStage'].count()\n",
        "transplantStage2 = transplant[transplant['HistologyStage'] == 'Stage2']\n",
        "transplantStage2 = transplantStage2['HistologyStage'].count()\n",
        "transplantStage3 = transplant[transplant['HistologyStage'] == 'Stage3']\n",
        "transplantStage3 = transplantStage3['HistologyStage'].count()\n",
        "transplantStage4 = transplant[transplant['HistologyStage'] == 'Stage4']\n",
        "transplantStage4 = transplantStage4['HistologyStage'].count()\n",
        "CensorVsHisto = pd.DataFrame({'Dead': [deadStage1, deadStage2, deadStage3, deadStage4], 'Censored': [censoredStage1, censoredStage2, censoredStage3, censoredStage4], 'Transplant': [transplantStage1, transplantStage2, transplantStage3, transplantStage4]}, index=['Stage 1', 'Stage 2', 'Stage 3', 'Stage 4'])\n",
        "CensorVsHisto"
      ],
      "execution_count": 130,
      "outputs": [
        {
          "output_type": "execute_result",
          "data": {
            "text/html": [
              "<div>\n",
              "<style scoped>\n",
              "    .dataframe tbody tr th:only-of-type {\n",
              "        vertical-align: middle;\n",
              "    }\n",
              "\n",
              "    .dataframe tbody tr th {\n",
              "        vertical-align: top;\n",
              "    }\n",
              "\n",
              "    .dataframe thead th {\n",
              "        text-align: right;\n",
              "    }\n",
              "</style>\n",
              "<table border=\"1\" class=\"dataframe\">\n",
              "  <thead>\n",
              "    <tr style=\"text-align: right;\">\n",
              "      <th></th>\n",
              "      <th>Dead</th>\n",
              "      <th>Censored</th>\n",
              "      <th>Transplant</th>\n",
              "    </tr>\n",
              "  </thead>\n",
              "  <tbody>\n",
              "    <tr>\n",
              "      <th>Stage 1</th>\n",
              "      <td>15</td>\n",
              "      <td>1</td>\n",
              "      <td>0</td>\n",
              "    </tr>\n",
              "    <tr>\n",
              "      <th>Stage 2</th>\n",
              "      <td>48</td>\n",
              "      <td>16</td>\n",
              "      <td>3</td>\n",
              "    </tr>\n",
              "    <tr>\n",
              "      <th>Stage 3</th>\n",
              "      <td>69</td>\n",
              "      <td>43</td>\n",
              "      <td>8</td>\n",
              "    </tr>\n",
              "    <tr>\n",
              "      <th>Stage 4</th>\n",
              "      <td>36</td>\n",
              "      <td>65</td>\n",
              "      <td>8</td>\n",
              "    </tr>\n",
              "  </tbody>\n",
              "</table>\n",
              "</div>"
            ],
            "text/plain": [
              "         Dead  Censored  Transplant\n",
              "Stage 1    15         1           0\n",
              "Stage 2    48        16           3\n",
              "Stage 3    69        43           8\n",
              "Stage 4    36        65           8"
            ]
          },
          "metadata": {
            "tags": []
          },
          "execution_count": 130
        }
      ]
    },
    {
      "cell_type": "code",
      "metadata": {
        "colab": {
          "base_uri": "https://localhost:8080/",
          "height": 318
        },
        "id": "BdBgWQwq-zKw",
        "outputId": "f70d6a18-c4c6-46dc-992b-9e427dec841e"
      },
      "source": [
        "# Perform the chi square test and determine the critical value (using 95% probability)\n",
        "\n",
        "chi2stat, pval, dof, expected = chi2_contingency(CensorVsHisto)\n",
        "prob = 0.95\n",
        "critval = chi2.ppf(prob, dof)\n",
        "result = pd.DataFrame([chi2stat, critval, pval, dof], \n",
        "                      index=['Chi2 statistics', 'Critical value', 'p-value', 'degrees of freedom'])\n",
        "expectedval = pd.DataFrame(expected, columns=['Dead', 'Censored', 'Transplant'], \n",
        "                           index=['Stage 1', 'Stage 2', 'Stage 3', 'Stage 4'])\n",
        "display(result)\n",
        "display(expectedval)"
      ],
      "execution_count": 86,
      "outputs": [
        {
          "output_type": "display_data",
          "data": {
            "text/html": [
              "<div>\n",
              "<style scoped>\n",
              "    .dataframe tbody tr th:only-of-type {\n",
              "        vertical-align: middle;\n",
              "    }\n",
              "\n",
              "    .dataframe tbody tr th {\n",
              "        vertical-align: top;\n",
              "    }\n",
              "\n",
              "    .dataframe thead th {\n",
              "        text-align: right;\n",
              "    }\n",
              "</style>\n",
              "<table border=\"1\" class=\"dataframe\">\n",
              "  <thead>\n",
              "    <tr style=\"text-align: right;\">\n",
              "      <th></th>\n",
              "      <th>0</th>\n",
              "    </tr>\n",
              "  </thead>\n",
              "  <tbody>\n",
              "    <tr>\n",
              "      <th>Chi2 statistics</th>\n",
              "      <td>3.924922e+01</td>\n",
              "    </tr>\n",
              "    <tr>\n",
              "      <th>Critical value</th>\n",
              "      <td>1.259159e+01</td>\n",
              "    </tr>\n",
              "    <tr>\n",
              "      <th>p-value</th>\n",
              "      <td>6.395903e-07</td>\n",
              "    </tr>\n",
              "    <tr>\n",
              "      <th>degrees of freedom</th>\n",
              "      <td>6.000000e+00</td>\n",
              "    </tr>\n",
              "  </tbody>\n",
              "</table>\n",
              "</div>"
            ],
            "text/plain": [
              "                               0\n",
              "Chi2 statistics     3.924922e+01\n",
              "Critical value      1.259159e+01\n",
              "p-value             6.395903e-07\n",
              "degrees of freedom  6.000000e+00"
            ]
          },
          "metadata": {
            "tags": []
          }
        },
        {
          "output_type": "display_data",
          "data": {
            "text/html": [
              "<div>\n",
              "<style scoped>\n",
              "    .dataframe tbody tr th:only-of-type {\n",
              "        vertical-align: middle;\n",
              "    }\n",
              "\n",
              "    .dataframe tbody tr th {\n",
              "        vertical-align: top;\n",
              "    }\n",
              "\n",
              "    .dataframe thead th {\n",
              "        text-align: right;\n",
              "    }\n",
              "</style>\n",
              "<table border=\"1\" class=\"dataframe\">\n",
              "  <thead>\n",
              "    <tr style=\"text-align: right;\">\n",
              "      <th></th>\n",
              "      <th>Dead</th>\n",
              "      <th>Censored</th>\n",
              "      <th>Transplant</th>\n",
              "    </tr>\n",
              "  </thead>\n",
              "  <tbody>\n",
              "    <tr>\n",
              "      <th>Stage 1</th>\n",
              "      <td>8.615385</td>\n",
              "      <td>6.410256</td>\n",
              "      <td>0.974359</td>\n",
              "    </tr>\n",
              "    <tr>\n",
              "      <th>Stage 2</th>\n",
              "      <td>36.076923</td>\n",
              "      <td>26.842949</td>\n",
              "      <td>4.080128</td>\n",
              "    </tr>\n",
              "    <tr>\n",
              "      <th>Stage 3</th>\n",
              "      <td>64.615385</td>\n",
              "      <td>48.076923</td>\n",
              "      <td>7.307692</td>\n",
              "    </tr>\n",
              "    <tr>\n",
              "      <th>Stage 4</th>\n",
              "      <td>58.692308</td>\n",
              "      <td>43.669872</td>\n",
              "      <td>6.637821</td>\n",
              "    </tr>\n",
              "  </tbody>\n",
              "</table>\n",
              "</div>"
            ],
            "text/plain": [
              "              Dead   Censored  Transplant\n",
              "Stage 1   8.615385   6.410256    0.974359\n",
              "Stage 2  36.076923  26.842949    4.080128\n",
              "Stage 3  64.615385  48.076923    7.307692\n",
              "Stage 4  58.692308  43.669872    6.637821"
            ]
          },
          "metadata": {
            "tags": []
          }
        }
      ]
    },
    {
      "cell_type": "markdown",
      "metadata": {
        "id": "O76Ng5fvCOEd"
      },
      "source": [
        "### Result and Interpretation\n",
        "Our result revealed that:\n",
        "<br><br>\n",
        "p-value = 6.396e-7 $<$ $\\alpha = 0.05$\n",
        "<br>\n",
        "$\\chi^2$ stat = 3.92e+1 $>$ Critical Value = 1.259e+1\n",
        "<br><br>\n",
        "We will **reject** our null hypothesis. There is a relationship between censoring status and histological stage."
      ]
    },
    {
      "cell_type": "markdown",
      "metadata": {
        "id": "fiVsjggJC1ok"
      },
      "source": [
        "## B. Treatment group"
      ]
    },
    {
      "cell_type": "markdown",
      "metadata": {
        "id": "oy_RaXFrC9YV"
      },
      "source": [
        "###(1) Is there a relationship between treatment group assignment and sex?\n",
        "$H_0$: There is no relationship between treatment group assignment and sex.\n",
        "<br>\n",
        "$H_A$: There is a significant relationship between treatment group assignment and sex.\n",
        "<br>\n",
        "Significance level: $\\alpha = 0.05$\n"
      ]
    },
    {
      "cell_type": "code",
      "metadata": {
        "colab": {
          "base_uri": "https://localhost:8080/",
          "height": 107
        },
        "id": "AyhVR5jnC5-b",
        "outputId": "9fc067d4-9d8c-4e81-e8c0-409b05ff195e"
      },
      "source": [
        "# Create the contingency table - treatment group and sex\n",
        "\n",
        "penicillamineF = penicillamine[penicillamine['Sex'] == 'F']\n",
        "penicillamineF = penicillamineF['Sex'].count()\n",
        "penicillamineM = penicillamine[penicillamine['Sex'] == 'M']\n",
        "penicillamineM = penicillamineM['Sex'].count()\n",
        "\n",
        "placeboF = placebo[placebo['Sex'] == 'F']\n",
        "placeboF = placeboF['Sex'].count()\n",
        "placeboF = placebo[placebo['Sex'] == 'F']\n",
        "placeboF = placeboF['Sex'].count()\n",
        "\n",
        "TreatGrpVsSex = pd.DataFrame({'Penicillamine': [penicillamineF, placeboF],\n",
        "                              'Placebo': [penicillamineM, placeboF]}, \n",
        "                             index=['Female', 'Male'])\n",
        "TreatGrpVsSex"
      ],
      "execution_count": 87,
      "outputs": [
        {
          "output_type": "execute_result",
          "data": {
            "text/html": [
              "<div>\n",
              "<style scoped>\n",
              "    .dataframe tbody tr th:only-of-type {\n",
              "        vertical-align: middle;\n",
              "    }\n",
              "\n",
              "    .dataframe tbody tr th {\n",
              "        vertical-align: top;\n",
              "    }\n",
              "\n",
              "    .dataframe thead th {\n",
              "        text-align: right;\n",
              "    }\n",
              "</style>\n",
              "<table border=\"1\" class=\"dataframe\">\n",
              "  <thead>\n",
              "    <tr style=\"text-align: right;\">\n",
              "      <th></th>\n",
              "      <th>Penicillamine</th>\n",
              "      <th>Placebo</th>\n",
              "    </tr>\n",
              "  </thead>\n",
              "  <tbody>\n",
              "    <tr>\n",
              "      <th>Female</th>\n",
              "      <td>137</td>\n",
              "      <td>21</td>\n",
              "    </tr>\n",
              "    <tr>\n",
              "      <th>Male</th>\n",
              "      <td>139</td>\n",
              "      <td>139</td>\n",
              "    </tr>\n",
              "  </tbody>\n",
              "</table>\n",
              "</div>"
            ],
            "text/plain": [
              "        Penicillamine  Placebo\n",
              "Female            137       21\n",
              "Male              139      139"
            ]
          },
          "metadata": {
            "tags": []
          },
          "execution_count": 87
        }
      ]
    },
    {
      "cell_type": "code",
      "metadata": {
        "colab": {
          "base_uri": "https://localhost:8080/",
          "height": 258
        },
        "id": "sdCbZH1UCKvC",
        "outputId": "ec616eaf-76f6-4da2-f0a5-2ef686cf99de"
      },
      "source": [
        "# Perform the chi square test and determine the critical value (using 95% probability)\n",
        "\n",
        "chi2stat, pval, dof, expected = chi2_contingency(TreatGrpVsSex)\n",
        "prob = 0.95\n",
        "critval = chi2.ppf(prob, dof)\n",
        "result = pd.DataFrame([chi2stat, critval, pval, dof], \n",
        "                      index=['Chi2 statistics', 'Critical value', 'p-value', 'degrees of freedom'])\n",
        "expectedval = pd.DataFrame(expected, columns=['Penicillamine', 'Placebo'], \n",
        "                           index=['Female', 'Male'])\n",
        "display(result)\n",
        "display(expectedval)"
      ],
      "execution_count": 88,
      "outputs": [
        {
          "output_type": "display_data",
          "data": {
            "text/html": [
              "<div>\n",
              "<style scoped>\n",
              "    .dataframe tbody tr th:only-of-type {\n",
              "        vertical-align: middle;\n",
              "    }\n",
              "\n",
              "    .dataframe tbody tr th {\n",
              "        vertical-align: top;\n",
              "    }\n",
              "\n",
              "    .dataframe thead th {\n",
              "        text-align: right;\n",
              "    }\n",
              "</style>\n",
              "<table border=\"1\" class=\"dataframe\">\n",
              "  <thead>\n",
              "    <tr style=\"text-align: right;\">\n",
              "      <th></th>\n",
              "      <th>0</th>\n",
              "    </tr>\n",
              "  </thead>\n",
              "  <tbody>\n",
              "    <tr>\n",
              "      <th>Chi2 statistics</th>\n",
              "      <td>5.686925e+01</td>\n",
              "    </tr>\n",
              "    <tr>\n",
              "      <th>Critical value</th>\n",
              "      <td>3.841459e+00</td>\n",
              "    </tr>\n",
              "    <tr>\n",
              "      <th>p-value</th>\n",
              "      <td>4.657723e-14</td>\n",
              "    </tr>\n",
              "    <tr>\n",
              "      <th>degrees of freedom</th>\n",
              "      <td>1.000000e+00</td>\n",
              "    </tr>\n",
              "  </tbody>\n",
              "</table>\n",
              "</div>"
            ],
            "text/plain": [
              "                               0\n",
              "Chi2 statistics     5.686925e+01\n",
              "Critical value      3.841459e+00\n",
              "p-value             4.657723e-14\n",
              "degrees of freedom  1.000000e+00"
            ]
          },
          "metadata": {
            "tags": []
          }
        },
        {
          "output_type": "display_data",
          "data": {
            "text/html": [
              "<div>\n",
              "<style scoped>\n",
              "    .dataframe tbody tr th:only-of-type {\n",
              "        vertical-align: middle;\n",
              "    }\n",
              "\n",
              "    .dataframe tbody tr th {\n",
              "        vertical-align: top;\n",
              "    }\n",
              "\n",
              "    .dataframe thead th {\n",
              "        text-align: right;\n",
              "    }\n",
              "</style>\n",
              "<table border=\"1\" class=\"dataframe\">\n",
              "  <thead>\n",
              "    <tr style=\"text-align: right;\">\n",
              "      <th></th>\n",
              "      <th>Penicillamine</th>\n",
              "      <th>Placebo</th>\n",
              "    </tr>\n",
              "  </thead>\n",
              "  <tbody>\n",
              "    <tr>\n",
              "      <th>Female</th>\n",
              "      <td>100.018349</td>\n",
              "      <td>57.981651</td>\n",
              "    </tr>\n",
              "    <tr>\n",
              "      <th>Male</th>\n",
              "      <td>175.981651</td>\n",
              "      <td>102.018349</td>\n",
              "    </tr>\n",
              "  </tbody>\n",
              "</table>\n",
              "</div>"
            ],
            "text/plain": [
              "        Penicillamine     Placebo\n",
              "Female     100.018349   57.981651\n",
              "Male       175.981651  102.018349"
            ]
          },
          "metadata": {
            "tags": []
          }
        }
      ]
    },
    {
      "cell_type": "markdown",
      "metadata": {
        "id": "mYos2RuHG8ef"
      },
      "source": [
        "### Result and Interpretation\n",
        "Our result revealed that:\n",
        "<br><br>\n",
        "p-value = 4.658e-14 $<$ $\\alpha = 0.05$\n",
        "<br>\n",
        "$\\chi^2$ stat = 5.69e+1 $>$ Critical Value = 3.84\n",
        "<br><br>\n",
        "We will **reject** our null hypothesis. There is a relationship between treatment group and sex."
      ]
    },
    {
      "cell_type": "markdown",
      "metadata": {
        "id": "5p4VzSrYHzmV"
      },
      "source": [
        "###(2) Is there a relationship between treatment group assignment and presence of ascites?\n",
        "$H_0$: There is no relationship between treatment group assignment and presence of ascites.\n",
        "<br>\n",
        "$H_A$: There is a significant relationship between treatment group assignment and presence of ascites.\n",
        "<br>\n",
        "Significance level: $\\alpha = 0.05$\n"
      ]
    },
    {
      "cell_type": "code",
      "metadata": {
        "colab": {
          "base_uri": "https://localhost:8080/",
          "height": 107
        },
        "id": "v-4oyC5rG07r",
        "outputId": "1485b6c8-c770-40c4-af52-9d37d7e7d126"
      },
      "source": [
        "# Create the contingency table - treatment group and presence of ascites\n",
        "\n",
        "penicillamineAscites = penicillamine[penicillamine['Ascites'] == 'yes']\n",
        "penicillamineAscites = penicillamineAscites['Ascites'].count()\n",
        "penicillamineNoAscites = penicillamine[penicillamine['Ascites'] == 'no']\n",
        "penicillamineNoAscites = penicillamineNoAscites['Ascites'].count()\n",
        "\n",
        "placeboAscites = placebo[placebo['Ascites'] == 'yes']\n",
        "placeboAscites = placeboAscites['Ascites'].count()\n",
        "placeboNoAscites = placebo[placebo['Ascites'] == 'no']\n",
        "placeboNoAscites = placeboNoAscites['Ascites'].count()\n",
        "\n",
        "TreatGrpVsAscites = pd.DataFrame({'Penicillamine': [penicillamineAscites, penicillamineNoAscites],\n",
        "                              'Placebo': [placeboAscites, placeboNoAscites]}, \n",
        "                             index=['With ascites', 'Without ascites'])\n",
        "TreatGrpVsAscites"
      ],
      "execution_count": 89,
      "outputs": [
        {
          "output_type": "execute_result",
          "data": {
            "text/html": [
              "<div>\n",
              "<style scoped>\n",
              "    .dataframe tbody tr th:only-of-type {\n",
              "        vertical-align: middle;\n",
              "    }\n",
              "\n",
              "    .dataframe tbody tr th {\n",
              "        vertical-align: top;\n",
              "    }\n",
              "\n",
              "    .dataframe thead th {\n",
              "        text-align: right;\n",
              "    }\n",
              "</style>\n",
              "<table border=\"1\" class=\"dataframe\">\n",
              "  <thead>\n",
              "    <tr style=\"text-align: right;\">\n",
              "      <th></th>\n",
              "      <th>Penicillamine</th>\n",
              "      <th>Placebo</th>\n",
              "    </tr>\n",
              "  </thead>\n",
              "  <tbody>\n",
              "    <tr>\n",
              "      <th>With ascites</th>\n",
              "      <td>14</td>\n",
              "      <td>10</td>\n",
              "    </tr>\n",
              "    <tr>\n",
              "      <th>Without ascites</th>\n",
              "      <td>144</td>\n",
              "      <td>144</td>\n",
              "    </tr>\n",
              "  </tbody>\n",
              "</table>\n",
              "</div>"
            ],
            "text/plain": [
              "                 Penicillamine  Placebo\n",
              "With ascites                14       10\n",
              "Without ascites            144      144"
            ]
          },
          "metadata": {
            "tags": []
          },
          "execution_count": 89
        }
      ]
    },
    {
      "cell_type": "code",
      "metadata": {
        "colab": {
          "base_uri": "https://localhost:8080/",
          "height": 258
        },
        "id": "v2JYaJTfJcl6",
        "outputId": "6cc7dd63-2c71-4b17-ba8d-612e03e4fa8b"
      },
      "source": [
        "# Perform the chi square test and determine the critical value (using 95% probability)\n",
        "\n",
        "chi2stat, pval, dof, expected = chi2_contingency(TreatGrpVsAscites)\n",
        "prob = 0.95\n",
        "critval = chi2.ppf(prob, dof)\n",
        "result = pd.DataFrame([chi2stat, critval, pval, dof], \n",
        "                      index=['Chi2 statistics', 'Critical value', 'p-value', 'degrees of freedom'])\n",
        "expectedval = pd.DataFrame(expected, columns=['Penicillamine', 'Placebo'], \n",
        "                           index=['With ascites', 'Without ascites'])\n",
        "display(result)\n",
        "display(expectedval)"
      ],
      "execution_count": 90,
      "outputs": [
        {
          "output_type": "display_data",
          "data": {
            "text/html": [
              "<div>\n",
              "<style scoped>\n",
              "    .dataframe tbody tr th:only-of-type {\n",
              "        vertical-align: middle;\n",
              "    }\n",
              "\n",
              "    .dataframe tbody tr th {\n",
              "        vertical-align: top;\n",
              "    }\n",
              "\n",
              "    .dataframe thead th {\n",
              "        text-align: right;\n",
              "    }\n",
              "</style>\n",
              "<table border=\"1\" class=\"dataframe\">\n",
              "  <thead>\n",
              "    <tr style=\"text-align: right;\">\n",
              "      <th></th>\n",
              "      <th>0</th>\n",
              "    </tr>\n",
              "  </thead>\n",
              "  <tbody>\n",
              "    <tr>\n",
              "      <th>Chi2 statistics</th>\n",
              "      <td>0.327244</td>\n",
              "    </tr>\n",
              "    <tr>\n",
              "      <th>Critical value</th>\n",
              "      <td>3.841459</td>\n",
              "    </tr>\n",
              "    <tr>\n",
              "      <th>p-value</th>\n",
              "      <td>0.567286</td>\n",
              "    </tr>\n",
              "    <tr>\n",
              "      <th>degrees of freedom</th>\n",
              "      <td>1.000000</td>\n",
              "    </tr>\n",
              "  </tbody>\n",
              "</table>\n",
              "</div>"
            ],
            "text/plain": [
              "                           0\n",
              "Chi2 statistics     0.327244\n",
              "Critical value      3.841459\n",
              "p-value             0.567286\n",
              "degrees of freedom  1.000000"
            ]
          },
          "metadata": {
            "tags": []
          }
        },
        {
          "output_type": "display_data",
          "data": {
            "text/html": [
              "<div>\n",
              "<style scoped>\n",
              "    .dataframe tbody tr th:only-of-type {\n",
              "        vertical-align: middle;\n",
              "    }\n",
              "\n",
              "    .dataframe tbody tr th {\n",
              "        vertical-align: top;\n",
              "    }\n",
              "\n",
              "    .dataframe thead th {\n",
              "        text-align: right;\n",
              "    }\n",
              "</style>\n",
              "<table border=\"1\" class=\"dataframe\">\n",
              "  <thead>\n",
              "    <tr style=\"text-align: right;\">\n",
              "      <th></th>\n",
              "      <th>Penicillamine</th>\n",
              "      <th>Placebo</th>\n",
              "    </tr>\n",
              "  </thead>\n",
              "  <tbody>\n",
              "    <tr>\n",
              "      <th>With ascites</th>\n",
              "      <td>12.153846</td>\n",
              "      <td>11.846154</td>\n",
              "    </tr>\n",
              "    <tr>\n",
              "      <th>Without ascites</th>\n",
              "      <td>145.846154</td>\n",
              "      <td>142.153846</td>\n",
              "    </tr>\n",
              "  </tbody>\n",
              "</table>\n",
              "</div>"
            ],
            "text/plain": [
              "                 Penicillamine     Placebo\n",
              "With ascites         12.153846   11.846154\n",
              "Without ascites     145.846154  142.153846"
            ]
          },
          "metadata": {
            "tags": []
          }
        }
      ]
    },
    {
      "cell_type": "markdown",
      "metadata": {
        "id": "3UpSb994MGEE"
      },
      "source": [
        "### Result and Interpretation\n",
        "Our result revealed that:\n",
        "<br><br>\n",
        "p-value = 0.567 $>$ $\\alpha = 0.05$\n",
        "<br>\n",
        "$\\chi^2$ stat = 0.327 $<$ Critical Value = 3.84\n",
        "<br><br>\n",
        "We will **not reject** our null hypothesis. There is **no** relationship between treatment group and presence of ascites."
      ]
    },
    {
      "cell_type": "markdown",
      "metadata": {
        "id": "t_e56UGFMmju"
      },
      "source": [
        "###(3) Is there a relationship between treatment group assignment and presence of hepatomegaly?\n",
        "$H_0$: There is no relationship between treatment group assignment and presence of hepatomegaly.\n",
        "<br>\n",
        "$H_A$: There is a significant relationship between treatment group assignment and presence of hepatomegaly.\n",
        "<br>\n",
        "Significance level: $\\alpha = 0.05$\n"
      ]
    },
    {
      "cell_type": "code",
      "metadata": {
        "colab": {
          "base_uri": "https://localhost:8080/",
          "height": 107
        },
        "id": "FSCVg9isJq7f",
        "outputId": "53debad9-b09f-41a7-d36e-99e7d5dc63e8"
      },
      "source": [
        "# Create the contingency table - treatment group and presence of hepatomegaly\n",
        "\n",
        "penicillamineHepato = penicillamine[penicillamine['Hepatomegaly'] == 'yes']\n",
        "penicillamineHepato = penicillamineHepato['Hepatomegaly'].count()\n",
        "penicillamineNoHepato = penicillamine[penicillamine['Hepatomegaly'] == 'no']\n",
        "penicillamineNoHepato = penicillamineNoHepato['Hepatomegaly'].count()\n",
        "\n",
        "placeboHepato = placebo[placebo['Hepatomegaly'] == 'yes']\n",
        "placeboHepato = placeboHepato['Hepatomegaly'].count()\n",
        "placeboNoHepato = placebo[placebo['Hepatomegaly'] == 'no']\n",
        "placeboNoHepato = placeboNoHepato['Hepatomegaly'].count()\n",
        "\n",
        "TreatGrpVsHepato = pd.DataFrame({'Penicillamine': [penicillamineHepato, penicillamineNoHepato],\n",
        "                              'Placebo': [placeboHepato, placeboNoHepato]}, \n",
        "                             index=['With hepatomegaly', 'Without hepatomegaly'])\n",
        "TreatGrpVsHepato"
      ],
      "execution_count": 91,
      "outputs": [
        {
          "output_type": "execute_result",
          "data": {
            "text/html": [
              "<div>\n",
              "<style scoped>\n",
              "    .dataframe tbody tr th:only-of-type {\n",
              "        vertical-align: middle;\n",
              "    }\n",
              "\n",
              "    .dataframe tbody tr th {\n",
              "        vertical-align: top;\n",
              "    }\n",
              "\n",
              "    .dataframe thead th {\n",
              "        text-align: right;\n",
              "    }\n",
              "</style>\n",
              "<table border=\"1\" class=\"dataframe\">\n",
              "  <thead>\n",
              "    <tr style=\"text-align: right;\">\n",
              "      <th></th>\n",
              "      <th>Penicillamine</th>\n",
              "      <th>Placebo</th>\n",
              "    </tr>\n",
              "  </thead>\n",
              "  <tbody>\n",
              "    <tr>\n",
              "      <th>With hepatomegaly</th>\n",
              "      <td>73</td>\n",
              "      <td>87</td>\n",
              "    </tr>\n",
              "    <tr>\n",
              "      <th>Without hepatomegaly</th>\n",
              "      <td>85</td>\n",
              "      <td>67</td>\n",
              "    </tr>\n",
              "  </tbody>\n",
              "</table>\n",
              "</div>"
            ],
            "text/plain": [
              "                      Penicillamine  Placebo\n",
              "With hepatomegaly                73       87\n",
              "Without hepatomegaly             85       67"
            ]
          },
          "metadata": {
            "tags": []
          },
          "execution_count": 91
        }
      ]
    },
    {
      "cell_type": "code",
      "metadata": {
        "colab": {
          "base_uri": "https://localhost:8080/",
          "height": 258
        },
        "id": "J-8sGSLtNvlj",
        "outputId": "e3ffcdc1-5046-4dd2-b5a1-31cd7e7b1d8c"
      },
      "source": [
        "# Perform the chi square test and determine the critical value (using 95% probability)\n",
        "\n",
        "chi2stat, pval, dof, expected = chi2_contingency(TreatGrpVsHepato)\n",
        "prob = 0.95\n",
        "critval = chi2.ppf(prob, dof)\n",
        "result = pd.DataFrame([chi2stat, critval, pval, dof], \n",
        "                      index=['Chi2 statistics', 'Critical value', 'p-value', 'degrees of freedom'])\n",
        "expectedval = pd.DataFrame(expected, columns=['Penicillamine', 'Placebo'], \n",
        "                           index=['With hepatomegaly', 'Without hepatomegaly'])\n",
        "display(result)\n",
        "display(expectedval)"
      ],
      "execution_count": 92,
      "outputs": [
        {
          "output_type": "display_data",
          "data": {
            "text/html": [
              "<div>\n",
              "<style scoped>\n",
              "    .dataframe tbody tr th:only-of-type {\n",
              "        vertical-align: middle;\n",
              "    }\n",
              "\n",
              "    .dataframe tbody tr th {\n",
              "        vertical-align: top;\n",
              "    }\n",
              "\n",
              "    .dataframe thead th {\n",
              "        text-align: right;\n",
              "    }\n",
              "</style>\n",
              "<table border=\"1\" class=\"dataframe\">\n",
              "  <thead>\n",
              "    <tr style=\"text-align: right;\">\n",
              "      <th></th>\n",
              "      <th>0</th>\n",
              "    </tr>\n",
              "  </thead>\n",
              "  <tbody>\n",
              "    <tr>\n",
              "      <th>Chi2 statistics</th>\n",
              "      <td>2.906762</td>\n",
              "    </tr>\n",
              "    <tr>\n",
              "      <th>Critical value</th>\n",
              "      <td>3.841459</td>\n",
              "    </tr>\n",
              "    <tr>\n",
              "      <th>p-value</th>\n",
              "      <td>0.088209</td>\n",
              "    </tr>\n",
              "    <tr>\n",
              "      <th>degrees of freedom</th>\n",
              "      <td>1.000000</td>\n",
              "    </tr>\n",
              "  </tbody>\n",
              "</table>\n",
              "</div>"
            ],
            "text/plain": [
              "                           0\n",
              "Chi2 statistics     2.906762\n",
              "Critical value      3.841459\n",
              "p-value             0.088209\n",
              "degrees of freedom  1.000000"
            ]
          },
          "metadata": {
            "tags": []
          }
        },
        {
          "output_type": "display_data",
          "data": {
            "text/html": [
              "<div>\n",
              "<style scoped>\n",
              "    .dataframe tbody tr th:only-of-type {\n",
              "        vertical-align: middle;\n",
              "    }\n",
              "\n",
              "    .dataframe tbody tr th {\n",
              "        vertical-align: top;\n",
              "    }\n",
              "\n",
              "    .dataframe thead th {\n",
              "        text-align: right;\n",
              "    }\n",
              "</style>\n",
              "<table border=\"1\" class=\"dataframe\">\n",
              "  <thead>\n",
              "    <tr style=\"text-align: right;\">\n",
              "      <th></th>\n",
              "      <th>Penicillamine</th>\n",
              "      <th>Placebo</th>\n",
              "    </tr>\n",
              "  </thead>\n",
              "  <tbody>\n",
              "    <tr>\n",
              "      <th>With hepatomegaly</th>\n",
              "      <td>81.025641</td>\n",
              "      <td>78.974359</td>\n",
              "    </tr>\n",
              "    <tr>\n",
              "      <th>Without hepatomegaly</th>\n",
              "      <td>76.974359</td>\n",
              "      <td>75.025641</td>\n",
              "    </tr>\n",
              "  </tbody>\n",
              "</table>\n",
              "</div>"
            ],
            "text/plain": [
              "                      Penicillamine    Placebo\n",
              "With hepatomegaly         81.025641  78.974359\n",
              "Without hepatomegaly      76.974359  75.025641"
            ]
          },
          "metadata": {
            "tags": []
          }
        }
      ]
    },
    {
      "cell_type": "markdown",
      "metadata": {
        "id": "2fR1AayQN8gl"
      },
      "source": [
        "### Result and Interpretation\n",
        "Our result revealed that:\n",
        "<br><br>\n",
        "p-value = 0.088 $>$ $\\alpha = 0.05$\n",
        "<br>\n",
        "$\\chi^2$ stat = 2.9 $<$ Critical Value = 3.84\n",
        "<br><br>\n",
        "We will **not reject** our null hypothesis. There is **no** relationship between treatment group and presence of hepatomegaly."
      ]
    },
    {
      "cell_type": "markdown",
      "metadata": {
        "id": "NOxAJozdOjAW"
      },
      "source": [
        "###(4) Is there a relationship between treatment group assignment and presence of spider angiomata?\n",
        "$H_0$: There is no relationship between treatment group assignment and presence of spider angiomata.\n",
        "<br>\n",
        "$H_A$: There is a significant relationship between treatment group assignment and presence of spider angiomata.\n",
        "<br>\n",
        "Significance level: $\\alpha = 0.05$\n"
      ]
    },
    {
      "cell_type": "code",
      "metadata": {
        "colab": {
          "base_uri": "https://localhost:8080/",
          "height": 107
        },
        "id": "-d3S2t3qN5Mn",
        "outputId": "fb70edf6-697b-4db3-bd79-ec105fd930fd"
      },
      "source": [
        "# Create the contingency table - treatment group and presence of spider angiomata\n",
        "\n",
        "penicillamineSpider = penicillamine[penicillamine['SpiderAngiomata'] == 'yes']\n",
        "penicillamineSpider = penicillamineSpider['SpiderAngiomata'].count()\n",
        "penicillamineNoSpider = penicillamine[penicillamine['SpiderAngiomata'] == 'no']\n",
        "penicillamineNoSpider = penicillamineNoSpider['SpiderAngiomata'].count()\n",
        "\n",
        "placeboSpider = placebo[placebo['SpiderAngiomata'] == 'yes']\n",
        "placeboSpider = placeboSpider['SpiderAngiomata'].count()\n",
        "placeboNoSpider = placebo[placebo['SpiderAngiomata'] == 'no']\n",
        "placeboNoSpider = placeboNoSpider['SpiderAngiomata'].count()\n",
        "\n",
        "TreatGrpVsSpider = pd.DataFrame({'Penicillamine': [penicillamineSpider, penicillamineNoSpider],\n",
        "                              'Placebo': [placeboSpider, placeboNoSpider]}, \n",
        "                             index=['With spider angiomata', 'Without spider angiomata'])\n",
        "TreatGrpVsSpider"
      ],
      "execution_count": 93,
      "outputs": [
        {
          "output_type": "execute_result",
          "data": {
            "text/html": [
              "<div>\n",
              "<style scoped>\n",
              "    .dataframe tbody tr th:only-of-type {\n",
              "        vertical-align: middle;\n",
              "    }\n",
              "\n",
              "    .dataframe tbody tr th {\n",
              "        vertical-align: top;\n",
              "    }\n",
              "\n",
              "    .dataframe thead th {\n",
              "        text-align: right;\n",
              "    }\n",
              "</style>\n",
              "<table border=\"1\" class=\"dataframe\">\n",
              "  <thead>\n",
              "    <tr style=\"text-align: right;\">\n",
              "      <th></th>\n",
              "      <th>Penicillamine</th>\n",
              "      <th>Placebo</th>\n",
              "    </tr>\n",
              "  </thead>\n",
              "  <tbody>\n",
              "    <tr>\n",
              "      <th>With spider angiomata</th>\n",
              "      <td>45</td>\n",
              "      <td>45</td>\n",
              "    </tr>\n",
              "    <tr>\n",
              "      <th>Without spider angiomata</th>\n",
              "      <td>113</td>\n",
              "      <td>109</td>\n",
              "    </tr>\n",
              "  </tbody>\n",
              "</table>\n",
              "</div>"
            ],
            "text/plain": [
              "                          Penicillamine  Placebo\n",
              "With spider angiomata                45       45\n",
              "Without spider angiomata            113      109"
            ]
          },
          "metadata": {
            "tags": []
          },
          "execution_count": 93
        }
      ]
    },
    {
      "cell_type": "code",
      "metadata": {
        "colab": {
          "base_uri": "https://localhost:8080/",
          "height": 258
        },
        "id": "fqJDVFj8PWlW",
        "outputId": "c6275250-4781-4c83-cd7b-507577d65bb8"
      },
      "source": [
        "# Perform the chi square test and determine the critical value (using 95% probability)\n",
        "\n",
        "chi2stat, pval, dof, expected = chi2_contingency(TreatGrpVsSpider)\n",
        "prob = 0.95\n",
        "critval = chi2.ppf(prob, dof)\n",
        "result = pd.DataFrame([chi2stat, critval, pval, dof], \n",
        "                      index=['Chi2 statistics', 'Critical value', 'p-value', 'degrees of freedom'])\n",
        "expectedval = pd.DataFrame(expected, columns=['Penicillamine', 'Placebo'], \n",
        "                           index=['With spider angiomata', 'Without spider angiomata'])\n",
        "display(result)\n",
        "display(expectedval)"
      ],
      "execution_count": 94,
      "outputs": [
        {
          "output_type": "display_data",
          "data": {
            "text/html": [
              "<div>\n",
              "<style scoped>\n",
              "    .dataframe tbody tr th:only-of-type {\n",
              "        vertical-align: middle;\n",
              "    }\n",
              "\n",
              "    .dataframe tbody tr th {\n",
              "        vertical-align: top;\n",
              "    }\n",
              "\n",
              "    .dataframe thead th {\n",
              "        text-align: right;\n",
              "    }\n",
              "</style>\n",
              "<table border=\"1\" class=\"dataframe\">\n",
              "  <thead>\n",
              "    <tr style=\"text-align: right;\">\n",
              "      <th></th>\n",
              "      <th>0</th>\n",
              "    </tr>\n",
              "  </thead>\n",
              "  <tbody>\n",
              "    <tr>\n",
              "      <th>Chi2 statistics</th>\n",
              "      <td>0.000370</td>\n",
              "    </tr>\n",
              "    <tr>\n",
              "      <th>Critical value</th>\n",
              "      <td>3.841459</td>\n",
              "    </tr>\n",
              "    <tr>\n",
              "      <th>p-value</th>\n",
              "      <td>0.984660</td>\n",
              "    </tr>\n",
              "    <tr>\n",
              "      <th>degrees of freedom</th>\n",
              "      <td>1.000000</td>\n",
              "    </tr>\n",
              "  </tbody>\n",
              "</table>\n",
              "</div>"
            ],
            "text/plain": [
              "                           0\n",
              "Chi2 statistics     0.000370\n",
              "Critical value      3.841459\n",
              "p-value             0.984660\n",
              "degrees of freedom  1.000000"
            ]
          },
          "metadata": {
            "tags": []
          }
        },
        {
          "output_type": "display_data",
          "data": {
            "text/html": [
              "<div>\n",
              "<style scoped>\n",
              "    .dataframe tbody tr th:only-of-type {\n",
              "        vertical-align: middle;\n",
              "    }\n",
              "\n",
              "    .dataframe tbody tr th {\n",
              "        vertical-align: top;\n",
              "    }\n",
              "\n",
              "    .dataframe thead th {\n",
              "        text-align: right;\n",
              "    }\n",
              "</style>\n",
              "<table border=\"1\" class=\"dataframe\">\n",
              "  <thead>\n",
              "    <tr style=\"text-align: right;\">\n",
              "      <th></th>\n",
              "      <th>Penicillamine</th>\n",
              "      <th>Placebo</th>\n",
              "    </tr>\n",
              "  </thead>\n",
              "  <tbody>\n",
              "    <tr>\n",
              "      <th>With spider angiomata</th>\n",
              "      <td>45.576923</td>\n",
              "      <td>44.423077</td>\n",
              "    </tr>\n",
              "    <tr>\n",
              "      <th>Without spider angiomata</th>\n",
              "      <td>112.423077</td>\n",
              "      <td>109.576923</td>\n",
              "    </tr>\n",
              "  </tbody>\n",
              "</table>\n",
              "</div>"
            ],
            "text/plain": [
              "                          Penicillamine     Placebo\n",
              "With spider angiomata         45.576923   44.423077\n",
              "Without spider angiomata     112.423077  109.576923"
            ]
          },
          "metadata": {
            "tags": []
          }
        }
      ]
    },
    {
      "cell_type": "markdown",
      "metadata": {
        "id": "2Pkl0m7WPj9W"
      },
      "source": [
        "### Result and Interpretation\n",
        "Our result revealed that:\n",
        "<br><br>\n",
        "p-value = 0.98 $>$ $\\alpha = 0.05$\n",
        "<br>\n",
        "$\\chi^2$ stat = 0.00037 $<$ Critical Value = 3.84\n",
        "<br><br>\n",
        "We will **not reject** our null hypothesis. There is **no** relationship between treatment group and presence of spider angiomata."
      ]
    },
    {
      "cell_type": "markdown",
      "metadata": {
        "id": "KRPSCSqvbRmW"
      },
      "source": [
        "###(5) Is there a relationship between treatment group assignment and presence of edema?\n",
        "$H_0$: There is no relationship between treatment group assignment and presence of edema.\n",
        "<br>\n",
        "$H_A$: There is a significant relationship between treatment group assignment and presence of edema.\n",
        "<br>\n",
        "Significance level: $\\alpha = 0.05$\n"
      ]
    },
    {
      "cell_type": "code",
      "metadata": {
        "colab": {
          "base_uri": "https://localhost:8080/",
          "height": 137
        },
        "id": "k6kjzq05PfW8",
        "outputId": "7bb627a7-b1eb-4765-8a99-fcb4763ca925"
      },
      "source": [
        "# Create the contingency table - treatment group and presence of edema\n",
        "\n",
        "penicillamineEdema = penicillamine[penicillamine['Edema'] == 'present']\n",
        "penicillamineEdema = penicillamineEdema['Edema'].count()\n",
        "penicillamineDiurese = penicillamine[penicillamine['Edema'] == 'diurese']\n",
        "penicillamineDiurese = penicillamineDiurese['Edema'].count()\n",
        "penicillamineAbsent = penicillamine[penicillamine['Edema'] == 'absent']\n",
        "penicillamineAbsent = penicillamineAbsent['Edema'].count()\n",
        "\n",
        "placeboEdema = placebo[placebo['Edema'] == 'present']\n",
        "placeboEdema = placeboEdema['Edema'].count()\n",
        "placeboDiurese = placebo[placebo['Edema'] == 'diurese']\n",
        "placeboDiurese = placeboDiurese['Edema'].count()\n",
        "placeboAbsent = placebo[placebo['Edema'] == 'absent']\n",
        "placeboAbsent = placeboAbsent['Edema'].count()\n",
        "\n",
        "TreatGrpVsEdema = pd.DataFrame({'Penicillamine': [penicillamineEdema, penicillamineDiurese, penicillamineAbsent],\n",
        "                              'Placebo': [placeboEdema, placeboDiurese, placeboAbsent]}, \n",
        "                             index=['With edema', 'Diuresed edema', 'Absent edema'])\n",
        "TreatGrpVsEdema"
      ],
      "execution_count": 95,
      "outputs": [
        {
          "output_type": "execute_result",
          "data": {
            "text/html": [
              "<div>\n",
              "<style scoped>\n",
              "    .dataframe tbody tr th:only-of-type {\n",
              "        vertical-align: middle;\n",
              "    }\n",
              "\n",
              "    .dataframe tbody tr th {\n",
              "        vertical-align: top;\n",
              "    }\n",
              "\n",
              "    .dataframe thead th {\n",
              "        text-align: right;\n",
              "    }\n",
              "</style>\n",
              "<table border=\"1\" class=\"dataframe\">\n",
              "  <thead>\n",
              "    <tr style=\"text-align: right;\">\n",
              "      <th></th>\n",
              "      <th>Penicillamine</th>\n",
              "      <th>Placebo</th>\n",
              "    </tr>\n",
              "  </thead>\n",
              "  <tbody>\n",
              "    <tr>\n",
              "      <th>With edema</th>\n",
              "      <td>10</td>\n",
              "      <td>10</td>\n",
              "    </tr>\n",
              "    <tr>\n",
              "      <th>Diuresed edema</th>\n",
              "      <td>16</td>\n",
              "      <td>13</td>\n",
              "    </tr>\n",
              "    <tr>\n",
              "      <th>Absent edema</th>\n",
              "      <td>132</td>\n",
              "      <td>131</td>\n",
              "    </tr>\n",
              "  </tbody>\n",
              "</table>\n",
              "</div>"
            ],
            "text/plain": [
              "                Penicillamine  Placebo\n",
              "With edema                 10       10\n",
              "Diuresed edema             16       13\n",
              "Absent edema              132      131"
            ]
          },
          "metadata": {
            "tags": []
          },
          "execution_count": 95
        }
      ]
    },
    {
      "cell_type": "code",
      "metadata": {
        "id": "byNL0mR_cJPj",
        "colab": {
          "base_uri": "https://localhost:8080/",
          "height": 288
        },
        "outputId": "02f25c2c-b9fc-408a-855e-7a532a21615e"
      },
      "source": [
        "# Perform the chi square test and determine the critical value (using 95% probability)\n",
        "\n",
        "chi2stat, pval, dof, expected = chi2_contingency(TreatGrpVsEdema)\n",
        "prob = 0.95\n",
        "critval = chi2.ppf(prob, dof)\n",
        "result = pd.DataFrame([chi2stat, critval, pval, dof], \n",
        "                      index=['Chi2 statistics', 'Critical value', 'p-value', 'degrees of freedom'])\n",
        "expectedval = pd.DataFrame(expected, columns=['Penicillamine', 'Placebo'], \n",
        "                           index=['With edema', 'Diuresed edema', 'Absent edema'])\n",
        "display(result)\n",
        "display(expectedval)"
      ],
      "execution_count": 96,
      "outputs": [
        {
          "output_type": "display_data",
          "data": {
            "text/html": [
              "<div>\n",
              "<style scoped>\n",
              "    .dataframe tbody tr th:only-of-type {\n",
              "        vertical-align: middle;\n",
              "    }\n",
              "\n",
              "    .dataframe tbody tr th {\n",
              "        vertical-align: top;\n",
              "    }\n",
              "\n",
              "    .dataframe thead th {\n",
              "        text-align: right;\n",
              "    }\n",
              "</style>\n",
              "<table border=\"1\" class=\"dataframe\">\n",
              "  <thead>\n",
              "    <tr style=\"text-align: right;\">\n",
              "      <th></th>\n",
              "      <th>0</th>\n",
              "    </tr>\n",
              "  </thead>\n",
              "  <tbody>\n",
              "    <tr>\n",
              "      <th>Chi2 statistics</th>\n",
              "      <td>0.262908</td>\n",
              "    </tr>\n",
              "    <tr>\n",
              "      <th>Critical value</th>\n",
              "      <td>5.991465</td>\n",
              "    </tr>\n",
              "    <tr>\n",
              "      <th>p-value</th>\n",
              "      <td>0.876819</td>\n",
              "    </tr>\n",
              "    <tr>\n",
              "      <th>degrees of freedom</th>\n",
              "      <td>2.000000</td>\n",
              "    </tr>\n",
              "  </tbody>\n",
              "</table>\n",
              "</div>"
            ],
            "text/plain": [
              "                           0\n",
              "Chi2 statistics     0.262908\n",
              "Critical value      5.991465\n",
              "p-value             0.876819\n",
              "degrees of freedom  2.000000"
            ]
          },
          "metadata": {
            "tags": []
          }
        },
        {
          "output_type": "display_data",
          "data": {
            "text/html": [
              "<div>\n",
              "<style scoped>\n",
              "    .dataframe tbody tr th:only-of-type {\n",
              "        vertical-align: middle;\n",
              "    }\n",
              "\n",
              "    .dataframe tbody tr th {\n",
              "        vertical-align: top;\n",
              "    }\n",
              "\n",
              "    .dataframe thead th {\n",
              "        text-align: right;\n",
              "    }\n",
              "</style>\n",
              "<table border=\"1\" class=\"dataframe\">\n",
              "  <thead>\n",
              "    <tr style=\"text-align: right;\">\n",
              "      <th></th>\n",
              "      <th>Penicillamine</th>\n",
              "      <th>Placebo</th>\n",
              "    </tr>\n",
              "  </thead>\n",
              "  <tbody>\n",
              "    <tr>\n",
              "      <th>With edema</th>\n",
              "      <td>10.128205</td>\n",
              "      <td>9.871795</td>\n",
              "    </tr>\n",
              "    <tr>\n",
              "      <th>Diuresed edema</th>\n",
              "      <td>14.685897</td>\n",
              "      <td>14.314103</td>\n",
              "    </tr>\n",
              "    <tr>\n",
              "      <th>Absent edema</th>\n",
              "      <td>133.185897</td>\n",
              "      <td>129.814103</td>\n",
              "    </tr>\n",
              "  </tbody>\n",
              "</table>\n",
              "</div>"
            ],
            "text/plain": [
              "                Penicillamine     Placebo\n",
              "With edema          10.128205    9.871795\n",
              "Diuresed edema      14.685897   14.314103\n",
              "Absent edema       133.185897  129.814103"
            ]
          },
          "metadata": {
            "tags": []
          }
        }
      ]
    },
    {
      "cell_type": "markdown",
      "metadata": {
        "id": "s03lPF32dgx-"
      },
      "source": [
        "### Result and Interpretation\n",
        "Our result revealed that:\n",
        "<br><br>\n",
        "p-value = 0.877 $>$ $\\alpha = 0.05$\n",
        "<br>\n",
        "$\\chi^2$ stat = 0.263 $<$ Critical Value = 5.99\n",
        "<br><br>\n",
        "We will **not reject** our null hypothesis. There is **no** relationship between treatment group and presence of edema."
      ]
    },
    {
      "cell_type": "markdown",
      "metadata": {
        "id": "hTm_8akEds7-"
      },
      "source": [
        "###(6) Is there a relationship between treatment group assignment and histological staging?\n",
        "$H_0$: There is no relationship between treatment group assignment and histological staging.\n",
        "<br>\n",
        "$H_A$: There is a significant relationship between treatment group assignment and histological staging.\n",
        "<br>\n",
        "Significance level: $\\alpha = 0.05$\n"
      ]
    },
    {
      "cell_type": "code",
      "metadata": {
        "colab": {
          "base_uri": "https://localhost:8080/",
          "height": 167
        },
        "id": "LVO4KLD0dTdf",
        "outputId": "2b7fd65d-a13d-4fa4-a9a1-a6246bfd3bf5"
      },
      "source": [
        "# Create the contingency table - treatment group and histological staging\n",
        "\n",
        "penicillamineStage1 = penicillamine[penicillamine['HistologyStage'] == 'Stage1']\n",
        "penicillamineStage1 = penicillamineStage1['HistologyStage'].count()\n",
        "penicillamineStage2 = penicillamine[penicillamine['HistologyStage'] == 'Stage2']\n",
        "penicillamineStage2 = penicillamineStage2['HistologyStage'].count()\n",
        "penicillamineStage3 = penicillamine[penicillamine['HistologyStage'] == 'Stage3']\n",
        "penicillamineStage3 = penicillamineStage3['HistologyStage'].count()\n",
        "penicillamineStage4 = penicillamine[penicillamine['HistologyStage'] == 'Stage4']\n",
        "penicillamineStage4 = penicillamineStage4['HistologyStage'].count()\n",
        "\n",
        "placeboStage1 = placebo[placebo['HistologyStage'] == 'Stage1']\n",
        "placeboStage1 = placeboStage1['HistologyStage'].count()\n",
        "placeboStage2 = placebo[placebo['HistologyStage'] == 'Stage2']\n",
        "placeboStage2 = placeboStage2['HistologyStage'].count()\n",
        "placeboStage3 = placebo[placebo['HistologyStage'] == 'Stage3']\n",
        "placeboStage3 = placeboStage3['HistologyStage'].count()\n",
        "placeboStage4 = placebo[placebo['HistologyStage'] == 'Stage4']\n",
        "placeboStage4 = placeboStage4['HistologyStage'].count()\n",
        "\n",
        "TreatGrpVsHisto = pd.DataFrame({'Penicillamine': [penicillamineStage1, penicillamineStage2, penicillamineStage3, penicillamineStage4],\n",
        "                              'Placebo': [placeboStage1, placeboStage2, placeboStage3, placeboStage4]}, \n",
        "                             index=['Stage 1', 'Stage 2', 'Stage 3', 'Stage 4'])\n",
        "TreatGrpVsHisto"
      ],
      "execution_count": 97,
      "outputs": [
        {
          "output_type": "execute_result",
          "data": {
            "text/html": [
              "<div>\n",
              "<style scoped>\n",
              "    .dataframe tbody tr th:only-of-type {\n",
              "        vertical-align: middle;\n",
              "    }\n",
              "\n",
              "    .dataframe tbody tr th {\n",
              "        vertical-align: top;\n",
              "    }\n",
              "\n",
              "    .dataframe thead th {\n",
              "        text-align: right;\n",
              "    }\n",
              "</style>\n",
              "<table border=\"1\" class=\"dataframe\">\n",
              "  <thead>\n",
              "    <tr style=\"text-align: right;\">\n",
              "      <th></th>\n",
              "      <th>Penicillamine</th>\n",
              "      <th>Placebo</th>\n",
              "    </tr>\n",
              "  </thead>\n",
              "  <tbody>\n",
              "    <tr>\n",
              "      <th>Stage 1</th>\n",
              "      <td>12</td>\n",
              "      <td>4</td>\n",
              "    </tr>\n",
              "    <tr>\n",
              "      <th>Stage 2</th>\n",
              "      <td>35</td>\n",
              "      <td>32</td>\n",
              "    </tr>\n",
              "    <tr>\n",
              "      <th>Stage 3</th>\n",
              "      <td>56</td>\n",
              "      <td>64</td>\n",
              "    </tr>\n",
              "    <tr>\n",
              "      <th>Stage 4</th>\n",
              "      <td>55</td>\n",
              "      <td>54</td>\n",
              "    </tr>\n",
              "  </tbody>\n",
              "</table>\n",
              "</div>"
            ],
            "text/plain": [
              "         Penicillamine  Placebo\n",
              "Stage 1             12        4\n",
              "Stage 2             35       32\n",
              "Stage 3             56       64\n",
              "Stage 4             55       54"
            ]
          },
          "metadata": {
            "tags": []
          },
          "execution_count": 97
        }
      ]
    },
    {
      "cell_type": "code",
      "metadata": {
        "colab": {
          "base_uri": "https://localhost:8080/",
          "height": 318
        },
        "id": "fTgxG6JQfbR0",
        "outputId": "487a719d-b706-45dc-b5c2-d0e3c506c997"
      },
      "source": [
        "# Perform the chi square test and determine the critical value (using 95% probability)\n",
        "\n",
        "chi2stat, pval, dof, expected = chi2_contingency(TreatGrpVsHisto)\n",
        "prob = 0.95\n",
        "critval = chi2.ppf(prob, dof)\n",
        "result = pd.DataFrame([chi2stat, critval, pval, dof], \n",
        "                      index=['Chi2 statistics', 'Critical value', 'p-value', 'degrees of freedom'])\n",
        "expectedval = pd.DataFrame(expected, columns=['Penicillamine', 'Placebo'], \n",
        "                           index=['Stage 1', 'Stage 2', 'Stage 3', 'Stage 4'])\n",
        "display(result)\n",
        "display(expectedval)"
      ],
      "execution_count": 98,
      "outputs": [
        {
          "output_type": "display_data",
          "data": {
            "text/html": [
              "<div>\n",
              "<style scoped>\n",
              "    .dataframe tbody tr th:only-of-type {\n",
              "        vertical-align: middle;\n",
              "    }\n",
              "\n",
              "    .dataframe tbody tr th {\n",
              "        vertical-align: top;\n",
              "    }\n",
              "\n",
              "    .dataframe thead th {\n",
              "        text-align: right;\n",
              "    }\n",
              "</style>\n",
              "<table border=\"1\" class=\"dataframe\">\n",
              "  <thead>\n",
              "    <tr style=\"text-align: right;\">\n",
              "      <th></th>\n",
              "      <th>0</th>\n",
              "    </tr>\n",
              "  </thead>\n",
              "  <tbody>\n",
              "    <tr>\n",
              "      <th>Chi2 statistics</th>\n",
              "      <td>4.626314</td>\n",
              "    </tr>\n",
              "    <tr>\n",
              "      <th>Critical value</th>\n",
              "      <td>7.814728</td>\n",
              "    </tr>\n",
              "    <tr>\n",
              "      <th>p-value</th>\n",
              "      <td>0.201296</td>\n",
              "    </tr>\n",
              "    <tr>\n",
              "      <th>degrees of freedom</th>\n",
              "      <td>3.000000</td>\n",
              "    </tr>\n",
              "  </tbody>\n",
              "</table>\n",
              "</div>"
            ],
            "text/plain": [
              "                           0\n",
              "Chi2 statistics     4.626314\n",
              "Critical value      7.814728\n",
              "p-value             0.201296\n",
              "degrees of freedom  3.000000"
            ]
          },
          "metadata": {
            "tags": []
          }
        },
        {
          "output_type": "display_data",
          "data": {
            "text/html": [
              "<div>\n",
              "<style scoped>\n",
              "    .dataframe tbody tr th:only-of-type {\n",
              "        vertical-align: middle;\n",
              "    }\n",
              "\n",
              "    .dataframe tbody tr th {\n",
              "        vertical-align: top;\n",
              "    }\n",
              "\n",
              "    .dataframe thead th {\n",
              "        text-align: right;\n",
              "    }\n",
              "</style>\n",
              "<table border=\"1\" class=\"dataframe\">\n",
              "  <thead>\n",
              "    <tr style=\"text-align: right;\">\n",
              "      <th></th>\n",
              "      <th>Penicillamine</th>\n",
              "      <th>Placebo</th>\n",
              "    </tr>\n",
              "  </thead>\n",
              "  <tbody>\n",
              "    <tr>\n",
              "      <th>Stage 1</th>\n",
              "      <td>8.102564</td>\n",
              "      <td>7.897436</td>\n",
              "    </tr>\n",
              "    <tr>\n",
              "      <th>Stage 2</th>\n",
              "      <td>33.929487</td>\n",
              "      <td>33.070513</td>\n",
              "    </tr>\n",
              "    <tr>\n",
              "      <th>Stage 3</th>\n",
              "      <td>60.769231</td>\n",
              "      <td>59.230769</td>\n",
              "    </tr>\n",
              "    <tr>\n",
              "      <th>Stage 4</th>\n",
              "      <td>55.198718</td>\n",
              "      <td>53.801282</td>\n",
              "    </tr>\n",
              "  </tbody>\n",
              "</table>\n",
              "</div>"
            ],
            "text/plain": [
              "         Penicillamine    Placebo\n",
              "Stage 1       8.102564   7.897436\n",
              "Stage 2      33.929487  33.070513\n",
              "Stage 3      60.769231  59.230769\n",
              "Stage 4      55.198718  53.801282"
            ]
          },
          "metadata": {
            "tags": []
          }
        }
      ]
    },
    {
      "cell_type": "markdown",
      "metadata": {
        "id": "FByY1D_ofoFI"
      },
      "source": [
        "### Result and Interpretation\n",
        "Our result revealed that:\n",
        "<br><br>\n",
        "p-value = 0.2 $>$ $\\alpha = 0.05$\n",
        "<br>\n",
        "$\\chi^2$ stat = 4.626 $<$ Critical Value = 7.8\n",
        "<br><br>\n",
        "We will **not reject** our null hypothesis. There is **no** relationship between treatment group and histological staging."
      ]
    },
    {
      "cell_type": "markdown",
      "metadata": {
        "id": "vHCjLfQwgTO6"
      },
      "source": [
        "##C. Sex category"
      ]
    },
    {
      "cell_type": "markdown",
      "metadata": {
        "id": "DBJvYTzggjRA"
      },
      "source": [
        "###(1) Is there a relationship between sex and presence of ascites?\n",
        "$H_0$: There is no relationship between treatment group assignment and presence of ascites.\n",
        "<br>\n",
        "$H_A$: There is a significant relationship between treatment group assignment and presence of ascites.\n",
        "<br>\n",
        "Significance level: $\\alpha = 0.05$\n"
      ]
    },
    {
      "cell_type": "code",
      "metadata": {
        "colab": {
          "base_uri": "https://localhost:8080/",
          "height": 107
        },
        "id": "NTrDOpn8fkeZ",
        "outputId": "bb763f0c-3f21-4bf9-86be-e9c472356070"
      },
      "source": [
        "# Create the contingency table - sex and presence of ascites\n",
        "\n",
        "ascitesF = female[female['Ascites'] == 'yes']\n",
        "ascitesF = ascitesF['Ascites'].count()\n",
        "noascitesF = female[female['Ascites'] == 'no']\n",
        "noascitesF = noascitesF['Ascites'].count()\n",
        "\n",
        "ascitesM = male[male['Ascites'] == 'yes']\n",
        "ascitesM = ascitesM['Ascites'].count()\n",
        "noascitesM = male[male['Ascites'] == 'no']\n",
        "noascitesM = noascitesM['Ascites'].count()\n",
        "\n",
        "SexVsAscites = pd.DataFrame({'Female': [ascitesF, noascitesF],\n",
        "                             'Male': [ascitesM, noascitesM]}, \n",
        "                            index=['With ascites', 'Without ascites'])\n",
        "SexVsAscites"
      ],
      "execution_count": 99,
      "outputs": [
        {
          "output_type": "execute_result",
          "data": {
            "text/html": [
              "<div>\n",
              "<style scoped>\n",
              "    .dataframe tbody tr th:only-of-type {\n",
              "        vertical-align: middle;\n",
              "    }\n",
              "\n",
              "    .dataframe tbody tr th {\n",
              "        vertical-align: top;\n",
              "    }\n",
              "\n",
              "    .dataframe thead th {\n",
              "        text-align: right;\n",
              "    }\n",
              "</style>\n",
              "<table border=\"1\" class=\"dataframe\">\n",
              "  <thead>\n",
              "    <tr style=\"text-align: right;\">\n",
              "      <th></th>\n",
              "      <th>Female</th>\n",
              "      <th>Male</th>\n",
              "    </tr>\n",
              "  </thead>\n",
              "  <tbody>\n",
              "    <tr>\n",
              "      <th>With ascites</th>\n",
              "      <td>21</td>\n",
              "      <td>3</td>\n",
              "    </tr>\n",
              "    <tr>\n",
              "      <th>Without ascites</th>\n",
              "      <td>255</td>\n",
              "      <td>33</td>\n",
              "    </tr>\n",
              "  </tbody>\n",
              "</table>\n",
              "</div>"
            ],
            "text/plain": [
              "                 Female  Male\n",
              "With ascites         21     3\n",
              "Without ascites     255    33"
            ]
          },
          "metadata": {
            "tags": []
          },
          "execution_count": 99
        }
      ]
    },
    {
      "cell_type": "code",
      "metadata": {
        "colab": {
          "base_uri": "https://localhost:8080/",
          "height": 258
        },
        "id": "vmr0CxcBiXBG",
        "outputId": "9dfae047-baa4-45a5-a45c-b716ef2b35ed"
      },
      "source": [
        "# Perform the chi square test and determine the critical value (using 95% probability)\n",
        "\n",
        "chi2stat, pval, dof, expected = chi2_contingency(SexVsAscites)\n",
        "prob = 0.95\n",
        "critval = chi2.ppf(prob, dof)\n",
        "result = pd.DataFrame([chi2stat, critval, pval, dof], \n",
        "                      index=['Chi2 statistics', 'Critical value', 'p-value', 'degrees of freedom'])\n",
        "expectedval = pd.DataFrame(expected, columns=['Female', 'Male'], \n",
        "                           index=['With ascites', 'Without ascites'])\n",
        "display(result)\n",
        "display(expectedval)"
      ],
      "execution_count": 100,
      "outputs": [
        {
          "output_type": "display_data",
          "data": {
            "text/html": [
              "<div>\n",
              "<style scoped>\n",
              "    .dataframe tbody tr th:only-of-type {\n",
              "        vertical-align: middle;\n",
              "    }\n",
              "\n",
              "    .dataframe tbody tr th {\n",
              "        vertical-align: top;\n",
              "    }\n",
              "\n",
              "    .dataframe thead th {\n",
              "        text-align: right;\n",
              "    }\n",
              "</style>\n",
              "<table border=\"1\" class=\"dataframe\">\n",
              "  <thead>\n",
              "    <tr style=\"text-align: right;\">\n",
              "      <th></th>\n",
              "      <th>0</th>\n",
              "    </tr>\n",
              "  </thead>\n",
              "  <tbody>\n",
              "    <tr>\n",
              "      <th>Chi2 statistics</th>\n",
              "      <td>0.032055</td>\n",
              "    </tr>\n",
              "    <tr>\n",
              "      <th>Critical value</th>\n",
              "      <td>3.841459</td>\n",
              "    </tr>\n",
              "    <tr>\n",
              "      <th>p-value</th>\n",
              "      <td>0.857907</td>\n",
              "    </tr>\n",
              "    <tr>\n",
              "      <th>degrees of freedom</th>\n",
              "      <td>1.000000</td>\n",
              "    </tr>\n",
              "  </tbody>\n",
              "</table>\n",
              "</div>"
            ],
            "text/plain": [
              "                           0\n",
              "Chi2 statistics     0.032055\n",
              "Critical value      3.841459\n",
              "p-value             0.857907\n",
              "degrees of freedom  1.000000"
            ]
          },
          "metadata": {
            "tags": []
          }
        },
        {
          "output_type": "display_data",
          "data": {
            "text/html": [
              "<div>\n",
              "<style scoped>\n",
              "    .dataframe tbody tr th:only-of-type {\n",
              "        vertical-align: middle;\n",
              "    }\n",
              "\n",
              "    .dataframe tbody tr th {\n",
              "        vertical-align: top;\n",
              "    }\n",
              "\n",
              "    .dataframe thead th {\n",
              "        text-align: right;\n",
              "    }\n",
              "</style>\n",
              "<table border=\"1\" class=\"dataframe\">\n",
              "  <thead>\n",
              "    <tr style=\"text-align: right;\">\n",
              "      <th></th>\n",
              "      <th>Female</th>\n",
              "      <th>Male</th>\n",
              "    </tr>\n",
              "  </thead>\n",
              "  <tbody>\n",
              "    <tr>\n",
              "      <th>With ascites</th>\n",
              "      <td>21.230769</td>\n",
              "      <td>2.769231</td>\n",
              "    </tr>\n",
              "    <tr>\n",
              "      <th>Without ascites</th>\n",
              "      <td>254.769231</td>\n",
              "      <td>33.230769</td>\n",
              "    </tr>\n",
              "  </tbody>\n",
              "</table>\n",
              "</div>"
            ],
            "text/plain": [
              "                     Female       Male\n",
              "With ascites      21.230769   2.769231\n",
              "Without ascites  254.769231  33.230769"
            ]
          },
          "metadata": {
            "tags": []
          }
        }
      ]
    },
    {
      "cell_type": "markdown",
      "metadata": {
        "id": "amaJtY94ii86"
      },
      "source": [
        "### Result and Interpretation\n",
        "Our result revealed that:\n",
        "<br><br>\n",
        "p-value = 0.858 $>$ $\\alpha = 0.05$\n",
        "<br>\n",
        "$\\chi^2$ stat = 0.032 $<$ Critical Value = 3.84\n",
        "<br><br>\n",
        "We will **not reject** our null hypothesis. There is **no** relationship between sex and presence of ascites."
      ]
    },
    {
      "cell_type": "markdown",
      "metadata": {
        "id": "qMsqtjKci4Ar"
      },
      "source": [
        "###(2) Is there a relationship between sex and presence of hepatomegaly?\n",
        "$H_0$: There is no relationship between treatment group assignment and presence of hepatomegaly.\n",
        "<br>\n",
        "$H_A$: There is a significant relationship between treatment group assignment and presence of hepatomegaly.\n",
        "<br>\n",
        "Significance level: $\\alpha = 0.05$\n"
      ]
    },
    {
      "cell_type": "code",
      "metadata": {
        "colab": {
          "base_uri": "https://localhost:8080/",
          "height": 107
        },
        "id": "Fnd3YSPDif1M",
        "outputId": "882d8086-e155-4f55-fa21-bd3e443a5c02"
      },
      "source": [
        "# Create the contingency table - sex and presence of hepatomegaly\n",
        "\n",
        "hepatoF = female[female['Hepatomegaly'] == 'yes']\n",
        "hepatoF = hepatoF['Hepatomegaly'].count()\n",
        "nohepatoF = female[female['Hepatomegaly'] == 'no']\n",
        "nohepatoF = nohepatoF['Hepatomegaly'].count()\n",
        "\n",
        "hepatoM = male[male['Hepatomegaly'] == 'yes']\n",
        "hepatoM = hepatoM['Hepatomegaly'].count()\n",
        "nohepatoM = male[male['Hepatomegaly'] == 'no']\n",
        "nohepatoM = nohepatoM['Hepatomegaly'].count()\n",
        "\n",
        "SexVsHepato = pd.DataFrame({'Female': [hepatoF, nohepatoF],\n",
        "                             'Male': [hepatoM, nohepatoM]}, \n",
        "                            index=['With hepatomegaly', 'Without hepatomegaly'])\n",
        "SexVsHepato"
      ],
      "execution_count": 101,
      "outputs": [
        {
          "output_type": "execute_result",
          "data": {
            "text/html": [
              "<div>\n",
              "<style scoped>\n",
              "    .dataframe tbody tr th:only-of-type {\n",
              "        vertical-align: middle;\n",
              "    }\n",
              "\n",
              "    .dataframe tbody tr th {\n",
              "        vertical-align: top;\n",
              "    }\n",
              "\n",
              "    .dataframe thead th {\n",
              "        text-align: right;\n",
              "    }\n",
              "</style>\n",
              "<table border=\"1\" class=\"dataframe\">\n",
              "  <thead>\n",
              "    <tr style=\"text-align: right;\">\n",
              "      <th></th>\n",
              "      <th>Female</th>\n",
              "      <th>Male</th>\n",
              "    </tr>\n",
              "  </thead>\n",
              "  <tbody>\n",
              "    <tr>\n",
              "      <th>With hepatomegaly</th>\n",
              "      <td>139</td>\n",
              "      <td>21</td>\n",
              "    </tr>\n",
              "    <tr>\n",
              "      <th>Without hepatomegaly</th>\n",
              "      <td>137</td>\n",
              "      <td>15</td>\n",
              "    </tr>\n",
              "  </tbody>\n",
              "</table>\n",
              "</div>"
            ],
            "text/plain": [
              "                      Female  Male\n",
              "With hepatomegaly        139    21\n",
              "Without hepatomegaly     137    15"
            ]
          },
          "metadata": {
            "tags": []
          },
          "execution_count": 101
        }
      ]
    },
    {
      "cell_type": "code",
      "metadata": {
        "colab": {
          "base_uri": "https://localhost:8080/",
          "height": 258
        },
        "id": "E7LIZyVFj4kq",
        "outputId": "8ca0acbf-2467-440e-bb6b-eb28131a6189"
      },
      "source": [
        "# Perform the chi square test and determine the critical value (using 95% probability)\n",
        "\n",
        "chi2stat, pval, dof, expected = chi2_contingency(SexVsHepato)\n",
        "prob = 0.95\n",
        "critval = chi2.ppf(prob, dof)\n",
        "result = pd.DataFrame([chi2stat, critval, pval, dof], \n",
        "                      index=['Chi2 statistics', 'Critical value', 'p-value', 'degrees of freedom'])\n",
        "expectedval = pd.DataFrame(expected, columns=['Female', 'Male'], \n",
        "                           index=['With hepatomegaly', 'Without hepatomegaly'])\n",
        "display(result)\n",
        "display(expectedval)"
      ],
      "execution_count": 102,
      "outputs": [
        {
          "output_type": "display_data",
          "data": {
            "text/html": [
              "<div>\n",
              "<style scoped>\n",
              "    .dataframe tbody tr th:only-of-type {\n",
              "        vertical-align: middle;\n",
              "    }\n",
              "\n",
              "    .dataframe tbody tr th {\n",
              "        vertical-align: top;\n",
              "    }\n",
              "\n",
              "    .dataframe thead th {\n",
              "        text-align: right;\n",
              "    }\n",
              "</style>\n",
              "<table border=\"1\" class=\"dataframe\">\n",
              "  <thead>\n",
              "    <tr style=\"text-align: right;\">\n",
              "      <th></th>\n",
              "      <th>0</th>\n",
              "    </tr>\n",
              "  </thead>\n",
              "  <tbody>\n",
              "    <tr>\n",
              "      <th>Chi2 statistics</th>\n",
              "      <td>0.522268</td>\n",
              "    </tr>\n",
              "    <tr>\n",
              "      <th>Critical value</th>\n",
              "      <td>3.841459</td>\n",
              "    </tr>\n",
              "    <tr>\n",
              "      <th>p-value</th>\n",
              "      <td>0.469876</td>\n",
              "    </tr>\n",
              "    <tr>\n",
              "      <th>degrees of freedom</th>\n",
              "      <td>1.000000</td>\n",
              "    </tr>\n",
              "  </tbody>\n",
              "</table>\n",
              "</div>"
            ],
            "text/plain": [
              "                           0\n",
              "Chi2 statistics     0.522268\n",
              "Critical value      3.841459\n",
              "p-value             0.469876\n",
              "degrees of freedom  1.000000"
            ]
          },
          "metadata": {
            "tags": []
          }
        },
        {
          "output_type": "display_data",
          "data": {
            "text/html": [
              "<div>\n",
              "<style scoped>\n",
              "    .dataframe tbody tr th:only-of-type {\n",
              "        vertical-align: middle;\n",
              "    }\n",
              "\n",
              "    .dataframe tbody tr th {\n",
              "        vertical-align: top;\n",
              "    }\n",
              "\n",
              "    .dataframe thead th {\n",
              "        text-align: right;\n",
              "    }\n",
              "</style>\n",
              "<table border=\"1\" class=\"dataframe\">\n",
              "  <thead>\n",
              "    <tr style=\"text-align: right;\">\n",
              "      <th></th>\n",
              "      <th>Female</th>\n",
              "      <th>Male</th>\n",
              "    </tr>\n",
              "  </thead>\n",
              "  <tbody>\n",
              "    <tr>\n",
              "      <th>With hepatomegaly</th>\n",
              "      <td>141.538462</td>\n",
              "      <td>18.461538</td>\n",
              "    </tr>\n",
              "    <tr>\n",
              "      <th>Without hepatomegaly</th>\n",
              "      <td>134.461538</td>\n",
              "      <td>17.538462</td>\n",
              "    </tr>\n",
              "  </tbody>\n",
              "</table>\n",
              "</div>"
            ],
            "text/plain": [
              "                          Female       Male\n",
              "With hepatomegaly     141.538462  18.461538\n",
              "Without hepatomegaly  134.461538  17.538462"
            ]
          },
          "metadata": {
            "tags": []
          }
        }
      ]
    },
    {
      "cell_type": "markdown",
      "metadata": {
        "id": "bHMis9CLkjsJ"
      },
      "source": [
        "### Result and Interpretation\n",
        "Our result revealed that:\n",
        "<br><br>\n",
        "p-value = 0.47 $>$ $\\alpha = 0.05$\n",
        "<br>\n",
        "$\\chi^2$ stat = 0.522 $<$ Critical Value = 3.84\n",
        "<br><br>\n",
        "We will **not reject** our null hypothesis. There is **no** relationship between sex and presence of hepatomegaly."
      ]
    },
    {
      "cell_type": "markdown",
      "metadata": {
        "id": "cojXqD65kvyf"
      },
      "source": [
        "###(3) Is there a relationship between sex and presence of spider angiomata?\n",
        "$H_0$: There is no relationship between treatment group assignment and presence of spider angiomata.\n",
        "<br>\n",
        "$H_A$: There is a significant relationship between treatment group assignment and presence of spider angiomata.\n",
        "<br>\n",
        "Significance level: $\\alpha = 0.05$\n"
      ]
    },
    {
      "cell_type": "code",
      "metadata": {
        "colab": {
          "base_uri": "https://localhost:8080/",
          "height": 107
        },
        "id": "uwNxAxUBkOuO",
        "outputId": "3d525b4d-0268-4479-a812-86d2bb291400"
      },
      "source": [
        "# Create the contingency table - sex and presence of spider angiomata\n",
        "\n",
        "spiderF = female[female['SpiderAngiomata'] == 'yes']\n",
        "spiderF = spiderF['SpiderAngiomata'].count()\n",
        "nospiderF = female[female['SpiderAngiomata'] == 'no']\n",
        "nospiderF = nospiderF['SpiderAngiomata'].count()\n",
        "\n",
        "spiderM = male[male['SpiderAngiomata'] == 'yes']\n",
        "spiderM = spiderM['SpiderAngiomata'].count()\n",
        "nospiderM = male[male['SpiderAngiomata'] == 'no']\n",
        "nospiderM = nospiderM['SpiderAngiomata'].count()\n",
        "\n",
        "SexVsSpider = pd.DataFrame({'Female': [spiderF, nospiderF],\n",
        "                             'Male': [spiderM, nospiderM]}, \n",
        "                            index=['With spider angiomata', 'Without spider angiomata'])\n",
        "SexVsSpider"
      ],
      "execution_count": 103,
      "outputs": [
        {
          "output_type": "execute_result",
          "data": {
            "text/html": [
              "<div>\n",
              "<style scoped>\n",
              "    .dataframe tbody tr th:only-of-type {\n",
              "        vertical-align: middle;\n",
              "    }\n",
              "\n",
              "    .dataframe tbody tr th {\n",
              "        vertical-align: top;\n",
              "    }\n",
              "\n",
              "    .dataframe thead th {\n",
              "        text-align: right;\n",
              "    }\n",
              "</style>\n",
              "<table border=\"1\" class=\"dataframe\">\n",
              "  <thead>\n",
              "    <tr style=\"text-align: right;\">\n",
              "      <th></th>\n",
              "      <th>Female</th>\n",
              "      <th>Male</th>\n",
              "    </tr>\n",
              "  </thead>\n",
              "  <tbody>\n",
              "    <tr>\n",
              "      <th>With spider angiomata</th>\n",
              "      <td>86</td>\n",
              "      <td>4</td>\n",
              "    </tr>\n",
              "    <tr>\n",
              "      <th>Without spider angiomata</th>\n",
              "      <td>190</td>\n",
              "      <td>32</td>\n",
              "    </tr>\n",
              "  </tbody>\n",
              "</table>\n",
              "</div>"
            ],
            "text/plain": [
              "                          Female  Male\n",
              "With spider angiomata         86     4\n",
              "Without spider angiomata     190    32"
            ]
          },
          "metadata": {
            "tags": []
          },
          "execution_count": 103
        }
      ]
    },
    {
      "cell_type": "code",
      "metadata": {
        "colab": {
          "base_uri": "https://localhost:8080/",
          "height": 258
        },
        "id": "ajFNWufBldz8",
        "outputId": "d3638e70-d1c4-4bb5-b810-81db741f906d"
      },
      "source": [
        "# Perform the chi square test and determine the critical value (using 95% probability)\n",
        "\n",
        "chi2stat, pval, dof, expected = chi2_contingency(SexVsSpider)\n",
        "prob = 0.95\n",
        "critval = chi2.ppf(prob, dof)\n",
        "result = pd.DataFrame([chi2stat, critval, pval, dof], \n",
        "                      index=['Chi2 statistics', 'Critical value', 'p-value', 'degrees of freedom'])\n",
        "expectedval = pd.DataFrame(expected, columns=['Female', 'Male'], \n",
        "                           index=['With spider angiomata', 'Without spider angiomata'])\n",
        "display(result)\n",
        "display(expectedval)"
      ],
      "execution_count": 104,
      "outputs": [
        {
          "output_type": "display_data",
          "data": {
            "text/html": [
              "<div>\n",
              "<style scoped>\n",
              "    .dataframe tbody tr th:only-of-type {\n",
              "        vertical-align: middle;\n",
              "    }\n",
              "\n",
              "    .dataframe tbody tr th {\n",
              "        vertical-align: top;\n",
              "    }\n",
              "\n",
              "    .dataframe thead th {\n",
              "        text-align: right;\n",
              "    }\n",
              "</style>\n",
              "<table border=\"1\" class=\"dataframe\">\n",
              "  <thead>\n",
              "    <tr style=\"text-align: right;\">\n",
              "      <th></th>\n",
              "      <th>0</th>\n",
              "    </tr>\n",
              "  </thead>\n",
              "  <tbody>\n",
              "    <tr>\n",
              "      <th>Chi2 statistics</th>\n",
              "      <td>5.297767</td>\n",
              "    </tr>\n",
              "    <tr>\n",
              "      <th>Critical value</th>\n",
              "      <td>3.841459</td>\n",
              "    </tr>\n",
              "    <tr>\n",
              "      <th>p-value</th>\n",
              "      <td>0.021353</td>\n",
              "    </tr>\n",
              "    <tr>\n",
              "      <th>degrees of freedom</th>\n",
              "      <td>1.000000</td>\n",
              "    </tr>\n",
              "  </tbody>\n",
              "</table>\n",
              "</div>"
            ],
            "text/plain": [
              "                           0\n",
              "Chi2 statistics     5.297767\n",
              "Critical value      3.841459\n",
              "p-value             0.021353\n",
              "degrees of freedom  1.000000"
            ]
          },
          "metadata": {
            "tags": []
          }
        },
        {
          "output_type": "display_data",
          "data": {
            "text/html": [
              "<div>\n",
              "<style scoped>\n",
              "    .dataframe tbody tr th:only-of-type {\n",
              "        vertical-align: middle;\n",
              "    }\n",
              "\n",
              "    .dataframe tbody tr th {\n",
              "        vertical-align: top;\n",
              "    }\n",
              "\n",
              "    .dataframe thead th {\n",
              "        text-align: right;\n",
              "    }\n",
              "</style>\n",
              "<table border=\"1\" class=\"dataframe\">\n",
              "  <thead>\n",
              "    <tr style=\"text-align: right;\">\n",
              "      <th></th>\n",
              "      <th>Female</th>\n",
              "      <th>Male</th>\n",
              "    </tr>\n",
              "  </thead>\n",
              "  <tbody>\n",
              "    <tr>\n",
              "      <th>With spider angiomata</th>\n",
              "      <td>79.615385</td>\n",
              "      <td>10.384615</td>\n",
              "    </tr>\n",
              "    <tr>\n",
              "      <th>Without spider angiomata</th>\n",
              "      <td>196.384615</td>\n",
              "      <td>25.615385</td>\n",
              "    </tr>\n",
              "  </tbody>\n",
              "</table>\n",
              "</div>"
            ],
            "text/plain": [
              "                              Female       Male\n",
              "With spider angiomata      79.615385  10.384615\n",
              "Without spider angiomata  196.384615  25.615385"
            ]
          },
          "metadata": {
            "tags": []
          }
        }
      ]
    },
    {
      "cell_type": "markdown",
      "metadata": {
        "id": "C7fFSpJbl60I"
      },
      "source": [
        "### Result and Interpretation\n",
        "Our result revealed that:\n",
        "<br><br>\n",
        "p-value = 0.02 $<$ $\\alpha = 0.05$\n",
        "<br>\n",
        "$\\chi^2$ stat = 5.298 $>$ Critical Value = 3.84\n",
        "<br><br>\n",
        "We will **reject** our null hypothesis. There is a significant relationship between sex and presence of spider angiomata."
      ]
    },
    {
      "cell_type": "markdown",
      "metadata": {
        "id": "MfZjxHbxmQHX"
      },
      "source": [
        "###(4) Is there a relationship between sex and presence of edema?\n",
        "$H_0$: There is no relationship between treatment group assignment and presence of edema.\n",
        "<br>\n",
        "$H_A$: There is a significant relationship between treatment group assignment and presence of edema.\n",
        "<br>\n",
        "Significance level: $\\alpha = 0.05$\n"
      ]
    },
    {
      "cell_type": "code",
      "metadata": {
        "colab": {
          "base_uri": "https://localhost:8080/",
          "height": 137
        },
        "id": "zSRPUFs5l2z0",
        "outputId": "903047d1-43e4-4d39-8a14-279f6ecbd620"
      },
      "source": [
        "# Create the contingency table - sex and presence of edema\n",
        "\n",
        "edemaF = female[female['Edema'] == 'present']\n",
        "edemaF = edemaF['Edema'].count()\n",
        "diureseF = female[female['Edema'] == 'diurese']\n",
        "diureseF = diureseF['Edema'].count()\n",
        "absentF = female[female['Edema'] == 'absent']\n",
        "absentF = absentF['Edema'].count()\n",
        "\n",
        "edemaM = male[male['Edema'] == 'present']\n",
        "edemaM = edemaM['Edema'].count()\n",
        "diureseM = male[male['Edema'] == 'diurese']\n",
        "diureseM = diureseM['Edema'].count()\n",
        "absentM = male[male['Edema'] == 'absent']\n",
        "absentM = absentM['Edema'].count()\n",
        "\n",
        "SexVsEdema = pd.DataFrame({'Female': [edemaF, diureseF, absentF],\n",
        "                             'Male': [edemaM, diureseM, absentM]}, \n",
        "                            index=['With edema', 'Diuresed edema', 'Absent edema'])\n",
        "SexVsEdema"
      ],
      "execution_count": 105,
      "outputs": [
        {
          "output_type": "execute_result",
          "data": {
            "text/html": [
              "<div>\n",
              "<style scoped>\n",
              "    .dataframe tbody tr th:only-of-type {\n",
              "        vertical-align: middle;\n",
              "    }\n",
              "\n",
              "    .dataframe tbody tr th {\n",
              "        vertical-align: top;\n",
              "    }\n",
              "\n",
              "    .dataframe thead th {\n",
              "        text-align: right;\n",
              "    }\n",
              "</style>\n",
              "<table border=\"1\" class=\"dataframe\">\n",
              "  <thead>\n",
              "    <tr style=\"text-align: right;\">\n",
              "      <th></th>\n",
              "      <th>Female</th>\n",
              "      <th>Male</th>\n",
              "    </tr>\n",
              "  </thead>\n",
              "  <tbody>\n",
              "    <tr>\n",
              "      <th>With edema</th>\n",
              "      <td>17</td>\n",
              "      <td>3</td>\n",
              "    </tr>\n",
              "    <tr>\n",
              "      <th>Diuresed edema</th>\n",
              "      <td>25</td>\n",
              "      <td>4</td>\n",
              "    </tr>\n",
              "    <tr>\n",
              "      <th>Absent edema</th>\n",
              "      <td>234</td>\n",
              "      <td>29</td>\n",
              "    </tr>\n",
              "  </tbody>\n",
              "</table>\n",
              "</div>"
            ],
            "text/plain": [
              "                Female  Male\n",
              "With edema          17     3\n",
              "Diuresed edema      25     4\n",
              "Absent edema       234    29"
            ]
          },
          "metadata": {
            "tags": []
          },
          "execution_count": 105
        }
      ]
    },
    {
      "cell_type": "code",
      "metadata": {
        "colab": {
          "base_uri": "https://localhost:8080/",
          "height": 288
        },
        "id": "PPO3ZFRenhc8",
        "outputId": "61a8fbe1-4487-44b1-8b4b-c315254ef77a"
      },
      "source": [
        "# Perform the chi square test and determine the critical value (using 95% probability)\n",
        "\n",
        "chi2stat, pval, dof, expected = chi2_contingency(SexVsEdema)\n",
        "prob = 0.95\n",
        "critval = chi2.ppf(prob, dof)\n",
        "result = pd.DataFrame([chi2stat, critval, pval, dof], \n",
        "                      index=['Chi2 statistics', 'Critical value', 'p-value', 'degrees of freedom'])\n",
        "expectedval = pd.DataFrame(expected, columns=['Female', 'Male'], \n",
        "                           index=['With edema', 'Diuresed edema', 'Absent edema'])\n",
        "display(result)\n",
        "display(expectedval)"
      ],
      "execution_count": 106,
      "outputs": [
        {
          "output_type": "display_data",
          "data": {
            "text/html": [
              "<div>\n",
              "<style scoped>\n",
              "    .dataframe tbody tr th:only-of-type {\n",
              "        vertical-align: middle;\n",
              "    }\n",
              "\n",
              "    .dataframe tbody tr th {\n",
              "        vertical-align: top;\n",
              "    }\n",
              "\n",
              "    .dataframe thead th {\n",
              "        text-align: right;\n",
              "    }\n",
              "</style>\n",
              "<table border=\"1\" class=\"dataframe\">\n",
              "  <thead>\n",
              "    <tr style=\"text-align: right;\">\n",
              "      <th></th>\n",
              "      <th>0</th>\n",
              "    </tr>\n",
              "  </thead>\n",
              "  <tbody>\n",
              "    <tr>\n",
              "      <th>Chi2 statistics</th>\n",
              "      <td>0.446715</td>\n",
              "    </tr>\n",
              "    <tr>\n",
              "      <th>Critical value</th>\n",
              "      <td>5.991465</td>\n",
              "    </tr>\n",
              "    <tr>\n",
              "      <th>p-value</th>\n",
              "      <td>0.799829</td>\n",
              "    </tr>\n",
              "    <tr>\n",
              "      <th>degrees of freedom</th>\n",
              "      <td>2.000000</td>\n",
              "    </tr>\n",
              "  </tbody>\n",
              "</table>\n",
              "</div>"
            ],
            "text/plain": [
              "                           0\n",
              "Chi2 statistics     0.446715\n",
              "Critical value      5.991465\n",
              "p-value             0.799829\n",
              "degrees of freedom  2.000000"
            ]
          },
          "metadata": {
            "tags": []
          }
        },
        {
          "output_type": "display_data",
          "data": {
            "text/html": [
              "<div>\n",
              "<style scoped>\n",
              "    .dataframe tbody tr th:only-of-type {\n",
              "        vertical-align: middle;\n",
              "    }\n",
              "\n",
              "    .dataframe tbody tr th {\n",
              "        vertical-align: top;\n",
              "    }\n",
              "\n",
              "    .dataframe thead th {\n",
              "        text-align: right;\n",
              "    }\n",
              "</style>\n",
              "<table border=\"1\" class=\"dataframe\">\n",
              "  <thead>\n",
              "    <tr style=\"text-align: right;\">\n",
              "      <th></th>\n",
              "      <th>Female</th>\n",
              "      <th>Male</th>\n",
              "    </tr>\n",
              "  </thead>\n",
              "  <tbody>\n",
              "    <tr>\n",
              "      <th>With edema</th>\n",
              "      <td>17.692308</td>\n",
              "      <td>2.307692</td>\n",
              "    </tr>\n",
              "    <tr>\n",
              "      <th>Diuresed edema</th>\n",
              "      <td>25.653846</td>\n",
              "      <td>3.346154</td>\n",
              "    </tr>\n",
              "    <tr>\n",
              "      <th>Absent edema</th>\n",
              "      <td>232.653846</td>\n",
              "      <td>30.346154</td>\n",
              "    </tr>\n",
              "  </tbody>\n",
              "</table>\n",
              "</div>"
            ],
            "text/plain": [
              "                    Female       Male\n",
              "With edema       17.692308   2.307692\n",
              "Diuresed edema   25.653846   3.346154\n",
              "Absent edema    232.653846  30.346154"
            ]
          },
          "metadata": {
            "tags": []
          }
        }
      ]
    },
    {
      "cell_type": "markdown",
      "metadata": {
        "id": "YG4-1o5On1PB"
      },
      "source": [
        "### Result and Interpretation\n",
        "Our result revealed that:\n",
        "<br><br>\n",
        "p-value = 0.7998 $>$ $\\alpha = 0.05$\n",
        "<br>\n",
        "$\\chi^2$ stat = 0.4467 $<$ Critical Value = 5.99\n",
        "<br><br>\n",
        "We will **not reject** our null hypothesis. There is **no** relationship between sex and presence of spider angiomata."
      ]
    },
    {
      "cell_type": "markdown",
      "metadata": {
        "id": "C_VYZxYuxqlj"
      },
      "source": [
        "###(5) Is there a relationship between sex and histological stage?\n",
        "$H_0$: There is no relationship between treatment group assignment and histological stage.\n",
        "<br>\n",
        "$H_A$: There is a significant relationship between treatment group assignment and histological stage.\n",
        "<br>\n",
        "Significance level: $\\alpha = 0.05$\n"
      ]
    },
    {
      "cell_type": "code",
      "metadata": {
        "colab": {
          "base_uri": "https://localhost:8080/",
          "height": 167
        },
        "id": "WQ0183Bjnx_h",
        "outputId": "7bed69d8-35a7-465e-990a-e4791ca41d9a"
      },
      "source": [
        "# Create the contingency table - sex and histological stage\n",
        "\n",
        "Stage1F = female[female['HistologyStage'] == 'Stage1']\n",
        "Stage1F = Stage1F['HistologyStage'].count()\n",
        "Stage2F = female[female['HistologyStage'] == 'Stage2']\n",
        "Stage2F = Stage2F['HistologyStage'].count()\n",
        "Stage3F = female[female['HistologyStage'] == 'Stage3']\n",
        "Stage3F = Stage3F['HistologyStage'].count()\n",
        "Stage4F = female[female['HistologyStage'] == 'Stage4']\n",
        "Stage4F = Stage4F['HistologyStage'].count()\n",
        "\n",
        "Stage1M = male[male['HistologyStage'] == 'Stage1']\n",
        "Stage1M = Stage1M['HistologyStage'].count()\n",
        "Stage2M = male[male['HistologyStage'] == 'Stage2']\n",
        "Stage2M = Stage2M['HistologyStage'].count()\n",
        "Stage3M = male[male['HistologyStage'] == 'Stage3']\n",
        "Stage3M = Stage3M['HistologyStage'].count()\n",
        "Stage4M = male[male['HistologyStage'] == 'Stage14']\n",
        "Stage4M = Stage4M['HistologyStage'].count()\n",
        "\n",
        "SexVsHisto = pd.DataFrame({'Female': [Stage1F, Stage2F, Stage3F, Stage4F],\n",
        "                             'Male': [Stage1M, Stage2M, Stage3M, Stage4M]}, \n",
        "                            index=['Stage 1', 'Stage 2', 'Stage 3', 'Stage 4'])\n",
        "SexVsHisto"
      ],
      "execution_count": 107,
      "outputs": [
        {
          "output_type": "execute_result",
          "data": {
            "text/html": [
              "<div>\n",
              "<style scoped>\n",
              "    .dataframe tbody tr th:only-of-type {\n",
              "        vertical-align: middle;\n",
              "    }\n",
              "\n",
              "    .dataframe tbody tr th {\n",
              "        vertical-align: top;\n",
              "    }\n",
              "\n",
              "    .dataframe thead th {\n",
              "        text-align: right;\n",
              "    }\n",
              "</style>\n",
              "<table border=\"1\" class=\"dataframe\">\n",
              "  <thead>\n",
              "    <tr style=\"text-align: right;\">\n",
              "      <th></th>\n",
              "      <th>Female</th>\n",
              "      <th>Male</th>\n",
              "    </tr>\n",
              "  </thead>\n",
              "  <tbody>\n",
              "    <tr>\n",
              "      <th>Stage 1</th>\n",
              "      <td>13</td>\n",
              "      <td>3</td>\n",
              "    </tr>\n",
              "    <tr>\n",
              "      <th>Stage 2</th>\n",
              "      <td>61</td>\n",
              "      <td>6</td>\n",
              "    </tr>\n",
              "    <tr>\n",
              "      <th>Stage 3</th>\n",
              "      <td>108</td>\n",
              "      <td>12</td>\n",
              "    </tr>\n",
              "    <tr>\n",
              "      <th>Stage 4</th>\n",
              "      <td>94</td>\n",
              "      <td>0</td>\n",
              "    </tr>\n",
              "  </tbody>\n",
              "</table>\n",
              "</div>"
            ],
            "text/plain": [
              "         Female  Male\n",
              "Stage 1      13     3\n",
              "Stage 2      61     6\n",
              "Stage 3     108    12\n",
              "Stage 4      94     0"
            ]
          },
          "metadata": {
            "tags": []
          },
          "execution_count": 107
        }
      ]
    },
    {
      "cell_type": "code",
      "metadata": {
        "colab": {
          "base_uri": "https://localhost:8080/",
          "height": 318
        },
        "id": "tLtF6GRdzDEU",
        "outputId": "87778420-5155-4a1d-b077-0957454db3a8"
      },
      "source": [
        "# Perform the chi square test and determine the critical value (using 95% probability)\n",
        "\n",
        "chi2stat, pval, dof, expected = chi2_contingency(SexVsHisto)\n",
        "prob = 0.95\n",
        "critval = chi2.ppf(prob, dof)\n",
        "result = pd.DataFrame([chi2stat, critval, pval, dof], \n",
        "                      index=['Chi2 statistics', 'Critical value', 'p-value', 'degrees of freedom'])\n",
        "expectedval = pd.DataFrame(expected, columns=['Female', 'Male'], \n",
        "                           index=['Stage 1', 'Stage 2', 'Stage 3', 'Stage 4'])\n",
        "display(result)\n",
        "display(expectedval)"
      ],
      "execution_count": 108,
      "outputs": [
        {
          "output_type": "display_data",
          "data": {
            "text/html": [
              "<div>\n",
              "<style scoped>\n",
              "    .dataframe tbody tr th:only-of-type {\n",
              "        vertical-align: middle;\n",
              "    }\n",
              "\n",
              "    .dataframe tbody tr th {\n",
              "        vertical-align: top;\n",
              "    }\n",
              "\n",
              "    .dataframe thead th {\n",
              "        text-align: right;\n",
              "    }\n",
              "</style>\n",
              "<table border=\"1\" class=\"dataframe\">\n",
              "  <thead>\n",
              "    <tr style=\"text-align: right;\">\n",
              "      <th></th>\n",
              "      <th>0</th>\n",
              "    </tr>\n",
              "  </thead>\n",
              "  <tbody>\n",
              "    <tr>\n",
              "      <th>Chi2 statistics</th>\n",
              "      <td>12.402906</td>\n",
              "    </tr>\n",
              "    <tr>\n",
              "      <th>Critical value</th>\n",
              "      <td>7.814728</td>\n",
              "    </tr>\n",
              "    <tr>\n",
              "      <th>p-value</th>\n",
              "      <td>0.006123</td>\n",
              "    </tr>\n",
              "    <tr>\n",
              "      <th>degrees of freedom</th>\n",
              "      <td>3.000000</td>\n",
              "    </tr>\n",
              "  </tbody>\n",
              "</table>\n",
              "</div>"
            ],
            "text/plain": [
              "                            0\n",
              "Chi2 statistics     12.402906\n",
              "Critical value       7.814728\n",
              "p-value              0.006123\n",
              "degrees of freedom   3.000000"
            ]
          },
          "metadata": {
            "tags": []
          }
        },
        {
          "output_type": "display_data",
          "data": {
            "text/html": [
              "<div>\n",
              "<style scoped>\n",
              "    .dataframe tbody tr th:only-of-type {\n",
              "        vertical-align: middle;\n",
              "    }\n",
              "\n",
              "    .dataframe tbody tr th {\n",
              "        vertical-align: top;\n",
              "    }\n",
              "\n",
              "    .dataframe thead th {\n",
              "        text-align: right;\n",
              "    }\n",
              "</style>\n",
              "<table border=\"1\" class=\"dataframe\">\n",
              "  <thead>\n",
              "    <tr style=\"text-align: right;\">\n",
              "      <th></th>\n",
              "      <th>Female</th>\n",
              "      <th>Male</th>\n",
              "    </tr>\n",
              "  </thead>\n",
              "  <tbody>\n",
              "    <tr>\n",
              "      <th>Stage 1</th>\n",
              "      <td>14.868687</td>\n",
              "      <td>1.131313</td>\n",
              "    </tr>\n",
              "    <tr>\n",
              "      <th>Stage 2</th>\n",
              "      <td>62.262626</td>\n",
              "      <td>4.737374</td>\n",
              "    </tr>\n",
              "    <tr>\n",
              "      <th>Stage 3</th>\n",
              "      <td>111.515152</td>\n",
              "      <td>8.484848</td>\n",
              "    </tr>\n",
              "    <tr>\n",
              "      <th>Stage 4</th>\n",
              "      <td>87.353535</td>\n",
              "      <td>6.646465</td>\n",
              "    </tr>\n",
              "  </tbody>\n",
              "</table>\n",
              "</div>"
            ],
            "text/plain": [
              "             Female      Male\n",
              "Stage 1   14.868687  1.131313\n",
              "Stage 2   62.262626  4.737374\n",
              "Stage 3  111.515152  8.484848\n",
              "Stage 4   87.353535  6.646465"
            ]
          },
          "metadata": {
            "tags": []
          }
        }
      ]
    },
    {
      "cell_type": "markdown",
      "metadata": {
        "id": "twCRy3ElzqBf"
      },
      "source": [
        "### Result and Interpretation\n",
        "Our result revealed that:\n",
        "<br><br>\n",
        "p-value = 0.006 $<$ $\\alpha = 0.05$\n",
        "<br>\n",
        "$\\chi^2$ stat = 12.4 $>$ Critical Value = 7.8\n",
        "<br><br>\n",
        "We will **reject** our null hypothesis. There is a significant relationship between sex and histological stage of the disease."
      ]
    },
    {
      "cell_type": "markdown",
      "metadata": {
        "id": "6EnhvDbRz96H"
      },
      "source": [
        "##D. Ascites"
      ]
    },
    {
      "cell_type": "markdown",
      "metadata": {
        "id": "P_zpMRun0Pew"
      },
      "source": [
        "###(1) Is there a relationship between presence of ascites and presence of hepatomegaly?\n",
        "$H_0$: There is no relationship between presence of ascites and presence of hepatomegaly.\n",
        "<br>\n",
        "$H_A$: There is a significant relationship between presence of ascites and presence of hepatomegaly.\n",
        "<br>\n",
        "Significance level: $\\alpha = 0.05$\n"
      ]
    },
    {
      "cell_type": "code",
      "metadata": {
        "colab": {
          "base_uri": "https://localhost:8080/",
          "height": 107
        },
        "id": "1r-PVpYyzbsF",
        "outputId": "a5076caa-f34c-4068-81e4-a72ab023eea0"
      },
      "source": [
        "# Create the contingency table - presence of ascites and presence of hepatomegaly\n",
        "\n",
        "asciteshepato = yesascites[yesascites['Hepatomegaly'] == 'yes']\n",
        "asciteshepato = asciteshepato['Hepatomegaly'].count()\n",
        "ascitesnohepato = yesascites[yesascites['Hepatomegaly'] == 'no']\n",
        "ascitesnohepato = ascitesnohepato['Hepatomegaly'].count()\n",
        "\n",
        "noasciteshepato = noascites[noascites['Hepatomegaly'] == 'yes']\n",
        "noasciteshepato = noasciteshepato['Hepatomegaly'].count()\n",
        "noascitesnohepato = noascites[noascites['Hepatomegaly'] == 'no']\n",
        "noascitesnohepato = noascitesnohepato['Hepatomegaly'].count()\n",
        "\n",
        "AscitesVsHepato = pd.DataFrame({'With ascites': [asciteshepato, ascitesnohepato],\n",
        "                             'Without ascites': [noasciteshepato, noascitesnohepato]}, \n",
        "                            index=['With hepatomegaly', 'Without hepatomegaly'])\n",
        "AscitesVsHepato"
      ],
      "execution_count": 109,
      "outputs": [
        {
          "output_type": "execute_result",
          "data": {
            "text/html": [
              "<div>\n",
              "<style scoped>\n",
              "    .dataframe tbody tr th:only-of-type {\n",
              "        vertical-align: middle;\n",
              "    }\n",
              "\n",
              "    .dataframe tbody tr th {\n",
              "        vertical-align: top;\n",
              "    }\n",
              "\n",
              "    .dataframe thead th {\n",
              "        text-align: right;\n",
              "    }\n",
              "</style>\n",
              "<table border=\"1\" class=\"dataframe\">\n",
              "  <thead>\n",
              "    <tr style=\"text-align: right;\">\n",
              "      <th></th>\n",
              "      <th>With ascites</th>\n",
              "      <th>Without ascites</th>\n",
              "    </tr>\n",
              "  </thead>\n",
              "  <tbody>\n",
              "    <tr>\n",
              "      <th>With hepatomegaly</th>\n",
              "      <td>19</td>\n",
              "      <td>141</td>\n",
              "    </tr>\n",
              "    <tr>\n",
              "      <th>Without hepatomegaly</th>\n",
              "      <td>5</td>\n",
              "      <td>147</td>\n",
              "    </tr>\n",
              "  </tbody>\n",
              "</table>\n",
              "</div>"
            ],
            "text/plain": [
              "                      With ascites  Without ascites\n",
              "With hepatomegaly               19              141\n",
              "Without hepatomegaly             5              147"
            ]
          },
          "metadata": {
            "tags": []
          },
          "execution_count": 109
        }
      ]
    },
    {
      "cell_type": "code",
      "metadata": {
        "colab": {
          "base_uri": "https://localhost:8080/",
          "height": 258
        },
        "id": "1KZTYO6a2XhO",
        "outputId": "47f6b66e-8e4a-496c-facb-1d5868b1b4e4"
      },
      "source": [
        "# Perform the chi square test and determine the critical value (using 95% probability)\n",
        "\n",
        "chi2stat, pval, dof, expected = chi2_contingency(AscitesVsHepato)\n",
        "prob = 0.95\n",
        "critval = chi2.ppf(prob, dof)\n",
        "result = pd.DataFrame([chi2stat, critval, pval, dof], \n",
        "                      index=['Chi2 statistics', 'Critical value', 'p-value', 'degrees of freedom'])\n",
        "expectedval = pd.DataFrame(expected, columns=['With ascites', 'Without ascites'], \n",
        "                           index=['With hepatomegaly', 'Without hepatomegaly'])\n",
        "display(result)\n",
        "display(expectedval)"
      ],
      "execution_count": 110,
      "outputs": [
        {
          "output_type": "display_data",
          "data": {
            "text/html": [
              "<div>\n",
              "<style scoped>\n",
              "    .dataframe tbody tr th:only-of-type {\n",
              "        vertical-align: middle;\n",
              "    }\n",
              "\n",
              "    .dataframe tbody tr th {\n",
              "        vertical-align: top;\n",
              "    }\n",
              "\n",
              "    .dataframe thead th {\n",
              "        text-align: right;\n",
              "    }\n",
              "</style>\n",
              "<table border=\"1\" class=\"dataframe\">\n",
              "  <thead>\n",
              "    <tr style=\"text-align: right;\">\n",
              "      <th></th>\n",
              "      <th>0</th>\n",
              "    </tr>\n",
              "  </thead>\n",
              "  <tbody>\n",
              "    <tr>\n",
              "      <th>Chi2 statistics</th>\n",
              "      <td>6.927899</td>\n",
              "    </tr>\n",
              "    <tr>\n",
              "      <th>Critical value</th>\n",
              "      <td>3.841459</td>\n",
              "    </tr>\n",
              "    <tr>\n",
              "      <th>p-value</th>\n",
              "      <td>0.008486</td>\n",
              "    </tr>\n",
              "    <tr>\n",
              "      <th>degrees of freedom</th>\n",
              "      <td>1.000000</td>\n",
              "    </tr>\n",
              "  </tbody>\n",
              "</table>\n",
              "</div>"
            ],
            "text/plain": [
              "                           0\n",
              "Chi2 statistics     6.927899\n",
              "Critical value      3.841459\n",
              "p-value             0.008486\n",
              "degrees of freedom  1.000000"
            ]
          },
          "metadata": {
            "tags": []
          }
        },
        {
          "output_type": "display_data",
          "data": {
            "text/html": [
              "<div>\n",
              "<style scoped>\n",
              "    .dataframe tbody tr th:only-of-type {\n",
              "        vertical-align: middle;\n",
              "    }\n",
              "\n",
              "    .dataframe tbody tr th {\n",
              "        vertical-align: top;\n",
              "    }\n",
              "\n",
              "    .dataframe thead th {\n",
              "        text-align: right;\n",
              "    }\n",
              "</style>\n",
              "<table border=\"1\" class=\"dataframe\">\n",
              "  <thead>\n",
              "    <tr style=\"text-align: right;\">\n",
              "      <th></th>\n",
              "      <th>With ascites</th>\n",
              "      <th>Without ascites</th>\n",
              "    </tr>\n",
              "  </thead>\n",
              "  <tbody>\n",
              "    <tr>\n",
              "      <th>With hepatomegaly</th>\n",
              "      <td>12.307692</td>\n",
              "      <td>147.692308</td>\n",
              "    </tr>\n",
              "    <tr>\n",
              "      <th>Without hepatomegaly</th>\n",
              "      <td>11.692308</td>\n",
              "      <td>140.307692</td>\n",
              "    </tr>\n",
              "  </tbody>\n",
              "</table>\n",
              "</div>"
            ],
            "text/plain": [
              "                      With ascites  Without ascites\n",
              "With hepatomegaly        12.307692       147.692308\n",
              "Without hepatomegaly     11.692308       140.307692"
            ]
          },
          "metadata": {
            "tags": []
          }
        }
      ]
    },
    {
      "cell_type": "markdown",
      "metadata": {
        "id": "IkhiGrku7xIR"
      },
      "source": [
        "### Result and Interpretation\n",
        "Our result revealed that:\n",
        "<br><br>\n",
        "p-value = 0.008 $<$ $\\alpha = 0.05$\n",
        "<br>\n",
        "$\\chi^2$ stat = 6.93 $>$ Critical Value = 3.84\n",
        "<br><br>\n",
        "We will **reject** our null hypothesis. There is a significant relationship between ascites and hepatomegaly."
      ]
    },
    {
      "cell_type": "markdown",
      "metadata": {
        "id": "HT31XkOT8J2q"
      },
      "source": [
        "###(2) Is there a relationship between presence of ascites and presence of spider angiomata?\n",
        "$H_0$: There is no relationship between presence of ascites and presence of spider angiomata.\n",
        "<br>\n",
        "$H_A$: There is a significant relationship between presence of ascites and presence of spider angiomata.\n",
        "<br>\n",
        "Significance level: $\\alpha = 0.05$\n"
      ]
    },
    {
      "cell_type": "code",
      "metadata": {
        "colab": {
          "base_uri": "https://localhost:8080/",
          "height": 107
        },
        "id": "DJ8FzBts7tBy",
        "outputId": "bb5e2d84-72e5-40cc-e3a2-aa58bee9d432"
      },
      "source": [
        "# Create the contingency table - presence of ascites and presence of spider angiomata\n",
        "\n",
        "ascitesspider = yesascites[yesascites['SpiderAngiomata'] == 'yes']\n",
        "ascitesspider = ascitesspider['SpiderAngiomata'].count()\n",
        "ascitesnospider = yesascites[yesascites['SpiderAngiomata'] == 'no']\n",
        "ascitesnospider = ascitesnospider['SpiderAngiomata'].count()\n",
        "\n",
        "noascitesspider = noascites[noascites['SpiderAngiomata'] == 'yes']\n",
        "noascitesspider = noascitesspider['SpiderAngiomata'].count()\n",
        "noascitesnospider = noascites[noascites['SpiderAngiomata'] == 'no']\n",
        "noascitesnospider = noascitesnospider['SpiderAngiomata'].count()\n",
        "\n",
        "AscitesVsSpider = pd.DataFrame({'With ascites': [ascitesspider, ascitesnospider],\n",
        "                             'Without ascites': [noascitesspider, noascitesnospider]}, \n",
        "                            index=['With spider angiomata', 'Without spider angiomata'])\n",
        "AscitesVsSpider"
      ],
      "execution_count": 111,
      "outputs": [
        {
          "output_type": "execute_result",
          "data": {
            "text/html": [
              "<div>\n",
              "<style scoped>\n",
              "    .dataframe tbody tr th:only-of-type {\n",
              "        vertical-align: middle;\n",
              "    }\n",
              "\n",
              "    .dataframe tbody tr th {\n",
              "        vertical-align: top;\n",
              "    }\n",
              "\n",
              "    .dataframe thead th {\n",
              "        text-align: right;\n",
              "    }\n",
              "</style>\n",
              "<table border=\"1\" class=\"dataframe\">\n",
              "  <thead>\n",
              "    <tr style=\"text-align: right;\">\n",
              "      <th></th>\n",
              "      <th>With ascites</th>\n",
              "      <th>Without ascites</th>\n",
              "    </tr>\n",
              "  </thead>\n",
              "  <tbody>\n",
              "    <tr>\n",
              "      <th>With spider angiomata</th>\n",
              "      <td>13</td>\n",
              "      <td>77</td>\n",
              "    </tr>\n",
              "    <tr>\n",
              "      <th>Without spider angiomata</th>\n",
              "      <td>11</td>\n",
              "      <td>211</td>\n",
              "    </tr>\n",
              "  </tbody>\n",
              "</table>\n",
              "</div>"
            ],
            "text/plain": [
              "                          With ascites  Without ascites\n",
              "With spider angiomata               13               77\n",
              "Without spider angiomata            11              211"
            ]
          },
          "metadata": {
            "tags": []
          },
          "execution_count": 111
        }
      ]
    },
    {
      "cell_type": "code",
      "metadata": {
        "colab": {
          "base_uri": "https://localhost:8080/",
          "height": 258
        },
        "id": "_KDM4iSh9NtK",
        "outputId": "62324e86-1c10-4def-86f3-fe3e54bbe921"
      },
      "source": [
        "# Perform the chi square test and determine the critical value (using 95% probability)\n",
        "\n",
        "chi2stat, pval, dof, expected = chi2_contingency(AscitesVsSpider)\n",
        "prob = 0.95\n",
        "critval = chi2.ppf(prob, dof)\n",
        "result = pd.DataFrame([chi2stat, critval, pval, dof], \n",
        "                      index=['Chi2 statistics', 'Critical value', 'p-value', 'degrees of freedom'])\n",
        "expectedval = pd.DataFrame(expected, columns=['With ascites', 'Without ascites'], \n",
        "                           index=['With spider angiomata', 'Without spider angiomata'])\n",
        "display(result)\n",
        "display(expectedval)"
      ],
      "execution_count": 112,
      "outputs": [
        {
          "output_type": "display_data",
          "data": {
            "text/html": [
              "<div>\n",
              "<style scoped>\n",
              "    .dataframe tbody tr th:only-of-type {\n",
              "        vertical-align: middle;\n",
              "    }\n",
              "\n",
              "    .dataframe tbody tr th {\n",
              "        vertical-align: top;\n",
              "    }\n",
              "\n",
              "    .dataframe thead th {\n",
              "        text-align: right;\n",
              "    }\n",
              "</style>\n",
              "<table border=\"1\" class=\"dataframe\">\n",
              "  <thead>\n",
              "    <tr style=\"text-align: right;\">\n",
              "      <th></th>\n",
              "      <th>0</th>\n",
              "    </tr>\n",
              "  </thead>\n",
              "  <tbody>\n",
              "    <tr>\n",
              "      <th>Chi2 statistics</th>\n",
              "      <td>6.839965</td>\n",
              "    </tr>\n",
              "    <tr>\n",
              "      <th>Critical value</th>\n",
              "      <td>3.841459</td>\n",
              "    </tr>\n",
              "    <tr>\n",
              "      <th>p-value</th>\n",
              "      <td>0.008914</td>\n",
              "    </tr>\n",
              "    <tr>\n",
              "      <th>degrees of freedom</th>\n",
              "      <td>1.000000</td>\n",
              "    </tr>\n",
              "  </tbody>\n",
              "</table>\n",
              "</div>"
            ],
            "text/plain": [
              "                           0\n",
              "Chi2 statistics     6.839965\n",
              "Critical value      3.841459\n",
              "p-value             0.008914\n",
              "degrees of freedom  1.000000"
            ]
          },
          "metadata": {
            "tags": []
          }
        },
        {
          "output_type": "display_data",
          "data": {
            "text/html": [
              "<div>\n",
              "<style scoped>\n",
              "    .dataframe tbody tr th:only-of-type {\n",
              "        vertical-align: middle;\n",
              "    }\n",
              "\n",
              "    .dataframe tbody tr th {\n",
              "        vertical-align: top;\n",
              "    }\n",
              "\n",
              "    .dataframe thead th {\n",
              "        text-align: right;\n",
              "    }\n",
              "</style>\n",
              "<table border=\"1\" class=\"dataframe\">\n",
              "  <thead>\n",
              "    <tr style=\"text-align: right;\">\n",
              "      <th></th>\n",
              "      <th>With ascites</th>\n",
              "      <th>Without ascites</th>\n",
              "    </tr>\n",
              "  </thead>\n",
              "  <tbody>\n",
              "    <tr>\n",
              "      <th>With spider angiomata</th>\n",
              "      <td>6.923077</td>\n",
              "      <td>83.076923</td>\n",
              "    </tr>\n",
              "    <tr>\n",
              "      <th>Without spider angiomata</th>\n",
              "      <td>17.076923</td>\n",
              "      <td>204.923077</td>\n",
              "    </tr>\n",
              "  </tbody>\n",
              "</table>\n",
              "</div>"
            ],
            "text/plain": [
              "                          With ascites  Without ascites\n",
              "With spider angiomata         6.923077        83.076923\n",
              "Without spider angiomata     17.076923       204.923077"
            ]
          },
          "metadata": {
            "tags": []
          }
        }
      ]
    },
    {
      "cell_type": "markdown",
      "metadata": {
        "id": "BUHm5S6X9ohG"
      },
      "source": [
        "### Result and Interpretation\n",
        "Our result revealed that:\n",
        "<br><br>\n",
        "p-value = 0.0089 $<$ $\\alpha = 0.05$\n",
        "<br>\n",
        "$\\chi^2$ stat = 6.84 $>$ Critical Value = 3.84\n",
        "<br><br>\n",
        "We will **reject** our null hypothesis. There is a significant relationship between ascites and spider angiomata."
      ]
    },
    {
      "cell_type": "markdown",
      "metadata": {
        "id": "EUauVuIu-qNU"
      },
      "source": [
        "###(3) Is there a relationship between presence of ascites and presence of edema?\n",
        "$H_0$: There is no relationship between presence of ascites and presence of edema.\n",
        "<br>\n",
        "$H_A$: There is a significant relationship between presence of ascites and presence of edema.\n",
        "<br>\n",
        "Significance level: $\\alpha = 0.05$\n"
      ]
    },
    {
      "cell_type": "code",
      "metadata": {
        "colab": {
          "base_uri": "https://localhost:8080/",
          "height": 137
        },
        "id": "z6Vz4wSK9k0f",
        "outputId": "98fc00a2-9996-4d1e-e74d-96678152d92b"
      },
      "source": [
        "# Create the contingency table - presence of ascites and presence of edema\n",
        "\n",
        "ascitesedema = yesascites[yesascites['Edema'] == 'present']\n",
        "ascitesedema = ascitesedema['Edema'].count()\n",
        "ascitesdiurese = yesascites[yesascites['Edema'] == 'diurese']\n",
        "ascitesdiurese = ascitesdiurese['Edema'].count()\n",
        "ascitesnoedema = yesascites[yesascites['Edema'] == 'absent']\n",
        "ascitesnoedema = ascitesnoedema['Edema'].count()\n",
        "\n",
        "noascitesedema = noascites[noascites['Edema'] == 'preset']\n",
        "noascitesedema = noascitesedema['Edema'].count()\n",
        "noascitesdiurese = noascites[noascites['Edema'] == 'diurese']\n",
        "noascitesdiurese = noascitesdiurese['Edema'].count()\n",
        "noascitesnoedema = noascites[noascites['Edema'] == 'absent']\n",
        "noascitesnoedema = noascitesnoedema['Edema'].count()\n",
        "\n",
        "AscitesVsEdema = pd.DataFrame({'With ascites': [ascitesedema, ascitesdiurese, ascitesnoedema],\n",
        "                             'Without ascites': [noascitesedema, noascitesdiurese, noascitesnoedema]}, \n",
        "                            index=['With edema', 'Diuresed edema', 'Absent edema'])\n",
        "AscitesVsEdema"
      ],
      "execution_count": 113,
      "outputs": [
        {
          "output_type": "execute_result",
          "data": {
            "text/html": [
              "<div>\n",
              "<style scoped>\n",
              "    .dataframe tbody tr th:only-of-type {\n",
              "        vertical-align: middle;\n",
              "    }\n",
              "\n",
              "    .dataframe tbody tr th {\n",
              "        vertical-align: top;\n",
              "    }\n",
              "\n",
              "    .dataframe thead th {\n",
              "        text-align: right;\n",
              "    }\n",
              "</style>\n",
              "<table border=\"1\" class=\"dataframe\">\n",
              "  <thead>\n",
              "    <tr style=\"text-align: right;\">\n",
              "      <th></th>\n",
              "      <th>With ascites</th>\n",
              "      <th>Without ascites</th>\n",
              "    </tr>\n",
              "  </thead>\n",
              "  <tbody>\n",
              "    <tr>\n",
              "      <th>With edema</th>\n",
              "      <td>14</td>\n",
              "      <td>0</td>\n",
              "    </tr>\n",
              "    <tr>\n",
              "      <th>Diuresed edema</th>\n",
              "      <td>4</td>\n",
              "      <td>25</td>\n",
              "    </tr>\n",
              "    <tr>\n",
              "      <th>Absent edema</th>\n",
              "      <td>6</td>\n",
              "      <td>257</td>\n",
              "    </tr>\n",
              "  </tbody>\n",
              "</table>\n",
              "</div>"
            ],
            "text/plain": [
              "                With ascites  Without ascites\n",
              "With edema                14                0\n",
              "Diuresed edema             4               25\n",
              "Absent edema               6              257"
            ]
          },
          "metadata": {
            "tags": []
          },
          "execution_count": 113
        }
      ]
    },
    {
      "cell_type": "code",
      "metadata": {
        "colab": {
          "base_uri": "https://localhost:8080/",
          "height": 288
        },
        "id": "kzhyBYr3_5kD",
        "outputId": "4162c3bf-8c6c-462e-d35a-9f34e524c07e"
      },
      "source": [
        "# Perform the chi square test and determine the critical value (using 95% probability)\n",
        "\n",
        "chi2stat, pval, dof, expected = chi2_contingency(AscitesVsEdema)\n",
        "prob = 0.95\n",
        "critval = chi2.ppf(prob, dof)\n",
        "result = pd.DataFrame([chi2stat, critval, pval, dof], \n",
        "                      index=['Chi2 statistics', 'Critical value', 'p-value', 'degrees of freedom'])\n",
        "expectedval = pd.DataFrame(expected, columns=['With ascites', 'Without ascites'], \n",
        "                           index=['With edema', 'Diuresed edema', 'Absent edema'])\n",
        "display(result)\n",
        "display(expectedval)"
      ],
      "execution_count": 114,
      "outputs": [
        {
          "output_type": "display_data",
          "data": {
            "text/html": [
              "<div>\n",
              "<style scoped>\n",
              "    .dataframe tbody tr th:only-of-type {\n",
              "        vertical-align: middle;\n",
              "    }\n",
              "\n",
              "    .dataframe tbody tr th {\n",
              "        vertical-align: top;\n",
              "    }\n",
              "\n",
              "    .dataframe thead th {\n",
              "        text-align: right;\n",
              "    }\n",
              "</style>\n",
              "<table border=\"1\" class=\"dataframe\">\n",
              "  <thead>\n",
              "    <tr style=\"text-align: right;\">\n",
              "      <th></th>\n",
              "      <th>0</th>\n",
              "    </tr>\n",
              "  </thead>\n",
              "  <tbody>\n",
              "    <tr>\n",
              "      <th>Chi2 statistics</th>\n",
              "      <td>1.771759e+02</td>\n",
              "    </tr>\n",
              "    <tr>\n",
              "      <th>Critical value</th>\n",
              "      <td>5.991465e+00</td>\n",
              "    </tr>\n",
              "    <tr>\n",
              "      <th>p-value</th>\n",
              "      <td>3.363157e-39</td>\n",
              "    </tr>\n",
              "    <tr>\n",
              "      <th>degrees of freedom</th>\n",
              "      <td>2.000000e+00</td>\n",
              "    </tr>\n",
              "  </tbody>\n",
              "</table>\n",
              "</div>"
            ],
            "text/plain": [
              "                               0\n",
              "Chi2 statistics     1.771759e+02\n",
              "Critical value      5.991465e+00\n",
              "p-value             3.363157e-39\n",
              "degrees of freedom  2.000000e+00"
            ]
          },
          "metadata": {
            "tags": []
          }
        },
        {
          "output_type": "display_data",
          "data": {
            "text/html": [
              "<div>\n",
              "<style scoped>\n",
              "    .dataframe tbody tr th:only-of-type {\n",
              "        vertical-align: middle;\n",
              "    }\n",
              "\n",
              "    .dataframe tbody tr th {\n",
              "        vertical-align: top;\n",
              "    }\n",
              "\n",
              "    .dataframe thead th {\n",
              "        text-align: right;\n",
              "    }\n",
              "</style>\n",
              "<table border=\"1\" class=\"dataframe\">\n",
              "  <thead>\n",
              "    <tr style=\"text-align: right;\">\n",
              "      <th></th>\n",
              "      <th>With ascites</th>\n",
              "      <th>Without ascites</th>\n",
              "    </tr>\n",
              "  </thead>\n",
              "  <tbody>\n",
              "    <tr>\n",
              "      <th>With edema</th>\n",
              "      <td>1.098039</td>\n",
              "      <td>12.901961</td>\n",
              "    </tr>\n",
              "    <tr>\n",
              "      <th>Diuresed edema</th>\n",
              "      <td>2.274510</td>\n",
              "      <td>26.725490</td>\n",
              "    </tr>\n",
              "    <tr>\n",
              "      <th>Absent edema</th>\n",
              "      <td>20.627451</td>\n",
              "      <td>242.372549</td>\n",
              "    </tr>\n",
              "  </tbody>\n",
              "</table>\n",
              "</div>"
            ],
            "text/plain": [
              "                With ascites  Without ascites\n",
              "With edema          1.098039        12.901961\n",
              "Diuresed edema      2.274510        26.725490\n",
              "Absent edema       20.627451       242.372549"
            ]
          },
          "metadata": {
            "tags": []
          }
        }
      ]
    },
    {
      "cell_type": "markdown",
      "metadata": {
        "id": "mjBfeehoAKp4"
      },
      "source": [
        "### Result and Interpretation\n",
        "Our result revealed that:\n",
        "<br><br>\n",
        "p-value = 3.36e-39 $<$ $\\alpha = 0.05$\n",
        "<br>\n",
        "$\\chi^2$ stat = 1.77e+2 $>$ Critical Value = 5.99\n",
        "<br><br>\n",
        "We will **reject** our null hypothesis. There is a significant relationship between ascites and edema."
      ]
    },
    {
      "cell_type": "markdown",
      "metadata": {
        "id": "nzt0EzWYAodC"
      },
      "source": [
        "###(4) Is there a relationship between presence of ascites and histological stage?\n",
        "$H_0$: There is no relationship between presence of ascites and histological stage.\n",
        "<br>\n",
        "$H_A$: There is a significant relationship between presence of ascites and histological stage.\n",
        "<br>\n",
        "Significance level: $\\alpha = 0.05$\n"
      ]
    },
    {
      "cell_type": "code",
      "metadata": {
        "colab": {
          "base_uri": "https://localhost:8080/",
          "height": 167
        },
        "id": "Ji7M_HOvAHQx",
        "outputId": "bc99ed10-5d40-4fec-be8a-1ec06b1800f2"
      },
      "source": [
        "# Create the contingency table - presence of ascites and histological stage\n",
        "\n",
        "ascitesStage1 = yesascites[yesascites['HistologyStage'] == 'Stage1']\n",
        "ascitesStage1 = ascitesStage1['HistologyStage'].count()\n",
        "ascitesStage2 = yesascites[yesascites['HistologyStage'] == 'Stage2']\n",
        "ascitesStage2 = ascitesStage2['HistologyStage'].count()\n",
        "ascitesStage3 = yesascites[yesascites['HistologyStage'] == 'Stage3']\n",
        "ascitesStage3 = ascitesStage3['HistologyStage'].count()\n",
        "ascitesStage4 = yesascites[yesascites['HistologyStage'] == 'Stage4']\n",
        "ascitesStage4 = ascitesStage4['HistologyStage'].count()\n",
        "\n",
        "noascitesStage1 = noascites[noascites['HistologyStage'] == 'Stage1']\n",
        "noascitesStage1 = noascitesStage1['HistologyStage'].count()\n",
        "noascitesStage2 = noascites[noascites['HistologyStage'] == 'Stage2']\n",
        "noascitesStage2 = noascitesStage2['HistologyStage'].count()\n",
        "noascitesStage3 = noascites[noascites['HistologyStage'] == 'Stage3']\n",
        "noascitesStage3 = noascitesStage3['HistologyStage'].count()\n",
        "noascitesStage4 = noascites[noascites['HistologyStage'] == 'Stage4']\n",
        "noascitesStage4 = noascitesStage4['HistologyStage'].count()\n",
        "\n",
        "AscitesVsHisto = pd.DataFrame({'With ascites': [ascitesStage1, ascitesStage2, ascitesStage3, ascitesStage4],\n",
        "                             'Without ascites': [noascitesStage1, noascitesStage2, noascitesStage3, noascitesStage4]}, \n",
        "                            index=['Stage 1', 'Stage 2', 'Stage 3', 'Stage 4'])\n",
        "AscitesVsHisto"
      ],
      "execution_count": 115,
      "outputs": [
        {
          "output_type": "execute_result",
          "data": {
            "text/html": [
              "<div>\n",
              "<style scoped>\n",
              "    .dataframe tbody tr th:only-of-type {\n",
              "        vertical-align: middle;\n",
              "    }\n",
              "\n",
              "    .dataframe tbody tr th {\n",
              "        vertical-align: top;\n",
              "    }\n",
              "\n",
              "    .dataframe thead th {\n",
              "        text-align: right;\n",
              "    }\n",
              "</style>\n",
              "<table border=\"1\" class=\"dataframe\">\n",
              "  <thead>\n",
              "    <tr style=\"text-align: right;\">\n",
              "      <th></th>\n",
              "      <th>With ascites</th>\n",
              "      <th>Without ascites</th>\n",
              "    </tr>\n",
              "  </thead>\n",
              "  <tbody>\n",
              "    <tr>\n",
              "      <th>Stage 1</th>\n",
              "      <td>0</td>\n",
              "      <td>16</td>\n",
              "    </tr>\n",
              "    <tr>\n",
              "      <th>Stage 2</th>\n",
              "      <td>2</td>\n",
              "      <td>65</td>\n",
              "    </tr>\n",
              "    <tr>\n",
              "      <th>Stage 3</th>\n",
              "      <td>1</td>\n",
              "      <td>119</td>\n",
              "    </tr>\n",
              "    <tr>\n",
              "      <th>Stage 4</th>\n",
              "      <td>21</td>\n",
              "      <td>88</td>\n",
              "    </tr>\n",
              "  </tbody>\n",
              "</table>\n",
              "</div>"
            ],
            "text/plain": [
              "         With ascites  Without ascites\n",
              "Stage 1             0               16\n",
              "Stage 2             2               65\n",
              "Stage 3             1              119\n",
              "Stage 4            21               88"
            ]
          },
          "metadata": {
            "tags": []
          },
          "execution_count": 115
        }
      ]
    },
    {
      "cell_type": "code",
      "metadata": {
        "colab": {
          "base_uri": "https://localhost:8080/",
          "height": 318
        },
        "id": "QkrBi72kCeH1",
        "outputId": "89f5642c-e1d0-4611-be27-b727e3866d93"
      },
      "source": [
        "# Perform the chi square test and determine the critical value (using 95% probability)\n",
        "\n",
        "chi2stat, pval, dof, expected = chi2_contingency(AscitesVsHisto)\n",
        "prob = 0.95\n",
        "critval = chi2.ppf(prob, dof)\n",
        "result = pd.DataFrame([chi2stat, critval, pval, dof], \n",
        "                      index=['Chi2 statistics', 'Critical value', 'p-value', 'degrees of freedom'])\n",
        "expectedval = pd.DataFrame(expected, columns=['With ascites', 'Without ascites'], \n",
        "                           index=['Stage 1', 'Stage 2', 'Stage 3', 'Stage 4'])\n",
        "display(result)\n",
        "display(expectedval)"
      ],
      "execution_count": 116,
      "outputs": [
        {
          "output_type": "display_data",
          "data": {
            "text/html": [
              "<div>\n",
              "<style scoped>\n",
              "    .dataframe tbody tr th:only-of-type {\n",
              "        vertical-align: middle;\n",
              "    }\n",
              "\n",
              "    .dataframe tbody tr th {\n",
              "        vertical-align: top;\n",
              "    }\n",
              "\n",
              "    .dataframe thead th {\n",
              "        text-align: right;\n",
              "    }\n",
              "</style>\n",
              "<table border=\"1\" class=\"dataframe\">\n",
              "  <thead>\n",
              "    <tr style=\"text-align: right;\">\n",
              "      <th></th>\n",
              "      <th>0</th>\n",
              "    </tr>\n",
              "  </thead>\n",
              "  <tbody>\n",
              "    <tr>\n",
              "      <th>Chi2 statistics</th>\n",
              "      <td>3.193751e+01</td>\n",
              "    </tr>\n",
              "    <tr>\n",
              "      <th>Critical value</th>\n",
              "      <td>7.814728e+00</td>\n",
              "    </tr>\n",
              "    <tr>\n",
              "      <th>p-value</th>\n",
              "      <td>5.394582e-07</td>\n",
              "    </tr>\n",
              "    <tr>\n",
              "      <th>degrees of freedom</th>\n",
              "      <td>3.000000e+00</td>\n",
              "    </tr>\n",
              "  </tbody>\n",
              "</table>\n",
              "</div>"
            ],
            "text/plain": [
              "                               0\n",
              "Chi2 statistics     3.193751e+01\n",
              "Critical value      7.814728e+00\n",
              "p-value             5.394582e-07\n",
              "degrees of freedom  3.000000e+00"
            ]
          },
          "metadata": {
            "tags": []
          }
        },
        {
          "output_type": "display_data",
          "data": {
            "text/html": [
              "<div>\n",
              "<style scoped>\n",
              "    .dataframe tbody tr th:only-of-type {\n",
              "        vertical-align: middle;\n",
              "    }\n",
              "\n",
              "    .dataframe tbody tr th {\n",
              "        vertical-align: top;\n",
              "    }\n",
              "\n",
              "    .dataframe thead th {\n",
              "        text-align: right;\n",
              "    }\n",
              "</style>\n",
              "<table border=\"1\" class=\"dataframe\">\n",
              "  <thead>\n",
              "    <tr style=\"text-align: right;\">\n",
              "      <th></th>\n",
              "      <th>With ascites</th>\n",
              "      <th>Without ascites</th>\n",
              "    </tr>\n",
              "  </thead>\n",
              "  <tbody>\n",
              "    <tr>\n",
              "      <th>Stage 1</th>\n",
              "      <td>1.230769</td>\n",
              "      <td>14.769231</td>\n",
              "    </tr>\n",
              "    <tr>\n",
              "      <th>Stage 2</th>\n",
              "      <td>5.153846</td>\n",
              "      <td>61.846154</td>\n",
              "    </tr>\n",
              "    <tr>\n",
              "      <th>Stage 3</th>\n",
              "      <td>9.230769</td>\n",
              "      <td>110.769231</td>\n",
              "    </tr>\n",
              "    <tr>\n",
              "      <th>Stage 4</th>\n",
              "      <td>8.384615</td>\n",
              "      <td>100.615385</td>\n",
              "    </tr>\n",
              "  </tbody>\n",
              "</table>\n",
              "</div>"
            ],
            "text/plain": [
              "         With ascites  Without ascites\n",
              "Stage 1      1.230769        14.769231\n",
              "Stage 2      5.153846        61.846154\n",
              "Stage 3      9.230769       110.769231\n",
              "Stage 4      8.384615       100.615385"
            ]
          },
          "metadata": {
            "tags": []
          }
        }
      ]
    },
    {
      "cell_type": "markdown",
      "metadata": {
        "id": "IseTPwScCtEM"
      },
      "source": [
        "### Result and Interpretation\n",
        "Our result revealed that:\n",
        "<br><br>\n",
        "p-value = 5.39e-7 $<$ $\\alpha = 0.05$\n",
        "<br>\n",
        "$\\chi^2$ stat = 3.19e+1 $>$ Critical Value = 7.81\n",
        "<br><br>\n",
        "We will **reject** our null hypothesis. There is a significant relationship between ascites and histological stage."
      ]
    },
    {
      "cell_type": "markdown",
      "metadata": {
        "id": "OMy2w25eC_Cx"
      },
      "source": [
        "## E. Hepatomegaly"
      ]
    },
    {
      "cell_type": "markdown",
      "metadata": {
        "id": "kt--9FsZDGut"
      },
      "source": [
        "###(1) Is there a relationship between presence of hepatomegaly and presence of spider angiomata?\n",
        "$H_0$: There is no relationship between presence of hepatomegaly and presence of spider angiomata.\n",
        "<br>\n",
        "$H_A$: There is a significant relationship between presence of hepatomegaly and presence of spider angiomata.\n",
        "<br>\n",
        "Significance level: $\\alpha = 0.05$\n"
      ]
    },
    {
      "cell_type": "code",
      "metadata": {
        "colab": {
          "base_uri": "https://localhost:8080/",
          "height": 107
        },
        "id": "Ze5_PfBFCmRn",
        "outputId": "c03aab69-19e0-486d-cc99-6c7bdc05f7b3"
      },
      "source": [
        "# Create the contingency table - presence of hepatomegaly and presence of spider angiomata\n",
        "\n",
        "hepatospider = yeshepato[yeshepato['SpiderAngiomata'] == 'yes']\n",
        "hepatospider = hepatospider['SpiderAngiomata'].count()\n",
        "hepatonospider = yeshepato[yeshepato['SpiderAngiomata'] == 'no']\n",
        "hepatonospider = hepatonospider['SpiderAngiomata'].count()\n",
        "\n",
        "nohepatospider = nohepato[nohepato['SpiderAngiomata'] == 'yes']\n",
        "nohepatospider = nohepatospider['SpiderAngiomata'].count()\n",
        "nohepatonospider = nohepato[nohepato['SpiderAngiomata'] == 'no']\n",
        "nohepatonospider = nohepatonospider['SpiderAngiomata'].count()\n",
        "\n",
        "HepatoVsSpider = pd.DataFrame({'With hepatomegaly': [hepatospider, hepatonospider],\n",
        "                             'Without hepatomegaly': [nohepatospider, nohepatonospider]}, \n",
        "                            index=['With spider angiomata', 'Without spider angiomata'])\n",
        "HepatoVsSpider"
      ],
      "execution_count": 117,
      "outputs": [
        {
          "output_type": "execute_result",
          "data": {
            "text/html": [
              "<div>\n",
              "<style scoped>\n",
              "    .dataframe tbody tr th:only-of-type {\n",
              "        vertical-align: middle;\n",
              "    }\n",
              "\n",
              "    .dataframe tbody tr th {\n",
              "        vertical-align: top;\n",
              "    }\n",
              "\n",
              "    .dataframe thead th {\n",
              "        text-align: right;\n",
              "    }\n",
              "</style>\n",
              "<table border=\"1\" class=\"dataframe\">\n",
              "  <thead>\n",
              "    <tr style=\"text-align: right;\">\n",
              "      <th></th>\n",
              "      <th>With hepatomegaly</th>\n",
              "      <th>Without hepatomegaly</th>\n",
              "    </tr>\n",
              "  </thead>\n",
              "  <tbody>\n",
              "    <tr>\n",
              "      <th>With spider angiomata</th>\n",
              "      <td>67</td>\n",
              "      <td>23</td>\n",
              "    </tr>\n",
              "    <tr>\n",
              "      <th>Without spider angiomata</th>\n",
              "      <td>93</td>\n",
              "      <td>129</td>\n",
              "    </tr>\n",
              "  </tbody>\n",
              "</table>\n",
              "</div>"
            ],
            "text/plain": [
              "                          With hepatomegaly  Without hepatomegaly\n",
              "With spider angiomata                    67                    23\n",
              "Without spider angiomata                 93                   129"
            ]
          },
          "metadata": {
            "tags": []
          },
          "execution_count": 117
        }
      ]
    },
    {
      "cell_type": "code",
      "metadata": {
        "colab": {
          "base_uri": "https://localhost:8080/",
          "height": 258
        },
        "id": "NyySBCwlEacv",
        "outputId": "3df3fac4-7bf5-4146-9e0b-08ff456c738b"
      },
      "source": [
        "# Perform the chi square test and determine the critical value (using 95% probability)\n",
        "\n",
        "chi2stat, pval, dof, expected = chi2_contingency(HepatoVsSpider)\n",
        "prob = 0.95\n",
        "critval = chi2.ppf(prob, dof)\n",
        "result = pd.DataFrame([chi2stat, critval, pval, dof], \n",
        "                      index=['Chi2 statistics', 'Critical value', 'p-value', 'degrees of freedom'])\n",
        "expectedval = pd.DataFrame(expected, columns=['With hepatomegaly', 'Without hepatomegaly'], \n",
        "                           index=['With spider angiomata', 'Without spider angiomata'])\n",
        "display(result)\n",
        "display(expectedval)"
      ],
      "execution_count": 118,
      "outputs": [
        {
          "output_type": "display_data",
          "data": {
            "text/html": [
              "<div>\n",
              "<style scoped>\n",
              "    .dataframe tbody tr th:only-of-type {\n",
              "        vertical-align: middle;\n",
              "    }\n",
              "\n",
              "    .dataframe tbody tr th {\n",
              "        vertical-align: top;\n",
              "    }\n",
              "\n",
              "    .dataframe thead th {\n",
              "        text-align: right;\n",
              "    }\n",
              "</style>\n",
              "<table border=\"1\" class=\"dataframe\">\n",
              "  <thead>\n",
              "    <tr style=\"text-align: right;\">\n",
              "      <th></th>\n",
              "      <th>0</th>\n",
              "    </tr>\n",
              "  </thead>\n",
              "  <tbody>\n",
              "    <tr>\n",
              "      <th>Chi2 statistics</th>\n",
              "      <td>2.587435e+01</td>\n",
              "    </tr>\n",
              "    <tr>\n",
              "      <th>Critical value</th>\n",
              "      <td>3.841459e+00</td>\n",
              "    </tr>\n",
              "    <tr>\n",
              "      <th>p-value</th>\n",
              "      <td>3.643798e-07</td>\n",
              "    </tr>\n",
              "    <tr>\n",
              "      <th>degrees of freedom</th>\n",
              "      <td>1.000000e+00</td>\n",
              "    </tr>\n",
              "  </tbody>\n",
              "</table>\n",
              "</div>"
            ],
            "text/plain": [
              "                               0\n",
              "Chi2 statistics     2.587435e+01\n",
              "Critical value      3.841459e+00\n",
              "p-value             3.643798e-07\n",
              "degrees of freedom  1.000000e+00"
            ]
          },
          "metadata": {
            "tags": []
          }
        },
        {
          "output_type": "display_data",
          "data": {
            "text/html": [
              "<div>\n",
              "<style scoped>\n",
              "    .dataframe tbody tr th:only-of-type {\n",
              "        vertical-align: middle;\n",
              "    }\n",
              "\n",
              "    .dataframe tbody tr th {\n",
              "        vertical-align: top;\n",
              "    }\n",
              "\n",
              "    .dataframe thead th {\n",
              "        text-align: right;\n",
              "    }\n",
              "</style>\n",
              "<table border=\"1\" class=\"dataframe\">\n",
              "  <thead>\n",
              "    <tr style=\"text-align: right;\">\n",
              "      <th></th>\n",
              "      <th>With hepatomegaly</th>\n",
              "      <th>Without hepatomegaly</th>\n",
              "    </tr>\n",
              "  </thead>\n",
              "  <tbody>\n",
              "    <tr>\n",
              "      <th>With spider angiomata</th>\n",
              "      <td>46.153846</td>\n",
              "      <td>43.846154</td>\n",
              "    </tr>\n",
              "    <tr>\n",
              "      <th>Without spider angiomata</th>\n",
              "      <td>113.846154</td>\n",
              "      <td>108.153846</td>\n",
              "    </tr>\n",
              "  </tbody>\n",
              "</table>\n",
              "</div>"
            ],
            "text/plain": [
              "                          With hepatomegaly  Without hepatomegaly\n",
              "With spider angiomata             46.153846             43.846154\n",
              "Without spider angiomata         113.846154            108.153846"
            ]
          },
          "metadata": {
            "tags": []
          }
        }
      ]
    },
    {
      "cell_type": "markdown",
      "metadata": {
        "id": "nfjq8jNSEqo-"
      },
      "source": [
        "### Result and Interpretation\n",
        "Our result revealed that:\n",
        "<br><br>\n",
        "p-value = 3.64e-7 $<$ $\\alpha = 0.05$\n",
        "<br>\n",
        "$\\chi^2$ stat = 2.587e+1 $>$ Critical Value = 3.84\n",
        "<br><br>\n",
        "We will **reject** our null hypothesis. There is a significant relationship between hepatomegaly and spider angiomata."
      ]
    },
    {
      "cell_type": "markdown",
      "metadata": {
        "id": "hTY_H0LOF2f_"
      },
      "source": [
        "###(2) Is there a relationship between presence of hepatomegaly and presence of edema?\n",
        "$H_0$: There is no relationship between presence of hepatomegaly and presence of edema.\n",
        "<br>\n",
        "$H_A$: There is a significant relationship between presence of hepatomegaly and presence of edema.\n",
        "<br>\n",
        "Significance level: $\\alpha = 0.05$\n"
      ]
    },
    {
      "cell_type": "code",
      "metadata": {
        "colab": {
          "base_uri": "https://localhost:8080/",
          "height": 137
        },
        "id": "uzI8yyMMEluk",
        "outputId": "c2604810-36e0-414f-c08b-3221beee2e67"
      },
      "source": [
        "# Create the contingency table - presence of hepatomegaly and presence of edema\n",
        "\n",
        "hepatoedema = yeshepato[yeshepato['Edema'] == 'present']\n",
        "hepatoedema = hepatoedema['Edema'].count()\n",
        "hepatodiurese = yeshepato[yeshepato['Edema'] == 'diurese']\n",
        "hepatodiurese = hepatodiurese['Edema'].count()\n",
        "hepatoabsent = yeshepato[yeshepato['Edema'] == 'absent']\n",
        "hepatoabsent = hepatoabsent['Edema'].count()\n",
        "\n",
        "nohepatoedema = nohepato[nohepato['Edema'] == 'present']\n",
        "nohepatoedema = nohepatoedema['Edema'].count()\n",
        "nohepatodiurese = nohepato[nohepato['Edema'] == 'diurese']\n",
        "nohepatodiurese = nohepatodiurese['Edema'].count()\n",
        "nohepatoabsent = nohepato[nohepato['Edema'] == 'absent']\n",
        "nohepatoabsent = nohepatoabsent['Edema'].count()\n",
        "\n",
        "HepatoVsEdema = pd.DataFrame({'With hepatomegaly': [hepatoedema, hepatodiurese, hepatoabsent],\n",
        "                             'Without hepatomegaly': [nohepatoedema, nohepatodiurese, nohepatoabsent]}, \n",
        "                            index=['With edema', 'Diuresed edema', 'Absent edema'])\n",
        "HepatoVsEdema"
      ],
      "execution_count": 119,
      "outputs": [
        {
          "output_type": "execute_result",
          "data": {
            "text/html": [
              "<div>\n",
              "<style scoped>\n",
              "    .dataframe tbody tr th:only-of-type {\n",
              "        vertical-align: middle;\n",
              "    }\n",
              "\n",
              "    .dataframe tbody tr th {\n",
              "        vertical-align: top;\n",
              "    }\n",
              "\n",
              "    .dataframe thead th {\n",
              "        text-align: right;\n",
              "    }\n",
              "</style>\n",
              "<table border=\"1\" class=\"dataframe\">\n",
              "  <thead>\n",
              "    <tr style=\"text-align: right;\">\n",
              "      <th></th>\n",
              "      <th>With hepatomegaly</th>\n",
              "      <th>Without hepatomegaly</th>\n",
              "    </tr>\n",
              "  </thead>\n",
              "  <tbody>\n",
              "    <tr>\n",
              "      <th>With edema</th>\n",
              "      <td>15</td>\n",
              "      <td>5</td>\n",
              "    </tr>\n",
              "    <tr>\n",
              "      <th>Diuresed edema</th>\n",
              "      <td>20</td>\n",
              "      <td>9</td>\n",
              "    </tr>\n",
              "    <tr>\n",
              "      <th>Absent edema</th>\n",
              "      <td>125</td>\n",
              "      <td>138</td>\n",
              "    </tr>\n",
              "  </tbody>\n",
              "</table>\n",
              "</div>"
            ],
            "text/plain": [
              "                With hepatomegaly  Without hepatomegaly\n",
              "With edema                     15                     5\n",
              "Diuresed edema                 20                     9\n",
              "Absent edema                  125                   138"
            ]
          },
          "metadata": {
            "tags": []
          },
          "execution_count": 119
        }
      ]
    },
    {
      "cell_type": "code",
      "metadata": {
        "colab": {
          "base_uri": "https://localhost:8080/",
          "height": 288
        },
        "id": "AP9R2GNkHRJj",
        "outputId": "73549e07-70ab-4160-e33a-4f09c354fb6b"
      },
      "source": [
        "# Perform the chi square test and determine the critical value (using 95% probability)\n",
        "\n",
        "chi2stat, pval, dof, expected = chi2_contingency(HepatoVsEdema)\n",
        "prob = 0.95\n",
        "critval = chi2.ppf(prob, dof)\n",
        "result = pd.DataFrame([chi2stat, critval, pval, dof], \n",
        "                      index=['Chi2 statistics', 'Critical value', 'p-value', 'degrees of freedom'])\n",
        "expectedval = pd.DataFrame(expected, columns=['With hepatomegaly', 'Without hepatomegaly'], \n",
        "                           index=['With edema', 'Diuresed edema', 'Absent edema'])\n",
        "display(result)\n",
        "display(expectedval)"
      ],
      "execution_count": 120,
      "outputs": [
        {
          "output_type": "display_data",
          "data": {
            "text/html": [
              "<div>\n",
              "<style scoped>\n",
              "    .dataframe tbody tr th:only-of-type {\n",
              "        vertical-align: middle;\n",
              "    }\n",
              "\n",
              "    .dataframe tbody tr th {\n",
              "        vertical-align: top;\n",
              "    }\n",
              "\n",
              "    .dataframe thead th {\n",
              "        text-align: right;\n",
              "    }\n",
              "</style>\n",
              "<table border=\"1\" class=\"dataframe\">\n",
              "  <thead>\n",
              "    <tr style=\"text-align: right;\">\n",
              "      <th></th>\n",
              "      <th>0</th>\n",
              "    </tr>\n",
              "  </thead>\n",
              "  <tbody>\n",
              "    <tr>\n",
              "      <th>Chi2 statistics</th>\n",
              "      <td>9.616193</td>\n",
              "    </tr>\n",
              "    <tr>\n",
              "      <th>Critical value</th>\n",
              "      <td>5.991465</td>\n",
              "    </tr>\n",
              "    <tr>\n",
              "      <th>p-value</th>\n",
              "      <td>0.008163</td>\n",
              "    </tr>\n",
              "    <tr>\n",
              "      <th>degrees of freedom</th>\n",
              "      <td>2.000000</td>\n",
              "    </tr>\n",
              "  </tbody>\n",
              "</table>\n",
              "</div>"
            ],
            "text/plain": [
              "                           0\n",
              "Chi2 statistics     9.616193\n",
              "Critical value      5.991465\n",
              "p-value             0.008163\n",
              "degrees of freedom  2.000000"
            ]
          },
          "metadata": {
            "tags": []
          }
        },
        {
          "output_type": "display_data",
          "data": {
            "text/html": [
              "<div>\n",
              "<style scoped>\n",
              "    .dataframe tbody tr th:only-of-type {\n",
              "        vertical-align: middle;\n",
              "    }\n",
              "\n",
              "    .dataframe tbody tr th {\n",
              "        vertical-align: top;\n",
              "    }\n",
              "\n",
              "    .dataframe thead th {\n",
              "        text-align: right;\n",
              "    }\n",
              "</style>\n",
              "<table border=\"1\" class=\"dataframe\">\n",
              "  <thead>\n",
              "    <tr style=\"text-align: right;\">\n",
              "      <th></th>\n",
              "      <th>With hepatomegaly</th>\n",
              "      <th>Without hepatomegaly</th>\n",
              "    </tr>\n",
              "  </thead>\n",
              "  <tbody>\n",
              "    <tr>\n",
              "      <th>With edema</th>\n",
              "      <td>10.256410</td>\n",
              "      <td>9.743590</td>\n",
              "    </tr>\n",
              "    <tr>\n",
              "      <th>Diuresed edema</th>\n",
              "      <td>14.871795</td>\n",
              "      <td>14.128205</td>\n",
              "    </tr>\n",
              "    <tr>\n",
              "      <th>Absent edema</th>\n",
              "      <td>134.871795</td>\n",
              "      <td>128.128205</td>\n",
              "    </tr>\n",
              "  </tbody>\n",
              "</table>\n",
              "</div>"
            ],
            "text/plain": [
              "                With hepatomegaly  Without hepatomegaly\n",
              "With edema              10.256410              9.743590\n",
              "Diuresed edema          14.871795             14.128205\n",
              "Absent edema           134.871795            128.128205"
            ]
          },
          "metadata": {
            "tags": []
          }
        }
      ]
    },
    {
      "cell_type": "markdown",
      "metadata": {
        "id": "cWDF6io1HioH"
      },
      "source": [
        "### Result and Interpretation\n",
        "Our result revealed that:\n",
        "<br><br>\n",
        "p-value = 0.008 $<$ $\\alpha = 0.05$\n",
        "<br>\n",
        "$\\chi^2$ stat = 9.62 $>$ Critical Value = 5.99\n",
        "<br><br>\n",
        "We will **reject** our null hypothesis. There is a significant relationship between hepatomegaly and edema."
      ]
    },
    {
      "cell_type": "markdown",
      "metadata": {
        "id": "-sI9eHDwHu4L"
      },
      "source": [
        "###(3) Is there a relationship between presence of hepatomegaly and histological stage?\n",
        "$H_0$: There is no relationship between presence of hepatomegaly and histological stage.\n",
        "<br>\n",
        "$H_A$: There is a significant relationship between presence of hepatomegaly and histological stage.\n",
        "<br>\n",
        "Significance level: $\\alpha = 0.05$\n"
      ]
    },
    {
      "cell_type": "code",
      "metadata": {
        "colab": {
          "base_uri": "https://localhost:8080/",
          "height": 167
        },
        "id": "VPiagPMVHcqG",
        "outputId": "1cbd7e8c-13f7-41c7-c473-b56a24f5e5a2"
      },
      "source": [
        "# Create the contingency table - presence of hepatomegaly and histological stage\n",
        "\n",
        "hepatoStage1 = yeshepato[yeshepato['HistologyStage'] == 'Stage1']\n",
        "hepatoStage1 = hepatoStage1['HistologyStage'].count()\n",
        "hepatoStage2 = yeshepato[yeshepato['HistologyStage'] == 'Stage2']\n",
        "hepatoStage2 = hepatoStage2['HistologyStage'].count()\n",
        "hepatoStage3 = yeshepato[yeshepato['HistologyStage'] == 'Stage3']\n",
        "hepatoStage3 = hepatoStage3['HistologyStage'].count()\n",
        "hepatoStage4 = yeshepato[yeshepato['HistologyStage'] == 'Stage4']\n",
        "hepatoStage4 = hepatoStage4['HistologyStage'].count()\n",
        "\n",
        "nohepatoStage1 = nohepato[nohepato['HistologyStage'] == 'Stage1']\n",
        "nohepatoStage1 = nohepatoStage1['HistologyStage'].count()\n",
        "nohepatoStage2 = nohepato[nohepato['HistologyStage'] == 'Stage2']\n",
        "nohepatoStage2 = nohepatoStage2['HistologyStage'].count()\n",
        "nohepatoStage3 = nohepato[nohepato['HistologyStage'] == 'Stage3']\n",
        "nohepatoStage3 = nohepatoStage3['HistologyStage'].count()\n",
        "nohepatoStage4 = nohepato[nohepato['HistologyStage'] == 'Stage4']\n",
        "nohepatoStage4 = nohepatoStage4['HistologyStage'].count()\n",
        "\n",
        "HepatoVsHisto = pd.DataFrame({'With hepatomegaly': [hepatoStage1, hepatoStage2, hepatoStage3, hepatoStage4],\n",
        "                            'Without hepatomegaly': [nohepatoStage1, nohepatoStage2, nohepatoStage3, nohepatoStage4]}, \n",
        "                            index=['Stage 1', 'Stage 2', 'Stage 3', 'Stage 4'])\n",
        "HepatoVsHisto"
      ],
      "execution_count": 121,
      "outputs": [
        {
          "output_type": "execute_result",
          "data": {
            "text/html": [
              "<div>\n",
              "<style scoped>\n",
              "    .dataframe tbody tr th:only-of-type {\n",
              "        vertical-align: middle;\n",
              "    }\n",
              "\n",
              "    .dataframe tbody tr th {\n",
              "        vertical-align: top;\n",
              "    }\n",
              "\n",
              "    .dataframe thead th {\n",
              "        text-align: right;\n",
              "    }\n",
              "</style>\n",
              "<table border=\"1\" class=\"dataframe\">\n",
              "  <thead>\n",
              "    <tr style=\"text-align: right;\">\n",
              "      <th></th>\n",
              "      <th>With hepatomegaly</th>\n",
              "      <th>Without hepatomegaly</th>\n",
              "    </tr>\n",
              "  </thead>\n",
              "  <tbody>\n",
              "    <tr>\n",
              "      <th>Stage 1</th>\n",
              "      <td>0</td>\n",
              "      <td>16</td>\n",
              "    </tr>\n",
              "    <tr>\n",
              "      <th>Stage 2</th>\n",
              "      <td>19</td>\n",
              "      <td>48</td>\n",
              "    </tr>\n",
              "    <tr>\n",
              "      <th>Stage 3</th>\n",
              "      <td>53</td>\n",
              "      <td>67</td>\n",
              "    </tr>\n",
              "    <tr>\n",
              "      <th>Stage 4</th>\n",
              "      <td>88</td>\n",
              "      <td>21</td>\n",
              "    </tr>\n",
              "  </tbody>\n",
              "</table>\n",
              "</div>"
            ],
            "text/plain": [
              "         With hepatomegaly  Without hepatomegaly\n",
              "Stage 1                  0                    16\n",
              "Stage 2                 19                    48\n",
              "Stage 3                 53                    67\n",
              "Stage 4                 88                    21"
            ]
          },
          "metadata": {
            "tags": []
          },
          "execution_count": 121
        }
      ]
    },
    {
      "cell_type": "code",
      "metadata": {
        "colab": {
          "base_uri": "https://localhost:8080/",
          "height": 318
        },
        "id": "icygEx2WJGIx",
        "outputId": "01fec816-eef6-4454-8494-73b253410045"
      },
      "source": [
        "# Perform the chi square test and determine the critical value (using 95% probability)\n",
        "\n",
        "chi2stat, pval, dof, expected = chi2_contingency(HepatoVsHisto)\n",
        "prob = 0.95\n",
        "critval = chi2.ppf(prob, dof)\n",
        "result = pd.DataFrame([chi2stat, critval, pval, dof], \n",
        "                      index=['Chi2 statistics', 'Critical value', 'p-value', 'degrees of freedom'])\n",
        "expectedval = pd.DataFrame(expected, columns=['With hepatomegaly', 'Without hepatomegaly'], \n",
        "                           index=['Stage 1', 'Stage 2', 'Stage 3', 'Stage 4'])\n",
        "display(result)\n",
        "display(expectedval)"
      ],
      "execution_count": 122,
      "outputs": [
        {
          "output_type": "display_data",
          "data": {
            "text/html": [
              "<div>\n",
              "<style scoped>\n",
              "    .dataframe tbody tr th:only-of-type {\n",
              "        vertical-align: middle;\n",
              "    }\n",
              "\n",
              "    .dataframe tbody tr th {\n",
              "        vertical-align: top;\n",
              "    }\n",
              "\n",
              "    .dataframe thead th {\n",
              "        text-align: right;\n",
              "    }\n",
              "</style>\n",
              "<table border=\"1\" class=\"dataframe\">\n",
              "  <thead>\n",
              "    <tr style=\"text-align: right;\">\n",
              "      <th></th>\n",
              "      <th>0</th>\n",
              "    </tr>\n",
              "  </thead>\n",
              "  <tbody>\n",
              "    <tr>\n",
              "      <th>Chi2 statistics</th>\n",
              "      <td>7.121075e+01</td>\n",
              "    </tr>\n",
              "    <tr>\n",
              "      <th>Critical value</th>\n",
              "      <td>7.814728e+00</td>\n",
              "    </tr>\n",
              "    <tr>\n",
              "      <th>p-value</th>\n",
              "      <td>2.349473e-15</td>\n",
              "    </tr>\n",
              "    <tr>\n",
              "      <th>degrees of freedom</th>\n",
              "      <td>3.000000e+00</td>\n",
              "    </tr>\n",
              "  </tbody>\n",
              "</table>\n",
              "</div>"
            ],
            "text/plain": [
              "                               0\n",
              "Chi2 statistics     7.121075e+01\n",
              "Critical value      7.814728e+00\n",
              "p-value             2.349473e-15\n",
              "degrees of freedom  3.000000e+00"
            ]
          },
          "metadata": {
            "tags": []
          }
        },
        {
          "output_type": "display_data",
          "data": {
            "text/html": [
              "<div>\n",
              "<style scoped>\n",
              "    .dataframe tbody tr th:only-of-type {\n",
              "        vertical-align: middle;\n",
              "    }\n",
              "\n",
              "    .dataframe tbody tr th {\n",
              "        vertical-align: top;\n",
              "    }\n",
              "\n",
              "    .dataframe thead th {\n",
              "        text-align: right;\n",
              "    }\n",
              "</style>\n",
              "<table border=\"1\" class=\"dataframe\">\n",
              "  <thead>\n",
              "    <tr style=\"text-align: right;\">\n",
              "      <th></th>\n",
              "      <th>With hepatomegaly</th>\n",
              "      <th>Without hepatomegaly</th>\n",
              "    </tr>\n",
              "  </thead>\n",
              "  <tbody>\n",
              "    <tr>\n",
              "      <th>Stage 1</th>\n",
              "      <td>8.205128</td>\n",
              "      <td>7.794872</td>\n",
              "    </tr>\n",
              "    <tr>\n",
              "      <th>Stage 2</th>\n",
              "      <td>34.358974</td>\n",
              "      <td>32.641026</td>\n",
              "    </tr>\n",
              "    <tr>\n",
              "      <th>Stage 3</th>\n",
              "      <td>61.538462</td>\n",
              "      <td>58.461538</td>\n",
              "    </tr>\n",
              "    <tr>\n",
              "      <th>Stage 4</th>\n",
              "      <td>55.897436</td>\n",
              "      <td>53.102564</td>\n",
              "    </tr>\n",
              "  </tbody>\n",
              "</table>\n",
              "</div>"
            ],
            "text/plain": [
              "         With hepatomegaly  Without hepatomegaly\n",
              "Stage 1           8.205128              7.794872\n",
              "Stage 2          34.358974             32.641026\n",
              "Stage 3          61.538462             58.461538\n",
              "Stage 4          55.897436             53.102564"
            ]
          },
          "metadata": {
            "tags": []
          }
        }
      ]
    },
    {
      "cell_type": "markdown",
      "metadata": {
        "id": "JvjIjOBtJVO_"
      },
      "source": [
        "### Result and Interpretation\n",
        "Our result revealed that:\n",
        "<br><br>\n",
        "p-value = 2.349e-15 $<$ $\\alpha = 0.05$\n",
        "<br>\n",
        "$\\chi^2$ stat = 7.12e+1 $>$ Critical Value = 7.8\n",
        "<br><br>\n",
        "We will **reject** our null hypothesis. There is a significant relationship between hepatomegaly and histological stage."
      ]
    },
    {
      "cell_type": "markdown",
      "metadata": {
        "id": "IjHhgXy6JuiZ"
      },
      "source": [
        "## F. Spider angiomata"
      ]
    },
    {
      "cell_type": "markdown",
      "metadata": {
        "id": "AW090QgMJ4zc"
      },
      "source": [
        "###(1) Is there a relationship between presence of spider angiomata and presence of edema?\n",
        "$H_0$: There is no relationship between presence of spider angiomata and presence of edema.\n",
        "<br>\n",
        "$H_A$: There is a significant relationship between presence of spider angiomata and presence of edema.\n",
        "<br>\n",
        "Significance level: $\\alpha = 0.05$\n"
      ]
    },
    {
      "cell_type": "code",
      "metadata": {
        "colab": {
          "base_uri": "https://localhost:8080/",
          "height": 137
        },
        "id": "3NPj5YlpJP9z",
        "outputId": "bae1d005-21a7-4367-e2d0-aa5cf50fbd77"
      },
      "source": [
        "# Create the contingency table - presence of spider angiomata and edema\n",
        "\n",
        "spiderEdema = yesspider[yesspider['Edema'] == 'present']\n",
        "spiderEdema = spiderEdema['Edema'].count()\n",
        "spiderDiurese = yesspider[yesspider['Edema'] == 'diurese']\n",
        "spiderDiurese = spiderDiurese['Edema'].count()\n",
        "spiderAbsent = yesspider[yesspider['Edema'] == 'absent']\n",
        "spiderAbsent = spiderAbsent['Edema'].count()\n",
        "\n",
        "nospiderEdema = nospider[nospider['Edema'] == 'present']\n",
        "nospiderEdema = nospiderEdema['Edema'].count()\n",
        "nospiderDiurese = nospider[nospider['Edema'] == 'diurese']\n",
        "nospiderDiurese = nospiderDiurese['Edema'].count()\n",
        "nospiderAbsent = nospider[nospider['Edema'] == 'absent']\n",
        "nospiderAbsent = nospiderAbsent['Edema'].count()\n",
        "\n",
        "SpiderVsEdema = pd.DataFrame({'With spider angiomata': [spiderEdema, spiderDiurese, spiderAbsent],\n",
        "                             'Without spider angiomata': [nospiderEdema, nospiderDiurese, nospiderAbsent]}, \n",
        "                            index=['With edema', 'Diuresed edema', 'Absent edema'])\n",
        "SpiderVsEdema"
      ],
      "execution_count": 123,
      "outputs": [
        {
          "output_type": "execute_result",
          "data": {
            "text/html": [
              "<div>\n",
              "<style scoped>\n",
              "    .dataframe tbody tr th:only-of-type {\n",
              "        vertical-align: middle;\n",
              "    }\n",
              "\n",
              "    .dataframe tbody tr th {\n",
              "        vertical-align: top;\n",
              "    }\n",
              "\n",
              "    .dataframe thead th {\n",
              "        text-align: right;\n",
              "    }\n",
              "</style>\n",
              "<table border=\"1\" class=\"dataframe\">\n",
              "  <thead>\n",
              "    <tr style=\"text-align: right;\">\n",
              "      <th></th>\n",
              "      <th>With spider angiomata</th>\n",
              "      <th>Without spider angiomata</th>\n",
              "    </tr>\n",
              "  </thead>\n",
              "  <tbody>\n",
              "    <tr>\n",
              "      <th>With edema</th>\n",
              "      <td>14</td>\n",
              "      <td>6</td>\n",
              "    </tr>\n",
              "    <tr>\n",
              "      <th>Diuresed edema</th>\n",
              "      <td>13</td>\n",
              "      <td>16</td>\n",
              "    </tr>\n",
              "    <tr>\n",
              "      <th>Absent edema</th>\n",
              "      <td>63</td>\n",
              "      <td>200</td>\n",
              "    </tr>\n",
              "  </tbody>\n",
              "</table>\n",
              "</div>"
            ],
            "text/plain": [
              "                With spider angiomata  Without spider angiomata\n",
              "With edema                         14                         6\n",
              "Diuresed edema                     13                        16\n",
              "Absent edema                       63                       200"
            ]
          },
          "metadata": {
            "tags": []
          },
          "execution_count": 123
        }
      ]
    },
    {
      "cell_type": "code",
      "metadata": {
        "colab": {
          "base_uri": "https://localhost:8080/",
          "height": 288
        },
        "id": "sA6MsJOgLlDm",
        "outputId": "7c05f399-3529-45e6-9275-c8517dd749e3"
      },
      "source": [
        "# Perform the chi square test and determine the critical value (using 95% probability)\n",
        "\n",
        "chi2stat, pval, dof, expected = chi2_contingency(SpiderVsEdema)\n",
        "prob = 0.95\n",
        "critval = chi2.ppf(prob, dof)\n",
        "result = pd.DataFrame([chi2stat, critval, pval, dof], \n",
        "                      index=['Chi2 statistics', 'Critical value', 'p-value', 'degrees of freedom'])\n",
        "expectedval = pd.DataFrame(expected, columns=['With hepatomegaly', 'Without hepatomegaly'], \n",
        "                           index=['With edema', 'Diuresed edema', 'Absent edema'])\n",
        "display(result)\n",
        "display(expectedval)"
      ],
      "execution_count": 124,
      "outputs": [
        {
          "output_type": "display_data",
          "data": {
            "text/html": [
              "<div>\n",
              "<style scoped>\n",
              "    .dataframe tbody tr th:only-of-type {\n",
              "        vertical-align: middle;\n",
              "    }\n",
              "\n",
              "    .dataframe tbody tr th {\n",
              "        vertical-align: top;\n",
              "    }\n",
              "\n",
              "    .dataframe thead th {\n",
              "        text-align: right;\n",
              "    }\n",
              "</style>\n",
              "<table border=\"1\" class=\"dataframe\">\n",
              "  <thead>\n",
              "    <tr style=\"text-align: right;\">\n",
              "      <th></th>\n",
              "      <th>0</th>\n",
              "    </tr>\n",
              "  </thead>\n",
              "  <tbody>\n",
              "    <tr>\n",
              "      <th>Chi2 statistics</th>\n",
              "      <td>23.177921</td>\n",
              "    </tr>\n",
              "    <tr>\n",
              "      <th>Critical value</th>\n",
              "      <td>5.991465</td>\n",
              "    </tr>\n",
              "    <tr>\n",
              "      <th>p-value</th>\n",
              "      <td>0.000009</td>\n",
              "    </tr>\n",
              "    <tr>\n",
              "      <th>degrees of freedom</th>\n",
              "      <td>2.000000</td>\n",
              "    </tr>\n",
              "  </tbody>\n",
              "</table>\n",
              "</div>"
            ],
            "text/plain": [
              "                            0\n",
              "Chi2 statistics     23.177921\n",
              "Critical value       5.991465\n",
              "p-value              0.000009\n",
              "degrees of freedom   2.000000"
            ]
          },
          "metadata": {
            "tags": []
          }
        },
        {
          "output_type": "display_data",
          "data": {
            "text/html": [
              "<div>\n",
              "<style scoped>\n",
              "    .dataframe tbody tr th:only-of-type {\n",
              "        vertical-align: middle;\n",
              "    }\n",
              "\n",
              "    .dataframe tbody tr th {\n",
              "        vertical-align: top;\n",
              "    }\n",
              "\n",
              "    .dataframe thead th {\n",
              "        text-align: right;\n",
              "    }\n",
              "</style>\n",
              "<table border=\"1\" class=\"dataframe\">\n",
              "  <thead>\n",
              "    <tr style=\"text-align: right;\">\n",
              "      <th></th>\n",
              "      <th>With hepatomegaly</th>\n",
              "      <th>Without hepatomegaly</th>\n",
              "    </tr>\n",
              "  </thead>\n",
              "  <tbody>\n",
              "    <tr>\n",
              "      <th>With edema</th>\n",
              "      <td>5.769231</td>\n",
              "      <td>14.230769</td>\n",
              "    </tr>\n",
              "    <tr>\n",
              "      <th>Diuresed edema</th>\n",
              "      <td>8.365385</td>\n",
              "      <td>20.634615</td>\n",
              "    </tr>\n",
              "    <tr>\n",
              "      <th>Absent edema</th>\n",
              "      <td>75.865385</td>\n",
              "      <td>187.134615</td>\n",
              "    </tr>\n",
              "  </tbody>\n",
              "</table>\n",
              "</div>"
            ],
            "text/plain": [
              "                With hepatomegaly  Without hepatomegaly\n",
              "With edema               5.769231             14.230769\n",
              "Diuresed edema           8.365385             20.634615\n",
              "Absent edema            75.865385            187.134615"
            ]
          },
          "metadata": {
            "tags": []
          }
        }
      ]
    },
    {
      "cell_type": "markdown",
      "metadata": {
        "id": "Nzp1xu4wL5_U"
      },
      "source": [
        "### Result and Interpretation\n",
        "Our result revealed that:\n",
        "<br><br>\n",
        "p-value = 0.000009 $<$ $\\alpha = 0.05$\n",
        "<br>\n",
        "$\\chi^2$ stat = 23.178 $>$ Critical Value = 5.99\n",
        "<br><br>\n",
        "We will **reject** our null hypothesis. There is a significant relationship between hepatomegaly and edema."
      ]
    },
    {
      "cell_type": "markdown",
      "metadata": {
        "id": "O1NSGCawSHSO"
      },
      "source": [
        "###(2) Is there a relationship between presence of spider angiomata and histological stage?\n",
        "$H_0$: There is no relationship between presence of spider angiomata and histological stage.\n",
        "<br>\n",
        "$H_A$: There is a significant relationship between presence of spider angiomata and histological stage.\n",
        "<br>\n",
        "Significance level: $\\alpha = 0.05$\n"
      ]
    },
    {
      "cell_type": "code",
      "metadata": {
        "colab": {
          "base_uri": "https://localhost:8080/",
          "height": 167
        },
        "id": "Nt7vujEfLxgP",
        "outputId": "c20f7bca-4b17-403f-ac42-f8d83bf911e0"
      },
      "source": [
        "# Create the contingency table - presence of spider angiomata and histological stage\n",
        "\n",
        "spiderStage1 = yesspider[yesspider['HistologyStage'] == 'Stage1']\n",
        "spiderStage1 = spiderStage1['HistologyStage'].count()\n",
        "spiderStage2 = yesspider[yesspider['HistologyStage'] == 'Stage2']\n",
        "spiderStage2 = spiderStage2['HistologyStage'].count()\n",
        "spiderStage3 = yesspider[yesspider['HistologyStage'] == 'Stage3']\n",
        "spiderStage3 = spiderStage3['HistologyStage'].count()\n",
        "spiderStage4 = yesspider[yesspider['HistologyStage'] == 'Stage4']\n",
        "spiderStage4 = spiderStage4['HistologyStage'].count()\n",
        "\n",
        "nospiderStage1 = nospider[nospider['HistologyStage'] == 'Stage1']\n",
        "nospiderStage1 = nospiderStage1['HistologyStage'].count()\n",
        "nospiderStage2 = nospider[nospider['HistologyStage'] == 'Stage2']\n",
        "nospiderStage2 = nospiderStage2['HistologyStage'].count()\n",
        "nospiderStage3 = nospider[nospider['HistologyStage'] == 'Stage3']\n",
        "nospiderStage3 = nospiderStage3['HistologyStage'].count()\n",
        "nospiderStage4 = nospider[nospider['HistologyStage'] == 'Stage4']\n",
        "nospiderStage4 = nospiderStage4['HistologyStage'].count()\n",
        "\n",
        "SpiderVsHisto = pd.DataFrame({'With spider angiomata': [spiderStage1, spiderStage2, spiderStage3, spiderStage4],\n",
        "                             'Without spider angiomata': [nospiderStage1, nospiderStage2, nospiderStage3, nospiderStage4]}, \n",
        "                            index=['Stage 1', 'Stage 2', 'Stage 3', 'Stage 4'])\n",
        "SpiderVsHisto"
      ],
      "execution_count": 125,
      "outputs": [
        {
          "output_type": "execute_result",
          "data": {
            "text/html": [
              "<div>\n",
              "<style scoped>\n",
              "    .dataframe tbody tr th:only-of-type {\n",
              "        vertical-align: middle;\n",
              "    }\n",
              "\n",
              "    .dataframe tbody tr th {\n",
              "        vertical-align: top;\n",
              "    }\n",
              "\n",
              "    .dataframe thead th {\n",
              "        text-align: right;\n",
              "    }\n",
              "</style>\n",
              "<table border=\"1\" class=\"dataframe\">\n",
              "  <thead>\n",
              "    <tr style=\"text-align: right;\">\n",
              "      <th></th>\n",
              "      <th>With spider angiomata</th>\n",
              "      <th>Without spider angiomata</th>\n",
              "    </tr>\n",
              "  </thead>\n",
              "  <tbody>\n",
              "    <tr>\n",
              "      <th>Stage 1</th>\n",
              "      <td>1</td>\n",
              "      <td>15</td>\n",
              "    </tr>\n",
              "    <tr>\n",
              "      <th>Stage 2</th>\n",
              "      <td>9</td>\n",
              "      <td>58</td>\n",
              "    </tr>\n",
              "    <tr>\n",
              "      <th>Stage 3</th>\n",
              "      <td>30</td>\n",
              "      <td>90</td>\n",
              "    </tr>\n",
              "    <tr>\n",
              "      <th>Stage 4</th>\n",
              "      <td>50</td>\n",
              "      <td>59</td>\n",
              "    </tr>\n",
              "  </tbody>\n",
              "</table>\n",
              "</div>"
            ],
            "text/plain": [
              "         With spider angiomata  Without spider angiomata\n",
              "Stage 1                      1                        15\n",
              "Stage 2                      9                        58\n",
              "Stage 3                     30                        90\n",
              "Stage 4                     50                        59"
            ]
          },
          "metadata": {
            "tags": []
          },
          "execution_count": 125
        }
      ]
    },
    {
      "cell_type": "code",
      "metadata": {
        "colab": {
          "base_uri": "https://localhost:8080/",
          "height": 318
        },
        "id": "4yZqFDFWUW1o",
        "outputId": "73d7b220-56a6-4de9-b18c-819a0f1ed4b1"
      },
      "source": [
        "# Perform the chi square test and determine the critical value (using 95% probability)\n",
        "\n",
        "chi2stat, pval, dof, expected = chi2_contingency(SpiderVsHisto)\n",
        "prob = 0.95\n",
        "critval = chi2.ppf(prob, dof)\n",
        "result = pd.DataFrame([chi2stat, critval, pval, dof], \n",
        "                      index=['Chi2 statistics', 'Critical value', 'p-value', 'degrees of freedom'])\n",
        "expectedval = pd.DataFrame(expected, columns=['With hepatomegaly', 'Without hepatomegaly'], \n",
        "                           index=['Stage 1', 'Stage 2', 'Stage 3', 'Stage 4'])\n",
        "display(result)\n",
        "display(expectedval)"
      ],
      "execution_count": 126,
      "outputs": [
        {
          "output_type": "display_data",
          "data": {
            "text/html": [
              "<div>\n",
              "<style scoped>\n",
              "    .dataframe tbody tr th:only-of-type {\n",
              "        vertical-align: middle;\n",
              "    }\n",
              "\n",
              "    .dataframe tbody tr th {\n",
              "        vertical-align: top;\n",
              "    }\n",
              "\n",
              "    .dataframe thead th {\n",
              "        text-align: right;\n",
              "    }\n",
              "</style>\n",
              "<table border=\"1\" class=\"dataframe\">\n",
              "  <thead>\n",
              "    <tr style=\"text-align: right;\">\n",
              "      <th></th>\n",
              "      <th>0</th>\n",
              "    </tr>\n",
              "  </thead>\n",
              "  <tbody>\n",
              "    <tr>\n",
              "      <th>Chi2 statistics</th>\n",
              "      <td>27.993448</td>\n",
              "    </tr>\n",
              "    <tr>\n",
              "      <th>Critical value</th>\n",
              "      <td>7.814728</td>\n",
              "    </tr>\n",
              "    <tr>\n",
              "      <th>p-value</th>\n",
              "      <td>0.000004</td>\n",
              "    </tr>\n",
              "    <tr>\n",
              "      <th>degrees of freedom</th>\n",
              "      <td>3.000000</td>\n",
              "    </tr>\n",
              "  </tbody>\n",
              "</table>\n",
              "</div>"
            ],
            "text/plain": [
              "                            0\n",
              "Chi2 statistics     27.993448\n",
              "Critical value       7.814728\n",
              "p-value              0.000004\n",
              "degrees of freedom   3.000000"
            ]
          },
          "metadata": {
            "tags": []
          }
        },
        {
          "output_type": "display_data",
          "data": {
            "text/html": [
              "<div>\n",
              "<style scoped>\n",
              "    .dataframe tbody tr th:only-of-type {\n",
              "        vertical-align: middle;\n",
              "    }\n",
              "\n",
              "    .dataframe tbody tr th {\n",
              "        vertical-align: top;\n",
              "    }\n",
              "\n",
              "    .dataframe thead th {\n",
              "        text-align: right;\n",
              "    }\n",
              "</style>\n",
              "<table border=\"1\" class=\"dataframe\">\n",
              "  <thead>\n",
              "    <tr style=\"text-align: right;\">\n",
              "      <th></th>\n",
              "      <th>With hepatomegaly</th>\n",
              "      <th>Without hepatomegaly</th>\n",
              "    </tr>\n",
              "  </thead>\n",
              "  <tbody>\n",
              "    <tr>\n",
              "      <th>Stage 1</th>\n",
              "      <td>4.615385</td>\n",
              "      <td>11.384615</td>\n",
              "    </tr>\n",
              "    <tr>\n",
              "      <th>Stage 2</th>\n",
              "      <td>19.326923</td>\n",
              "      <td>47.673077</td>\n",
              "    </tr>\n",
              "    <tr>\n",
              "      <th>Stage 3</th>\n",
              "      <td>34.615385</td>\n",
              "      <td>85.384615</td>\n",
              "    </tr>\n",
              "    <tr>\n",
              "      <th>Stage 4</th>\n",
              "      <td>31.442308</td>\n",
              "      <td>77.557692</td>\n",
              "    </tr>\n",
              "  </tbody>\n",
              "</table>\n",
              "</div>"
            ],
            "text/plain": [
              "         With hepatomegaly  Without hepatomegaly\n",
              "Stage 1           4.615385             11.384615\n",
              "Stage 2          19.326923             47.673077\n",
              "Stage 3          34.615385             85.384615\n",
              "Stage 4          31.442308             77.557692"
            ]
          },
          "metadata": {
            "tags": []
          }
        }
      ]
    },
    {
      "cell_type": "markdown",
      "metadata": {
        "id": "5MjMJ9G-UiRR"
      },
      "source": [
        "### Result and Interpretation\n",
        "Our result revealed that:\n",
        "<br><br>\n",
        "p-value = 0.000004 $<$ $\\alpha = 0.05$\n",
        "<br>\n",
        "$\\chi^2$ stat = 27.993 $>$ Critical Value = 7.8\n",
        "<br><br>\n",
        "We will **reject** our null hypothesis. There is a significant relationship between hepatomegaly and histological stage."
      ]
    },
    {
      "cell_type": "markdown",
      "metadata": {
        "id": "0n3zOE1LUynk"
      },
      "source": [
        "## G. Edema"
      ]
    },
    {
      "cell_type": "markdown",
      "metadata": {
        "id": "1QbIdhvjUtQu"
      },
      "source": [
        "###(1) Is there a relationship between presence of edema and histological stage?\n",
        "$H_0$: There is no relationship between presence of spider angiomata and histological stage.\n",
        "<br>\n",
        "$H_A$: There is a significant relationship between presence of spider angiomata and histological stage.\n",
        "<br>\n",
        "Significance level: $\\alpha = 0.05$\n"
      ]
    },
    {
      "cell_type": "code",
      "metadata": {
        "colab": {
          "base_uri": "https://localhost:8080/",
          "height": 167
        },
        "id": "utnouywuUeqH",
        "outputId": "512b015e-7af6-4c17-9400-0810ea806358"
      },
      "source": [
        "# Create the contingency table - presence of edema and histological stage\n",
        "presentStage1 = present[present['HistologyStage'] == 'Stage1']\n",
        "presentStage1 = presentStage1['HistologyStage'].count()\n",
        "presentStage2 = present[present['HistologyStage'] == 'Stage2']\n",
        "presentStage2 = presentStage2['HistologyStage'].count()\n",
        "presentStage3 = present[present['HistologyStage'] == 'Stage3']\n",
        "presentStage3 = presentStage3['HistologyStage'].count()\n",
        "presentStage4 = present[present['HistologyStage'] == 'Stage4']\n",
        "presentStage4 = presentStage4['HistologyStage'].count()\n",
        "diureseStage1 = diurese[diurese['HistologyStage'] == 'Stage1']\n",
        "diureseStage1 = diureseStage1['HistologyStage'].count()\n",
        "diureseStage2 = diurese[diurese['HistologyStage'] == 'Stage2']\n",
        "diureseStage2 = diureseStage2['HistologyStage'].count()\n",
        "diureseStage3 = diurese[diurese['HistologyStage'] == 'Stage3']\n",
        "diureseStage3 = diureseStage3['HistologyStage'].count()\n",
        "diureseStage4 = diurese[diurese['HistologyStage'] == 'Stage4']\n",
        "diureseStage4 = diureseStage4['HistologyStage'].count()\n",
        "absentStage1 = absent[absent['HistologyStage'] == 'Stage1']\n",
        "absentStage1 = absentStage1['HistologyStage'].count()\n",
        "absentStage2 = absent[absent['HistologyStage'] == 'Stage2']\n",
        "absentStage2 = absentStage2['HistologyStage'].count()\n",
        "absentStage3 = absent[absent['HistologyStage'] == 'Stage3']\n",
        "absentStage3 = absentStage3['HistologyStage'].count()\n",
        "absentStage4 = absent[absent['HistologyStage'] == 'Stage4']\n",
        "absentStage4 = absentStage4['HistologyStage'].count()\n",
        "EdemaVsHisto = pd.DataFrame({'With edema': [presentStage1, presentStage2, presentStage3, presentStage4], 'Diuresed edema': [diureseStage1, diureseStage2, diureseStage3, diureseStage4], 'Absent edema': [absentStage1, absentStage2, absentStage3, absentStage4]}, index=['Stage 1', 'Stage 2', 'Stage 3', 'Stage 4'])\n",
        "EdemaVsHisto"
      ],
      "execution_count": 127,
      "outputs": [
        {
          "output_type": "execute_result",
          "data": {
            "text/html": [
              "<div>\n",
              "<style scoped>\n",
              "    .dataframe tbody tr th:only-of-type {\n",
              "        vertical-align: middle;\n",
              "    }\n",
              "\n",
              "    .dataframe tbody tr th {\n",
              "        vertical-align: top;\n",
              "    }\n",
              "\n",
              "    .dataframe thead th {\n",
              "        text-align: right;\n",
              "    }\n",
              "</style>\n",
              "<table border=\"1\" class=\"dataframe\">\n",
              "  <thead>\n",
              "    <tr style=\"text-align: right;\">\n",
              "      <th></th>\n",
              "      <th>With edema</th>\n",
              "      <th>Diuresed edema</th>\n",
              "      <th>Absent edema</th>\n",
              "    </tr>\n",
              "  </thead>\n",
              "  <tbody>\n",
              "    <tr>\n",
              "      <th>Stage 1</th>\n",
              "      <td>0</td>\n",
              "      <td>0</td>\n",
              "      <td>16</td>\n",
              "    </tr>\n",
              "    <tr>\n",
              "      <th>Stage 2</th>\n",
              "      <td>1</td>\n",
              "      <td>4</td>\n",
              "      <td>62</td>\n",
              "    </tr>\n",
              "    <tr>\n",
              "      <th>Stage 3</th>\n",
              "      <td>3</td>\n",
              "      <td>11</td>\n",
              "      <td>106</td>\n",
              "    </tr>\n",
              "    <tr>\n",
              "      <th>Stage 4</th>\n",
              "      <td>16</td>\n",
              "      <td>14</td>\n",
              "      <td>79</td>\n",
              "    </tr>\n",
              "  </tbody>\n",
              "</table>\n",
              "</div>"
            ],
            "text/plain": [
              "         With edema  Diuresed edema  Absent edema\n",
              "Stage 1           0               0            16\n",
              "Stage 2           1               4            62\n",
              "Stage 3           3              11           106\n",
              "Stage 4          16              14            79"
            ]
          },
          "metadata": {
            "tags": []
          },
          "execution_count": 127
        }
      ]
    },
    {
      "cell_type": "code",
      "metadata": {
        "colab": {
          "base_uri": "https://localhost:8080/",
          "height": 318
        },
        "id": "n8P5B44pXMR6",
        "outputId": "302afcbc-492c-4faf-fe52-e3987c35d596"
      },
      "source": [
        "# Perform the chi square test and determine the critical value (using 95% probability)\n",
        "\n",
        "chi2stat, pval, dof, expected = chi2_contingency(EdemaVsHisto)\n",
        "prob = 0.95\n",
        "critval = chi2.ppf(prob, dof)\n",
        "result = pd.DataFrame([chi2stat, critval, pval, dof], \n",
        "                      index=['Chi2 statistics', 'Critical value', 'p-value', 'degrees of freedom'])\n",
        "expectedval = pd.DataFrame(expected, columns=['With edema', 'Diuresed edema', 'Absent edema'], \n",
        "                           index=['Stage 1', 'Stage 2', 'Stage 3', 'Stage 4'])\n",
        "display(result)\n",
        "display(expectedval)"
      ],
      "execution_count": 128,
      "outputs": [
        {
          "output_type": "display_data",
          "data": {
            "text/html": [
              "<div>\n",
              "<style scoped>\n",
              "    .dataframe tbody tr th:only-of-type {\n",
              "        vertical-align: middle;\n",
              "    }\n",
              "\n",
              "    .dataframe tbody tr th {\n",
              "        vertical-align: top;\n",
              "    }\n",
              "\n",
              "    .dataframe thead th {\n",
              "        text-align: right;\n",
              "    }\n",
              "</style>\n",
              "<table border=\"1\" class=\"dataframe\">\n",
              "  <thead>\n",
              "    <tr style=\"text-align: right;\">\n",
              "      <th></th>\n",
              "      <th>0</th>\n",
              "    </tr>\n",
              "  </thead>\n",
              "  <tbody>\n",
              "    <tr>\n",
              "      <th>Chi2 statistics</th>\n",
              "      <td>24.850897</td>\n",
              "    </tr>\n",
              "    <tr>\n",
              "      <th>Critical value</th>\n",
              "      <td>12.591587</td>\n",
              "    </tr>\n",
              "    <tr>\n",
              "      <th>p-value</th>\n",
              "      <td>0.000364</td>\n",
              "    </tr>\n",
              "    <tr>\n",
              "      <th>degrees of freedom</th>\n",
              "      <td>6.000000</td>\n",
              "    </tr>\n",
              "  </tbody>\n",
              "</table>\n",
              "</div>"
            ],
            "text/plain": [
              "                            0\n",
              "Chi2 statistics     24.850897\n",
              "Critical value      12.591587\n",
              "p-value              0.000364\n",
              "degrees of freedom   6.000000"
            ]
          },
          "metadata": {
            "tags": []
          }
        },
        {
          "output_type": "display_data",
          "data": {
            "text/html": [
              "<div>\n",
              "<style scoped>\n",
              "    .dataframe tbody tr th:only-of-type {\n",
              "        vertical-align: middle;\n",
              "    }\n",
              "\n",
              "    .dataframe tbody tr th {\n",
              "        vertical-align: top;\n",
              "    }\n",
              "\n",
              "    .dataframe thead th {\n",
              "        text-align: right;\n",
              "    }\n",
              "</style>\n",
              "<table border=\"1\" class=\"dataframe\">\n",
              "  <thead>\n",
              "    <tr style=\"text-align: right;\">\n",
              "      <th></th>\n",
              "      <th>With edema</th>\n",
              "      <th>Diuresed edema</th>\n",
              "      <th>Absent edema</th>\n",
              "    </tr>\n",
              "  </thead>\n",
              "  <tbody>\n",
              "    <tr>\n",
              "      <th>Stage 1</th>\n",
              "      <td>1.025641</td>\n",
              "      <td>1.487179</td>\n",
              "      <td>13.487179</td>\n",
              "    </tr>\n",
              "    <tr>\n",
              "      <th>Stage 2</th>\n",
              "      <td>4.294872</td>\n",
              "      <td>6.227564</td>\n",
              "      <td>56.477564</td>\n",
              "    </tr>\n",
              "    <tr>\n",
              "      <th>Stage 3</th>\n",
              "      <td>7.692308</td>\n",
              "      <td>11.153846</td>\n",
              "      <td>101.153846</td>\n",
              "    </tr>\n",
              "    <tr>\n",
              "      <th>Stage 4</th>\n",
              "      <td>6.987179</td>\n",
              "      <td>10.131410</td>\n",
              "      <td>91.881410</td>\n",
              "    </tr>\n",
              "  </tbody>\n",
              "</table>\n",
              "</div>"
            ],
            "text/plain": [
              "         With edema  Diuresed edema  Absent edema\n",
              "Stage 1    1.025641        1.487179     13.487179\n",
              "Stage 2    4.294872        6.227564     56.477564\n",
              "Stage 3    7.692308       11.153846    101.153846\n",
              "Stage 4    6.987179       10.131410     91.881410"
            ]
          },
          "metadata": {
            "tags": []
          }
        }
      ]
    },
    {
      "cell_type": "markdown",
      "metadata": {
        "id": "wARL2wMJXuyT"
      },
      "source": [
        "### Result and Interpretation\n",
        "Our result revealed that:\n",
        "<br><br>\n",
        "p-value = 0.000364 $<$ $\\alpha = 0.05$\n",
        "<br>\n",
        "$\\chi^2$ stat = 24.85 $>$ Critical Value = 12.59\n",
        "<br><br>\n",
        "We will **reject** our null hypothesis. There is a significant relationship between edema and histological stage."
      ]
    }
  ]
}