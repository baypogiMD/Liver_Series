{
  "nbformat": 4,
  "nbformat_minor": 0,
  "metadata": {
    "colab": {
      "name": "09 - Liver Series - Part 1.ipynb",
      "provenance": [],
      "collapsed_sections": []
    },
    "kernelspec": {
      "name": "python3",
      "display_name": "Python 3"
    },
    "language_info": {
      "name": "python"
    }
  },
  "cells": [
    {
      "cell_type": "markdown",
      "metadata": {
        "id": "YJ0tAcSt-TR6"
      },
      "source": [
        "# LIVER SERIES - Part 1"
      ]
    },
    {
      "cell_type": "markdown",
      "metadata": {
        "id": "bSFdHjk7c8WA"
      },
      "source": [
        "This notebook features different statistical methods to answer some questions about our dataset. The dataset is from the Mayo Clinic clinical trial in primary liver cirrhosis that was conducted between 1974 and 1984. For further reading, please refer to: T Therneau and P Grambsch (2000), Modeling Survival Data: Extending the Cox Model, Springer-Verlag, New York. ISBN: 0-387-98784-3."
      ]
    },
    {
      "cell_type": "code",
      "metadata": {
        "id": "RVo_lRvmeBoz"
      },
      "source": [
        "# Import the necessary libraries\n",
        "\n",
        "import pandas as pd\n",
        "import numpy as np\n",
        "import matplotlib.pyplot as plt\n",
        "import seaborn as sns"
      ],
      "execution_count": 1,
      "outputs": []
    },
    {
      "cell_type": "markdown",
      "metadata": {
        "id": "6ylchknPdpQI"
      },
      "source": [
        "# What does our dataset look like?"
      ]
    },
    {
      "cell_type": "code",
      "metadata": {
        "colab": {
          "base_uri": "https://localhost:8080/",
          "height": 197
        },
        "id": "-7bhfdulbxsb",
        "outputId": "3c2e2770-15c8-4ad2-a384-81eaae9bed10"
      },
      "source": [
        "pbc = pd.read_csv('primary biliary cirrhosis RCT mod1.csv')\n",
        "pbc.head()"
      ],
      "execution_count": 2,
      "outputs": [
        {
          "output_type": "execute_result",
          "data": {
            "text/html": [
              "<div>\n",
              "<style scoped>\n",
              "    .dataframe tbody tr th:only-of-type {\n",
              "        vertical-align: middle;\n",
              "    }\n",
              "\n",
              "    .dataframe tbody tr th {\n",
              "        vertical-align: top;\n",
              "    }\n",
              "\n",
              "    .dataframe thead th {\n",
              "        text-align: right;\n",
              "    }\n",
              "</style>\n",
              "<table border=\"1\" class=\"dataframe\">\n",
              "  <thead>\n",
              "    <tr style=\"text-align: right;\">\n",
              "      <th></th>\n",
              "      <th>PatientID</th>\n",
              "      <th>DaySurvival</th>\n",
              "      <th>Status</th>\n",
              "      <th>Treatment</th>\n",
              "      <th>AgeYrs</th>\n",
              "      <th>Sex</th>\n",
              "      <th>Ascites</th>\n",
              "      <th>Hepatomegaly</th>\n",
              "      <th>SpiderAngiomata</th>\n",
              "      <th>Edema</th>\n",
              "      <th>Bilirubin</th>\n",
              "      <th>Cholesterol</th>\n",
              "      <th>Albumin</th>\n",
              "      <th>Copper</th>\n",
              "      <th>ALP</th>\n",
              "      <th>AST</th>\n",
              "      <th>Triglyceride</th>\n",
              "      <th>Platelet</th>\n",
              "      <th>Protime</th>\n",
              "      <th>HistologyStage</th>\n",
              "    </tr>\n",
              "  </thead>\n",
              "  <tbody>\n",
              "    <tr>\n",
              "      <th>0</th>\n",
              "      <td>1</td>\n",
              "      <td>400</td>\n",
              "      <td>censored</td>\n",
              "      <td>penicillamine</td>\n",
              "      <td>58.77</td>\n",
              "      <td>F</td>\n",
              "      <td>yes</td>\n",
              "      <td>yes</td>\n",
              "      <td>yes</td>\n",
              "      <td>present</td>\n",
              "      <td>14.5</td>\n",
              "      <td>261.0</td>\n",
              "      <td>2.60</td>\n",
              "      <td>156.0</td>\n",
              "      <td>1718.0</td>\n",
              "      <td>137.95</td>\n",
              "      <td>172.0</td>\n",
              "      <td>190.0</td>\n",
              "      <td>12.2</td>\n",
              "      <td>4.0</td>\n",
              "    </tr>\n",
              "    <tr>\n",
              "      <th>1</th>\n",
              "      <td>2</td>\n",
              "      <td>4500</td>\n",
              "      <td>dead</td>\n",
              "      <td>penicillamine</td>\n",
              "      <td>56.45</td>\n",
              "      <td>F</td>\n",
              "      <td>no</td>\n",
              "      <td>yes</td>\n",
              "      <td>yes</td>\n",
              "      <td>absent</td>\n",
              "      <td>1.1</td>\n",
              "      <td>302.0</td>\n",
              "      <td>4.14</td>\n",
              "      <td>54.0</td>\n",
              "      <td>7394.8</td>\n",
              "      <td>113.52</td>\n",
              "      <td>88.0</td>\n",
              "      <td>221.0</td>\n",
              "      <td>10.6</td>\n",
              "      <td>3.0</td>\n",
              "    </tr>\n",
              "    <tr>\n",
              "      <th>2</th>\n",
              "      <td>3</td>\n",
              "      <td>1012</td>\n",
              "      <td>censored</td>\n",
              "      <td>penicillamine</td>\n",
              "      <td>70.07</td>\n",
              "      <td>M</td>\n",
              "      <td>no</td>\n",
              "      <td>no</td>\n",
              "      <td>no</td>\n",
              "      <td>diurese</td>\n",
              "      <td>1.4</td>\n",
              "      <td>176.0</td>\n",
              "      <td>3.48</td>\n",
              "      <td>210.0</td>\n",
              "      <td>516.0</td>\n",
              "      <td>96.10</td>\n",
              "      <td>55.0</td>\n",
              "      <td>151.0</td>\n",
              "      <td>12.0</td>\n",
              "      <td>4.0</td>\n",
              "    </tr>\n",
              "    <tr>\n",
              "      <th>3</th>\n",
              "      <td>4</td>\n",
              "      <td>1925</td>\n",
              "      <td>censored</td>\n",
              "      <td>penicillamine</td>\n",
              "      <td>54.74</td>\n",
              "      <td>F</td>\n",
              "      <td>no</td>\n",
              "      <td>yes</td>\n",
              "      <td>yes</td>\n",
              "      <td>diurese</td>\n",
              "      <td>1.8</td>\n",
              "      <td>244.0</td>\n",
              "      <td>2.54</td>\n",
              "      <td>64.0</td>\n",
              "      <td>6121.8</td>\n",
              "      <td>60.63</td>\n",
              "      <td>92.0</td>\n",
              "      <td>183.0</td>\n",
              "      <td>10.3</td>\n",
              "      <td>4.0</td>\n",
              "    </tr>\n",
              "    <tr>\n",
              "      <th>4</th>\n",
              "      <td>5</td>\n",
              "      <td>1504</td>\n",
              "      <td>transplant</td>\n",
              "      <td>placebo</td>\n",
              "      <td>38.11</td>\n",
              "      <td>F</td>\n",
              "      <td>no</td>\n",
              "      <td>yes</td>\n",
              "      <td>yes</td>\n",
              "      <td>absent</td>\n",
              "      <td>3.4</td>\n",
              "      <td>279.0</td>\n",
              "      <td>3.53</td>\n",
              "      <td>143.0</td>\n",
              "      <td>671.0</td>\n",
              "      <td>113.15</td>\n",
              "      <td>72.0</td>\n",
              "      <td>136.0</td>\n",
              "      <td>10.9</td>\n",
              "      <td>3.0</td>\n",
              "    </tr>\n",
              "  </tbody>\n",
              "</table>\n",
              "</div>"
            ],
            "text/plain": [
              "   PatientID  DaySurvival      Status  ... Platelet  Protime HistologyStage\n",
              "0          1          400    censored  ...    190.0     12.2            4.0\n",
              "1          2         4500        dead  ...    221.0     10.6            3.0\n",
              "2          3         1012    censored  ...    151.0     12.0            4.0\n",
              "3          4         1925    censored  ...    183.0     10.3            4.0\n",
              "4          5         1504  transplant  ...    136.0     10.9            3.0\n",
              "\n",
              "[5 rows x 20 columns]"
            ]
          },
          "metadata": {
            "tags": []
          },
          "execution_count": 2
        }
      ]
    },
    {
      "cell_type": "code",
      "metadata": {
        "colab": {
          "base_uri": "https://localhost:8080/"
        },
        "id": "B6o0aQLUeSB1",
        "outputId": "52294796-3562-4ec0-e427-e67df08fc82f"
      },
      "source": [
        "pbc.info()"
      ],
      "execution_count": 3,
      "outputs": [
        {
          "output_type": "stream",
          "text": [
            "<class 'pandas.core.frame.DataFrame'>\n",
            "RangeIndex: 418 entries, 0 to 417\n",
            "Data columns (total 20 columns):\n",
            " #   Column           Non-Null Count  Dtype  \n",
            "---  ------           --------------  -----  \n",
            " 0   PatientID        418 non-null    int64  \n",
            " 1   DaySurvival      418 non-null    int64  \n",
            " 2   Status           418 non-null    object \n",
            " 3   Treatment        312 non-null    object \n",
            " 4   AgeYrs           418 non-null    float64\n",
            " 5   Sex              418 non-null    object \n",
            " 6   Ascites          312 non-null    object \n",
            " 7   Hepatomegaly     312 non-null    object \n",
            " 8   SpiderAngiomata  312 non-null    object \n",
            " 9   Edema            418 non-null    object \n",
            " 10  Bilirubin        418 non-null    float64\n",
            " 11  Cholesterol      284 non-null    float64\n",
            " 12  Albumin          418 non-null    float64\n",
            " 13  Copper           310 non-null    float64\n",
            " 14  ALP              312 non-null    float64\n",
            " 15  AST              312 non-null    float64\n",
            " 16  Triglyceride     282 non-null    float64\n",
            " 17  Platelet         407 non-null    float64\n",
            " 18  Protime          416 non-null    float64\n",
            " 19  HistologyStage   412 non-null    float64\n",
            "dtypes: float64(11), int64(2), object(7)\n",
            "memory usage: 65.4+ KB\n"
          ],
          "name": "stdout"
        }
      ]
    },
    {
      "cell_type": "markdown",
      "metadata": {
        "id": "r00bp9DsfK_s"
      },
      "source": [
        "# What kind of variables does the dataset have?\n",
        "\n",
        "Our dataset has:\n",
        "* 418 observations/patients\n",
        "* 20 variables<br>\n",
        "\n",
        "\n",
        "Of the 20 variables:\n",
        "* 7 are categorical (as object)\n",
        "* 13 are numeric:\n",
        "  * 2 are integers\n",
        "  * 11 are floats"
      ]
    },
    {
      "cell_type": "markdown",
      "metadata": {
        "id": "VJNMD87mhj74"
      },
      "source": [
        "# What are the variables and what do they represent?\n",
        "* PatientID = the designated identification reference of the patient\n",
        "* DaySurvival = the number of days between when the patient joined the study up to the time when they died or had liver transplant\n",
        "* Status = the event that happened to the patient in the study: died, had a transplant, or lost to follow up (censored)\n",
        "* Treatment = the type of treatment the patient received: D-penicillamine, placebo\n",
        "* AgeYrs = the age of the patient when they enrolled in the study\n",
        "* Sex = female/male\n",
        "* Ascites = presence or absence of abnormal build-up of fluid in the abdomen\n",
        "* Hepatomegaly = presence or absence of liver enlargement\n",
        "* SpiderAngiomata = presence or absence of abnormally swollen blooc vessels in the skin surface\n",
        "* Edema = presence or absence of swelling, or if it had swelling but diuresis was done\n",
        "* Bilirubin = measurement of serum bilirubin in mg/dL\n",
        "* Cholesterol = measurement of serum cholesterol in mg/dL\n",
        "* Albumin = measurement of serum albumin in g/dL\n",
        "* Copper = measurement of urinary copper in $\\mu$g/day\n",
        "* ALP = measurement of serum alkaline phosphatase in U/L\n",
        "* AST = measurement of serum aspartate aminotransferase in U/mL\n",
        "* Triglyceride = measurement of serum triglyceride in mg/dL\n",
        "* Platelet = platelet count per $\\mu$L\n",
        "* Protime = standardised blood clotting time in seconds\n",
        "* HistologyStage = histologic stage of the disease\n"
      ]
    },
    {
      "cell_type": "markdown",
      "metadata": {
        "id": "KCUb-E-sggLM"
      },
      "source": [
        "# How many null values does our dataset have?"
      ]
    },
    {
      "cell_type": "code",
      "metadata": {
        "colab": {
          "base_uri": "https://localhost:8080/"
        },
        "id": "qDFMplnUe9EA",
        "outputId": "cde8763b-cd75-47d4-ea38-7ab1fde8116b"
      },
      "source": [
        "pbc.isna().sum()"
      ],
      "execution_count": 4,
      "outputs": [
        {
          "output_type": "execute_result",
          "data": {
            "text/plain": [
              "PatientID            0\n",
              "DaySurvival          0\n",
              "Status               0\n",
              "Treatment          106\n",
              "AgeYrs               0\n",
              "Sex                  0\n",
              "Ascites            106\n",
              "Hepatomegaly       106\n",
              "SpiderAngiomata    106\n",
              "Edema                0\n",
              "Bilirubin            0\n",
              "Cholesterol        134\n",
              "Albumin              0\n",
              "Copper             108\n",
              "ALP                106\n",
              "AST                106\n",
              "Triglyceride       136\n",
              "Platelet            11\n",
              "Protime              2\n",
              "HistologyStage       6\n",
              "dtype: int64"
            ]
          },
          "metadata": {
            "tags": []
          },
          "execution_count": 4
        }
      ]
    },
    {
      "cell_type": "markdown",
      "metadata": {
        "id": "GTtzzLe2natR"
      },
      "source": [
        "We will drop the null values that coincides with the columns: Treatment, Ascites, Hepatomegaly, SpiderAngiomata, ALP, and AST. Total of 106 null values."
      ]
    },
    {
      "cell_type": "markdown",
      "metadata": {
        "id": "agH3Pk1Pqpqh"
      },
      "source": [
        "# Clearing the null values"
      ]
    },
    {
      "cell_type": "code",
      "metadata": {
        "colab": {
          "base_uri": "https://localhost:8080/",
          "height": 197
        },
        "id": "beLulytWgc-r",
        "outputId": "de073ed1-b12f-43b5-b4d2-58af03dff4ac"
      },
      "source": [
        "pbc = pbc.dropna(subset=['Treatment'])\n",
        "pbc.tail()"
      ],
      "execution_count": 5,
      "outputs": [
        {
          "output_type": "execute_result",
          "data": {
            "text/html": [
              "<div>\n",
              "<style scoped>\n",
              "    .dataframe tbody tr th:only-of-type {\n",
              "        vertical-align: middle;\n",
              "    }\n",
              "\n",
              "    .dataframe tbody tr th {\n",
              "        vertical-align: top;\n",
              "    }\n",
              "\n",
              "    .dataframe thead th {\n",
              "        text-align: right;\n",
              "    }\n",
              "</style>\n",
              "<table border=\"1\" class=\"dataframe\">\n",
              "  <thead>\n",
              "    <tr style=\"text-align: right;\">\n",
              "      <th></th>\n",
              "      <th>PatientID</th>\n",
              "      <th>DaySurvival</th>\n",
              "      <th>Status</th>\n",
              "      <th>Treatment</th>\n",
              "      <th>AgeYrs</th>\n",
              "      <th>Sex</th>\n",
              "      <th>Ascites</th>\n",
              "      <th>Hepatomegaly</th>\n",
              "      <th>SpiderAngiomata</th>\n",
              "      <th>Edema</th>\n",
              "      <th>Bilirubin</th>\n",
              "      <th>Cholesterol</th>\n",
              "      <th>Albumin</th>\n",
              "      <th>Copper</th>\n",
              "      <th>ALP</th>\n",
              "      <th>AST</th>\n",
              "      <th>Triglyceride</th>\n",
              "      <th>Platelet</th>\n",
              "      <th>Protime</th>\n",
              "      <th>HistologyStage</th>\n",
              "    </tr>\n",
              "  </thead>\n",
              "  <tbody>\n",
              "    <tr>\n",
              "      <th>307</th>\n",
              "      <td>308</td>\n",
              "      <td>1153</td>\n",
              "      <td>dead</td>\n",
              "      <td>penicillamine</td>\n",
              "      <td>61.18</td>\n",
              "      <td>F</td>\n",
              "      <td>no</td>\n",
              "      <td>yes</td>\n",
              "      <td>no</td>\n",
              "      <td>absent</td>\n",
              "      <td>0.4</td>\n",
              "      <td>246.0</td>\n",
              "      <td>3.58</td>\n",
              "      <td>24.0</td>\n",
              "      <td>797.0</td>\n",
              "      <td>91.0</td>\n",
              "      <td>113.0</td>\n",
              "      <td>288.0</td>\n",
              "      <td>10.4</td>\n",
              "      <td>2.0</td>\n",
              "    </tr>\n",
              "    <tr>\n",
              "      <th>308</th>\n",
              "      <td>309</td>\n",
              "      <td>994</td>\n",
              "      <td>dead</td>\n",
              "      <td>placebo</td>\n",
              "      <td>58.30</td>\n",
              "      <td>F</td>\n",
              "      <td>no</td>\n",
              "      <td>no</td>\n",
              "      <td>no</td>\n",
              "      <td>absent</td>\n",
              "      <td>0.4</td>\n",
              "      <td>260.0</td>\n",
              "      <td>2.75</td>\n",
              "      <td>41.0</td>\n",
              "      <td>1166.0</td>\n",
              "      <td>70.0</td>\n",
              "      <td>82.0</td>\n",
              "      <td>231.0</td>\n",
              "      <td>10.8</td>\n",
              "      <td>2.0</td>\n",
              "    </tr>\n",
              "    <tr>\n",
              "      <th>309</th>\n",
              "      <td>310</td>\n",
              "      <td>939</td>\n",
              "      <td>dead</td>\n",
              "      <td>penicillamine</td>\n",
              "      <td>62.33</td>\n",
              "      <td>F</td>\n",
              "      <td>no</td>\n",
              "      <td>no</td>\n",
              "      <td>no</td>\n",
              "      <td>absent</td>\n",
              "      <td>1.7</td>\n",
              "      <td>434.0</td>\n",
              "      <td>3.35</td>\n",
              "      <td>39.0</td>\n",
              "      <td>1713.0</td>\n",
              "      <td>171.0</td>\n",
              "      <td>100.0</td>\n",
              "      <td>234.0</td>\n",
              "      <td>10.2</td>\n",
              "      <td>2.0</td>\n",
              "    </tr>\n",
              "    <tr>\n",
              "      <th>310</th>\n",
              "      <td>311</td>\n",
              "      <td>839</td>\n",
              "      <td>dead</td>\n",
              "      <td>penicillamine</td>\n",
              "      <td>38.00</td>\n",
              "      <td>F</td>\n",
              "      <td>no</td>\n",
              "      <td>no</td>\n",
              "      <td>no</td>\n",
              "      <td>absent</td>\n",
              "      <td>2.0</td>\n",
              "      <td>247.0</td>\n",
              "      <td>3.16</td>\n",
              "      <td>69.0</td>\n",
              "      <td>1050.0</td>\n",
              "      <td>117.0</td>\n",
              "      <td>88.0</td>\n",
              "      <td>335.0</td>\n",
              "      <td>10.5</td>\n",
              "      <td>2.0</td>\n",
              "    </tr>\n",
              "    <tr>\n",
              "      <th>311</th>\n",
              "      <td>312</td>\n",
              "      <td>788</td>\n",
              "      <td>dead</td>\n",
              "      <td>placebo</td>\n",
              "      <td>33.15</td>\n",
              "      <td>F</td>\n",
              "      <td>no</td>\n",
              "      <td>no</td>\n",
              "      <td>yes</td>\n",
              "      <td>absent</td>\n",
              "      <td>6.4</td>\n",
              "      <td>576.0</td>\n",
              "      <td>3.79</td>\n",
              "      <td>186.0</td>\n",
              "      <td>2115.0</td>\n",
              "      <td>136.0</td>\n",
              "      <td>149.0</td>\n",
              "      <td>200.0</td>\n",
              "      <td>10.8</td>\n",
              "      <td>2.0</td>\n",
              "    </tr>\n",
              "  </tbody>\n",
              "</table>\n",
              "</div>"
            ],
            "text/plain": [
              "     PatientID  DaySurvival Status  ... Platelet  Protime HistologyStage\n",
              "307        308         1153   dead  ...    288.0     10.4            2.0\n",
              "308        309          994   dead  ...    231.0     10.8            2.0\n",
              "309        310          939   dead  ...    234.0     10.2            2.0\n",
              "310        311          839   dead  ...    335.0     10.5            2.0\n",
              "311        312          788   dead  ...    200.0     10.8            2.0\n",
              "\n",
              "[5 rows x 20 columns]"
            ]
          },
          "metadata": {
            "tags": []
          },
          "execution_count": 5
        }
      ]
    },
    {
      "cell_type": "markdown",
      "metadata": {
        "id": "0TuPzY0Qn27S"
      },
      "source": [
        "We are left with 312 patients/observations.<br>\n",
        "Are there still null values that remain?"
      ]
    },
    {
      "cell_type": "code",
      "metadata": {
        "colab": {
          "base_uri": "https://localhost:8080/"
        },
        "id": "PnzRVW9aiPqT",
        "outputId": "5935638e-bd51-4f7f-bc5a-910a08ded43d"
      },
      "source": [
        "pbc.isna().sum()"
      ],
      "execution_count": 6,
      "outputs": [
        {
          "output_type": "execute_result",
          "data": {
            "text/plain": [
              "PatientID           0\n",
              "DaySurvival         0\n",
              "Status              0\n",
              "Treatment           0\n",
              "AgeYrs              0\n",
              "Sex                 0\n",
              "Ascites             0\n",
              "Hepatomegaly        0\n",
              "SpiderAngiomata     0\n",
              "Edema               0\n",
              "Bilirubin           0\n",
              "Cholesterol        28\n",
              "Albumin             0\n",
              "Copper              2\n",
              "ALP                 0\n",
              "AST                 0\n",
              "Triglyceride       30\n",
              "Platelet            4\n",
              "Protime             0\n",
              "HistologyStage      0\n",
              "dtype: int64"
            ]
          },
          "metadata": {
            "tags": []
          },
          "execution_count": 6
        }
      ]
    },
    {
      "cell_type": "markdown",
      "metadata": {
        "id": "ZI2Jbr85oMJf"
      },
      "source": [
        "There are still null values in the columns: Cholesterol, Copper, Triglyceride, and Platelet.<br>\n",
        "We will replace these null values with the average values of their respective columns."
      ]
    },
    {
      "cell_type": "code",
      "metadata": {
        "id": "CJfOoP-FihK2"
      },
      "source": [
        "pbc['Cholesterol'].fillna(value=pbc['Cholesterol'].mean(), inplace=True)\n",
        "pbc['Copper'].fillna(value=pbc['Copper'].mean(), inplace=True)\n",
        "pbc['Triglyceride'].fillna(value=pbc['Triglyceride'].mean(), inplace=True)\n",
        "pbc['Platelet'].fillna(value=pbc['Platelet'].mean(), inplace=True)"
      ],
      "execution_count": 7,
      "outputs": []
    },
    {
      "cell_type": "markdown",
      "metadata": {
        "id": "GskImJzIqEic"
      },
      "source": [
        "Do we still have null values?"
      ]
    },
    {
      "cell_type": "code",
      "metadata": {
        "colab": {
          "base_uri": "https://localhost:8080/"
        },
        "id": "xySLkT5ip38x",
        "outputId": "e34c519e-a8cb-4ec7-c450-8e4caab1ea27"
      },
      "source": [
        "pbc.isna().sum()"
      ],
      "execution_count": 8,
      "outputs": [
        {
          "output_type": "execute_result",
          "data": {
            "text/plain": [
              "PatientID          0\n",
              "DaySurvival        0\n",
              "Status             0\n",
              "Treatment          0\n",
              "AgeYrs             0\n",
              "Sex                0\n",
              "Ascites            0\n",
              "Hepatomegaly       0\n",
              "SpiderAngiomata    0\n",
              "Edema              0\n",
              "Bilirubin          0\n",
              "Cholesterol        0\n",
              "Albumin            0\n",
              "Copper             0\n",
              "ALP                0\n",
              "AST                0\n",
              "Triglyceride       0\n",
              "Platelet           0\n",
              "Protime            0\n",
              "HistologyStage     0\n",
              "dtype: int64"
            ]
          },
          "metadata": {
            "tags": []
          },
          "execution_count": 8
        }
      ]
    },
    {
      "cell_type": "markdown",
      "metadata": {
        "id": "xCGCUm8989Xo"
      },
      "source": [
        "# What does our new dataset look like?"
      ]
    },
    {
      "cell_type": "code",
      "metadata": {
        "colab": {
          "base_uri": "https://localhost:8080/",
          "height": 406
        },
        "id": "yeVY5Al-9DTO",
        "outputId": "54c858b0-dcd0-4662-cd0a-b60561c739af"
      },
      "source": [
        "pbc"
      ],
      "execution_count": 9,
      "outputs": [
        {
          "output_type": "execute_result",
          "data": {
            "text/html": [
              "<div>\n",
              "<style scoped>\n",
              "    .dataframe tbody tr th:only-of-type {\n",
              "        vertical-align: middle;\n",
              "    }\n",
              "\n",
              "    .dataframe tbody tr th {\n",
              "        vertical-align: top;\n",
              "    }\n",
              "\n",
              "    .dataframe thead th {\n",
              "        text-align: right;\n",
              "    }\n",
              "</style>\n",
              "<table border=\"1\" class=\"dataframe\">\n",
              "  <thead>\n",
              "    <tr style=\"text-align: right;\">\n",
              "      <th></th>\n",
              "      <th>PatientID</th>\n",
              "      <th>DaySurvival</th>\n",
              "      <th>Status</th>\n",
              "      <th>Treatment</th>\n",
              "      <th>AgeYrs</th>\n",
              "      <th>Sex</th>\n",
              "      <th>Ascites</th>\n",
              "      <th>Hepatomegaly</th>\n",
              "      <th>SpiderAngiomata</th>\n",
              "      <th>Edema</th>\n",
              "      <th>Bilirubin</th>\n",
              "      <th>Cholesterol</th>\n",
              "      <th>Albumin</th>\n",
              "      <th>Copper</th>\n",
              "      <th>ALP</th>\n",
              "      <th>AST</th>\n",
              "      <th>Triglyceride</th>\n",
              "      <th>Platelet</th>\n",
              "      <th>Protime</th>\n",
              "      <th>HistologyStage</th>\n",
              "    </tr>\n",
              "  </thead>\n",
              "  <tbody>\n",
              "    <tr>\n",
              "      <th>0</th>\n",
              "      <td>1</td>\n",
              "      <td>400</td>\n",
              "      <td>censored</td>\n",
              "      <td>penicillamine</td>\n",
              "      <td>58.77</td>\n",
              "      <td>F</td>\n",
              "      <td>yes</td>\n",
              "      <td>yes</td>\n",
              "      <td>yes</td>\n",
              "      <td>present</td>\n",
              "      <td>14.5</td>\n",
              "      <td>261.0</td>\n",
              "      <td>2.60</td>\n",
              "      <td>156.0</td>\n",
              "      <td>1718.0</td>\n",
              "      <td>137.95</td>\n",
              "      <td>172.0</td>\n",
              "      <td>190.0</td>\n",
              "      <td>12.2</td>\n",
              "      <td>4.0</td>\n",
              "    </tr>\n",
              "    <tr>\n",
              "      <th>1</th>\n",
              "      <td>2</td>\n",
              "      <td>4500</td>\n",
              "      <td>dead</td>\n",
              "      <td>penicillamine</td>\n",
              "      <td>56.45</td>\n",
              "      <td>F</td>\n",
              "      <td>no</td>\n",
              "      <td>yes</td>\n",
              "      <td>yes</td>\n",
              "      <td>absent</td>\n",
              "      <td>1.1</td>\n",
              "      <td>302.0</td>\n",
              "      <td>4.14</td>\n",
              "      <td>54.0</td>\n",
              "      <td>7394.8</td>\n",
              "      <td>113.52</td>\n",
              "      <td>88.0</td>\n",
              "      <td>221.0</td>\n",
              "      <td>10.6</td>\n",
              "      <td>3.0</td>\n",
              "    </tr>\n",
              "    <tr>\n",
              "      <th>2</th>\n",
              "      <td>3</td>\n",
              "      <td>1012</td>\n",
              "      <td>censored</td>\n",
              "      <td>penicillamine</td>\n",
              "      <td>70.07</td>\n",
              "      <td>M</td>\n",
              "      <td>no</td>\n",
              "      <td>no</td>\n",
              "      <td>no</td>\n",
              "      <td>diurese</td>\n",
              "      <td>1.4</td>\n",
              "      <td>176.0</td>\n",
              "      <td>3.48</td>\n",
              "      <td>210.0</td>\n",
              "      <td>516.0</td>\n",
              "      <td>96.10</td>\n",
              "      <td>55.0</td>\n",
              "      <td>151.0</td>\n",
              "      <td>12.0</td>\n",
              "      <td>4.0</td>\n",
              "    </tr>\n",
              "    <tr>\n",
              "      <th>3</th>\n",
              "      <td>4</td>\n",
              "      <td>1925</td>\n",
              "      <td>censored</td>\n",
              "      <td>penicillamine</td>\n",
              "      <td>54.74</td>\n",
              "      <td>F</td>\n",
              "      <td>no</td>\n",
              "      <td>yes</td>\n",
              "      <td>yes</td>\n",
              "      <td>diurese</td>\n",
              "      <td>1.8</td>\n",
              "      <td>244.0</td>\n",
              "      <td>2.54</td>\n",
              "      <td>64.0</td>\n",
              "      <td>6121.8</td>\n",
              "      <td>60.63</td>\n",
              "      <td>92.0</td>\n",
              "      <td>183.0</td>\n",
              "      <td>10.3</td>\n",
              "      <td>4.0</td>\n",
              "    </tr>\n",
              "    <tr>\n",
              "      <th>4</th>\n",
              "      <td>5</td>\n",
              "      <td>1504</td>\n",
              "      <td>transplant</td>\n",
              "      <td>placebo</td>\n",
              "      <td>38.11</td>\n",
              "      <td>F</td>\n",
              "      <td>no</td>\n",
              "      <td>yes</td>\n",
              "      <td>yes</td>\n",
              "      <td>absent</td>\n",
              "      <td>3.4</td>\n",
              "      <td>279.0</td>\n",
              "      <td>3.53</td>\n",
              "      <td>143.0</td>\n",
              "      <td>671.0</td>\n",
              "      <td>113.15</td>\n",
              "      <td>72.0</td>\n",
              "      <td>136.0</td>\n",
              "      <td>10.9</td>\n",
              "      <td>3.0</td>\n",
              "    </tr>\n",
              "    <tr>\n",
              "      <th>...</th>\n",
              "      <td>...</td>\n",
              "      <td>...</td>\n",
              "      <td>...</td>\n",
              "      <td>...</td>\n",
              "      <td>...</td>\n",
              "      <td>...</td>\n",
              "      <td>...</td>\n",
              "      <td>...</td>\n",
              "      <td>...</td>\n",
              "      <td>...</td>\n",
              "      <td>...</td>\n",
              "      <td>...</td>\n",
              "      <td>...</td>\n",
              "      <td>...</td>\n",
              "      <td>...</td>\n",
              "      <td>...</td>\n",
              "      <td>...</td>\n",
              "      <td>...</td>\n",
              "      <td>...</td>\n",
              "      <td>...</td>\n",
              "    </tr>\n",
              "    <tr>\n",
              "      <th>307</th>\n",
              "      <td>308</td>\n",
              "      <td>1153</td>\n",
              "      <td>dead</td>\n",
              "      <td>penicillamine</td>\n",
              "      <td>61.18</td>\n",
              "      <td>F</td>\n",
              "      <td>no</td>\n",
              "      <td>yes</td>\n",
              "      <td>no</td>\n",
              "      <td>absent</td>\n",
              "      <td>0.4</td>\n",
              "      <td>246.0</td>\n",
              "      <td>3.58</td>\n",
              "      <td>24.0</td>\n",
              "      <td>797.0</td>\n",
              "      <td>91.00</td>\n",
              "      <td>113.0</td>\n",
              "      <td>288.0</td>\n",
              "      <td>10.4</td>\n",
              "      <td>2.0</td>\n",
              "    </tr>\n",
              "    <tr>\n",
              "      <th>308</th>\n",
              "      <td>309</td>\n",
              "      <td>994</td>\n",
              "      <td>dead</td>\n",
              "      <td>placebo</td>\n",
              "      <td>58.30</td>\n",
              "      <td>F</td>\n",
              "      <td>no</td>\n",
              "      <td>no</td>\n",
              "      <td>no</td>\n",
              "      <td>absent</td>\n",
              "      <td>0.4</td>\n",
              "      <td>260.0</td>\n",
              "      <td>2.75</td>\n",
              "      <td>41.0</td>\n",
              "      <td>1166.0</td>\n",
              "      <td>70.00</td>\n",
              "      <td>82.0</td>\n",
              "      <td>231.0</td>\n",
              "      <td>10.8</td>\n",
              "      <td>2.0</td>\n",
              "    </tr>\n",
              "    <tr>\n",
              "      <th>309</th>\n",
              "      <td>310</td>\n",
              "      <td>939</td>\n",
              "      <td>dead</td>\n",
              "      <td>penicillamine</td>\n",
              "      <td>62.33</td>\n",
              "      <td>F</td>\n",
              "      <td>no</td>\n",
              "      <td>no</td>\n",
              "      <td>no</td>\n",
              "      <td>absent</td>\n",
              "      <td>1.7</td>\n",
              "      <td>434.0</td>\n",
              "      <td>3.35</td>\n",
              "      <td>39.0</td>\n",
              "      <td>1713.0</td>\n",
              "      <td>171.00</td>\n",
              "      <td>100.0</td>\n",
              "      <td>234.0</td>\n",
              "      <td>10.2</td>\n",
              "      <td>2.0</td>\n",
              "    </tr>\n",
              "    <tr>\n",
              "      <th>310</th>\n",
              "      <td>311</td>\n",
              "      <td>839</td>\n",
              "      <td>dead</td>\n",
              "      <td>penicillamine</td>\n",
              "      <td>38.00</td>\n",
              "      <td>F</td>\n",
              "      <td>no</td>\n",
              "      <td>no</td>\n",
              "      <td>no</td>\n",
              "      <td>absent</td>\n",
              "      <td>2.0</td>\n",
              "      <td>247.0</td>\n",
              "      <td>3.16</td>\n",
              "      <td>69.0</td>\n",
              "      <td>1050.0</td>\n",
              "      <td>117.00</td>\n",
              "      <td>88.0</td>\n",
              "      <td>335.0</td>\n",
              "      <td>10.5</td>\n",
              "      <td>2.0</td>\n",
              "    </tr>\n",
              "    <tr>\n",
              "      <th>311</th>\n",
              "      <td>312</td>\n",
              "      <td>788</td>\n",
              "      <td>dead</td>\n",
              "      <td>placebo</td>\n",
              "      <td>33.15</td>\n",
              "      <td>F</td>\n",
              "      <td>no</td>\n",
              "      <td>no</td>\n",
              "      <td>yes</td>\n",
              "      <td>absent</td>\n",
              "      <td>6.4</td>\n",
              "      <td>576.0</td>\n",
              "      <td>3.79</td>\n",
              "      <td>186.0</td>\n",
              "      <td>2115.0</td>\n",
              "      <td>136.00</td>\n",
              "      <td>149.0</td>\n",
              "      <td>200.0</td>\n",
              "      <td>10.8</td>\n",
              "      <td>2.0</td>\n",
              "    </tr>\n",
              "  </tbody>\n",
              "</table>\n",
              "<p>312 rows × 20 columns</p>\n",
              "</div>"
            ],
            "text/plain": [
              "     PatientID  DaySurvival      Status  ... Platelet  Protime HistologyStage\n",
              "0            1          400    censored  ...    190.0     12.2            4.0\n",
              "1            2         4500        dead  ...    221.0     10.6            3.0\n",
              "2            3         1012    censored  ...    151.0     12.0            4.0\n",
              "3            4         1925    censored  ...    183.0     10.3            4.0\n",
              "4            5         1504  transplant  ...    136.0     10.9            3.0\n",
              "..         ...          ...         ...  ...      ...      ...            ...\n",
              "307        308         1153        dead  ...    288.0     10.4            2.0\n",
              "308        309          994        dead  ...    231.0     10.8            2.0\n",
              "309        310          939        dead  ...    234.0     10.2            2.0\n",
              "310        311          839        dead  ...    335.0     10.5            2.0\n",
              "311        312          788        dead  ...    200.0     10.8            2.0\n",
              "\n",
              "[312 rows x 20 columns]"
            ]
          },
          "metadata": {
            "tags": []
          },
          "execution_count": 9
        }
      ]
    },
    {
      "cell_type": "markdown",
      "metadata": {
        "id": "aLvKBKYkq09d"
      },
      "source": [
        "# What is the descriptive summary statistics of our new dataset?"
      ]
    },
    {
      "cell_type": "code",
      "metadata": {
        "colab": {
          "base_uri": "https://localhost:8080/",
          "height": 307
        },
        "id": "Dg87VNvOqCbP",
        "outputId": "e188e61a-af7e-4376-dc77-35a5d6c7a17f"
      },
      "source": [
        "pbc.describe()"
      ],
      "execution_count": 10,
      "outputs": [
        {
          "output_type": "execute_result",
          "data": {
            "text/html": [
              "<div>\n",
              "<style scoped>\n",
              "    .dataframe tbody tr th:only-of-type {\n",
              "        vertical-align: middle;\n",
              "    }\n",
              "\n",
              "    .dataframe tbody tr th {\n",
              "        vertical-align: top;\n",
              "    }\n",
              "\n",
              "    .dataframe thead th {\n",
              "        text-align: right;\n",
              "    }\n",
              "</style>\n",
              "<table border=\"1\" class=\"dataframe\">\n",
              "  <thead>\n",
              "    <tr style=\"text-align: right;\">\n",
              "      <th></th>\n",
              "      <th>PatientID</th>\n",
              "      <th>DaySurvival</th>\n",
              "      <th>AgeYrs</th>\n",
              "      <th>Bilirubin</th>\n",
              "      <th>Cholesterol</th>\n",
              "      <th>Albumin</th>\n",
              "      <th>Copper</th>\n",
              "      <th>ALP</th>\n",
              "      <th>AST</th>\n",
              "      <th>Triglyceride</th>\n",
              "      <th>Platelet</th>\n",
              "      <th>Protime</th>\n",
              "      <th>HistologyStage</th>\n",
              "    </tr>\n",
              "  </thead>\n",
              "  <tbody>\n",
              "    <tr>\n",
              "      <th>count</th>\n",
              "      <td>312.000000</td>\n",
              "      <td>312.000000</td>\n",
              "      <td>312.000000</td>\n",
              "      <td>312.000000</td>\n",
              "      <td>312.000000</td>\n",
              "      <td>312.000000</td>\n",
              "      <td>312.000000</td>\n",
              "      <td>312.000000</td>\n",
              "      <td>312.000000</td>\n",
              "      <td>312.000000</td>\n",
              "      <td>312.000000</td>\n",
              "      <td>312.000000</td>\n",
              "      <td>312.000000</td>\n",
              "    </tr>\n",
              "    <tr>\n",
              "      <th>mean</th>\n",
              "      <td>156.500000</td>\n",
              "      <td>2006.362179</td>\n",
              "      <td>50.018814</td>\n",
              "      <td>3.256090</td>\n",
              "      <td>369.510563</td>\n",
              "      <td>3.520000</td>\n",
              "      <td>97.648387</td>\n",
              "      <td>1982.655769</td>\n",
              "      <td>122.556346</td>\n",
              "      <td>124.702128</td>\n",
              "      <td>261.935065</td>\n",
              "      <td>10.725641</td>\n",
              "      <td>3.032051</td>\n",
              "    </tr>\n",
              "    <tr>\n",
              "      <th>std</th>\n",
              "      <td>90.210864</td>\n",
              "      <td>1123.280843</td>\n",
              "      <td>10.581300</td>\n",
              "      <td>4.530315</td>\n",
              "      <td>221.257085</td>\n",
              "      <td>0.419892</td>\n",
              "      <td>85.338190</td>\n",
              "      <td>2140.388824</td>\n",
              "      <td>56.699525</td>\n",
              "      <td>61.926753</td>\n",
              "      <td>94.991905</td>\n",
              "      <td>1.004323</td>\n",
              "      <td>0.877880</td>\n",
              "    </tr>\n",
              "    <tr>\n",
              "      <th>min</th>\n",
              "      <td>1.000000</td>\n",
              "      <td>41.000000</td>\n",
              "      <td>26.280000</td>\n",
              "      <td>0.300000</td>\n",
              "      <td>120.000000</td>\n",
              "      <td>1.960000</td>\n",
              "      <td>4.000000</td>\n",
              "      <td>289.000000</td>\n",
              "      <td>26.350000</td>\n",
              "      <td>33.000000</td>\n",
              "      <td>62.000000</td>\n",
              "      <td>9.000000</td>\n",
              "      <td>1.000000</td>\n",
              "    </tr>\n",
              "    <tr>\n",
              "      <th>25%</th>\n",
              "      <td>78.750000</td>\n",
              "      <td>1191.000000</td>\n",
              "      <td>42.242500</td>\n",
              "      <td>0.800000</td>\n",
              "      <td>255.750000</td>\n",
              "      <td>3.310000</td>\n",
              "      <td>41.750000</td>\n",
              "      <td>871.500000</td>\n",
              "      <td>80.600000</td>\n",
              "      <td>87.000000</td>\n",
              "      <td>200.000000</td>\n",
              "      <td>10.000000</td>\n",
              "      <td>2.000000</td>\n",
              "    </tr>\n",
              "    <tr>\n",
              "      <th>50%</th>\n",
              "      <td>156.500000</td>\n",
              "      <td>1839.500000</td>\n",
              "      <td>49.795000</td>\n",
              "      <td>1.350000</td>\n",
              "      <td>322.000000</td>\n",
              "      <td>3.550000</td>\n",
              "      <td>73.000000</td>\n",
              "      <td>1259.000000</td>\n",
              "      <td>114.700000</td>\n",
              "      <td>114.000000</td>\n",
              "      <td>258.500000</td>\n",
              "      <td>10.600000</td>\n",
              "      <td>3.000000</td>\n",
              "    </tr>\n",
              "    <tr>\n",
              "      <th>75%</th>\n",
              "      <td>234.250000</td>\n",
              "      <td>2697.250000</td>\n",
              "      <td>56.717500</td>\n",
              "      <td>3.425000</td>\n",
              "      <td>392.250000</td>\n",
              "      <td>3.800000</td>\n",
              "      <td>123.000000</td>\n",
              "      <td>1980.000000</td>\n",
              "      <td>151.900000</td>\n",
              "      <td>145.250000</td>\n",
              "      <td>322.000000</td>\n",
              "      <td>11.100000</td>\n",
              "      <td>4.000000</td>\n",
              "    </tr>\n",
              "    <tr>\n",
              "      <th>max</th>\n",
              "      <td>312.000000</td>\n",
              "      <td>4556.000000</td>\n",
              "      <td>78.440000</td>\n",
              "      <td>28.000000</td>\n",
              "      <td>1775.000000</td>\n",
              "      <td>4.640000</td>\n",
              "      <td>588.000000</td>\n",
              "      <td>13862.400000</td>\n",
              "      <td>457.250000</td>\n",
              "      <td>598.000000</td>\n",
              "      <td>563.000000</td>\n",
              "      <td>17.100000</td>\n",
              "      <td>4.000000</td>\n",
              "    </tr>\n",
              "  </tbody>\n",
              "</table>\n",
              "</div>"
            ],
            "text/plain": [
              "        PatientID  DaySurvival  ...     Protime  HistologyStage\n",
              "count  312.000000   312.000000  ...  312.000000      312.000000\n",
              "mean   156.500000  2006.362179  ...   10.725641        3.032051\n",
              "std     90.210864  1123.280843  ...    1.004323        0.877880\n",
              "min      1.000000    41.000000  ...    9.000000        1.000000\n",
              "25%     78.750000  1191.000000  ...   10.000000        2.000000\n",
              "50%    156.500000  1839.500000  ...   10.600000        3.000000\n",
              "75%    234.250000  2697.250000  ...   11.100000        4.000000\n",
              "max    312.000000  4556.000000  ...   17.100000        4.000000\n",
              "\n",
              "[8 rows x 13 columns]"
            ]
          },
          "metadata": {
            "tags": []
          },
          "execution_count": 10
        }
      ]
    },
    {
      "cell_type": "markdown",
      "metadata": {
        "id": "G3qb0Cnu-Sj0"
      },
      "source": [
        "# How does the variable **DaySurvival** look like?"
      ]
    },
    {
      "cell_type": "code",
      "metadata": {
        "colab": {
          "base_uri": "https://localhost:8080/",
          "height": 387
        },
        "id": "2YoqxJbZrBTv",
        "outputId": "a5ed0176-fd37-4d8c-9bf8-14a554e79be0"
      },
      "source": [
        "f, (ax_box, ax_hist) = plt.subplots(2, figsize=(10,5), sharex=True, \n",
        "                                    gridspec_kw={\"height_ratios\": (0.2, 1)}) \n",
        "\n",
        "mean=pbc['DaySurvival'].mean()\n",
        "median=pbc['DaySurvival'].median()\n",
        "\n",
        "sns.boxplot(pbc['DaySurvival'], ax=ax_box, color='tan')\n",
        "ax_box.axvline(mean, color='r', linestyle='--')\n",
        "ax_box.axvline(median, color='g', linestyle='-')\n",
        "\n",
        "sns.histplot(pbc['DaySurvival'], kde=True, ax=ax_hist, binwidth=365)\n",
        "ax_hist.axvline(mean, color='r', linestyle='--', label='Mean = '+ str('%.2f' % mean))\n",
        "ax_hist.axvline(median, color='g', linestyle='-', label='Median = '+ str('%.2f' % median))\n",
        "\n",
        "ax_box.set(xlabel='Survival Days')\n",
        "ax_hist.set(xlabel='Survival Days')\n",
        "\n",
        "plt.legend()\n",
        "plt.show()"
      ],
      "execution_count": 11,
      "outputs": [
        {
          "output_type": "stream",
          "text": [
            "/usr/local/lib/python3.7/dist-packages/seaborn/_decorators.py:43: FutureWarning: Pass the following variable as a keyword arg: x. From version 0.12, the only valid positional argument will be `data`, and passing other arguments without an explicit keyword will result in an error or misinterpretation.\n",
            "  FutureWarning\n"
          ],
          "name": "stderr"
        },
        {
          "output_type": "display_data",
          "data": {
            "image/png": "[encoded data removed]",
            "text/plain": [
              "<Figure size 720x360 with 2 Axes>"
            ]
          },
          "metadata": {
            "tags": [],
            "needs_background": "light"
          }
        }
      ]
    },
    {
      "cell_type": "markdown",
      "metadata": {
        "id": "HNMBfztuHEH3"
      },
      "source": [
        "# How does the variable **AgeYrs** look like?"
      ]
    },
    {
      "cell_type": "code",
      "metadata": {
        "colab": {
          "base_uri": "https://localhost:8080/",
          "height": 387
        },
        "id": "O6xYHvMH_3a9",
        "outputId": "c359b58d-d3b1-4d93-b370-97a0ce88d871"
      },
      "source": [
        "f, (ax_box, ax_hist) = plt.subplots(2, figsize=(10,5), sharex=True, \n",
        "                                    gridspec_kw={\"height_ratios\": (0.2, 1)})\n",
        "\n",
        "mean=pbc['AgeYrs'].mean()\n",
        "median=pbc['AgeYrs'].median()\n",
        "\n",
        "sns.boxplot(pbc['AgeYrs'], ax=ax_box, color='tan')\n",
        "ax_box.axvline(mean, color='r', linestyle='--')\n",
        "ax_box.axvline(median, color='g', linestyle='-')\n",
        "\n",
        "sns.histplot(pbc['AgeYrs'], kde=True, ax=ax_hist)\n",
        "ax_hist.axvline(mean, color='r', linestyle='--', label='Mean = '+ str('%.2f' % mean))\n",
        "ax_hist.axvline(median, color='g', linestyle='-', label='Median = '+ str('%.2f' % median))\n",
        "\n",
        "ax_box.set(xlabel=\"Patient's Age in Years\")\n",
        "ax_hist.set(xlabel=\"Patient's Age in Years\")\n",
        "\n",
        "plt.legend()\n",
        "plt.show()"
      ],
      "execution_count": 38,
      "outputs": [
        {
          "output_type": "stream",
          "text": [
            "/usr/local/lib/python3.7/dist-packages/seaborn/_decorators.py:43: FutureWarning: Pass the following variable as a keyword arg: x. From version 0.12, the only valid positional argument will be `data`, and passing other arguments without an explicit keyword will result in an error or misinterpretation.\n",
            "  FutureWarning\n"
          ],
          "name": "stderr"
        },
        {
          "output_type": "display_data",
          "data": {
            "image/png": "[encoded data removed]",
            "text/plain": [
              "<Figure size 720x360 with 2 Axes>"
            ]
          },
          "metadata": {
            "tags": [],
            "needs_background": "light"
          }
        }
      ]
    },
    {
      "cell_type": "markdown",
      "metadata": {
        "id": "IgYxDDb9HwPV"
      },
      "source": [
        "# How does the variable **Bilirubin** look like?"
      ]
    },
    {
      "cell_type": "code",
      "metadata": {
        "id": "_jFKSus2HXIw",
        "colab": {
          "base_uri": "https://localhost:8080/",
          "height": 387
        },
        "outputId": "0ebe071b-8b3c-4d95-e3cc-44b570034717"
      },
      "source": [
        "f, (ax_box, ax_hist) = plt.subplots(2, figsize=(10,5), sharex=True, \n",
        "                                    gridspec_kw={\"height_ratios\": (0.2, 1)})\n",
        "\n",
        "mean=pbc['Bilirubin'].mean()\n",
        "median=pbc['Bilirubin'].median()\n",
        "\n",
        "sns.boxplot(pbc['Bilirubin'], ax=ax_box, color='tan')\n",
        "ax_box.axvline(mean, color='r', linestyle='--')\n",
        "ax_box.axvline(median, color='g', linestyle='-')\n",
        "\n",
        "sns.histplot(pbc['Bilirubin'], kde=True, ax=ax_hist, binwidth=0.5)\n",
        "ax_hist.axvline(mean, color='r', linestyle='--', label='Mean = '+ str('%.2f' % mean))\n",
        "ax_hist.axvline(median, color='g', linestyle='-', label='Median = '+ str('%.2f' % median))\n",
        "\n",
        "ax_box.set(xlabel=\"Patient's Bilirubin\")\n",
        "ax_hist.set(xlabel=\"Patient's Bilirubin in mg/dL\")\n",
        "\n",
        "plt.legend()\n",
        "plt.show()"
      ],
      "execution_count": 13,
      "outputs": [
        {
          "output_type": "stream",
          "text": [
            "/usr/local/lib/python3.7/dist-packages/seaborn/_decorators.py:43: FutureWarning: Pass the following variable as a keyword arg: x. From version 0.12, the only valid positional argument will be `data`, and passing other arguments without an explicit keyword will result in an error or misinterpretation.\n",
            "  FutureWarning\n"
          ],
          "name": "stderr"
        },
        {
          "output_type": "display_data",
          "data": {
            "image/png": "[encoded data removed]",
            "text/plain": [
              "<Figure size 720x360 with 2 Axes>"
            ]
          },
          "metadata": {
            "tags": [],
            "needs_background": "light"
          }
        }
      ]
    },
    {
      "cell_type": "markdown",
      "metadata": {
        "id": "C_DoPuV_LDHg"
      },
      "source": [
        "# How does the variable **Cholesterol** look like?"
      ]
    },
    {
      "cell_type": "code",
      "metadata": {
        "colab": {
          "base_uri": "https://localhost:8080/",
          "height": 387
        },
        "id": "87hDj43FBeky",
        "outputId": "772085c9-e9fe-4630-d103-dd8f7608487c"
      },
      "source": [
        "f, (ax_box, ax_hist) = plt.subplots(2, figsize=(10,5), sharex=True, \n",
        "                                    gridspec_kw={\"height_ratios\": (0.2, 1)})\n",
        "\n",
        "mean=pbc['Cholesterol'].mean()\n",
        "median=pbc['Cholesterol'].median()\n",
        "\n",
        "sns.boxplot(pbc['Cholesterol'], ax=ax_box, color='tan')\n",
        "ax_box.axvline(mean, color='r', linestyle='--')\n",
        "ax_box.axvline(median, color='g', linestyle='-')\n",
        "\n",
        "sns.histplot(pbc['Cholesterol'], kde=True, ax=ax_hist, binwidth=25)\n",
        "ax_hist.axvline(mean, color='r', linestyle='--', label='Mean = '+ str('%.2f' % mean))\n",
        "ax_hist.axvline(median, color='g', linestyle='-', label='Median = '+ str('%.2f' % median))\n",
        "\n",
        "ax_box.set(xlabel=\"Patient's Cholesterol\")\n",
        "ax_hist.set(xlabel=\"Patient's Cholesterol in mg/dL\")\n",
        "\n",
        "plt.legend()\n",
        "plt.show()"
      ],
      "execution_count": 14,
      "outputs": [
        {
          "output_type": "stream",
          "text": [
            "/usr/local/lib/python3.7/dist-packages/seaborn/_decorators.py:43: FutureWarning: Pass the following variable as a keyword arg: x. From version 0.12, the only valid positional argument will be `data`, and passing other arguments without an explicit keyword will result in an error or misinterpretation.\n",
            "  FutureWarning\n"
          ],
          "name": "stderr"
        },
        {
          "output_type": "display_data",
          "data": {
            "image/png": "[encoded data removed]",
            "text/plain": [
              "<Figure size 720x360 with 2 Axes>"
            ]
          },
          "metadata": {
            "tags": [],
            "needs_background": "light"
          }
        }
      ]
    },
    {
      "cell_type": "markdown",
      "metadata": {
        "id": "z5E0bNRZByIF"
      },
      "source": [
        "# How does the variable **Albumin** look like?"
      ]
    },
    {
      "cell_type": "code",
      "metadata": {
        "colab": {
          "base_uri": "https://localhost:8080/",
          "height": 387
        },
        "id": "SyA4uuNDBs8i",
        "outputId": "17a84838-6253-4a0e-dadf-fe231b77281d"
      },
      "source": [
        "f, (ax_box, ax_hist) = plt.subplots(2, figsize=(10,5), sharex=True, \n",
        "                                    gridspec_kw={\"height_ratios\": (0.2, 1)})\n",
        "\n",
        "mean=pbc['Albumin'].mean()\n",
        "median=pbc['Albumin'].median()\n",
        "\n",
        "sns.boxplot(pbc['Albumin'], ax=ax_box, color='tan')\n",
        "ax_box.axvline(mean, color='r', linestyle='--')\n",
        "ax_box.axvline(median, color='g', linestyle='-')\n",
        "\n",
        "sns.histplot(pbc['Albumin'], kde=True, ax=ax_hist)\n",
        "ax_hist.axvline(mean, color='r', linestyle='--', label='Mean = '+ str('%.2f' % mean))\n",
        "ax_hist.axvline(median, color='g', linestyle='-', label='Median = '+ str('%.2f' % median))\n",
        "\n",
        "ax_box.set(xlabel=\"Patient's Albumin\")\n",
        "ax_hist.set(xlabel=\"Patient's Albumin in g/dL\")\n",
        "\n",
        "plt.legend()\n",
        "plt.show()"
      ],
      "execution_count": 15,
      "outputs": [
        {
          "output_type": "stream",
          "text": [
            "/usr/local/lib/python3.7/dist-packages/seaborn/_decorators.py:43: FutureWarning: Pass the following variable as a keyword arg: x. From version 0.12, the only valid positional argument will be `data`, and passing other arguments without an explicit keyword will result in an error or misinterpretation.\n",
            "  FutureWarning\n"
          ],
          "name": "stderr"
        },
        {
          "output_type": "display_data",
          "data": {
            "image/png": "[encoded data removed]",
            "text/plain": [
              "<Figure size 720x360 with 2 Axes>"
            ]
          },
          "metadata": {
            "tags": [],
            "needs_background": "light"
          }
        }
      ]
    },
    {
      "cell_type": "markdown",
      "metadata": {
        "id": "8cfXP3GNC61P"
      },
      "source": [
        "# How does the variable **Copper** look like?"
      ]
    },
    {
      "cell_type": "code",
      "metadata": {
        "colab": {
          "base_uri": "https://localhost:8080/",
          "height": 387
        },
        "id": "34PP3FWqB9fi",
        "outputId": "70d800db-5d1e-49b9-f5a9-1d551e8cb330"
      },
      "source": [
        "f, (ax_box, ax_hist) = plt.subplots(2, figsize=(10,5), sharex=True, \n",
        "                                    gridspec_kw={\"height_ratios\": (0.2, 1)})\n",
        "\n",
        "mean=pbc['Copper'].mean()\n",
        "median=pbc['Copper'].median()\n",
        "\n",
        "sns.boxplot(pbc['Copper'], ax=ax_box, color='tan')\n",
        "ax_box.axvline(mean, color='r', linestyle='--')\n",
        "ax_box.axvline(median, color='g', linestyle='-')\n",
        "\n",
        "sns.histplot(pbc['Copper'], kde=True, ax=ax_hist, binwidth=10)\n",
        "ax_hist.axvline(mean, color='r', linestyle='--', label='Mean = '+ str('%.2f' % mean))\n",
        "ax_hist.axvline(median, color='g', linestyle='-', label='Median = '+ str('%.2f' % median))\n",
        "\n",
        "ax_box.set(xlabel=\"Patient's Copper\")\n",
        "ax_hist.set(xlabel=\"Patient's Copper level in microgram/dL\")\n",
        "\n",
        "plt.legend()\n",
        "plt.show()"
      ],
      "execution_count": 16,
      "outputs": [
        {
          "output_type": "stream",
          "text": [
            "/usr/local/lib/python3.7/dist-packages/seaborn/_decorators.py:43: FutureWarning: Pass the following variable as a keyword arg: x. From version 0.12, the only valid positional argument will be `data`, and passing other arguments without an explicit keyword will result in an error or misinterpretation.\n",
            "  FutureWarning\n"
          ],
          "name": "stderr"
        },
        {
          "output_type": "display_data",
          "data": {
            "image/png": "[encoded data removed]",
            "text/plain": [
              "<Figure size 720x360 with 2 Axes>"
            ]
          },
          "metadata": {
            "tags": [],
            "needs_background": "light"
          }
        }
      ]
    },
    {
      "cell_type": "markdown",
      "metadata": {
        "id": "p3TWjPCwDkrU"
      },
      "source": [
        "# How does the variable **ALP** look like?"
      ]
    },
    {
      "cell_type": "code",
      "metadata": {
        "colab": {
          "base_uri": "https://localhost:8080/",
          "height": 387
        },
        "id": "NfE-l_hLDDY6",
        "outputId": "e33767f8-cb91-4007-f206-ec53af852405"
      },
      "source": [
        "f, (ax_box, ax_hist) = plt.subplots(2, figsize=(10,5), sharex=True, \n",
        "                                    gridspec_kw={\"height_ratios\": (0.2, 1)})\n",
        "\n",
        "mean=pbc['ALP'].mean()\n",
        "median=pbc['ALP'].median()\n",
        "\n",
        "sns.boxplot(pbc['ALP'], ax=ax_box, color='tan')\n",
        "ax_box.axvline(mean, color='r', linestyle='--')\n",
        "ax_box.axvline(median, color='g', linestyle='-')\n",
        "\n",
        "sns.histplot(pbc['ALP'], kde=True, ax=ax_hist, binwidth=250)\n",
        "ax_hist.axvline(mean, color='r', linestyle='--', label='Mean = '+ str('%.2f' % mean))\n",
        "ax_hist.axvline(median, color='g', linestyle='-', label='Median = '+ str('%.2f' % median))\n",
        "\n",
        "ax_box.set(xlabel=\"Patient's Alkaline Phosphatase\")\n",
        "ax_hist.set(xlabel=\"Patient's Alkaline Phosphatase in U/L\")\n",
        "\n",
        "plt.legend()\n",
        "plt.show()"
      ],
      "execution_count": 17,
      "outputs": [
        {
          "output_type": "stream",
          "text": [
            "/usr/local/lib/python3.7/dist-packages/seaborn/_decorators.py:43: FutureWarning: Pass the following variable as a keyword arg: x. From version 0.12, the only valid positional argument will be `data`, and passing other arguments without an explicit keyword will result in an error or misinterpretation.\n",
            "  FutureWarning\n"
          ],
          "name": "stderr"
        },
        {
          "output_type": "display_data",
          "data": {
            "image/png": "[encoded data removed]",
            "text/plain": [
              "<Figure size 720x360 with 2 Axes>"
            ]
          },
          "metadata": {
            "tags": [],
            "needs_background": "light"
          }
        }
      ]
    },
    {
      "cell_type": "markdown",
      "metadata": {
        "id": "TjCsrId_EWR2"
      },
      "source": [
        "# How does the variable **AST** look like?"
      ]
    },
    {
      "cell_type": "code",
      "metadata": {
        "colab": {
          "base_uri": "https://localhost:8080/",
          "height": 387
        },
        "id": "5Nks0zE4D6yR",
        "outputId": "3ed33e8b-f431-4f6f-f268-1b5a1fee094b"
      },
      "source": [
        "f, (ax_box, ax_hist) = plt.subplots(2, figsize=(10,5), sharex=True, \n",
        "                                    gridspec_kw={\"height_ratios\": (0.2, 1)})\n",
        "\n",
        "mean=pbc['AST'].mean()\n",
        "median=pbc['AST'].median()\n",
        "\n",
        "sns.boxplot(pbc['AST'], ax=ax_box, color='tan')\n",
        "ax_box.axvline(mean, color='r', linestyle='--')\n",
        "ax_box.axvline(median, color='g', linestyle='-')\n",
        "\n",
        "sns.histplot(pbc['AST'], kde=True, ax=ax_hist, binwidth=10)\n",
        "ax_hist.axvline(mean, color='r', linestyle='--', label='Mean = '+ str('%.2f' % mean))\n",
        "ax_hist.axvline(median, color='g', linestyle='-', label='Median = '+ str('%.2f' % median))\n",
        "\n",
        "ax_box.set(xlabel=\"Patient's Aspartate Aminotransferase\")\n",
        "ax_hist.set(xlabel=\"Patient's Aspartate Aminotransferase in U/L\")\n",
        "\n",
        "plt.legend()\n",
        "plt.show()"
      ],
      "execution_count": 18,
      "outputs": [
        {
          "output_type": "stream",
          "text": [
            "/usr/local/lib/python3.7/dist-packages/seaborn/_decorators.py:43: FutureWarning: Pass the following variable as a keyword arg: x. From version 0.12, the only valid positional argument will be `data`, and passing other arguments without an explicit keyword will result in an error or misinterpretation.\n",
            "  FutureWarning\n"
          ],
          "name": "stderr"
        },
        {
          "output_type": "display_data",
          "data": {
            "image/png": "[encoded data removed]",
            "text/plain": [
              "<Figure size 720x360 with 2 Axes>"
            ]
          },
          "metadata": {
            "tags": [],
            "needs_background": "light"
          }
        }
      ]
    },
    {
      "cell_type": "markdown",
      "metadata": {
        "id": "KGsJTcN2Ez7C"
      },
      "source": [
        "# How does the variable **Triglyceride** look like?"
      ]
    },
    {
      "cell_type": "code",
      "metadata": {
        "colab": {
          "base_uri": "https://localhost:8080/",
          "height": 387
        },
        "id": "ihHqmw-qEhWZ",
        "outputId": "6efb1552-046a-4fe6-bdf1-272d11a5e58a"
      },
      "source": [
        "f, (ax_box, ax_hist) = plt.subplots(2, figsize=(10,5), sharex=True, \n",
        "                                    gridspec_kw={\"height_ratios\": (0.2, 1)})\n",
        "\n",
        "mean=pbc['Triglyceride'].mean()\n",
        "median=pbc['Triglyceride'].median()\n",
        "\n",
        "sns.boxplot(pbc['Triglyceride'], ax=ax_box, color='tan')\n",
        "ax_box.axvline(mean, color='r', linestyle='--')\n",
        "ax_box.axvline(median, color='g', linestyle='-')\n",
        "\n",
        "sns.histplot(pbc['Triglyceride'], kde=True, ax=ax_hist, binwidth=10)\n",
        "ax_hist.axvline(mean, color='r', linestyle='--', label='Mean = '+ str('%.2f' % mean))\n",
        "ax_hist.axvline(median, color='g', linestyle='-', label='Median = '+ str('%.2f' % median))\n",
        "\n",
        "ax_box.set(xlabel=\"Patient's Triglyceride\")\n",
        "ax_hist.set(xlabel=\"Patient's Triglyceride in mg/dL\")\n",
        "\n",
        "plt.legend()\n",
        "plt.show()"
      ],
      "execution_count": 19,
      "outputs": [
        {
          "output_type": "stream",
          "text": [
            "/usr/local/lib/python3.7/dist-packages/seaborn/_decorators.py:43: FutureWarning: Pass the following variable as a keyword arg: x. From version 0.12, the only valid positional argument will be `data`, and passing other arguments without an explicit keyword will result in an error or misinterpretation.\n",
            "  FutureWarning\n"
          ],
          "name": "stderr"
        },
        {
          "output_type": "display_data",
          "data": {
            "image/png": "[encoded data removed]",
            "text/plain": [
              "<Figure size 720x360 with 2 Axes>"
            ]
          },
          "metadata": {
            "tags": [],
            "needs_background": "light"
          }
        }
      ]
    },
    {
      "cell_type": "markdown",
      "metadata": {
        "id": "MVUBiZYOF8Od"
      },
      "source": [
        "# How does the variable **Platelet** look like?"
      ]
    },
    {
      "cell_type": "code",
      "metadata": {
        "colab": {
          "base_uri": "https://localhost:8080/",
          "height": 387
        },
        "id": "Lzr98X7XE90l",
        "outputId": "738c376b-6b0d-4def-8788-2d4e88f02b94"
      },
      "source": [
        "f, (ax_box, ax_hist) = plt.subplots(2, figsize=(10,5), sharex=True, \n",
        "                                    gridspec_kw={\"height_ratios\": (0.2, 1)})\n",
        "\n",
        "mean=pbc['Platelet'].mean()\n",
        "median=pbc['Platelet'].median()\n",
        "\n",
        "sns.boxplot(pbc['Platelet'], ax=ax_box, color='tan')\n",
        "ax_box.axvline(mean, color='r', linestyle='--')\n",
        "ax_box.axvline(median, color='g', linestyle='-')\n",
        "\n",
        "sns.histplot(pbc['Platelet'], kde=True, ax=ax_hist, binwidth=20)\n",
        "ax_hist.axvline(mean, color='r', linestyle='--', label='Mean = '+ str('%.2f' % mean))\n",
        "ax_hist.axvline(median, color='g', linestyle='-', label='Median = '+ str('%.2f' % median))\n",
        "\n",
        "ax_box.set(xlabel=\"Patient's Platelet Count\")\n",
        "ax_hist.set(xlabel=\"Patient's Platelet Count in microliters\")\n",
        "\n",
        "plt.legend()\n",
        "plt.show()"
      ],
      "execution_count": 20,
      "outputs": [
        {
          "output_type": "stream",
          "text": [
            "/usr/local/lib/python3.7/dist-packages/seaborn/_decorators.py:43: FutureWarning: Pass the following variable as a keyword arg: x. From version 0.12, the only valid positional argument will be `data`, and passing other arguments without an explicit keyword will result in an error or misinterpretation.\n",
            "  FutureWarning\n"
          ],
          "name": "stderr"
        },
        {
          "output_type": "display_data",
          "data": {
            "image/png": "[encoded data removed]",
            "text/plain": [
              "<Figure size 720x360 with 2 Axes>"
            ]
          },
          "metadata": {
            "tags": [],
            "needs_background": "light"
          }
        }
      ]
    },
    {
      "cell_type": "markdown",
      "metadata": {
        "id": "ZvNrqgjFGS27"
      },
      "source": [
        "# How does the variable **Protime** look like?"
      ]
    },
    {
      "cell_type": "code",
      "metadata": {
        "colab": {
          "base_uri": "https://localhost:8080/",
          "height": 387
        },
        "id": "GBet-lSoGJS6",
        "outputId": "7965e934-c8fb-42b7-bb17-54c5c6d54662"
      },
      "source": [
        "f, (ax_box, ax_hist) = plt.subplots(2, figsize=(10,5), sharex=True, \n",
        "                                    gridspec_kw={\"height_ratios\": (0.2, 1)})\n",
        "\n",
        "mean=pbc['Protime'].mean()\n",
        "median=pbc['Protime'].median()\n",
        "\n",
        "sns.boxplot(pbc['Protime'], ax=ax_box, color='tan')\n",
        "ax_box.axvline(mean, color='r', linestyle='--')\n",
        "ax_box.axvline(median, color='g', linestyle='-')\n",
        "\n",
        "sns.histplot(pbc['Protime'], kde=True, ax=ax_hist)\n",
        "ax_hist.axvline(mean, color='r', linestyle='--', label='Mean = '+ str('%.2f' % mean))\n",
        "ax_hist.axvline(median, color='g', linestyle='-', label='Median = '+ str('%.2f' % median))\n",
        "\n",
        "ax_box.set(xlabel=\"Patient's Protime\")\n",
        "ax_hist.set(xlabel=\"Patient's Protime in seconds\")\n",
        "\n",
        "plt.legend()\n",
        "plt.show()"
      ],
      "execution_count": 21,
      "outputs": [
        {
          "output_type": "stream",
          "text": [
            "/usr/local/lib/python3.7/dist-packages/seaborn/_decorators.py:43: FutureWarning: Pass the following variable as a keyword arg: x. From version 0.12, the only valid positional argument will be `data`, and passing other arguments without an explicit keyword will result in an error or misinterpretation.\n",
            "  FutureWarning\n"
          ],
          "name": "stderr"
        },
        {
          "output_type": "display_data",
          "data": {
            "image/png": "[encoded data removed]",
            "text/plain": [
              "<Figure size 720x360 with 2 Axes>"
            ]
          },
          "metadata": {
            "tags": [],
            "needs_background": "light"
          }
        }
      ]
    },
    {
      "cell_type": "markdown",
      "metadata": {
        "id": "j1Pdeg83g_Uw"
      },
      "source": [
        "# What are the categories in the variable **Status**?"
      ]
    },
    {
      "cell_type": "code",
      "metadata": {
        "colab": {
          "base_uri": "https://localhost:8080/",
          "height": 137
        },
        "id": "zUuS-jpmTJ1D",
        "outputId": "6da12d86-c8d4-4896-f889-d96a6773a03e"
      },
      "source": [
        "status = pd.DataFrame(pbc['Status'].value_counts())\n",
        "status.reset_index(level=0, inplace=True)\n",
        "status"
      ],
      "execution_count": 22,
      "outputs": [
        {
          "output_type": "execute_result",
          "data": {
            "text/html": [
              "<div>\n",
              "<style scoped>\n",
              "    .dataframe tbody tr th:only-of-type {\n",
              "        vertical-align: middle;\n",
              "    }\n",
              "\n",
              "    .dataframe tbody tr th {\n",
              "        vertical-align: top;\n",
              "    }\n",
              "\n",
              "    .dataframe thead th {\n",
              "        text-align: right;\n",
              "    }\n",
              "</style>\n",
              "<table border=\"1\" class=\"dataframe\">\n",
              "  <thead>\n",
              "    <tr style=\"text-align: right;\">\n",
              "      <th></th>\n",
              "      <th>index</th>\n",
              "      <th>Status</th>\n",
              "    </tr>\n",
              "  </thead>\n",
              "  <tbody>\n",
              "    <tr>\n",
              "      <th>0</th>\n",
              "      <td>dead</td>\n",
              "      <td>168</td>\n",
              "    </tr>\n",
              "    <tr>\n",
              "      <th>1</th>\n",
              "      <td>censored</td>\n",
              "      <td>125</td>\n",
              "    </tr>\n",
              "    <tr>\n",
              "      <th>2</th>\n",
              "      <td>transplant</td>\n",
              "      <td>19</td>\n",
              "    </tr>\n",
              "  </tbody>\n",
              "</table>\n",
              "</div>"
            ],
            "text/plain": [
              "        index  Status\n",
              "0        dead     168\n",
              "1    censored     125\n",
              "2  transplant      19"
            ]
          },
          "metadata": {
            "tags": []
          },
          "execution_count": 22
        }
      ]
    },
    {
      "cell_type": "code",
      "metadata": {
        "colab": {
          "base_uri": "https://localhost:8080/",
          "height": 295
        },
        "id": "8_Z1yw1CZgzy",
        "outputId": "9be54757-7675-4be1-9472-c2b1333679d9"
      },
      "source": [
        "sns.barplot(x='index', y='Status', data=status)\n",
        "plt.ylabel('Incident Count')\n",
        "plt.xlabel('Censoring Type')"
      ],
      "execution_count": 23,
      "outputs": [
        {
          "output_type": "execute_result",
          "data": {
            "text/plain": [
              "Text(0.5, 0, 'Censoring Type')"
            ]
          },
          "metadata": {
            "tags": []
          },
          "execution_count": 23
        },
        {
          "output_type": "display_data",
          "data": {
            "image/png": "[encoded data removed]",
            "text/plain": [
              "<Figure size 432x288 with 1 Axes>"
            ]
          },
          "metadata": {
            "tags": [],
            "needs_background": "light"
          }
        }
      ]
    },
    {
      "cell_type": "markdown",
      "metadata": {
        "id": "nwggvvR1h0KM"
      },
      "source": [
        "# What are the categories in the variable **Treatment**?"
      ]
    },
    {
      "cell_type": "code",
      "metadata": {
        "colab": {
          "base_uri": "https://localhost:8080/",
          "height": 107
        },
        "id": "9xMB8ZC0eGP1",
        "outputId": "043def0e-ccc4-46bd-e97f-3de0320d994c"
      },
      "source": [
        "treat = pd.DataFrame(pbc['Treatment'].value_counts())\n",
        "treat.reset_index(level=0, inplace=True)\n",
        "treat"
      ],
      "execution_count": 24,
      "outputs": [
        {
          "output_type": "execute_result",
          "data": {
            "text/html": [
              "<div>\n",
              "<style scoped>\n",
              "    .dataframe tbody tr th:only-of-type {\n",
              "        vertical-align: middle;\n",
              "    }\n",
              "\n",
              "    .dataframe tbody tr th {\n",
              "        vertical-align: top;\n",
              "    }\n",
              "\n",
              "    .dataframe thead th {\n",
              "        text-align: right;\n",
              "    }\n",
              "</style>\n",
              "<table border=\"1\" class=\"dataframe\">\n",
              "  <thead>\n",
              "    <tr style=\"text-align: right;\">\n",
              "      <th></th>\n",
              "      <th>index</th>\n",
              "      <th>Treatment</th>\n",
              "    </tr>\n",
              "  </thead>\n",
              "  <tbody>\n",
              "    <tr>\n",
              "      <th>0</th>\n",
              "      <td>penicillamine</td>\n",
              "      <td>158</td>\n",
              "    </tr>\n",
              "    <tr>\n",
              "      <th>1</th>\n",
              "      <td>placebo</td>\n",
              "      <td>154</td>\n",
              "    </tr>\n",
              "  </tbody>\n",
              "</table>\n",
              "</div>"
            ],
            "text/plain": [
              "           index  Treatment\n",
              "0  penicillamine        158\n",
              "1        placebo        154"
            ]
          },
          "metadata": {
            "tags": []
          },
          "execution_count": 24
        }
      ]
    },
    {
      "cell_type": "code",
      "metadata": {
        "colab": {
          "base_uri": "https://localhost:8080/",
          "height": 295
        },
        "id": "wg1BvTeZh4OO",
        "outputId": "f9c783d0-0cdc-4b08-9ab2-e67aa6a58945"
      },
      "source": [
        "sns.barplot(x='index', y='Treatment', data=treat)\n",
        "plt.ylabel('Incident Count')\n",
        "plt.xlabel('Treatment Group')"
      ],
      "execution_count": 25,
      "outputs": [
        {
          "output_type": "execute_result",
          "data": {
            "text/plain": [
              "Text(0.5, 0, 'Treatment Group')"
            ]
          },
          "metadata": {
            "tags": []
          },
          "execution_count": 25
        },
        {
          "output_type": "display_data",
          "data": {
            "image/png": "[encoded data removed]",
            "text/plain": [
              "<Figure size 432x288 with 1 Axes>"
            ]
          },
          "metadata": {
            "tags": [],
            "needs_background": "light"
          }
        }
      ]
    },
    {
      "cell_type": "markdown",
      "metadata": {
        "id": "9fC7UUXpiPKr"
      },
      "source": [
        "# What are the categories in the variable **Sex**?"
      ]
    },
    {
      "cell_type": "code",
      "metadata": {
        "colab": {
          "base_uri": "https://localhost:8080/",
          "height": 107
        },
        "id": "IcNBX7a5iFEN",
        "outputId": "850981be-5afa-453f-b104-e04c1b89206a"
      },
      "source": [
        "sex = pd.DataFrame(pbc['Sex'].value_counts())\n",
        "sex.reset_index(level=0, inplace=True)\n",
        "sex"
      ],
      "execution_count": 26,
      "outputs": [
        {
          "output_type": "execute_result",
          "data": {
            "text/html": [
              "<div>\n",
              "<style scoped>\n",
              "    .dataframe tbody tr th:only-of-type {\n",
              "        vertical-align: middle;\n",
              "    }\n",
              "\n",
              "    .dataframe tbody tr th {\n",
              "        vertical-align: top;\n",
              "    }\n",
              "\n",
              "    .dataframe thead th {\n",
              "        text-align: right;\n",
              "    }\n",
              "</style>\n",
              "<table border=\"1\" class=\"dataframe\">\n",
              "  <thead>\n",
              "    <tr style=\"text-align: right;\">\n",
              "      <th></th>\n",
              "      <th>index</th>\n",
              "      <th>Sex</th>\n",
              "    </tr>\n",
              "  </thead>\n",
              "  <tbody>\n",
              "    <tr>\n",
              "      <th>0</th>\n",
              "      <td>F</td>\n",
              "      <td>276</td>\n",
              "    </tr>\n",
              "    <tr>\n",
              "      <th>1</th>\n",
              "      <td>M</td>\n",
              "      <td>36</td>\n",
              "    </tr>\n",
              "  </tbody>\n",
              "</table>\n",
              "</div>"
            ],
            "text/plain": [
              "  index  Sex\n",
              "0     F  276\n",
              "1     M   36"
            ]
          },
          "metadata": {
            "tags": []
          },
          "execution_count": 26
        }
      ]
    },
    {
      "cell_type": "code",
      "metadata": {
        "colab": {
          "base_uri": "https://localhost:8080/",
          "height": 295
        },
        "id": "sZmHdoOXiXXa",
        "outputId": "f5d910db-6d4b-490d-835a-686c5219d1b5"
      },
      "source": [
        "sns.barplot(x='index', y='Sex', data=sex)\n",
        "plt.ylabel('Incident Count')\n",
        "plt.xlabel('Sex')"
      ],
      "execution_count": 27,
      "outputs": [
        {
          "output_type": "execute_result",
          "data": {
            "text/plain": [
              "Text(0.5, 0, 'Sex')"
            ]
          },
          "metadata": {
            "tags": []
          },
          "execution_count": 27
        },
        {
          "output_type": "display_data",
          "data": {
            "image/png": "[encoded data removed]",
            "text/plain": [
              "<Figure size 432x288 with 1 Axes>"
            ]
          },
          "metadata": {
            "tags": [],
            "needs_background": "light"
          }
        }
      ]
    },
    {
      "cell_type": "markdown",
      "metadata": {
        "id": "f7nvzaGpimOh"
      },
      "source": [
        "# What are the categories in the variable **Ascites**?"
      ]
    },
    {
      "cell_type": "code",
      "metadata": {
        "colab": {
          "base_uri": "https://localhost:8080/",
          "height": 107
        },
        "id": "ofQ8bKPyibyK",
        "outputId": "d035d697-6a1b-4ac1-b72c-90333d1381d9"
      },
      "source": [
        "ascites = pd.DataFrame(pbc['Ascites'].value_counts())\n",
        "ascites.reset_index(level=0, inplace=True)\n",
        "ascites"
      ],
      "execution_count": 28,
      "outputs": [
        {
          "output_type": "execute_result",
          "data": {
            "text/html": [
              "<div>\n",
              "<style scoped>\n",
              "    .dataframe tbody tr th:only-of-type {\n",
              "        vertical-align: middle;\n",
              "    }\n",
              "\n",
              "    .dataframe tbody tr th {\n",
              "        vertical-align: top;\n",
              "    }\n",
              "\n",
              "    .dataframe thead th {\n",
              "        text-align: right;\n",
              "    }\n",
              "</style>\n",
              "<table border=\"1\" class=\"dataframe\">\n",
              "  <thead>\n",
              "    <tr style=\"text-align: right;\">\n",
              "      <th></th>\n",
              "      <th>index</th>\n",
              "      <th>Ascites</th>\n",
              "    </tr>\n",
              "  </thead>\n",
              "  <tbody>\n",
              "    <tr>\n",
              "      <th>0</th>\n",
              "      <td>no</td>\n",
              "      <td>288</td>\n",
              "    </tr>\n",
              "    <tr>\n",
              "      <th>1</th>\n",
              "      <td>yes</td>\n",
              "      <td>24</td>\n",
              "    </tr>\n",
              "  </tbody>\n",
              "</table>\n",
              "</div>"
            ],
            "text/plain": [
              "  index  Ascites\n",
              "0    no      288\n",
              "1   yes       24"
            ]
          },
          "metadata": {
            "tags": []
          },
          "execution_count": 28
        }
      ]
    },
    {
      "cell_type": "code",
      "metadata": {
        "colab": {
          "base_uri": "https://localhost:8080/",
          "height": 298
        },
        "id": "63R6Uamnip-h",
        "outputId": "353061bc-fad6-43f3-c800-1bd45a629f77"
      },
      "source": [
        "sns.barplot(x='index', y='Ascites', data=ascites)\n",
        "plt.ylabel('Incident Count')\n",
        "plt.xlabel('Ascites Presence')"
      ],
      "execution_count": 29,
      "outputs": [
        {
          "output_type": "execute_result",
          "data": {
            "text/plain": [
              "Text(0.5, 0, 'Ascites Presence')"
            ]
          },
          "metadata": {
            "tags": []
          },
          "execution_count": 29
        },
        {
          "output_type": "display_data",
          "data": {
            "image/png": "[encoded data removed]",
            "text/plain": [
              "<Figure size 432x288 with 1 Axes>"
            ]
          },
          "metadata": {
            "tags": [],
            "needs_background": "light"
          }
        }
      ]
    },
    {
      "cell_type": "markdown",
      "metadata": {
        "id": "74XpZ7HKsrwJ"
      },
      "source": [
        "# What are the categories in the variable **Hepatomegaly**?"
      ]
    },
    {
      "cell_type": "code",
      "metadata": {
        "colab": {
          "base_uri": "https://localhost:8080/",
          "height": 107
        },
        "id": "2wYdz1uRiyjJ",
        "outputId": "6072f636-6ec9-496e-e068-d5a480bd8c1d"
      },
      "source": [
        "hepato = pd.DataFrame(pbc['Hepatomegaly'].value_counts())\n",
        "hepato.reset_index(level=0, inplace=True)\n",
        "hepato"
      ],
      "execution_count": 30,
      "outputs": [
        {
          "output_type": "execute_result",
          "data": {
            "text/html": [
              "<div>\n",
              "<style scoped>\n",
              "    .dataframe tbody tr th:only-of-type {\n",
              "        vertical-align: middle;\n",
              "    }\n",
              "\n",
              "    .dataframe tbody tr th {\n",
              "        vertical-align: top;\n",
              "    }\n",
              "\n",
              "    .dataframe thead th {\n",
              "        text-align: right;\n",
              "    }\n",
              "</style>\n",
              "<table border=\"1\" class=\"dataframe\">\n",
              "  <thead>\n",
              "    <tr style=\"text-align: right;\">\n",
              "      <th></th>\n",
              "      <th>index</th>\n",
              "      <th>Hepatomegaly</th>\n",
              "    </tr>\n",
              "  </thead>\n",
              "  <tbody>\n",
              "    <tr>\n",
              "      <th>0</th>\n",
              "      <td>yes</td>\n",
              "      <td>160</td>\n",
              "    </tr>\n",
              "    <tr>\n",
              "      <th>1</th>\n",
              "      <td>no</td>\n",
              "      <td>152</td>\n",
              "    </tr>\n",
              "  </tbody>\n",
              "</table>\n",
              "</div>"
            ],
            "text/plain": [
              "  index  Hepatomegaly\n",
              "0   yes           160\n",
              "1    no           152"
            ]
          },
          "metadata": {
            "tags": []
          },
          "execution_count": 30
        }
      ]
    },
    {
      "cell_type": "code",
      "metadata": {
        "colab": {
          "base_uri": "https://localhost:8080/",
          "height": 295
        },
        "id": "dBRsx0uQswMP",
        "outputId": "5821cf5b-a172-4d1a-ae0d-332eabbf884a"
      },
      "source": [
        "sns.barplot(x='index', y='Hepatomegaly', data=hepato)\n",
        "plt.ylabel('Incident Count')\n",
        "plt.xlabel('Hepatomegaly Presence')"
      ],
      "execution_count": 31,
      "outputs": [
        {
          "output_type": "execute_result",
          "data": {
            "text/plain": [
              "Text(0.5, 0, 'Hepatomegaly Presence')"
            ]
          },
          "metadata": {
            "tags": []
          },
          "execution_count": 31
        },
        {
          "output_type": "display_data",
          "data": {
            "image/png": "[encoded data removed]",
            "text/plain": [
              "<Figure size 432x288 with 1 Axes>"
            ]
          },
          "metadata": {
            "tags": [],
            "needs_background": "light"
          }
        }
      ]
    },
    {
      "cell_type": "markdown",
      "metadata": {
        "id": "HOjHrv0_tARq"
      },
      "source": [
        "# What are the categories in the variable **SpiderAngiomata**?"
      ]
    },
    {
      "cell_type": "code",
      "metadata": {
        "colab": {
          "base_uri": "https://localhost:8080/",
          "height": 107
        },
        "id": "MWksf8QQs67L",
        "outputId": "827dc750-8297-4e00-c25e-e5244cbb3192"
      },
      "source": [
        "spider = pd.DataFrame(pbc['SpiderAngiomata'].value_counts())\n",
        "spider.reset_index(level=0, inplace=True)\n",
        "spider"
      ],
      "execution_count": 32,
      "outputs": [
        {
          "output_type": "execute_result",
          "data": {
            "text/html": [
              "<div>\n",
              "<style scoped>\n",
              "    .dataframe tbody tr th:only-of-type {\n",
              "        vertical-align: middle;\n",
              "    }\n",
              "\n",
              "    .dataframe tbody tr th {\n",
              "        vertical-align: top;\n",
              "    }\n",
              "\n",
              "    .dataframe thead th {\n",
              "        text-align: right;\n",
              "    }\n",
              "</style>\n",
              "<table border=\"1\" class=\"dataframe\">\n",
              "  <thead>\n",
              "    <tr style=\"text-align: right;\">\n",
              "      <th></th>\n",
              "      <th>index</th>\n",
              "      <th>SpiderAngiomata</th>\n",
              "    </tr>\n",
              "  </thead>\n",
              "  <tbody>\n",
              "    <tr>\n",
              "      <th>0</th>\n",
              "      <td>no</td>\n",
              "      <td>222</td>\n",
              "    </tr>\n",
              "    <tr>\n",
              "      <th>1</th>\n",
              "      <td>yes</td>\n",
              "      <td>90</td>\n",
              "    </tr>\n",
              "  </tbody>\n",
              "</table>\n",
              "</div>"
            ],
            "text/plain": [
              "  index  SpiderAngiomata\n",
              "0    no              222\n",
              "1   yes               90"
            ]
          },
          "metadata": {
            "tags": []
          },
          "execution_count": 32
        }
      ]
    },
    {
      "cell_type": "code",
      "metadata": {
        "colab": {
          "base_uri": "https://localhost:8080/",
          "height": 295
        },
        "id": "VCZnlT41tE18",
        "outputId": "24f376a3-5ffa-40c1-aa76-387fe586d8b0"
      },
      "source": [
        "sns.barplot(x='index', y='SpiderAngiomata', data=spider)\n",
        "plt.ylabel('Incident Count')\n",
        "plt.xlabel('Spider Angimata Presence')"
      ],
      "execution_count": 33,
      "outputs": [
        {
          "output_type": "execute_result",
          "data": {
            "text/plain": [
              "Text(0.5, 0, 'Spider Angimata Presence')"
            ]
          },
          "metadata": {
            "tags": []
          },
          "execution_count": 33
        },
        {
          "output_type": "display_data",
          "data": {
            "image/png": "[encoded data removed]",
            "text/plain": [
              "<Figure size 432x288 with 1 Axes>"
            ]
          },
          "metadata": {
            "tags": [],
            "needs_background": "light"
          }
        }
      ]
    },
    {
      "cell_type": "markdown",
      "metadata": {
        "id": "m53o8lKUtQn5"
      },
      "source": [
        "# What are the categories in the variable **Edema**?"
      ]
    },
    {
      "cell_type": "code",
      "metadata": {
        "colab": {
          "base_uri": "https://localhost:8080/",
          "height": 137
        },
        "id": "2Kwfrk6RtMmX",
        "outputId": "f53e5f07-d289-4e90-e6bd-916c7e47a312"
      },
      "source": [
        "edema = pd.DataFrame(pbc['Edema'].value_counts())\n",
        "edema.reset_index(level=0, inplace=True)\n",
        "edema"
      ],
      "execution_count": 34,
      "outputs": [
        {
          "output_type": "execute_result",
          "data": {
            "text/html": [
              "<div>\n",
              "<style scoped>\n",
              "    .dataframe tbody tr th:only-of-type {\n",
              "        vertical-align: middle;\n",
              "    }\n",
              "\n",
              "    .dataframe tbody tr th {\n",
              "        vertical-align: top;\n",
              "    }\n",
              "\n",
              "    .dataframe thead th {\n",
              "        text-align: right;\n",
              "    }\n",
              "</style>\n",
              "<table border=\"1\" class=\"dataframe\">\n",
              "  <thead>\n",
              "    <tr style=\"text-align: right;\">\n",
              "      <th></th>\n",
              "      <th>index</th>\n",
              "      <th>Edema</th>\n",
              "    </tr>\n",
              "  </thead>\n",
              "  <tbody>\n",
              "    <tr>\n",
              "      <th>0</th>\n",
              "      <td>absent</td>\n",
              "      <td>263</td>\n",
              "    </tr>\n",
              "    <tr>\n",
              "      <th>1</th>\n",
              "      <td>diurese</td>\n",
              "      <td>29</td>\n",
              "    </tr>\n",
              "    <tr>\n",
              "      <th>2</th>\n",
              "      <td>present</td>\n",
              "      <td>20</td>\n",
              "    </tr>\n",
              "  </tbody>\n",
              "</table>\n",
              "</div>"
            ],
            "text/plain": [
              "     index  Edema\n",
              "0   absent    263\n",
              "1  diurese     29\n",
              "2  present     20"
            ]
          },
          "metadata": {
            "tags": []
          },
          "execution_count": 34
        }
      ]
    },
    {
      "cell_type": "code",
      "metadata": {
        "colab": {
          "base_uri": "https://localhost:8080/",
          "height": 295
        },
        "id": "9Cd5TMnntUZi",
        "outputId": "f5509ef7-79a2-4ae0-88df-2d9279406c20"
      },
      "source": [
        "sns.barplot(x='index', y='Edema', data=edema)\n",
        "plt.ylabel('Incident Count')\n",
        "plt.xlabel('Edema Status')"
      ],
      "execution_count": 35,
      "outputs": [
        {
          "output_type": "execute_result",
          "data": {
            "text/plain": [
              "Text(0.5, 0, 'Edema Status')"
            ]
          },
          "metadata": {
            "tags": []
          },
          "execution_count": 35
        },
        {
          "output_type": "display_data",
          "data": {
            "image/png": "[encoded data removed]",
            "text/plain": [
              "<Figure size 432x288 with 1 Axes>"
            ]
          },
          "metadata": {
            "tags": [],
            "needs_background": "light"
          }
        }
      ]
    },
    {
      "cell_type": "markdown",
      "metadata": {
        "id": "I-xFn5vcthSE"
      },
      "source": [
        "# What are the categories in the variable **HistologyStage**?"
      ]
    },
    {
      "cell_type": "code",
      "metadata": {
        "colab": {
          "base_uri": "https://localhost:8080/",
          "height": 167
        },
        "id": "qSe4oW6BtdU8",
        "outputId": "1cf6c032-29f0-40dd-a39c-e85295f91b13"
      },
      "source": [
        "histo = pd.DataFrame(pbc['HistologyStage'].value_counts())\n",
        "histo.reset_index(level=0, inplace=True)\n",
        "histo"
      ],
      "execution_count": 36,
      "outputs": [
        {
          "output_type": "execute_result",
          "data": {
            "text/html": [
              "<div>\n",
              "<style scoped>\n",
              "    .dataframe tbody tr th:only-of-type {\n",
              "        vertical-align: middle;\n",
              "    }\n",
              "\n",
              "    .dataframe tbody tr th {\n",
              "        vertical-align: top;\n",
              "    }\n",
              "\n",
              "    .dataframe thead th {\n",
              "        text-align: right;\n",
              "    }\n",
              "</style>\n",
              "<table border=\"1\" class=\"dataframe\">\n",
              "  <thead>\n",
              "    <tr style=\"text-align: right;\">\n",
              "      <th></th>\n",
              "      <th>index</th>\n",
              "      <th>HistologyStage</th>\n",
              "    </tr>\n",
              "  </thead>\n",
              "  <tbody>\n",
              "    <tr>\n",
              "      <th>0</th>\n",
              "      <td>3.0</td>\n",
              "      <td>120</td>\n",
              "    </tr>\n",
              "    <tr>\n",
              "      <th>1</th>\n",
              "      <td>4.0</td>\n",
              "      <td>109</td>\n",
              "    </tr>\n",
              "    <tr>\n",
              "      <th>2</th>\n",
              "      <td>2.0</td>\n",
              "      <td>67</td>\n",
              "    </tr>\n",
              "    <tr>\n",
              "      <th>3</th>\n",
              "      <td>1.0</td>\n",
              "      <td>16</td>\n",
              "    </tr>\n",
              "  </tbody>\n",
              "</table>\n",
              "</div>"
            ],
            "text/plain": [
              "   index  HistologyStage\n",
              "0    3.0             120\n",
              "1    4.0             109\n",
              "2    2.0              67\n",
              "3    1.0              16"
            ]
          },
          "metadata": {
            "tags": []
          },
          "execution_count": 36
        }
      ]
    },
    {
      "cell_type": "code",
      "metadata": {
        "colab": {
          "base_uri": "https://localhost:8080/",
          "height": 295
        },
        "id": "iGesWvPztl90",
        "outputId": "58be1cf8-3cc7-4cc2-eeaa-edc4c4722e58"
      },
      "source": [
        "sns.barplot(x='index', y='HistologyStage', data=histo)\n",
        "plt.ylabel('Incident Count')\n",
        "plt.xlabel('Histology Staging')"
      ],
      "execution_count": 37,
      "outputs": [
        {
          "output_type": "execute_result",
          "data": {
            "text/plain": [
              "Text(0.5, 0, 'Histology Staging')"
            ]
          },
          "metadata": {
            "tags": []
          },
          "execution_count": 37
        },
        {
          "output_type": "display_data",
          "data": {
            "image/png": "[encoded data removed]",
            "text/plain": [
              "<Figure size 432x288 with 1 Axes>"
            ]
          },
          "metadata": {
            "tags": [],
            "needs_background": "light"
          }
        }
      ]
    },
    {
      "cell_type": "code",
      "metadata": {
        "id": "yFf-LisettdR"
      },
      "source": [
        ""
      ],
      "execution_count": 37,
      "outputs": []
    }
  ]
}