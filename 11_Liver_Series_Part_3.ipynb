{
  "nbformat": 4,
  "nbformat_minor": 0,
  "metadata": {
    "colab": {
      "name": "11 - Liver Series - Part 3.ipynb",
      "provenance": [],
      "collapsed_sections": []
    },
    "kernelspec": {
      "display_name": "Python 3",
      "name": "python3"
    },
    "language_info": {
      "name": "python"
    }
  },
  "cells": [
    {
      "cell_type": "markdown",
      "metadata": {
        "id": "14rUVt8oQtat"
      },
      "source": [
        "# Liver Series - Part 3\n",
        "In this third installment of our series we will be performing analysis on both categorical and continuous variables. Some of the tests we will use are:\n",
        "* student t-test\n",
        "* ANOVA\n",
        "* Mann-Whitney\n",
        "* Kruskal-Wallis"
      ]
    },
    {
      "cell_type": "code",
      "metadata": {
        "colab": {
          "base_uri": "https://localhost:8080/"
        },
        "id": "JOY2tZMWPnXb",
        "outputId": "e42d7840-9a25-43e8-be5f-0f551e5f65b7"
      },
      "source": [
        "# Import the necessary libraries needed\n",
        "\n",
        "import pandas as pd\n",
        "import numpy as np\n",
        "import scipy.stats as stats\n",
        "from scipy.stats import f_oneway\n",
        "from scipy.stats import mannwhitneyu\n",
        "from scipy.stats import kruskal\n",
        "\n",
        "# We only need this library to be able to perform QQ plot\n",
        "import statsmodels.api as sm"
      ],
      "execution_count": 1,
      "outputs": [
        {
          "output_type": "stream",
          "text": [
            "/usr/local/lib/python3.7/dist-packages/statsmodels/tools/_testing.py:19: FutureWarning: pandas.util.testing is deprecated. Use the functions in the public API at pandas.testing instead.\n",
            "  import pandas.util.testing as tm\n"
          ],
          "name": "stderr"
        }
      ]
    },
    {
      "cell_type": "code",
      "metadata": {
        "colab": {
          "base_uri": "https://localhost:8080/",
          "height": 16
        },
        "id": "VOk18Z3bSq8V",
        "outputId": "6893fde9-ec15-4ddc-e5c8-d0bb7198c11b"
      },
      "source": [
        "# We need this additional code (again) to be able to display tables/dataframes in one output.\n",
        "\n",
        "from IPython.display import display, HTML\n",
        "\n",
        "CSS = \"\"\"\n",
        ".output {\n",
        "    flex-direction: row;\n",
        "}\n",
        "\"\"\"\n",
        "\n",
        "HTML('<style>{}</style>'.format(CSS))"
      ],
      "execution_count": 2,
      "outputs": [
        {
          "output_type": "execute_result",
          "data": {
            "text/html": [
              "<style>\n",
              ".output {\n",
              "    flex-direction: row;\n",
              "}\n",
              "</style>"
            ],
            "text/plain": [
              "<IPython.core.display.HTML object>"
            ]
          },
          "metadata": {
            "tags": []
          },
          "execution_count": 2
        }
      ]
    },
    {
      "cell_type": "markdown",
      "metadata": {
        "id": "Oolno_3OSl6Q"
      },
      "source": [
        "# What does our dataset look like?"
      ]
    },
    {
      "cell_type": "code",
      "metadata": {
        "colab": {
          "base_uri": "https://localhost:8080/",
          "height": 217
        },
        "id": "-DH0kcgpSmZC",
        "outputId": "312aa88c-8196-4639-8f38-5309a3de93bb"
      },
      "source": [
        "pbc = pd.read_csv('primary biliary cirrhosis RCT mod1.csv')\n",
        "pbc.head()"
      ],
      "execution_count": 3,
      "outputs": [
        {
          "output_type": "execute_result",
          "data": {
            "text/html": [
              "<div>\n",
              "<style scoped>\n",
              "    .dataframe tbody tr th:only-of-type {\n",
              "        vertical-align: middle;\n",
              "    }\n",
              "\n",
              "    .dataframe tbody tr th {\n",
              "        vertical-align: top;\n",
              "    }\n",
              "\n",
              "    .dataframe thead th {\n",
              "        text-align: right;\n",
              "    }\n",
              "</style>\n",
              "<table border=\"1\" class=\"dataframe\">\n",
              "  <thead>\n",
              "    <tr style=\"text-align: right;\">\n",
              "      <th></th>\n",
              "      <th>PatientID</th>\n",
              "      <th>DaySurvival</th>\n",
              "      <th>Status</th>\n",
              "      <th>Treatment</th>\n",
              "      <th>AgeYrs</th>\n",
              "      <th>Sex</th>\n",
              "      <th>Ascites</th>\n",
              "      <th>Hepatomegaly</th>\n",
              "      <th>SpiderAngiomata</th>\n",
              "      <th>Edema</th>\n",
              "      <th>Bilirubin</th>\n",
              "      <th>Cholesterol</th>\n",
              "      <th>Albumin</th>\n",
              "      <th>Copper</th>\n",
              "      <th>ALP</th>\n",
              "      <th>AST</th>\n",
              "      <th>Triglyceride</th>\n",
              "      <th>Platelet</th>\n",
              "      <th>Protime</th>\n",
              "      <th>HistologyStage</th>\n",
              "    </tr>\n",
              "  </thead>\n",
              "  <tbody>\n",
              "    <tr>\n",
              "      <th>0</th>\n",
              "      <td>1</td>\n",
              "      <td>400</td>\n",
              "      <td>censored</td>\n",
              "      <td>penicillamine</td>\n",
              "      <td>58.77</td>\n",
              "      <td>F</td>\n",
              "      <td>yes</td>\n",
              "      <td>yes</td>\n",
              "      <td>yes</td>\n",
              "      <td>present</td>\n",
              "      <td>14.5</td>\n",
              "      <td>261.0</td>\n",
              "      <td>2.60</td>\n",
              "      <td>156.0</td>\n",
              "      <td>1718.0</td>\n",
              "      <td>137.95</td>\n",
              "      <td>172.0</td>\n",
              "      <td>190.0</td>\n",
              "      <td>12.2</td>\n",
              "      <td>4.0</td>\n",
              "    </tr>\n",
              "    <tr>\n",
              "      <th>1</th>\n",
              "      <td>2</td>\n",
              "      <td>4500</td>\n",
              "      <td>dead</td>\n",
              "      <td>penicillamine</td>\n",
              "      <td>56.45</td>\n",
              "      <td>F</td>\n",
              "      <td>no</td>\n",
              "      <td>yes</td>\n",
              "      <td>yes</td>\n",
              "      <td>absent</td>\n",
              "      <td>1.1</td>\n",
              "      <td>302.0</td>\n",
              "      <td>4.14</td>\n",
              "      <td>54.0</td>\n",
              "      <td>7394.8</td>\n",
              "      <td>113.52</td>\n",
              "      <td>88.0</td>\n",
              "      <td>221.0</td>\n",
              "      <td>10.6</td>\n",
              "      <td>3.0</td>\n",
              "    </tr>\n",
              "    <tr>\n",
              "      <th>2</th>\n",
              "      <td>3</td>\n",
              "      <td>1012</td>\n",
              "      <td>censored</td>\n",
              "      <td>penicillamine</td>\n",
              "      <td>70.07</td>\n",
              "      <td>M</td>\n",
              "      <td>no</td>\n",
              "      <td>no</td>\n",
              "      <td>no</td>\n",
              "      <td>diurese</td>\n",
              "      <td>1.4</td>\n",
              "      <td>176.0</td>\n",
              "      <td>3.48</td>\n",
              "      <td>210.0</td>\n",
              "      <td>516.0</td>\n",
              "      <td>96.10</td>\n",
              "      <td>55.0</td>\n",
              "      <td>151.0</td>\n",
              "      <td>12.0</td>\n",
              "      <td>4.0</td>\n",
              "    </tr>\n",
              "    <tr>\n",
              "      <th>3</th>\n",
              "      <td>4</td>\n",
              "      <td>1925</td>\n",
              "      <td>censored</td>\n",
              "      <td>penicillamine</td>\n",
              "      <td>54.74</td>\n",
              "      <td>F</td>\n",
              "      <td>no</td>\n",
              "      <td>yes</td>\n",
              "      <td>yes</td>\n",
              "      <td>diurese</td>\n",
              "      <td>1.8</td>\n",
              "      <td>244.0</td>\n",
              "      <td>2.54</td>\n",
              "      <td>64.0</td>\n",
              "      <td>6121.8</td>\n",
              "      <td>60.63</td>\n",
              "      <td>92.0</td>\n",
              "      <td>183.0</td>\n",
              "      <td>10.3</td>\n",
              "      <td>4.0</td>\n",
              "    </tr>\n",
              "    <tr>\n",
              "      <th>4</th>\n",
              "      <td>5</td>\n",
              "      <td>1504</td>\n",
              "      <td>transplant</td>\n",
              "      <td>placebo</td>\n",
              "      <td>38.11</td>\n",
              "      <td>F</td>\n",
              "      <td>no</td>\n",
              "      <td>yes</td>\n",
              "      <td>yes</td>\n",
              "      <td>absent</td>\n",
              "      <td>3.4</td>\n",
              "      <td>279.0</td>\n",
              "      <td>3.53</td>\n",
              "      <td>143.0</td>\n",
              "      <td>671.0</td>\n",
              "      <td>113.15</td>\n",
              "      <td>72.0</td>\n",
              "      <td>136.0</td>\n",
              "      <td>10.9</td>\n",
              "      <td>3.0</td>\n",
              "    </tr>\n",
              "  </tbody>\n",
              "</table>\n",
              "</div>"
            ],
            "text/plain": [
              "   PatientID  DaySurvival      Status  ... Platelet  Protime HistologyStage\n",
              "0          1          400    censored  ...    190.0     12.2            4.0\n",
              "1          2         4500        dead  ...    221.0     10.6            3.0\n",
              "2          3         1012    censored  ...    151.0     12.0            4.0\n",
              "3          4         1925    censored  ...    183.0     10.3            4.0\n",
              "4          5         1504  transplant  ...    136.0     10.9            3.0\n",
              "\n",
              "[5 rows x 20 columns]"
            ]
          },
          "metadata": {
            "tags": []
          },
          "execution_count": 3
        }
      ]
    },
    {
      "cell_type": "code",
      "metadata": {
        "id": "xa6-uw90b9v5"
      },
      "source": [
        "# We will then drop all the null values that coincides with the Treatment variable, \n",
        "#just like what we did in Part 2.\n",
        "\n",
        "pbc = pbc.dropna(subset=['Treatment'])\n",
        "\n",
        "# Then the remaining variables that still have null values are \n",
        "#continuous variables: Cholesterol, Copper, Triglyceride, and Platelet.\n",
        "\n",
        "pbc['Cholesterol'].fillna(value=pbc['Cholesterol'].mean(), inplace=True)\n",
        "pbc['Copper'].fillna(value=pbc['Copper'].mean(), inplace=True)\n",
        "pbc['Triglyceride'].fillna(value=pbc['Triglyceride'].mean(), inplace=True)\n",
        "pbc['Platelet'].fillna(value=pbc['Platelet'].mean(), inplace=True)\n",
        "\n",
        "# We will also convert our variable HistologyStage from integer to string\n",
        "pbc['HistologyStage'] = pbc['HistologyStage'].apply(str)\n",
        "pbc['HistologyStage'].replace('1.0', 'Stage1', inplace=True)\n",
        "pbc['HistologyStage'].replace('2.0', 'Stage2', inplace=True)\n",
        "pbc['HistologyStage'].replace('3.0', 'Stage3', inplace=True)\n",
        "pbc['HistologyStage'].replace('4.0', 'Stage4', inplace=True)"
      ],
      "execution_count": 4,
      "outputs": []
    },
    {
      "cell_type": "markdown",
      "metadata": {
        "id": "vU66WSsSmqLV"
      },
      "source": [
        "# Create a subset for the categorical variables"
      ]
    },
    {
      "cell_type": "code",
      "metadata": {
        "id": "4rXKOmZ8mpJ8"
      },
      "source": [
        "# Histology Stage\n",
        "Stage1 = pbc[pbc['HistologyStage'] == 'Stage1']\n",
        "Stage2 = pbc[pbc['HistologyStage'] == 'Stage2']\n",
        "Stage3 = pbc[pbc['HistologyStage'] == 'Stage3']\n",
        "Stage4 = pbc[pbc['HistologyStage'] == 'Stage4']\n",
        "\n",
        "# Hepatomegaly\n",
        "nohepato = pbc[pbc['Hepatomegaly'] == 'no']\n",
        "yeshepato = pbc[pbc['Hepatomegaly'] == 'yes']\n",
        "\n",
        "# Edema\n",
        "present = pbc[pbc['Edema'] == 'present']\n",
        "diurese = pbc[pbc['Edema'] == 'diurese']\n",
        "absent = pbc[pbc['Edema'] == 'absent']\n",
        "\n",
        "# Censoring Status\n",
        "dead = pbc[pbc['Status'] == 'dead']\n",
        "censored = pbc[pbc['Status'] == 'censored']\n",
        "transplant = pbc[pbc['Status'] == 'transplant']\n",
        "\n",
        "# Spider angiomata\n",
        "nospider = pbc[pbc['SpiderAngiomata'] == 'no']\n",
        "yesspider = pbc[pbc['SpiderAngiomata'] == 'yes']\n",
        "\n",
        "# Treatment group\n",
        "penicillamine = pbc[pbc['Treatment'] == 'penicillamine']\n",
        "placebo = pbc[pbc['Treatment'] == 'placebo']\n",
        "\n",
        "# Sex\n",
        "female = pbc[pbc['Sex'] == 'F']\n",
        "male = pbc[pbc['Sex'] == 'M']\n",
        "\n",
        "# Ascites\n",
        "noascites = pbc[pbc['Ascites'] == 'no']\n",
        "yesascites = pbc[pbc['Ascites'] == 'yes']"
      ],
      "execution_count": 5,
      "outputs": []
    },
    {
      "cell_type": "markdown",
      "metadata": {
        "id": "HE6XEqQqT0Mo"
      },
      "source": [
        "# Parametric or not, that is the question?\n",
        "When we did the Part 1 of our series, we are able to visualize our continuous variables. From there, we are able to know which among them has a gaussian curve. Most of them don't have the gaussian distribution, except for  variables: **AgeYrs**, **Platelet** and **Albumin**.\n",
        "<br>\n",
        "We will be performing parametric tests on these 3 variables. However, we first need to visualize them in QQ plot to really see if they indeed have gaussian distribution."
      ]
    },
    {
      "cell_type": "code",
      "metadata": {
        "colab": {
          "base_uri": "https://localhost:8080/",
          "height": 544
        },
        "id": "IYMeynica-jr",
        "outputId": "9c8098d4-0808-4847-f350-73239cc72062"
      },
      "source": [
        "AgeYrs = pbc['AgeYrs']\n",
        "sm.qqplot(AgeYrs, line='45')"
      ],
      "execution_count": 6,
      "outputs": [
        {
          "output_type": "execute_result",
          "data": {
            "image/png": "[encoded data removed]",
            "text/plain": [
              "<Figure size 432x288 with 1 Axes>"
            ]
          },
          "metadata": {
            "tags": []
          },
          "execution_count": 6
        },
        {
          "output_type": "display_data",
          "data": {
            "image/png": "[encoded data removed]",
            "text/plain": [
              "<Figure size 432x288 with 1 Axes>"
            ]
          },
          "metadata": {
            "tags": [],
            "needs_background": "light"
          }
        }
      ]
    },
    {
      "cell_type": "code",
      "metadata": {
        "colab": {
          "base_uri": "https://localhost:8080/",
          "height": 541
        },
        "id": "_LN-7YZfHk4l",
        "outputId": "f20fc879-e233-464f-835c-0f5e240921a0"
      },
      "source": [
        "Platelet = pbc['Platelet']\n",
        "sm.qqplot(Platelet, line='45')"
      ],
      "execution_count": 7,
      "outputs": [
        {
          "output_type": "execute_result",
          "data": {
            "image/png": "[encoded data removed]",
            "text/plain": [
              "<Figure size 432x288 with 1 Axes>"
            ]
          },
          "metadata": {
            "tags": []
          },
          "execution_count": 7
        },
        {
          "output_type": "display_data",
          "data": {
            "image/png": "[encoded data removed]",
            "text/plain": [
              "<Figure size 432x288 with 1 Axes>"
            ]
          },
          "metadata": {
            "tags": [],
            "needs_background": "light"
          }
        }
      ]
    },
    {
      "cell_type": "code",
      "metadata": {
        "colab": {
          "base_uri": "https://localhost:8080/",
          "height": 541
        },
        "id": "UGCCw_hPNcZ5",
        "outputId": "a5fe67e2-b1ef-42ad-edba-b152bcdbdd1e"
      },
      "source": [
        "Albumin = pbc['Albumin']\n",
        "sm.qqplot(Albumin, line='45')"
      ],
      "execution_count": 8,
      "outputs": [
        {
          "output_type": "execute_result",
          "data": {
            "image/png": "[encoded data removed]",
            "text/plain": [
              "<Figure size 432x288 with 1 Axes>"
            ]
          },
          "metadata": {
            "tags": []
          },
          "execution_count": 8
        },
        {
          "output_type": "display_data",
          "data": {
            "image/png": "[encoded data removed]",
            "text/plain": [
              "<Figure size 432x288 with 1 Axes>"
            ]
          },
          "metadata": {
            "tags": [],
            "needs_background": "light"
          }
        }
      ]
    },
    {
      "cell_type": "markdown",
      "metadata": {
        "id": "RWI7C5YuPEJS"
      },
      "source": [
        "Apparently, even though our variables look like they have gaussian distribution (see Part 1), they didn't pass our QQ plot However, we will do both parametric and non-parametric tests on these variables just to compare."
      ]
    },
    {
      "cell_type": "markdown",
      "metadata": {
        "id": "ONVdxn_YQqVZ"
      },
      "source": [
        "# DaySurvival - Kruskal-Wallis test\n",
        "* $H_0$: The median day survival of the groups are equal.\n",
        "* $H_0$: $\\tilde{x}_{1}$ = $\\tilde{x}_{2}$ = $\\tilde{x}_{n}$\n",
        "* $H_1$: The median day survival of one or more groups are not equal.\n",
        "* $\\alpha = 0.05$"
      ]
    },
    {
      "cell_type": "markdown",
      "metadata": {
        "id": "xRjnENpPSEUf"
      },
      "source": [
        "## Edema\n",
        "* $H_0$: The median day survival of the groups with edema, diuresed edema, and absent edema are equal.\n",
        "* $H_0$: $\\widetilde{x}_{present}$ = $\\widetilde{x}_{diurese}$ = $\\widetilde{x}_{absent}$\n",
        "* $H_1$: At least one of the median of the group is not equal.\n",
        "* $\\alpha = 0.05$"
      ]
    },
    {
      "cell_type": "code",
      "metadata": {
        "colab": {
          "base_uri": "https://localhost:8080/",
          "height": 107
        },
        "id": "O3bCKEZbRvdT",
        "outputId": "4b65c119-5549-4925-8412-a03a90cf2e7a"
      },
      "source": [
        "# Subset array\n",
        "presentDS = present['DaySurvival']\n",
        "diureseDS = diurese['DaySurvival']\n",
        "absentDS = absent['DaySurvival']\n",
        "\n",
        "# Perform the Kruskal-Wallis test\n",
        "KWH, pval = kruskal(presentDS, diureseDS, absentDS)\n",
        "\n",
        "result = pd.DataFrame([KWH, pval], \n",
        "                      index=['KWH statistics', 'p-value'],\n",
        "                      columns=['Result'])\n",
        "result"
      ],
      "execution_count": 9,
      "outputs": [
        {
          "output_type": "execute_result",
          "data": {
            "text/html": [
              "<div>\n",
              "<style scoped>\n",
              "    .dataframe tbody tr th:only-of-type {\n",
              "        vertical-align: middle;\n",
              "    }\n",
              "\n",
              "    .dataframe tbody tr th {\n",
              "        vertical-align: top;\n",
              "    }\n",
              "\n",
              "    .dataframe thead th {\n",
              "        text-align: right;\n",
              "    }\n",
              "</style>\n",
              "<table border=\"1\" class=\"dataframe\">\n",
              "  <thead>\n",
              "    <tr style=\"text-align: right;\">\n",
              "      <th></th>\n",
              "      <th>Result</th>\n",
              "    </tr>\n",
              "  </thead>\n",
              "  <tbody>\n",
              "    <tr>\n",
              "      <th>KWH statistics</th>\n",
              "      <td>4.155500e+01</td>\n",
              "    </tr>\n",
              "    <tr>\n",
              "      <th>p-value</th>\n",
              "      <td>9.472097e-10</td>\n",
              "    </tr>\n",
              "  </tbody>\n",
              "</table>\n",
              "</div>"
            ],
            "text/plain": [
              "                      Result\n",
              "KWH statistics  4.155500e+01\n",
              "p-value         9.472097e-10"
            ]
          },
          "metadata": {
            "tags": []
          },
          "execution_count": 9
        }
      ]
    },
    {
      "cell_type": "markdown",
      "metadata": {
        "id": "1LwgUcIZYcp-"
      },
      "source": [
        "### Result and Interpretation\n",
        "Our result revealed that:\n",
        "<br>\n",
        "p-value = 9.47e-10 $<$ $\\alpha = 0.05$\n",
        "<br>\n",
        "We will **reject** our null hypothesis. At least one in our groups' median is not equal."
      ]
    },
    {
      "cell_type": "markdown",
      "metadata": {
        "id": "UAP1J-Rycg-Q"
      },
      "source": [
        "## Censoring Status\n",
        "* $H_0$: The median of the day survival of with status dead, transplant, censored are equal.\n",
        "* $H_0$: $\\widetilde{x}_{dead}$ = $\\widetilde{x}_{transplant}$ = $\\widetilde{x}_{status}$\n",
        "* $H_1$: At least one of the median of the group is not equal.\n",
        "* $\\alpha = 0.05$"
      ]
    },
    {
      "cell_type": "code",
      "metadata": {
        "colab": {
          "base_uri": "https://localhost:8080/",
          "height": 107
        },
        "id": "NaDvzzXBUR9T",
        "outputId": "8cefacb0-8832-49a7-dc2a-fbce3494f153"
      },
      "source": [
        "# Subset array\n",
        "deadDS = dead['DaySurvival']\n",
        "censoredDS = censored['DaySurvival']\n",
        "transplantDS = transplant['DaySurvival']\n",
        "\n",
        "# Perform the Kruskal-Wallis test\n",
        "KWH, pval = kruskal(deadDS, censoredDS, transplantDS)\n",
        "\n",
        "result = pd.DataFrame([KWH, pval], \n",
        "                      index=['KWH statistics', 'p-value'],\n",
        "                      columns=['Result'])\n",
        "result"
      ],
      "execution_count": 10,
      "outputs": [
        {
          "output_type": "execute_result",
          "data": {
            "text/html": [
              "<div>\n",
              "<style scoped>\n",
              "    .dataframe tbody tr th:only-of-type {\n",
              "        vertical-align: middle;\n",
              "    }\n",
              "\n",
              "    .dataframe tbody tr th {\n",
              "        vertical-align: top;\n",
              "    }\n",
              "\n",
              "    .dataframe thead th {\n",
              "        text-align: right;\n",
              "    }\n",
              "</style>\n",
              "<table border=\"1\" class=\"dataframe\">\n",
              "  <thead>\n",
              "    <tr style=\"text-align: right;\">\n",
              "      <th></th>\n",
              "      <th>Result</th>\n",
              "    </tr>\n",
              "  </thead>\n",
              "  <tbody>\n",
              "    <tr>\n",
              "      <th>KWH statistics</th>\n",
              "      <td>6.367708e+01</td>\n",
              "    </tr>\n",
              "    <tr>\n",
              "      <th>p-value</th>\n",
              "      <td>1.488323e-14</td>\n",
              "    </tr>\n",
              "  </tbody>\n",
              "</table>\n",
              "</div>"
            ],
            "text/plain": [
              "                      Result\n",
              "KWH statistics  6.367708e+01\n",
              "p-value         1.488323e-14"
            ]
          },
          "metadata": {
            "tags": []
          },
          "execution_count": 10
        }
      ]
    },
    {
      "cell_type": "markdown",
      "metadata": {
        "id": "25noZFH0dstT"
      },
      "source": [
        "### Result and Interpretation\n",
        "Our result revealed that:\n",
        "<br>\n",
        "p-value = 1.488e-14 $<$ $\\alpha = 0.05$\n",
        "<br>\n",
        "We will **reject** our null hypothesis. At least one of the groups' median is not equal."
      ]
    },
    {
      "cell_type": "markdown",
      "metadata": {
        "id": "wTpoua7tgVw2"
      },
      "source": [
        "## Histology Stage\n",
        "* $H_0$: The median of the day survival of the groups histology stage (Stage 1, 2, 3, 4) are equal.\n",
        "* $H_0$: $\\widetilde{x}_{stg1}$ = $\\widetilde{x}_{stg2}$ = $\\widetilde{x}_{stg3}$ = $\\tilde{x}_{stg4}$\n",
        "* $H_1$: At least one of the median of the group is not equal.\n",
        "* $\\alpha = 0.05$"
      ]
    },
    {
      "cell_type": "code",
      "metadata": {
        "colab": {
          "base_uri": "https://localhost:8080/",
          "height": 107
        },
        "id": "2ZnNTsLQgTyQ",
        "outputId": "3979a365-45ea-4877-df2c-977043322118"
      },
      "source": [
        "# Subset array\n",
        "Stage1DS = Stage1['DaySurvival']\n",
        "Stage2DS = Stage2['DaySurvival']\n",
        "Stage3DS = Stage3['DaySurvival']\n",
        "Stage4DS = Stage4['DaySurvival']\n",
        "\n",
        "# Perform the Kruskal-Wallis test\n",
        "KWH, pval = kruskal(Stage1DS, Stage2DS, Stage3DS, Stage4DS)\n",
        "\n",
        "result = pd.DataFrame([KWH, pval], \n",
        "                      index=['KWH statistics', 'p-value'],\n",
        "                      columns=['Result'])\n",
        "result"
      ],
      "execution_count": 11,
      "outputs": [
        {
          "output_type": "execute_result",
          "data": {
            "text/html": [
              "<div>\n",
              "<style scoped>\n",
              "    .dataframe tbody tr th:only-of-type {\n",
              "        vertical-align: middle;\n",
              "    }\n",
              "\n",
              "    .dataframe tbody tr th {\n",
              "        vertical-align: top;\n",
              "    }\n",
              "\n",
              "    .dataframe thead th {\n",
              "        text-align: right;\n",
              "    }\n",
              "</style>\n",
              "<table border=\"1\" class=\"dataframe\">\n",
              "  <thead>\n",
              "    <tr style=\"text-align: right;\">\n",
              "      <th></th>\n",
              "      <th>Result</th>\n",
              "    </tr>\n",
              "  </thead>\n",
              "  <tbody>\n",
              "    <tr>\n",
              "      <th>KWH statistics</th>\n",
              "      <td>4.912940e+01</td>\n",
              "    </tr>\n",
              "    <tr>\n",
              "      <th>p-value</th>\n",
              "      <td>1.224282e-10</td>\n",
              "    </tr>\n",
              "  </tbody>\n",
              "</table>\n",
              "</div>"
            ],
            "text/plain": [
              "                      Result\n",
              "KWH statistics  4.912940e+01\n",
              "p-value         1.224282e-10"
            ]
          },
          "metadata": {
            "tags": []
          },
          "execution_count": 11
        }
      ]
    },
    {
      "cell_type": "markdown",
      "metadata": {
        "id": "GnIT3uf_hgGj"
      },
      "source": [
        "### Result and Interpretation\n",
        "Our result revealed that:\n",
        "<br>\n",
        "p-value = 1.22e-10 $<$ $\\alpha = 0.05$\n",
        "<br>\n",
        "We will **reject** our null hypothesis. At least one of the groups' median is not equal."
      ]
    },
    {
      "cell_type": "markdown",
      "metadata": {
        "id": "Uzy_xPbWQzBQ"
      },
      "source": [
        "# DaySurvival - Mann-Whitney U test\n",
        "* $H_0$: There is no difference in the day survival between the 2 groups.\n",
        "* $H_1$: There is a difference in the day survival between the 2 groups.\n",
        "* $\\alpha = 0.05$\n"
      ]
    },
    {
      "cell_type": "markdown",
      "metadata": {
        "id": "RkUugycDixSZ"
      },
      "source": [
        "## Spider Angiomata\n",
        "* $H_0$: There is no difference in the day survival between the group with spider angiomata and those without.\n",
        "* $H_1$: There is a significant difference in the day survival between having or not having spider angiomata.\n",
        "* $\\alpha = 0.05$"
      ]
    },
    {
      "cell_type": "code",
      "metadata": {
        "colab": {
          "base_uri": "https://localhost:8080/",
          "height": 107
        },
        "id": "P0qBG-SeOgSs",
        "outputId": "a9edf2aa-5ed3-4434-f479-73a9e07c3c9e"
      },
      "source": [
        "# Subset array\n",
        "nospiderDS = nospider['DaySurvival']\n",
        "yesspiderDS = yesspider['DaySurvival']\n",
        "\n",
        "# Perform the Mann-Whitney U test\n",
        "MWU, pval = mannwhitneyu(yesspiderDS, nospiderDS)\n",
        "\n",
        "result = pd.DataFrame([MWU, pval], \n",
        "                      index=['MWU statistics', 'p-value'],\n",
        "                      columns=['Result'])\n",
        "result"
      ],
      "execution_count": 12,
      "outputs": [
        {
          "output_type": "execute_result",
          "data": {
            "text/html": [
              "<div>\n",
              "<style scoped>\n",
              "    .dataframe tbody tr th:only-of-type {\n",
              "        vertical-align: middle;\n",
              "    }\n",
              "\n",
              "    .dataframe tbody tr th {\n",
              "        vertical-align: top;\n",
              "    }\n",
              "\n",
              "    .dataframe thead th {\n",
              "        text-align: right;\n",
              "    }\n",
              "</style>\n",
              "<table border=\"1\" class=\"dataframe\">\n",
              "  <thead>\n",
              "    <tr style=\"text-align: right;\">\n",
              "      <th></th>\n",
              "      <th>Result</th>\n",
              "    </tr>\n",
              "  </thead>\n",
              "  <tbody>\n",
              "    <tr>\n",
              "      <th>MWU statistics</th>\n",
              "      <td>6594.000000</td>\n",
              "    </tr>\n",
              "    <tr>\n",
              "      <th>p-value</th>\n",
              "      <td>0.000001</td>\n",
              "    </tr>\n",
              "  </tbody>\n",
              "</table>\n",
              "</div>"
            ],
            "text/plain": [
              "                     Result\n",
              "MWU statistics  6594.000000\n",
              "p-value            0.000001"
            ]
          },
          "metadata": {
            "tags": []
          },
          "execution_count": 12
        }
      ]
    },
    {
      "cell_type": "markdown",
      "metadata": {
        "id": "8eDFuIxllVPR"
      },
      "source": [
        "### Result and Interpretation\n",
        "Our result revealed that:\n",
        "<br>\n",
        "p-value = 0.000001 $<$ $\\alpha = 0.05$\n",
        "<br>\n",
        "We will **reject** our null hypothesis. There is a significant difference in the day survival between having or not having spider angiomata."
      ]
    },
    {
      "cell_type": "markdown",
      "metadata": {
        "id": "xY7rkuVQlpok"
      },
      "source": [
        "## Hepatomegaly\n",
        "* $H_0$: There is no difference in the day survival between the group with hepatomegaly and those without.\n",
        "* $H_1$: There is a significant difference in the day survival between having or not having hepatomegaly.\n",
        "* $\\alpha = 0.05$"
      ]
    },
    {
      "cell_type": "code",
      "metadata": {
        "colab": {
          "base_uri": "https://localhost:8080/",
          "height": 107
        },
        "id": "Y_op5g7qPNco",
        "outputId": "678363df-d68d-47a2-c99b-011d29b1a7d6"
      },
      "source": [
        "# Subset array\n",
        "nohepatoDS = nohepato['DaySurvival']\n",
        "yeshepatoDS = yeshepato['DaySurvival']\n",
        "\n",
        "# Perform the Mann-Whitney U test\n",
        "MWU, pval = mannwhitneyu(yeshepatoDS, nohepatoDS)\n",
        "\n",
        "result = pd.DataFrame([MWU, pval], \n",
        "                      index=['MWU statistics', 'p-value'],\n",
        "                      columns=['Result'])\n",
        "result"
      ],
      "execution_count": 13,
      "outputs": [
        {
          "output_type": "execute_result",
          "data": {
            "text/html": [
              "<div>\n",
              "<style scoped>\n",
              "    .dataframe tbody tr th:only-of-type {\n",
              "        vertical-align: middle;\n",
              "    }\n",
              "\n",
              "    .dataframe tbody tr th {\n",
              "        vertical-align: top;\n",
              "    }\n",
              "\n",
              "    .dataframe thead th {\n",
              "        text-align: right;\n",
              "    }\n",
              "</style>\n",
              "<table border=\"1\" class=\"dataframe\">\n",
              "  <thead>\n",
              "    <tr style=\"text-align: right;\">\n",
              "      <th></th>\n",
              "      <th>Result</th>\n",
              "    </tr>\n",
              "  </thead>\n",
              "  <tbody>\n",
              "    <tr>\n",
              "      <th>MWU statistics</th>\n",
              "      <td>7.959000e+03</td>\n",
              "    </tr>\n",
              "    <tr>\n",
              "      <th>p-value</th>\n",
              "      <td>6.674977e-08</td>\n",
              "    </tr>\n",
              "  </tbody>\n",
              "</table>\n",
              "</div>"
            ],
            "text/plain": [
              "                      Result\n",
              "MWU statistics  7.959000e+03\n",
              "p-value         6.674977e-08"
            ]
          },
          "metadata": {
            "tags": []
          },
          "execution_count": 13
        }
      ]
    },
    {
      "cell_type": "markdown",
      "metadata": {
        "id": "_vGPs6TDoIXx"
      },
      "source": [
        "### Result and Interpretation\n",
        "Our result revealed that:\n",
        "<br>\n",
        "p-value = 6.67e-8 $<$ $\\alpha = 0.05$\n",
        "<br>\n",
        "We will **reject** our null hypothesis. There is a significant difference in the day survival between having or not having hepatomegaly."
      ]
    },
    {
      "cell_type": "markdown",
      "metadata": {
        "id": "uCkJJlFUoZuC"
      },
      "source": [
        "## Ascites\n",
        "* $H_0$: There is no difference in the day survival between the group with ascites and those without.\n",
        "* $H_1$: There is a significant difference in the day survival between having or not having ascites.\n",
        "* $\\alpha = 0.05$"
      ]
    },
    {
      "cell_type": "code",
      "metadata": {
        "colab": {
          "base_uri": "https://localhost:8080/",
          "height": 107
        },
        "id": "DMI0R37koEpL",
        "outputId": "19f96726-28f2-4ada-dc70-cb84b171989b"
      },
      "source": [
        "# Subset array\n",
        "noascitesDS = noascites['DaySurvival']\n",
        "yesascitesDS = yesascites['DaySurvival']\n",
        "\n",
        "# Perform the Mann-Whitney U test\n",
        "MWU, pval = mannwhitneyu(yesascitesDS, noascitesDS)\n",
        "\n",
        "result = pd.DataFrame([MWU, pval], \n",
        "                      index=['MWU statistics', 'p-value'],\n",
        "                      columns=['Result'])\n",
        "result"
      ],
      "execution_count": 14,
      "outputs": [
        {
          "output_type": "execute_result",
          "data": {
            "text/html": [
              "<div>\n",
              "<style scoped>\n",
              "    .dataframe tbody tr th:only-of-type {\n",
              "        vertical-align: middle;\n",
              "    }\n",
              "\n",
              "    .dataframe tbody tr th {\n",
              "        vertical-align: top;\n",
              "    }\n",
              "\n",
              "    .dataframe thead th {\n",
              "        text-align: right;\n",
              "    }\n",
              "</style>\n",
              "<table border=\"1\" class=\"dataframe\">\n",
              "  <thead>\n",
              "    <tr style=\"text-align: right;\">\n",
              "      <th></th>\n",
              "      <th>Result</th>\n",
              "    </tr>\n",
              "  </thead>\n",
              "  <tbody>\n",
              "    <tr>\n",
              "      <th>MWU statistics</th>\n",
              "      <td>1.133000e+03</td>\n",
              "    </tr>\n",
              "    <tr>\n",
              "      <th>p-value</th>\n",
              "      <td>2.252504e-08</td>\n",
              "    </tr>\n",
              "  </tbody>\n",
              "</table>\n",
              "</div>"
            ],
            "text/plain": [
              "                      Result\n",
              "MWU statistics  1.133000e+03\n",
              "p-value         2.252504e-08"
            ]
          },
          "metadata": {
            "tags": []
          },
          "execution_count": 14
        }
      ]
    },
    {
      "cell_type": "markdown",
      "metadata": {
        "id": "mCBUYOuoor_y"
      },
      "source": [
        "### Result and Interpretation\n",
        "Our result revealed that:\n",
        "<br>\n",
        "p-value = 2.25e-8 $<$ $\\alpha = 0.05$\n",
        "<br>\n",
        "We will **reject** our null hypothesis. There is a significant difference in the day survival between having or not having ascites."
      ]
    },
    {
      "cell_type": "markdown",
      "metadata": {
        "id": "Rf76mRVdo3ta"
      },
      "source": [
        "## Sex\n",
        "* $H_0$: There is no difference in the day survival between male and female.\n",
        "* $H_1$: There is a significant difference in the day survival between male and female.\n",
        "* $\\alpha = 0.05$"
      ]
    },
    {
      "cell_type": "code",
      "metadata": {
        "colab": {
          "base_uri": "https://localhost:8080/",
          "height": 107
        },
        "id": "oiYR0eChop1G",
        "outputId": "856525b5-3e40-49d5-ea85-393d0c7641d0"
      },
      "source": [
        "# Subset array\n",
        "maleDS = male['DaySurvival']\n",
        "femaleDS = female['DaySurvival']\n",
        "\n",
        "# Perform the Mann-Whitney U test\n",
        "MWU, pval = mannwhitneyu(femaleDS, maleDS)\n",
        "\n",
        "result = pd.DataFrame([MWU, pval], \n",
        "                      index=['MWU statistics', 'p-value'],\n",
        "                      columns=['Result'])\n",
        "result"
      ],
      "execution_count": 15,
      "outputs": [
        {
          "output_type": "execute_result",
          "data": {
            "text/html": [
              "<div>\n",
              "<style scoped>\n",
              "    .dataframe tbody tr th:only-of-type {\n",
              "        vertical-align: middle;\n",
              "    }\n",
              "\n",
              "    .dataframe tbody tr th {\n",
              "        vertical-align: top;\n",
              "    }\n",
              "\n",
              "    .dataframe thead th {\n",
              "        text-align: right;\n",
              "    }\n",
              "</style>\n",
              "<table border=\"1\" class=\"dataframe\">\n",
              "  <thead>\n",
              "    <tr style=\"text-align: right;\">\n",
              "      <th></th>\n",
              "      <th>Result</th>\n",
              "    </tr>\n",
              "  </thead>\n",
              "  <tbody>\n",
              "    <tr>\n",
              "      <th>MWU statistics</th>\n",
              "      <td>4529.000000</td>\n",
              "    </tr>\n",
              "    <tr>\n",
              "      <th>p-value</th>\n",
              "      <td>0.194521</td>\n",
              "    </tr>\n",
              "  </tbody>\n",
              "</table>\n",
              "</div>"
            ],
            "text/plain": [
              "                     Result\n",
              "MWU statistics  4529.000000\n",
              "p-value            0.194521"
            ]
          },
          "metadata": {
            "tags": []
          },
          "execution_count": 15
        }
      ]
    },
    {
      "cell_type": "markdown",
      "metadata": {
        "id": "z4souB6MpLiJ"
      },
      "source": [
        "### Result and Interpretation\n",
        "Our result revealed that:\n",
        "<br>\n",
        "p-value = 0.194521 $>$ $\\alpha = 0.05$\n",
        "<br>\n",
        "We will **not reject** our null hypothesis. There is no significant difference in the day survival between female and male."
      ]
    },
    {
      "cell_type": "markdown",
      "metadata": {
        "id": "bqyyXT2npYE6"
      },
      "source": [
        "## Treatment group\n",
        "* $H_0$: There is no difference in the day survival between penicillamine and placebo treatment group.\n",
        "* $H_1$: There is a significant difference in the day survival between penicillamine and placebo treatment group.\n",
        "* $\\alpha = 0.05$"
      ]
    },
    {
      "cell_type": "code",
      "metadata": {
        "colab": {
          "base_uri": "https://localhost:8080/",
          "height": 107
        },
        "id": "CYLtwrM9pINQ",
        "outputId": "a4b3c542-88f8-4504-97df-1494dfba9eeb"
      },
      "source": [
        "# Subset array\n",
        "penicillamineDS = penicillamine['DaySurvival']\n",
        "placeboDS = placebo['DaySurvival']\n",
        "\n",
        "# Perform the Mann-Whitney U test\n",
        "MWU, pval = mannwhitneyu(penicillamineDS, placeboDS)\n",
        "\n",
        "result = pd.DataFrame([MWU, pval], \n",
        "                      index=['MWU statistics', 'p-value'],\n",
        "                      columns=['Result'])\n",
        "result"
      ],
      "execution_count": 16,
      "outputs": [
        {
          "output_type": "execute_result",
          "data": {
            "text/html": [
              "<div>\n",
              "<style scoped>\n",
              "    .dataframe tbody tr th:only-of-type {\n",
              "        vertical-align: middle;\n",
              "    }\n",
              "\n",
              "    .dataframe tbody tr th {\n",
              "        vertical-align: top;\n",
              "    }\n",
              "\n",
              "    .dataframe thead th {\n",
              "        text-align: right;\n",
              "    }\n",
              "</style>\n",
              "<table border=\"1\" class=\"dataframe\">\n",
              "  <thead>\n",
              "    <tr style=\"text-align: right;\">\n",
              "      <th></th>\n",
              "      <th>Result</th>\n",
              "    </tr>\n",
              "  </thead>\n",
              "  <tbody>\n",
              "    <tr>\n",
              "      <th>MWU statistics</th>\n",
              "      <td>11991.500000</td>\n",
              "    </tr>\n",
              "    <tr>\n",
              "      <th>p-value</th>\n",
              "      <td>0.413554</td>\n",
              "    </tr>\n",
              "  </tbody>\n",
              "</table>\n",
              "</div>"
            ],
            "text/plain": [
              "                      Result\n",
              "MWU statistics  11991.500000\n",
              "p-value             0.413554"
            ]
          },
          "metadata": {
            "tags": []
          },
          "execution_count": 16
        }
      ]
    },
    {
      "cell_type": "markdown",
      "metadata": {
        "id": "Tjv9LH8vp8li"
      },
      "source": [
        "### Result and Interpretation\n",
        "Our result revealed that:\n",
        "<br>\n",
        "p-value = 0.413554 $>$ $\\alpha = 0.05$\n",
        "<br>\n",
        "We will **not reject** our null hypothesis. There is no significant difference in the day survival between penicillamine and placebo treatment group."
      ]
    },
    {
      "cell_type": "markdown",
      "metadata": {
        "id": "Hy38oDUpqWIu"
      },
      "source": [
        "# Bilirubin - Kruskal-Wallis test\n",
        "* $H_0$: The median bilrubin level of the groups are equal.\n",
        "* $H_0$: $\\widetilde{x}_{1}$ = $\\widetilde{x}_{2}$ = $\\widetilde{x}_{n}$\n",
        "* $H_1$: The median bilrubin level of one or more groups are not equal.\n",
        "* $\\alpha = 0.05$"
      ]
    },
    {
      "cell_type": "markdown",
      "metadata": {
        "id": "rCEvfypOqrs6"
      },
      "source": [
        "## Edema\n",
        "* $H_0$: The median bilirubin level of the groups with edema, diuresed edema, and absent edema are equal.\n",
        "* $H_0$: $\\widetilde{x}_{present}$ = $\\widetilde{x}_{diurese}$ = $\\widetilde{x}_{absent}$\n",
        "* $H_1$: At least one of the groups' median bilirubin level is not equal.\n",
        "* $\\alpha = 0.05$"
      ]
    },
    {
      "cell_type": "code",
      "metadata": {
        "colab": {
          "base_uri": "https://localhost:8080/",
          "height": 107
        },
        "id": "t_MaoP1Vp6fo",
        "outputId": "d45d1965-1020-4478-bb22-2993f15fdf3d"
      },
      "source": [
        "# Subset array\n",
        "presentBili = present['Bilirubin']\n",
        "diureseBili = diurese['Bilirubin']\n",
        "absentBili = absent['Bilirubin']\n",
        "\n",
        "# Perform the Kruskal-Wallis test\n",
        "KWH, pval = kruskal(presentBili, diureseBili, absentBili)\n",
        "\n",
        "result = pd.DataFrame([KWH, pval], \n",
        "                      index=['KWH statistics', 'p-value'],\n",
        "                      columns=['Result'])\n",
        "result"
      ],
      "execution_count": 17,
      "outputs": [
        {
          "output_type": "execute_result",
          "data": {
            "text/html": [
              "<div>\n",
              "<style scoped>\n",
              "    .dataframe tbody tr th:only-of-type {\n",
              "        vertical-align: middle;\n",
              "    }\n",
              "\n",
              "    .dataframe tbody tr th {\n",
              "        vertical-align: top;\n",
              "    }\n",
              "\n",
              "    .dataframe thead th {\n",
              "        text-align: right;\n",
              "    }\n",
              "</style>\n",
              "<table border=\"1\" class=\"dataframe\">\n",
              "  <thead>\n",
              "    <tr style=\"text-align: right;\">\n",
              "      <th></th>\n",
              "      <th>Result</th>\n",
              "    </tr>\n",
              "  </thead>\n",
              "  <tbody>\n",
              "    <tr>\n",
              "      <th>KWH statistics</th>\n",
              "      <td>3.004142e+01</td>\n",
              "    </tr>\n",
              "    <tr>\n",
              "      <th>p-value</th>\n",
              "      <td>2.996326e-07</td>\n",
              "    </tr>\n",
              "  </tbody>\n",
              "</table>\n",
              "</div>"
            ],
            "text/plain": [
              "                      Result\n",
              "KWH statistics  3.004142e+01\n",
              "p-value         2.996326e-07"
            ]
          },
          "metadata": {
            "tags": []
          },
          "execution_count": 17
        }
      ]
    },
    {
      "cell_type": "markdown",
      "metadata": {
        "id": "_H5tfVzrt8_O"
      },
      "source": [
        "### Result and Interpretation\n",
        "Our result revealed that:\n",
        "<br>\n",
        "p-value = 2.996e-7 $<$ $\\alpha = 0.05$\n",
        "<br>\n",
        "We will **reject** our null hypothesis. At least one in our groups' median bilirubin is not equal."
      ]
    },
    {
      "cell_type": "markdown",
      "metadata": {
        "id": "kdwE1FLCuYF4"
      },
      "source": [
        "## Censoring Status\n",
        "* $H_0$: The median bilirubin level of with status dead, transplant, censored are equal.\n",
        "* $H_0$: $\\widetilde{x}_{dead}$ = $\\widetilde{x}_{transplant}$ = $\\widetilde{x}_{status}$\n",
        "* $H_1$: At least one of the groups' median bilirubin level is not equal.\n",
        "* $\\alpha = 0.05$"
      ]
    },
    {
      "cell_type": "code",
      "metadata": {
        "colab": {
          "base_uri": "https://localhost:8080/",
          "height": 107
        },
        "id": "OMtAJihNvDe_",
        "outputId": "8652a593-dfba-4640-83bb-c29c1c3fed73"
      },
      "source": [
        "# Subset array\n",
        "deadBili = dead['Bilirubin']\n",
        "censoredBili = censored['Bilirubin']\n",
        "transplantBili = transplant['Bilirubin']\n",
        "\n",
        "# Perform the Kruskal-Wallis test\n",
        "KWH, pval = kruskal(deadBili, censoredBili, transplantBili)\n",
        "\n",
        "result = pd.DataFrame([KWH, pval], \n",
        "                      index=['KWH statistics', 'p-value'],\n",
        "                      columns=['Result'])\n",
        "result"
      ],
      "execution_count": 18,
      "outputs": [
        {
          "output_type": "execute_result",
          "data": {
            "text/html": [
              "<div>\n",
              "<style scoped>\n",
              "    .dataframe tbody tr th:only-of-type {\n",
              "        vertical-align: middle;\n",
              "    }\n",
              "\n",
              "    .dataframe tbody tr th {\n",
              "        vertical-align: top;\n",
              "    }\n",
              "\n",
              "    .dataframe thead th {\n",
              "        text-align: right;\n",
              "    }\n",
              "</style>\n",
              "<table border=\"1\" class=\"dataframe\">\n",
              "  <thead>\n",
              "    <tr style=\"text-align: right;\">\n",
              "      <th></th>\n",
              "      <th>Result</th>\n",
              "    </tr>\n",
              "  </thead>\n",
              "  <tbody>\n",
              "    <tr>\n",
              "      <th>KWH statistics</th>\n",
              "      <td>9.419165e+01</td>\n",
              "    </tr>\n",
              "    <tr>\n",
              "      <th>p-value</th>\n",
              "      <td>3.520009e-21</td>\n",
              "    </tr>\n",
              "  </tbody>\n",
              "</table>\n",
              "</div>"
            ],
            "text/plain": [
              "                      Result\n",
              "KWH statistics  9.419165e+01\n",
              "p-value         3.520009e-21"
            ]
          },
          "metadata": {
            "tags": []
          },
          "execution_count": 18
        }
      ]
    },
    {
      "cell_type": "markdown",
      "metadata": {
        "id": "hFIgl86jveDg"
      },
      "source": [
        "### Result and Interpretation\n",
        "Our result revealed that:\n",
        "<br>\n",
        "p-value = 3.5e-21 $<$ $\\alpha = 0.05$\n",
        "<br>\n",
        "We will **reject** our null hypothesis. At least one in our groups' median bilirubin is not equal."
      ]
    },
    {
      "cell_type": "markdown",
      "metadata": {
        "id": "1lAQDd3pvpqE"
      },
      "source": [
        "## Histology Stage\n",
        "* $H_0$: The median bilirubin level of the 4 histology stages are equal.\n",
        "* $H_0$: $\\widetilde{x}_{stg1}$ = $\\widetilde{x}_{stg2}$ = $\\widetilde{x}_{stg3}$ = $\\widetilde{x}_{stg4}$\n",
        "* $H_1$: At least one of the groups' median bilirubin level is not equal.\n",
        "* $\\alpha = 0.05$"
      ]
    },
    {
      "cell_type": "code",
      "metadata": {
        "colab": {
          "base_uri": "https://localhost:8080/",
          "height": 107
        },
        "id": "o8gCcc21wEuR",
        "outputId": "97445ff2-770e-453e-9668-97225748a8ed"
      },
      "source": [
        "# Subset array\n",
        "St1Bili = Stage1['Bilirubin']\n",
        "St2Bili = Stage2['Bilirubin']\n",
        "St3Bili = Stage3['Bilirubin']\n",
        "St4Bili = Stage4['Bilirubin']\n",
        "\n",
        "# Perform the Kruskal-Wallis test\n",
        "KWH, pval = kruskal(St1Bili, St2Bili, St3Bili, St4Bili)\n",
        "\n",
        "result = pd.DataFrame([KWH, pval], \n",
        "                      index=['KWH statistics', 'p-value'],\n",
        "                      columns=['Result'])\n",
        "result"
      ],
      "execution_count": 19,
      "outputs": [
        {
          "output_type": "execute_result",
          "data": {
            "text/html": [
              "<div>\n",
              "<style scoped>\n",
              "    .dataframe tbody tr th:only-of-type {\n",
              "        vertical-align: middle;\n",
              "    }\n",
              "\n",
              "    .dataframe tbody tr th {\n",
              "        vertical-align: top;\n",
              "    }\n",
              "\n",
              "    .dataframe thead th {\n",
              "        text-align: right;\n",
              "    }\n",
              "</style>\n",
              "<table border=\"1\" class=\"dataframe\">\n",
              "  <thead>\n",
              "    <tr style=\"text-align: right;\">\n",
              "      <th></th>\n",
              "      <th>Result</th>\n",
              "    </tr>\n",
              "  </thead>\n",
              "  <tbody>\n",
              "    <tr>\n",
              "      <th>KWH statistics</th>\n",
              "      <td>4.825396e+01</td>\n",
              "    </tr>\n",
              "    <tr>\n",
              "      <th>p-value</th>\n",
              "      <td>1.880308e-10</td>\n",
              "    </tr>\n",
              "  </tbody>\n",
              "</table>\n",
              "</div>"
            ],
            "text/plain": [
              "                      Result\n",
              "KWH statistics  4.825396e+01\n",
              "p-value         1.880308e-10"
            ]
          },
          "metadata": {
            "tags": []
          },
          "execution_count": 19
        }
      ]
    },
    {
      "cell_type": "markdown",
      "metadata": {
        "id": "UxMxrThtwXpW"
      },
      "source": [
        "### Result and Interpretation\n",
        "Our result revealed that:\n",
        "<br>\n",
        "p-value = 1.88e-10 $<$ $\\alpha = 0.05$\n",
        "<br>\n",
        "We will **reject** our null hypothesis. At least one in our groups' median bilirubin is not equal."
      ]
    },
    {
      "cell_type": "markdown",
      "metadata": {
        "id": "n8IKudaKqiGa"
      },
      "source": [
        "# Bilirubin - Mann-Whitney U test\n",
        "* $H_0$: There is no difference in the bilirubin level between the 2 groups.\n",
        "* $H_1$: There is a difference in the bilirubin level between the 2 groups.\n",
        "* $\\alpha = 0.05$\n"
      ]
    },
    {
      "cell_type": "markdown",
      "metadata": {
        "id": "gUAKFZA9wicr"
      },
      "source": [
        "## Spider Angiomata\n",
        "* $H_0$: There is no difference in the bilirubin level between the group with spider angiomata and those without.\n",
        "* $H_1$: There is a significant difference in the bilirubin level between having or not having spider angiomata.\n",
        "* $\\alpha = 0.05$"
      ]
    },
    {
      "cell_type": "code",
      "metadata": {
        "colab": {
          "base_uri": "https://localhost:8080/",
          "height": 107
        },
        "id": "NFE3uueWsHBv",
        "outputId": "543b97d6-d28f-4a71-c24b-8e721cbe7db2"
      },
      "source": [
        "# Subset array\n",
        "nospiderBili = nospider['Bilirubin']\n",
        "yesspiderBili = yesspider['Bilirubin']\n",
        "\n",
        "# Perform the Mann-Whitney U test\n",
        "MWU, pval = mannwhitneyu(yesspiderBili, nospiderBili)\n",
        "\n",
        "result = pd.DataFrame([MWU, pval], \n",
        "                      index=['MWU statistics', 'p-value'],\n",
        "                      columns=['Result'])\n",
        "result"
      ],
      "execution_count": 20,
      "outputs": [
        {
          "output_type": "execute_result",
          "data": {
            "text/html": [
              "<div>\n",
              "<style scoped>\n",
              "    .dataframe tbody tr th:only-of-type {\n",
              "        vertical-align: middle;\n",
              "    }\n",
              "\n",
              "    .dataframe tbody tr th {\n",
              "        vertical-align: top;\n",
              "    }\n",
              "\n",
              "    .dataframe thead th {\n",
              "        text-align: right;\n",
              "    }\n",
              "</style>\n",
              "<table border=\"1\" class=\"dataframe\">\n",
              "  <thead>\n",
              "    <tr style=\"text-align: right;\">\n",
              "      <th></th>\n",
              "      <th>Result</th>\n",
              "    </tr>\n",
              "  </thead>\n",
              "  <tbody>\n",
              "    <tr>\n",
              "      <th>MWU statistics</th>\n",
              "      <td>5.580000e+03</td>\n",
              "    </tr>\n",
              "    <tr>\n",
              "      <th>p-value</th>\n",
              "      <td>4.892149e-10</td>\n",
              "    </tr>\n",
              "  </tbody>\n",
              "</table>\n",
              "</div>"
            ],
            "text/plain": [
              "                      Result\n",
              "MWU statistics  5.580000e+03\n",
              "p-value         4.892149e-10"
            ]
          },
          "metadata": {
            "tags": []
          },
          "execution_count": 20
        }
      ]
    },
    {
      "cell_type": "markdown",
      "metadata": {
        "id": "gMHDmIJlw3w8"
      },
      "source": [
        "### Result and Interpretation\n",
        "Our result revealed that:\n",
        "<br>\n",
        "p-value = 4.89e-10 $<$ $\\alpha = 0.05$\n",
        "<br>\n",
        "We will **reject** our null hypothesis. There is a significant difference in the bilirubin level between having or not having spider angiomata."
      ]
    },
    {
      "cell_type": "markdown",
      "metadata": {
        "id": "1jopWZFfxDiT"
      },
      "source": [
        "## Hepatomegaly\n",
        "* $H_0$: There is no difference in the bilirubin level between the group with hepatomegaly and those without.\n",
        "* $H_1$: There is a significant difference in the bilirubin level between having or not having hepatomegaly.\n",
        "* $\\alpha = 0.05$"
      ]
    },
    {
      "cell_type": "code",
      "metadata": {
        "colab": {
          "base_uri": "https://localhost:8080/",
          "height": 107
        },
        "id": "nZr2tAZRwx9h",
        "outputId": "d1b21d4e-70f5-4bdf-837b-971cffdacba3"
      },
      "source": [
        "# Subset array\n",
        "nohepatoBili = nohepato['Bilirubin']\n",
        "yeshepatoBili = yeshepato['Bilirubin']\n",
        "\n",
        "# Perform the Mann-Whitney U test\n",
        "MWU, pval = mannwhitneyu(yeshepatoBili, nohepatoBili)\n",
        "\n",
        "result = pd.DataFrame([MWU, pval], \n",
        "                      index=['MWU statistics', 'p-value'],\n",
        "                      columns=['Result'])\n",
        "result"
      ],
      "execution_count": 21,
      "outputs": [
        {
          "output_type": "execute_result",
          "data": {
            "text/html": [
              "<div>\n",
              "<style scoped>\n",
              "    .dataframe tbody tr th:only-of-type {\n",
              "        vertical-align: middle;\n",
              "    }\n",
              "\n",
              "    .dataframe tbody tr th {\n",
              "        vertical-align: top;\n",
              "    }\n",
              "\n",
              "    .dataframe thead th {\n",
              "        text-align: right;\n",
              "    }\n",
              "</style>\n",
              "<table border=\"1\" class=\"dataframe\">\n",
              "  <thead>\n",
              "    <tr style=\"text-align: right;\">\n",
              "      <th></th>\n",
              "      <th>Result</th>\n",
              "    </tr>\n",
              "  </thead>\n",
              "  <tbody>\n",
              "    <tr>\n",
              "      <th>MWU statistics</th>\n",
              "      <td>6.684500e+03</td>\n",
              "    </tr>\n",
              "    <tr>\n",
              "      <th>p-value</th>\n",
              "      <td>3.003010e-12</td>\n",
              "    </tr>\n",
              "  </tbody>\n",
              "</table>\n",
              "</div>"
            ],
            "text/plain": [
              "                      Result\n",
              "MWU statistics  6.684500e+03\n",
              "p-value         3.003010e-12"
            ]
          },
          "metadata": {
            "tags": []
          },
          "execution_count": 21
        }
      ]
    },
    {
      "cell_type": "markdown",
      "metadata": {
        "id": "4kjfb300xnPe"
      },
      "source": [
        "### Result and Interpretation\n",
        "Our result revealed that:\n",
        "<br>\n",
        "p-value = 3.0e-12 $<$ $\\alpha = 0.05$\n",
        "<br>\n",
        "We will **reject** our null hypothesis. There is a significant difference in the bilirubin level between having or not having hepatomegaly."
      ]
    },
    {
      "cell_type": "markdown",
      "metadata": {
        "id": "Lxj82kxKx163"
      },
      "source": [
        "## Ascites\n",
        "* $H_0$: There is no difference in the bilirubin level between the group with ascites and those without.\n",
        "* $H_1$: There is a significant difference in the bilirubin level between having or not having ascites.\n",
        "* $\\alpha = 0.05$"
      ]
    },
    {
      "cell_type": "code",
      "metadata": {
        "colab": {
          "base_uri": "https://localhost:8080/",
          "height": 107
        },
        "id": "4w-pYXNixZL1",
        "outputId": "497bf423-6356-4d75-f37c-474010d2f546"
      },
      "source": [
        "# Subset array\n",
        "noascitesBili = noascites['Bilirubin']\n",
        "yesascitesBili = yesascites['Bilirubin']\n",
        "\n",
        "# Perform the Mann-Whitney U test\n",
        "MWU, pval = mannwhitneyu(noascitesBili, yesascitesBili)\n",
        "\n",
        "result = pd.DataFrame([MWU, pval], \n",
        "                      index=['MWU statistics', 'p-value'],\n",
        "                      columns=['Result'])\n",
        "result"
      ],
      "execution_count": 22,
      "outputs": [
        {
          "output_type": "execute_result",
          "data": {
            "text/html": [
              "<div>\n",
              "<style scoped>\n",
              "    .dataframe tbody tr th:only-of-type {\n",
              "        vertical-align: middle;\n",
              "    }\n",
              "\n",
              "    .dataframe tbody tr th {\n",
              "        vertical-align: top;\n",
              "    }\n",
              "\n",
              "    .dataframe thead th {\n",
              "        text-align: right;\n",
              "    }\n",
              "</style>\n",
              "<table border=\"1\" class=\"dataframe\">\n",
              "  <thead>\n",
              "    <tr style=\"text-align: right;\">\n",
              "      <th></th>\n",
              "      <th>Result</th>\n",
              "    </tr>\n",
              "  </thead>\n",
              "  <tbody>\n",
              "    <tr>\n",
              "      <th>MWU statistics</th>\n",
              "      <td>1.403500e+03</td>\n",
              "    </tr>\n",
              "    <tr>\n",
              "      <th>p-value</th>\n",
              "      <td>6.607539e-07</td>\n",
              "    </tr>\n",
              "  </tbody>\n",
              "</table>\n",
              "</div>"
            ],
            "text/plain": [
              "                      Result\n",
              "MWU statistics  1.403500e+03\n",
              "p-value         6.607539e-07"
            ]
          },
          "metadata": {
            "tags": []
          },
          "execution_count": 22
        }
      ]
    },
    {
      "cell_type": "markdown",
      "metadata": {
        "id": "zSwcYxsayoC-"
      },
      "source": [
        "### Result and Interpretation\n",
        "Our result revealed that:\n",
        "<br>\n",
        "p-value = 6.6e-7 $<$ $\\alpha = 0.05$\n",
        "<br>\n",
        "We will **reject** our null hypothesis. There is a significant difference in the bilirubin level between having or not having ascites."
      ]
    },
    {
      "cell_type": "markdown",
      "metadata": {
        "id": "d_SdFDDDzCDn"
      },
      "source": [
        "## Sex\n",
        "* $H_0$: There is no difference in the bilirubin level between female and male.\n",
        "* $H_1$: There is a significant difference in the bilirubin level between female and male.\n",
        "* $\\alpha = 0.05$"
      ]
    },
    {
      "cell_type": "code",
      "metadata": {
        "colab": {
          "base_uri": "https://localhost:8080/",
          "height": 107
        },
        "id": "rQf2-HqVyjfz",
        "outputId": "969f1c50-95fc-4c23-a62f-80e799cd3677"
      },
      "source": [
        "# Subset array\n",
        "femaleBili = female['Bilirubin']\n",
        "maleBili = male['Bilirubin']\n",
        "\n",
        "# Perform the Mann-Whitney U test\n",
        "MWU, pval = mannwhitneyu(femaleBili, maleBili)\n",
        "\n",
        "result = pd.DataFrame([MWU, pval], \n",
        "                      index=['MWU statistics', 'p-value'],\n",
        "                      columns=['Result'])\n",
        "result"
      ],
      "execution_count": 23,
      "outputs": [
        {
          "output_type": "execute_result",
          "data": {
            "text/html": [
              "<div>\n",
              "<style scoped>\n",
              "    .dataframe tbody tr th:only-of-type {\n",
              "        vertical-align: middle;\n",
              "    }\n",
              "\n",
              "    .dataframe tbody tr th {\n",
              "        vertical-align: top;\n",
              "    }\n",
              "\n",
              "    .dataframe thead th {\n",
              "        text-align: right;\n",
              "    }\n",
              "</style>\n",
              "<table border=\"1\" class=\"dataframe\">\n",
              "  <thead>\n",
              "    <tr style=\"text-align: right;\">\n",
              "      <th></th>\n",
              "      <th>Result</th>\n",
              "    </tr>\n",
              "  </thead>\n",
              "  <tbody>\n",
              "    <tr>\n",
              "      <th>MWU statistics</th>\n",
              "      <td>3978.500000</td>\n",
              "    </tr>\n",
              "    <tr>\n",
              "      <th>p-value</th>\n",
              "      <td>0.025934</td>\n",
              "    </tr>\n",
              "  </tbody>\n",
              "</table>\n",
              "</div>"
            ],
            "text/plain": [
              "                     Result\n",
              "MWU statistics  3978.500000\n",
              "p-value            0.025934"
            ]
          },
          "metadata": {
            "tags": []
          },
          "execution_count": 23
        }
      ]
    },
    {
      "cell_type": "markdown",
      "metadata": {
        "id": "oFcQnyNxzRzO"
      },
      "source": [
        "### Result and Interpretation\n",
        "Our result revealed that:\n",
        "<br>\n",
        "p-value = 0.0259 $<$ $\\alpha = 0.05$\n",
        "<br>\n",
        "We will **reject** our null hypothesis. There is a significant difference in the bilirubin level between male and female."
      ]
    },
    {
      "cell_type": "markdown",
      "metadata": {
        "id": "MV6FIc-h2zVp"
      },
      "source": [
        "## Treatment group\n",
        "* $H_0$: There is no difference in the bilirubin level between penicillamine and placebo treatment group.\n",
        "* $H_1$: There is a significant difference in the bilirubin level between penicillamine and placebo treatment group.\n",
        "* $\\alpha = 0.05$"
      ]
    },
    {
      "cell_type": "code",
      "metadata": {
        "colab": {
          "base_uri": "https://localhost:8080/",
          "height": 107
        },
        "id": "Tq8vhoHJzPnQ",
        "outputId": "7869b3d8-7a03-4edd-8e97-b864c10a1f0d"
      },
      "source": [
        "# Subset array\n",
        "penicillamineBili = penicillamine['Bilirubin']\n",
        "placeboBili = placebo['Bilirubin']\n",
        "\n",
        "# Perform the Mann-Whitney U test\n",
        "MWU, pval = mannwhitneyu(penicillamineBili, placeboBili)\n",
        "\n",
        "result = pd.DataFrame([MWU, pval], \n",
        "                      index=['MWU statistics', 'p-value'],\n",
        "                      columns=['Result'])\n",
        "result"
      ],
      "execution_count": 24,
      "outputs": [
        {
          "output_type": "execute_result",
          "data": {
            "text/html": [
              "<div>\n",
              "<style scoped>\n",
              "    .dataframe tbody tr th:only-of-type {\n",
              "        vertical-align: middle;\n",
              "    }\n",
              "\n",
              "    .dataframe tbody tr th {\n",
              "        vertical-align: top;\n",
              "    }\n",
              "\n",
              "    .dataframe thead th {\n",
              "        text-align: right;\n",
              "    }\n",
              "</style>\n",
              "<table border=\"1\" class=\"dataframe\">\n",
              "  <thead>\n",
              "    <tr style=\"text-align: right;\">\n",
              "      <th></th>\n",
              "      <th>Result</th>\n",
              "    </tr>\n",
              "  </thead>\n",
              "  <tbody>\n",
              "    <tr>\n",
              "      <th>MWU statistics</th>\n",
              "      <td>12007.000000</td>\n",
              "    </tr>\n",
              "    <tr>\n",
              "      <th>p-value</th>\n",
              "      <td>0.421088</td>\n",
              "    </tr>\n",
              "  </tbody>\n",
              "</table>\n",
              "</div>"
            ],
            "text/plain": [
              "                      Result\n",
              "MWU statistics  12007.000000\n",
              "p-value             0.421088"
            ]
          },
          "metadata": {
            "tags": []
          },
          "execution_count": 24
        }
      ]
    },
    {
      "cell_type": "markdown",
      "metadata": {
        "id": "ufqXPxD23SPU"
      },
      "source": [
        "### Result and Interpretation\n",
        "Our result revealed that:\n",
        "<br>\n",
        "p-value = 0.42 $>$ $\\alpha = 0.05$\n",
        "<br>\n",
        "We will **not reject** our null hypothesis. There is no significant difference in the bilirubin level between male and female."
      ]
    },
    {
      "cell_type": "markdown",
      "metadata": {
        "id": "eedn8HLK3jeW"
      },
      "source": [
        "# Protime - Kruskal-Wallis test\n",
        "* $H_0$: The median protime of the groups are equal.\n",
        "* $H_0$: $\\widetilde{x}_{1}$ = $\\widetilde{x}_{2}$ = $\\widetilde{x}_{n}$\n",
        "* $H_1$: The median protime of one or more groups are not equal.\n",
        "* $\\alpha = 0.05$"
      ]
    },
    {
      "cell_type": "markdown",
      "metadata": {
        "id": "SqtOzWKa3-_H"
      },
      "source": [
        "## Edema\n",
        "* $H_0$: The median protime of the groups with edema, diuresed edema, and absent edema are equal.\n",
        "* $H_0$: $\\widetilde{x}_{present}$ = $\\widetilde{x}_{diurese}$ = $\\widetilde{x}_{absent}$\n",
        "* $H_1$: At least one of the groups' median protime is not equal.\n",
        "* $\\alpha = 0.05$"
      ]
    },
    {
      "cell_type": "code",
      "metadata": {
        "colab": {
          "base_uri": "https://localhost:8080/",
          "height": 107
        },
        "id": "NqyQq-3c4Goj",
        "outputId": "a49f7c70-8bb8-4bb2-b9a7-9d3f39aeab73"
      },
      "source": [
        "# Subset array\n",
        "presentPT = present['Protime']\n",
        "diuresePT = diurese['Protime']\n",
        "absentPT = absent['Protime']\n",
        "\n",
        "# Perform the Kruskal-Wallis test\n",
        "KWH, pval = kruskal(presentPT, diuresePT, absentPT)\n",
        "\n",
        "result = pd.DataFrame([KWH, pval], \n",
        "                      index=['KWH statistics', 'p-value'],\n",
        "                      columns=['Result'])\n",
        "result"
      ],
      "execution_count": 25,
      "outputs": [
        {
          "output_type": "execute_result",
          "data": {
            "text/html": [
              "<div>\n",
              "<style scoped>\n",
              "    .dataframe tbody tr th:only-of-type {\n",
              "        vertical-align: middle;\n",
              "    }\n",
              "\n",
              "    .dataframe tbody tr th {\n",
              "        vertical-align: top;\n",
              "    }\n",
              "\n",
              "    .dataframe thead th {\n",
              "        text-align: right;\n",
              "    }\n",
              "</style>\n",
              "<table border=\"1\" class=\"dataframe\">\n",
              "  <thead>\n",
              "    <tr style=\"text-align: right;\">\n",
              "      <th></th>\n",
              "      <th>Result</th>\n",
              "    </tr>\n",
              "  </thead>\n",
              "  <tbody>\n",
              "    <tr>\n",
              "      <th>KWH statistics</th>\n",
              "      <td>4.375774e+01</td>\n",
              "    </tr>\n",
              "    <tr>\n",
              "      <th>p-value</th>\n",
              "      <td>3.148670e-10</td>\n",
              "    </tr>\n",
              "  </tbody>\n",
              "</table>\n",
              "</div>"
            ],
            "text/plain": [
              "                      Result\n",
              "KWH statistics  4.375774e+01\n",
              "p-value         3.148670e-10"
            ]
          },
          "metadata": {
            "tags": []
          },
          "execution_count": 25
        }
      ]
    },
    {
      "cell_type": "markdown",
      "metadata": {
        "id": "HDQm77x04Trk"
      },
      "source": [
        "### Result and Interpretation\n",
        "Our result revealed that:\n",
        "<br>\n",
        "p-value = 3.15e-7 $<$ $\\alpha = 0.05$\n",
        "<br>\n",
        "We will **reject** our null hypothesis. At least one in our groups' median protime is not equal."
      ]
    },
    {
      "cell_type": "markdown",
      "metadata": {
        "id": "Q8Uw63Bd42Hg"
      },
      "source": [
        "## Censoring status\n",
        "* $H_0$: The median protime of the groups with status dead, censored, and transplant are equal.\n",
        "* $H_0$: $\\widetilde{x}_{dead}$ = $\\widetilde{x}_{censored}$ = $\\widetilde{x}_{transplant}$\n",
        "* $H_1$: At least one of the groups' median protime is not equal.\n",
        "* $\\alpha = 0.05$"
      ]
    },
    {
      "cell_type": "code",
      "metadata": {
        "colab": {
          "base_uri": "https://localhost:8080/",
          "height": 107
        },
        "id": "y_00jq8J5M9w",
        "outputId": "8dbdf1bb-02d2-4264-e8df-4b32702686f5"
      },
      "source": [
        "# Subset array\n",
        "deadPT = dead['Protime']\n",
        "censoredPT = censored['Protime']\n",
        "transplantPT = transplant['Protime']\n",
        "\n",
        "# Perform the Kruskal-Wallis test\n",
        "KWH, pval = kruskal(deadPT, censoredPT, transplantPT)\n",
        "\n",
        "result = pd.DataFrame([KWH, pval], \n",
        "                      index=['KWH statistics', 'p-value'],\n",
        "                      columns=['Result'])\n",
        "result"
      ],
      "execution_count": 26,
      "outputs": [
        {
          "output_type": "execute_result",
          "data": {
            "text/html": [
              "<div>\n",
              "<style scoped>\n",
              "    .dataframe tbody tr th:only-of-type {\n",
              "        vertical-align: middle;\n",
              "    }\n",
              "\n",
              "    .dataframe tbody tr th {\n",
              "        vertical-align: top;\n",
              "    }\n",
              "\n",
              "    .dataframe thead th {\n",
              "        text-align: right;\n",
              "    }\n",
              "</style>\n",
              "<table border=\"1\" class=\"dataframe\">\n",
              "  <thead>\n",
              "    <tr style=\"text-align: right;\">\n",
              "      <th></th>\n",
              "      <th>Result</th>\n",
              "    </tr>\n",
              "  </thead>\n",
              "  <tbody>\n",
              "    <tr>\n",
              "      <th>KWH statistics</th>\n",
              "      <td>6.457980e+01</td>\n",
              "    </tr>\n",
              "    <tr>\n",
              "      <th>p-value</th>\n",
              "      <td>9.477105e-15</td>\n",
              "    </tr>\n",
              "  </tbody>\n",
              "</table>\n",
              "</div>"
            ],
            "text/plain": [
              "                      Result\n",
              "KWH statistics  6.457980e+01\n",
              "p-value         9.477105e-15"
            ]
          },
          "metadata": {
            "tags": []
          },
          "execution_count": 26
        }
      ]
    },
    {
      "cell_type": "markdown",
      "metadata": {
        "id": "lY2Fuz2w5d6M"
      },
      "source": [
        "### Result and Interpretation\n",
        "Our result revealed that:\n",
        "<br>\n",
        "p-value = 9.477e-15 $<$ $\\alpha = 0.05$\n",
        "<br>\n",
        "We will **reject** our null hypothesis. At least one in our groups' median protime is not equal."
      ]
    },
    {
      "cell_type": "markdown",
      "metadata": {
        "id": "aWMQvrao5uIw"
      },
      "source": [
        "## Histology Stage\n",
        "* $H_0$: The median protime of the histology staging groups are equal.\n",
        "* $H_0$: $\\widetilde{x}_{stg1}$ = $\\widetilde{x}_{stg2}$ = $\\widetilde{x}_{stg3}$ = $\\widetilde{x}_{stg4}$\n",
        "* $H_1$: At least one of the histology staging  groups' median protime is not equal.\n",
        "* $\\alpha = 0.05$"
      ]
    },
    {
      "cell_type": "code",
      "metadata": {
        "colab": {
          "base_uri": "https://localhost:8080/",
          "height": 107
        },
        "id": "a6gDqCaz6J3R",
        "outputId": "828bf879-d5a6-4666-f293-75a248c9bbca"
      },
      "source": [
        "# Subset array\n",
        "St1pt = Stage1['Protime']\n",
        "St2pt = Stage2['Protime']\n",
        "St3pt = Stage3['Protime']\n",
        "St4pt = Stage4['Protime']\n",
        "\n",
        "# Perform the Kruskal-Wallis test\n",
        "KWH, pval = kruskal(St1pt, St2pt, St3pt, St4pt)\n",
        "\n",
        "result = pd.DataFrame([KWH, pval], \n",
        "                      index=['KWH statistics', 'p-value'],\n",
        "                      columns=['Result'])\n",
        "result"
      ],
      "execution_count": 27,
      "outputs": [
        {
          "output_type": "execute_result",
          "data": {
            "text/html": [
              "<div>\n",
              "<style scoped>\n",
              "    .dataframe tbody tr th:only-of-type {\n",
              "        vertical-align: middle;\n",
              "    }\n",
              "\n",
              "    .dataframe tbody tr th {\n",
              "        vertical-align: top;\n",
              "    }\n",
              "\n",
              "    .dataframe thead th {\n",
              "        text-align: right;\n",
              "    }\n",
              "</style>\n",
              "<table border=\"1\" class=\"dataframe\">\n",
              "  <thead>\n",
              "    <tr style=\"text-align: right;\">\n",
              "      <th></th>\n",
              "      <th>Result</th>\n",
              "    </tr>\n",
              "  </thead>\n",
              "  <tbody>\n",
              "    <tr>\n",
              "      <th>KWH statistics</th>\n",
              "      <td>4.289685e+01</td>\n",
              "    </tr>\n",
              "    <tr>\n",
              "      <th>p-value</th>\n",
              "      <td>2.588280e-09</td>\n",
              "    </tr>\n",
              "  </tbody>\n",
              "</table>\n",
              "</div>"
            ],
            "text/plain": [
              "                      Result\n",
              "KWH statistics  4.289685e+01\n",
              "p-value         2.588280e-09"
            ]
          },
          "metadata": {
            "tags": []
          },
          "execution_count": 27
        }
      ]
    },
    {
      "cell_type": "markdown",
      "metadata": {
        "id": "B6RUukrP66vK"
      },
      "source": [
        "### Result and Interpretation\n",
        "Our result revealed that:\n",
        "<br>\n",
        "p-value = 2.588e-9 $<$ $\\alpha = 0.05$\n",
        "<br>\n",
        "We will **reject** our null hypothesis. At least one in our groups' median protime is not equal."
      ]
    },
    {
      "cell_type": "markdown",
      "metadata": {
        "id": "DOtWwtQy31ws"
      },
      "source": [
        "# Protime - Mann-Whitney U test\n",
        "* $H_0$: There is no difference in the protime between the 2 groups.\n",
        "* $H_1$: There is a difference in the protime between the 2 groups.\n",
        "* $\\alpha = 0.05$\n"
      ]
    },
    {
      "cell_type": "markdown",
      "metadata": {
        "id": "EeBRPjKq7bUl"
      },
      "source": [
        "## Spider Angiomata\n",
        "* $H_0$: There is no difference in the protime between the group with spider angiomata and those without.\n",
        "* $H_1$: There is a significant difference in protime between having or not having spider angiomata.\n",
        "* $\\alpha = 0.05$"
      ]
    },
    {
      "cell_type": "code",
      "metadata": {
        "colab": {
          "base_uri": "https://localhost:8080/",
          "height": 107
        },
        "id": "9OVA1O9g3OGD",
        "outputId": "8e64ffea-6cfa-4472-b56b-9e9b98097fff"
      },
      "source": [
        "# Subset array\n",
        "nospiderPT = nospider['Protime']\n",
        "yesspiderPT = yesspider['Protime']\n",
        "\n",
        "# Perform the Mann-Whitney U test\n",
        "MWU, pval = mannwhitneyu(yesspiderPT, nospiderPT)\n",
        "\n",
        "result = pd.DataFrame([MWU, pval], \n",
        "                      index=['MWU statistics', 'p-value'],\n",
        "                      columns=['Result'])\n",
        "result"
      ],
      "execution_count": 28,
      "outputs": [
        {
          "output_type": "execute_result",
          "data": {
            "text/html": [
              "<div>\n",
              "<style scoped>\n",
              "    .dataframe tbody tr th:only-of-type {\n",
              "        vertical-align: middle;\n",
              "    }\n",
              "\n",
              "    .dataframe tbody tr th {\n",
              "        vertical-align: top;\n",
              "    }\n",
              "\n",
              "    .dataframe thead th {\n",
              "        text-align: right;\n",
              "    }\n",
              "</style>\n",
              "<table border=\"1\" class=\"dataframe\">\n",
              "  <thead>\n",
              "    <tr style=\"text-align: right;\">\n",
              "      <th></th>\n",
              "      <th>Result</th>\n",
              "    </tr>\n",
              "  </thead>\n",
              "  <tbody>\n",
              "    <tr>\n",
              "      <th>MWU statistics</th>\n",
              "      <td>6888.000000</td>\n",
              "    </tr>\n",
              "    <tr>\n",
              "      <th>p-value</th>\n",
              "      <td>0.000008</td>\n",
              "    </tr>\n",
              "  </tbody>\n",
              "</table>\n",
              "</div>"
            ],
            "text/plain": [
              "                     Result\n",
              "MWU statistics  6888.000000\n",
              "p-value            0.000008"
            ]
          },
          "metadata": {
            "tags": []
          },
          "execution_count": 28
        }
      ]
    },
    {
      "cell_type": "markdown",
      "metadata": {
        "id": "pbL3ZCBw7vAL"
      },
      "source": [
        "### Result and Interpretation\n",
        "Our result revealed that:\n",
        "<br>\n",
        "p-value = 0.000008 $<$ $\\alpha = 0.05$\n",
        "<br>\n",
        "We will **reject** our null hypothesis. There is a significant difference in the protime between having or not having spider angiomata."
      ]
    },
    {
      "cell_type": "markdown",
      "metadata": {
        "id": "vB2uSkBf73St"
      },
      "source": [
        "## Hepatomegaly\n",
        "* $H_0$: There is no difference in the protime between the group with hepatomegaly and those without.\n",
        "* $H_1$: There is a significant difference in protime between having or not having hepatomegaly.\n",
        "* $\\alpha = 0.05$"
      ]
    },
    {
      "cell_type": "code",
      "metadata": {
        "colab": {
          "base_uri": "https://localhost:8080/",
          "height": 107
        },
        "id": "LtsIU8a48alY",
        "outputId": "95a91b5b-7cbc-4fd7-e44d-983ac4801731"
      },
      "source": [
        "# Subset array\n",
        "nohepatoPT = nohepato['Protime']\n",
        "yeshepatoPT = yeshepato['Protime']\n",
        "\n",
        "# Perform the Mann-Whitney U test\n",
        "MWU, pval = mannwhitneyu(yeshepatoPT, nohepatoPT)\n",
        "\n",
        "result = pd.DataFrame([MWU, pval], \n",
        "                      index=['MWU statistics', 'p-value'],\n",
        "                      columns=['Result'])\n",
        "result"
      ],
      "execution_count": 29,
      "outputs": [
        {
          "output_type": "execute_result",
          "data": {
            "text/html": [
              "<div>\n",
              "<style scoped>\n",
              "    .dataframe tbody tr th:only-of-type {\n",
              "        vertical-align: middle;\n",
              "    }\n",
              "\n",
              "    .dataframe tbody tr th {\n",
              "        vertical-align: top;\n",
              "    }\n",
              "\n",
              "    .dataframe thead th {\n",
              "        text-align: right;\n",
              "    }\n",
              "</style>\n",
              "<table border=\"1\" class=\"dataframe\">\n",
              "  <thead>\n",
              "    <tr style=\"text-align: right;\">\n",
              "      <th></th>\n",
              "      <th>Result</th>\n",
              "    </tr>\n",
              "  </thead>\n",
              "  <tbody>\n",
              "    <tr>\n",
              "      <th>MWU statistics</th>\n",
              "      <td>9062.500000</td>\n",
              "    </tr>\n",
              "    <tr>\n",
              "      <th>p-value</th>\n",
              "      <td>0.000049</td>\n",
              "    </tr>\n",
              "  </tbody>\n",
              "</table>\n",
              "</div>"
            ],
            "text/plain": [
              "                     Result\n",
              "MWU statistics  9062.500000\n",
              "p-value            0.000049"
            ]
          },
          "metadata": {
            "tags": []
          },
          "execution_count": 29
        }
      ]
    },
    {
      "cell_type": "markdown",
      "metadata": {
        "id": "0QCVT0djOMuh"
      },
      "source": [
        "### Result and Interpretation\n",
        "Our result revealed that:\n",
        "<br>\n",
        "p-value = 0.000049 $<$ $\\alpha = 0.05$\n",
        "<br>\n",
        "We will **reject** our null hypothesis. There is a significant difference in the protime between having or not having hepatomegaly."
      ]
    },
    {
      "cell_type": "markdown",
      "metadata": {
        "id": "xid07UBrOYop"
      },
      "source": [
        "## Ascites\n",
        "* $H_0$: There is no difference in the protime between the group with ascites and those without.\n",
        "* $H_1$: There is a significant difference in protime between having or not having ascites.\n",
        "* $\\alpha = 0.05$"
      ]
    },
    {
      "cell_type": "code",
      "metadata": {
        "colab": {
          "base_uri": "https://localhost:8080/",
          "height": 107
        },
        "id": "9EzVu3bl9MlT",
        "outputId": "fe4092d6-25b5-4ca1-be76-77e5dc3686e6"
      },
      "source": [
        "# Subset array\n",
        "noascitesPT = noascites['Protime']\n",
        "yesascitesPT = yesascites['Protime']\n",
        "\n",
        "# Perform the Mann-Whitney U test\n",
        "MWU, pval = mannwhitneyu(yesascitesPT, noascitesPT)\n",
        "\n",
        "result = pd.DataFrame([MWU, pval], \n",
        "                      index=['MWU statistics', 'p-value'],\n",
        "                      columns=['Result'])\n",
        "result"
      ],
      "execution_count": 30,
      "outputs": [
        {
          "output_type": "execute_result",
          "data": {
            "text/html": [
              "<div>\n",
              "<style scoped>\n",
              "    .dataframe tbody tr th:only-of-type {\n",
              "        vertical-align: middle;\n",
              "    }\n",
              "\n",
              "    .dataframe tbody tr th {\n",
              "        vertical-align: top;\n",
              "    }\n",
              "\n",
              "    .dataframe thead th {\n",
              "        text-align: right;\n",
              "    }\n",
              "</style>\n",
              "<table border=\"1\" class=\"dataframe\">\n",
              "  <thead>\n",
              "    <tr style=\"text-align: right;\">\n",
              "      <th></th>\n",
              "      <th>Result</th>\n",
              "    </tr>\n",
              "  </thead>\n",
              "  <tbody>\n",
              "    <tr>\n",
              "      <th>MWU statistics</th>\n",
              "      <td>1.103000e+03</td>\n",
              "    </tr>\n",
              "    <tr>\n",
              "      <th>p-value</th>\n",
              "      <td>1.448238e-08</td>\n",
              "    </tr>\n",
              "  </tbody>\n",
              "</table>\n",
              "</div>"
            ],
            "text/plain": [
              "                      Result\n",
              "MWU statistics  1.103000e+03\n",
              "p-value         1.448238e-08"
            ]
          },
          "metadata": {
            "tags": []
          },
          "execution_count": 30
        }
      ]
    },
    {
      "cell_type": "markdown",
      "metadata": {
        "id": "VgW48zCQPWwJ"
      },
      "source": [
        "### Result and Interpretation\n",
        "Our result revealed that:\n",
        "<br>\n",
        "p-value = 1.448e-8 $<$ $\\alpha = 0.05$\n",
        "<br>\n",
        "We will **reject** our null hypothesis. There is a significant difference in the protime between having or not having ascites."
      ]
    },
    {
      "cell_type": "markdown",
      "metadata": {
        "id": "iVZTZfghPfmJ"
      },
      "source": [
        "## Sex\n",
        "* $H_0$: There is no difference in the protime between female and male.\n",
        "* $H_1$: There is a significant difference in protime between female and male.\n",
        "* $\\alpha = 0.05$"
      ]
    },
    {
      "cell_type": "code",
      "metadata": {
        "colab": {
          "base_uri": "https://localhost:8080/",
          "height": 107
        },
        "id": "ij514Oa8PU29",
        "outputId": "08a4df95-4184-4b45-f5e0-e2cbdeafa3e8"
      },
      "source": [
        "# Subset array\n",
        "femalePT = female['Protime']\n",
        "malePT = male['Protime']\n",
        "\n",
        "# Perform the Mann-Whitney U test\n",
        "MWU, pval = mannwhitneyu(femalePT, malePT)\n",
        "\n",
        "result = pd.DataFrame([MWU, pval], \n",
        "                      index=['MWU statistics', 'p-value'],\n",
        "                      columns=['Result'])\n",
        "result"
      ],
      "execution_count": 31,
      "outputs": [
        {
          "output_type": "execute_result",
          "data": {
            "text/html": [
              "<div>\n",
              "<style scoped>\n",
              "    .dataframe tbody tr th:only-of-type {\n",
              "        vertical-align: middle;\n",
              "    }\n",
              "\n",
              "    .dataframe tbody tr th {\n",
              "        vertical-align: top;\n",
              "    }\n",
              "\n",
              "    .dataframe thead th {\n",
              "        text-align: right;\n",
              "    }\n",
              "</style>\n",
              "<table border=\"1\" class=\"dataframe\">\n",
              "  <thead>\n",
              "    <tr style=\"text-align: right;\">\n",
              "      <th></th>\n",
              "      <th>Result</th>\n",
              "    </tr>\n",
              "  </thead>\n",
              "  <tbody>\n",
              "    <tr>\n",
              "      <th>MWU statistics</th>\n",
              "      <td>3820.000000</td>\n",
              "    </tr>\n",
              "    <tr>\n",
              "      <th>p-value</th>\n",
              "      <td>0.012005</td>\n",
              "    </tr>\n",
              "  </tbody>\n",
              "</table>\n",
              "</div>"
            ],
            "text/plain": [
              "                     Result\n",
              "MWU statistics  3820.000000\n",
              "p-value            0.012005"
            ]
          },
          "metadata": {
            "tags": []
          },
          "execution_count": 31
        }
      ]
    },
    {
      "cell_type": "markdown",
      "metadata": {
        "id": "yw1IPVIxPvrY"
      },
      "source": [
        "### Result and Interpretation\n",
        "Our result revealed that:\n",
        "<br>\n",
        "p-value = 0.012005 $<$ $\\alpha = 0.05$\n",
        "<br>\n",
        "We will **reject** our null hypothesis. There is a significant difference in the protime between male and female."
      ]
    },
    {
      "cell_type": "markdown",
      "metadata": {
        "id": "82Np-MG1P2-c"
      },
      "source": [
        "## Treatment group\n",
        "* $H_0$: There is no difference in the protime between penicillamine and placebo treatment group.\n",
        "* $H_1$: There is a significant difference in protime between penicillamine and placebo treatment group.\n",
        "* $\\alpha = 0.05$"
      ]
    },
    {
      "cell_type": "code",
      "metadata": {
        "colab": {
          "base_uri": "https://localhost:8080/",
          "height": 107
        },
        "id": "cNDxGqiwPtnt",
        "outputId": "8c6ee47f-6ab0-4776-f1b7-95f2695fbfc4"
      },
      "source": [
        "# Subset array\n",
        "penicillaminePT = penicillamine['Protime']\n",
        "placeboPT = placebo['Protime']\n",
        "\n",
        "# Perform the Mann-Whitney U test\n",
        "MWU, pval = mannwhitneyu(penicillaminePT, placeboPT)\n",
        "\n",
        "result = pd.DataFrame([MWU, pval], \n",
        "                      index=['MWU statistics', 'p-value'],\n",
        "                      columns=['Result'])\n",
        "result"
      ],
      "execution_count": 32,
      "outputs": [
        {
          "output_type": "execute_result",
          "data": {
            "text/html": [
              "<div>\n",
              "<style scoped>\n",
              "    .dataframe tbody tr th:only-of-type {\n",
              "        vertical-align: middle;\n",
              "    }\n",
              "\n",
              "    .dataframe tbody tr th {\n",
              "        vertical-align: top;\n",
              "    }\n",
              "\n",
              "    .dataframe thead th {\n",
              "        text-align: right;\n",
              "    }\n",
              "</style>\n",
              "<table border=\"1\" class=\"dataframe\">\n",
              "  <thead>\n",
              "    <tr style=\"text-align: right;\">\n",
              "      <th></th>\n",
              "      <th>Result</th>\n",
              "    </tr>\n",
              "  </thead>\n",
              "  <tbody>\n",
              "    <tr>\n",
              "      <th>MWU statistics</th>\n",
              "      <td>11735.000000</td>\n",
              "    </tr>\n",
              "    <tr>\n",
              "      <th>p-value</th>\n",
              "      <td>0.294227</td>\n",
              "    </tr>\n",
              "  </tbody>\n",
              "</table>\n",
              "</div>"
            ],
            "text/plain": [
              "                      Result\n",
              "MWU statistics  11735.000000\n",
              "p-value             0.294227"
            ]
          },
          "metadata": {
            "tags": []
          },
          "execution_count": 32
        }
      ]
    },
    {
      "cell_type": "markdown",
      "metadata": {
        "id": "ZiFB93_HQNfA"
      },
      "source": [
        "### Result and Interpretation\n",
        "Our result revealed that:\n",
        "<br>\n",
        "p-value = 0.294227 $>$ $\\alpha = 0.05$\n",
        "<br>\n",
        "We will **not reject** our null hypothesis. There is no significant difference in the protime between penicillamine and placebo treatment group."
      ]
    },
    {
      "cell_type": "markdown",
      "metadata": {
        "id": "xmg71ojOQZwQ"
      },
      "source": [
        "# Triglyceride - Kruskal-Wallis test\n",
        "* $H_0$: The median triglyceride level of the groups are equal.\n",
        "* $H_0$: $\\widetilde{x}_{1}$ = $\\widetilde{x}_{2}$ = $\\widetilde{x}_{n}$\n",
        "* $H_1$: The median triglyceride level of one or more groups are not equal.\n",
        "* $\\alpha = 0.05$"
      ]
    },
    {
      "cell_type": "markdown",
      "metadata": {
        "id": "lp7EvvCpQ0bq"
      },
      "source": [
        "## Edema\n",
        "* $H_0$: The median triglyceride level of the groups with edema, diuresed edema, and absent edema are equal.\n",
        "* $H_0$: $\\widetilde{x}_{present}$ = $\\widetilde{x}_{diurese}$ = $\\widetilde{x}_{absent}$\n",
        "* $H_1$: At least one of the groups' median triglyceride level is not equal.\n",
        "* $\\alpha = 0.05$"
      ]
    },
    {
      "cell_type": "code",
      "metadata": {
        "colab": {
          "base_uri": "https://localhost:8080/",
          "height": 107
        },
        "id": "uSCFFm9PQLW9",
        "outputId": "facf9098-8ea2-4b79-c30a-d64a4ab8ca7c"
      },
      "source": [
        "# Subset array\n",
        "presentTG = present['Triglyceride']\n",
        "diureseTG = diurese['Triglyceride']\n",
        "absentTG = absent['Triglyceride']\n",
        "\n",
        "# Perform the Kruskal-Wallis test\n",
        "KWH, pval = kruskal(presentTG, diureseTG, absentTG)\n",
        "\n",
        "result = pd.DataFrame([KWH, pval], \n",
        "                      index=['KWH statistics', 'p-value'],\n",
        "                      columns=['Result'])\n",
        "result"
      ],
      "execution_count": 33,
      "outputs": [
        {
          "output_type": "execute_result",
          "data": {
            "text/html": [
              "<div>\n",
              "<style scoped>\n",
              "    .dataframe tbody tr th:only-of-type {\n",
              "        vertical-align: middle;\n",
              "    }\n",
              "\n",
              "    .dataframe tbody tr th {\n",
              "        vertical-align: top;\n",
              "    }\n",
              "\n",
              "    .dataframe thead th {\n",
              "        text-align: right;\n",
              "    }\n",
              "</style>\n",
              "<table border=\"1\" class=\"dataframe\">\n",
              "  <thead>\n",
              "    <tr style=\"text-align: right;\">\n",
              "      <th></th>\n",
              "      <th>Result</th>\n",
              "    </tr>\n",
              "  </thead>\n",
              "  <tbody>\n",
              "    <tr>\n",
              "      <th>KWH statistics</th>\n",
              "      <td>0.821094</td>\n",
              "    </tr>\n",
              "    <tr>\n",
              "      <th>p-value</th>\n",
              "      <td>0.663287</td>\n",
              "    </tr>\n",
              "  </tbody>\n",
              "</table>\n",
              "</div>"
            ],
            "text/plain": [
              "                  Result\n",
              "KWH statistics  0.821094\n",
              "p-value         0.663287"
            ]
          },
          "metadata": {
            "tags": []
          },
          "execution_count": 33
        }
      ]
    },
    {
      "cell_type": "markdown",
      "metadata": {
        "id": "6BjUJLUqRQzq"
      },
      "source": [
        "### Result and Interpretation\n",
        "Our result revealed that:\n",
        "<br>\n",
        "p-value = 0.663287 $>$ $\\alpha = 0.05$\n",
        "<br>\n",
        "We will **not reject** our null hypothesis. There is no significant difference in the median triglyceride level among the edema groups. Or, the median triglyceride level among the groups are equal."
      ]
    },
    {
      "cell_type": "markdown",
      "metadata": {
        "id": "zecayTysRsdY"
      },
      "source": [
        "## Censoring status\n",
        "* $H_0$: The median triglyceride level of the groups with status dead, transplant, and censored are equal.\n",
        "* $H_0$: $\\widetilde{x}_{dead}$ = $\\widetilde{x}_{censored}$ = $\\widetilde{x}_{transplant}$\n",
        "* $H_1$: At least one of the groups' median triglyceride level is not equal.\n",
        "* $\\alpha = 0.05$"
      ]
    },
    {
      "cell_type": "code",
      "metadata": {
        "colab": {
          "base_uri": "https://localhost:8080/",
          "height": 107
        },
        "id": "F1Zac_ZOR_Gl",
        "outputId": "9d687360-d231-4393-88bd-4422de89b33d"
      },
      "source": [
        "# Subset array\n",
        "deadTG = dead['Triglyceride']\n",
        "censoredTG = censored['Triglyceride']\n",
        "transplantTG = transplant['Triglyceride']\n",
        "\n",
        "# Perform the Kruskal-Wallis test\n",
        "KWH, pval = kruskal(deadTG, censoredTG, transplantTG)\n",
        "\n",
        "result = pd.DataFrame([KWH, pval], \n",
        "                      index=['KWH statistics', 'p-value'],\n",
        "                      columns=['Result'])\n",
        "result"
      ],
      "execution_count": 34,
      "outputs": [
        {
          "output_type": "execute_result",
          "data": {
            "text/html": [
              "<div>\n",
              "<style scoped>\n",
              "    .dataframe tbody tr th:only-of-type {\n",
              "        vertical-align: middle;\n",
              "    }\n",
              "\n",
              "    .dataframe tbody tr th {\n",
              "        vertical-align: top;\n",
              "    }\n",
              "\n",
              "    .dataframe thead th {\n",
              "        text-align: right;\n",
              "    }\n",
              "</style>\n",
              "<table border=\"1\" class=\"dataframe\">\n",
              "  <thead>\n",
              "    <tr style=\"text-align: right;\">\n",
              "      <th></th>\n",
              "      <th>Result</th>\n",
              "    </tr>\n",
              "  </thead>\n",
              "  <tbody>\n",
              "    <tr>\n",
              "      <th>KWH statistics</th>\n",
              "      <td>10.392190</td>\n",
              "    </tr>\n",
              "    <tr>\n",
              "      <th>p-value</th>\n",
              "      <td>0.005538</td>\n",
              "    </tr>\n",
              "  </tbody>\n",
              "</table>\n",
              "</div>"
            ],
            "text/plain": [
              "                   Result\n",
              "KWH statistics  10.392190\n",
              "p-value          0.005538"
            ]
          },
          "metadata": {
            "tags": []
          },
          "execution_count": 34
        }
      ]
    },
    {
      "cell_type": "markdown",
      "metadata": {
        "id": "pTKroz00SW6r"
      },
      "source": [
        "### Result and Interpretation\n",
        "Our result revealed that:\n",
        "<br>\n",
        "p-value = 0.005538 $<$ $\\alpha = 0.05$\n",
        "<br>\n",
        "We will **reject** our null hypothesis. At least one group's median triglyceride level is not equal."
      ]
    },
    {
      "cell_type": "markdown",
      "metadata": {
        "id": "Km6SEXe-Swww"
      },
      "source": [
        "## Histology stage\n",
        "* $H_0$: The median triglyceride level of the histology stage groups are equal.\n",
        "* $H_0$: $\\widetilde{x}_{stg1}$ = $\\widetilde{x}_{stg2}$ = $\\widetilde{x}_{stg3}$ = $\\widetilde{x}_{stg4}$\n",
        "* $H_1$: At least one of the groups' median triglyceride level is not equal.\n",
        "* $\\alpha = 0.05$"
      ]
    },
    {
      "cell_type": "code",
      "metadata": {
        "colab": {
          "base_uri": "https://localhost:8080/",
          "height": 107
        },
        "id": "qXQPZ5oKTFnI",
        "outputId": "17ce900b-b392-4e31-aa98-1498a2ae0067"
      },
      "source": [
        "# Subset array\n",
        "St1TG = Stage1['Triglyceride']\n",
        "St2TG = Stage2['Triglyceride']\n",
        "St3TG = Stage3['Triglyceride']\n",
        "St4TG = Stage4['Triglyceride']\n",
        "\n",
        "# Perform the Kruskal-Wallis test\n",
        "KWH, pval = kruskal(St1TG, St2TG, St3TG, St4TG)\n",
        "\n",
        "result = pd.DataFrame([KWH, pval], \n",
        "                      index=['KWH statistics', 'p-value'],\n",
        "                      columns=['Result'])\n",
        "result"
      ],
      "execution_count": 35,
      "outputs": [
        {
          "output_type": "execute_result",
          "data": {
            "text/html": [
              "<div>\n",
              "<style scoped>\n",
              "    .dataframe tbody tr th:only-of-type {\n",
              "        vertical-align: middle;\n",
              "    }\n",
              "\n",
              "    .dataframe tbody tr th {\n",
              "        vertical-align: top;\n",
              "    }\n",
              "\n",
              "    .dataframe thead th {\n",
              "        text-align: right;\n",
              "    }\n",
              "</style>\n",
              "<table border=\"1\" class=\"dataframe\">\n",
              "  <thead>\n",
              "    <tr style=\"text-align: right;\">\n",
              "      <th></th>\n",
              "      <th>Result</th>\n",
              "    </tr>\n",
              "  </thead>\n",
              "  <tbody>\n",
              "    <tr>\n",
              "      <th>KWH statistics</th>\n",
              "      <td>9.896002</td>\n",
              "    </tr>\n",
              "    <tr>\n",
              "      <th>p-value</th>\n",
              "      <td>0.019471</td>\n",
              "    </tr>\n",
              "  </tbody>\n",
              "</table>\n",
              "</div>"
            ],
            "text/plain": [
              "                  Result\n",
              "KWH statistics  9.896002\n",
              "p-value         0.019471"
            ]
          },
          "metadata": {
            "tags": []
          },
          "execution_count": 35
        }
      ]
    },
    {
      "cell_type": "markdown",
      "metadata": {
        "id": "agQRh0_dTbJx"
      },
      "source": [
        "### Result and Interpretation\n",
        "Our result revealed that:\n",
        "<br>\n",
        "p-value = 0.019471 $<$ $\\alpha = 0.05$\n",
        "<br>\n",
        "We will **reject** our null hypothesis. At least one groups median triglyceride level is not equal."
      ]
    },
    {
      "cell_type": "markdown",
      "metadata": {
        "id": "fAKB32ZRQsER"
      },
      "source": [
        "# Triglyceride - Mann-Whitney U test\n",
        "* $H_0$: There is no difference in the triglyceride level between the 2 groups.\n",
        "* $H_1$: There is a difference in the triglyceride level between the 2 groups.\n",
        "* $\\alpha = 0.05$\n"
      ]
    },
    {
      "cell_type": "markdown",
      "metadata": {
        "id": "hk_bqt_hTrMY"
      },
      "source": [
        "## Spider Angiomata\n",
        "* $H_0$: There is no difference in the triglyceride level between the group with spider angiomata and those without.\n",
        "* $H_1$: There is a significant difference in triglyceride levelbetween having or not having spider angiomata.\n",
        "* $\\alpha = 0.05$"
      ]
    },
    {
      "cell_type": "code",
      "metadata": {
        "colab": {
          "base_uri": "https://localhost:8080/",
          "height": 107
        },
        "id": "_XC10mFVT0AC",
        "outputId": "9068c53a-a23e-4384-9594-e6972dcadb25"
      },
      "source": [
        "# Subset array\n",
        "nospiderTG = nospider['Triglyceride']\n",
        "yesspiderTG = yesspider['Triglyceride']\n",
        "\n",
        "# Perform the Mann-Whitney U test\n",
        "MWU, pval = mannwhitneyu(yesspiderTG, nospiderTG)\n",
        "\n",
        "result = pd.DataFrame([MWU, pval], \n",
        "                      index=['MWU statistics', 'p-value'],\n",
        "                      columns=['Result'])\n",
        "result"
      ],
      "execution_count": 36,
      "outputs": [
        {
          "output_type": "execute_result",
          "data": {
            "text/html": [
              "<div>\n",
              "<style scoped>\n",
              "    .dataframe tbody tr th:only-of-type {\n",
              "        vertical-align: middle;\n",
              "    }\n",
              "\n",
              "    .dataframe tbody tr th {\n",
              "        vertical-align: top;\n",
              "    }\n",
              "\n",
              "    .dataframe thead th {\n",
              "        text-align: right;\n",
              "    }\n",
              "</style>\n",
              "<table border=\"1\" class=\"dataframe\">\n",
              "  <thead>\n",
              "    <tr style=\"text-align: right;\">\n",
              "      <th></th>\n",
              "      <th>Result</th>\n",
              "    </tr>\n",
              "  </thead>\n",
              "  <tbody>\n",
              "    <tr>\n",
              "      <th>MWU statistics</th>\n",
              "      <td>9896.000000</td>\n",
              "    </tr>\n",
              "    <tr>\n",
              "      <th>p-value</th>\n",
              "      <td>0.448449</td>\n",
              "    </tr>\n",
              "  </tbody>\n",
              "</table>\n",
              "</div>"
            ],
            "text/plain": [
              "                     Result\n",
              "MWU statistics  9896.000000\n",
              "p-value            0.448449"
            ]
          },
          "metadata": {
            "tags": []
          },
          "execution_count": 36
        }
      ]
    },
    {
      "cell_type": "markdown",
      "metadata": {
        "id": "sWNj8DFYUG3m"
      },
      "source": [
        "### Result and Interpretation\n",
        "Our result revealed that:\n",
        "<br>\n",
        "p-value = 0.448 $>$ $\\alpha = 0.05$\n",
        "<br>\n",
        "We will **not reject** our null hypothesis. There is no significant difference in the triglyceride level between having or not having spider angiomata."
      ]
    },
    {
      "cell_type": "markdown",
      "metadata": {
        "id": "-J-IKgFbURXO"
      },
      "source": [
        "## Hepatomegaly\n",
        "* $H_0$: There is no difference in the triglyceride level between the group with hepatomegaly and those without.\n",
        "* $H_1$: There is a significant difference in triglyceride level between having or not having hepatomegaly.\n",
        "* $\\alpha = 0.05$"
      ]
    },
    {
      "cell_type": "code",
      "metadata": {
        "colab": {
          "base_uri": "https://localhost:8080/",
          "height": 107
        },
        "id": "8O5_NYqkT93N",
        "outputId": "d371f0b4-93c8-4bdb-b1c9-0ad4c2cc005d"
      },
      "source": [
        "# Subset array\n",
        "nohepatoTG = nohepato['Triglyceride']\n",
        "yeshepatoTG = yeshepato['Triglyceride']\n",
        "\n",
        "# Perform the Mann-Whitney U test\n",
        "MWU, pval = mannwhitneyu(nohepatoTG, yeshepatoTG)\n",
        "\n",
        "result = pd.DataFrame([MWU, pval], \n",
        "                      index=['MWU statistics', 'p-value'],\n",
        "                      columns=['Result'])\n",
        "result"
      ],
      "execution_count": 37,
      "outputs": [
        {
          "output_type": "execute_result",
          "data": {
            "text/html": [
              "<div>\n",
              "<style scoped>\n",
              "    .dataframe tbody tr th:only-of-type {\n",
              "        vertical-align: middle;\n",
              "    }\n",
              "\n",
              "    .dataframe tbody tr th {\n",
              "        vertical-align: top;\n",
              "    }\n",
              "\n",
              "    .dataframe thead th {\n",
              "        text-align: right;\n",
              "    }\n",
              "</style>\n",
              "<table border=\"1\" class=\"dataframe\">\n",
              "  <thead>\n",
              "    <tr style=\"text-align: right;\">\n",
              "      <th></th>\n",
              "      <th>Result</th>\n",
              "    </tr>\n",
              "  </thead>\n",
              "  <tbody>\n",
              "    <tr>\n",
              "      <th>MWU statistics</th>\n",
              "      <td>10010.500000</td>\n",
              "    </tr>\n",
              "    <tr>\n",
              "      <th>p-value</th>\n",
              "      <td>0.003472</td>\n",
              "    </tr>\n",
              "  </tbody>\n",
              "</table>\n",
              "</div>"
            ],
            "text/plain": [
              "                      Result\n",
              "MWU statistics  10010.500000\n",
              "p-value             0.003472"
            ]
          },
          "metadata": {
            "tags": []
          },
          "execution_count": 37
        }
      ]
    },
    {
      "cell_type": "markdown",
      "metadata": {
        "id": "_sokaJU9UoFd"
      },
      "source": [
        "### Result and Interpretation\n",
        "Our result revealed that:\n",
        "<br>\n",
        "p-value = 0.003472 $<$ $\\alpha = 0.05$\n",
        "<br>\n",
        "We will **reject** our null hypothesis. There is a significant difference in the triglyceride level between having or not having hepatomegaly."
      ]
    },
    {
      "cell_type": "markdown",
      "metadata": {
        "id": "qOnVEkRQUwll"
      },
      "source": [
        "## Ascites\n",
        "* $H_0$: There is no difference in the triglyceride level between the group with ascites and those without.\n",
        "* $H_1$: There is a significant difference in triglyceride level between having or not having ascites.\n",
        "* $\\alpha = 0.05$"
      ]
    },
    {
      "cell_type": "code",
      "metadata": {
        "colab": {
          "base_uri": "https://localhost:8080/",
          "height": 107
        },
        "id": "l_rnkY1QUmCu",
        "outputId": "b0264323-8de0-4af4-f66f-3482844e5d18"
      },
      "source": [
        "# Subset array\n",
        "noascitesTG = noascites['Triglyceride']\n",
        "yesascitesTG = yesascites['Triglyceride']\n",
        "\n",
        "# Perform the Mann-Whitney U test\n",
        "MWU, pval = mannwhitneyu(noascitesTG, yesascitesTG)\n",
        "\n",
        "result = pd.DataFrame([MWU, pval], \n",
        "                      index=['MWU statistics', 'p-value'],\n",
        "                      columns=['Result'])\n",
        "result"
      ],
      "execution_count": 38,
      "outputs": [
        {
          "output_type": "execute_result",
          "data": {
            "text/html": [
              "<div>\n",
              "<style scoped>\n",
              "    .dataframe tbody tr th:only-of-type {\n",
              "        vertical-align: middle;\n",
              "    }\n",
              "\n",
              "    .dataframe tbody tr th {\n",
              "        vertical-align: top;\n",
              "    }\n",
              "\n",
              "    .dataframe thead th {\n",
              "        text-align: right;\n",
              "    }\n",
              "</style>\n",
              "<table border=\"1\" class=\"dataframe\">\n",
              "  <thead>\n",
              "    <tr style=\"text-align: right;\">\n",
              "      <th></th>\n",
              "      <th>Result</th>\n",
              "    </tr>\n",
              "  </thead>\n",
              "  <tbody>\n",
              "    <tr>\n",
              "      <th>MWU statistics</th>\n",
              "      <td>2473.500000</td>\n",
              "    </tr>\n",
              "    <tr>\n",
              "      <th>p-value</th>\n",
              "      <td>0.010337</td>\n",
              "    </tr>\n",
              "  </tbody>\n",
              "</table>\n",
              "</div>"
            ],
            "text/plain": [
              "                     Result\n",
              "MWU statistics  2473.500000\n",
              "p-value            0.010337"
            ]
          },
          "metadata": {
            "tags": []
          },
          "execution_count": 38
        }
      ]
    },
    {
      "cell_type": "markdown",
      "metadata": {
        "id": "u5KuaRgHVEV3"
      },
      "source": [
        "### Result and Interpretation\n",
        "Our result revealed that:\n",
        "<br>\n",
        "p-value = 0.010337 $<$ $\\alpha = 0.05$\n",
        "<br>\n",
        "We will **reject** our null hypothesis. There is a significant difference in the triglyceride level between having or not having ascites."
      ]
    },
    {
      "cell_type": "markdown",
      "metadata": {
        "id": "Np2hSsnmWYWf"
      },
      "source": [
        "## Sex\n",
        "* $H_0$: There is no difference in the triglyceride level between female and male.\n",
        "* $H_1$: There is a significant difference in triglyceride level between female and male.\n",
        "* $\\alpha = 0.05$"
      ]
    },
    {
      "cell_type": "code",
      "metadata": {
        "colab": {
          "base_uri": "https://localhost:8080/",
          "height": 107
        },
        "id": "GXViDAVkWg1E",
        "outputId": "85712566-7b8c-417b-c6ce-1108d0a1bb60"
      },
      "source": [
        "# Subset array\n",
        "femaleTG = female['Triglyceride']\n",
        "maleTG = male['Triglyceride']\n",
        "\n",
        "# Perform the Mann-Whitney U test\n",
        "MWU, pval = mannwhitneyu(femaleTG, maleTG)\n",
        "\n",
        "result = pd.DataFrame([MWU, pval], \n",
        "                      index=['MWU statistics', 'p-value'],\n",
        "                      columns=['Result'])\n",
        "result"
      ],
      "execution_count": 39,
      "outputs": [
        {
          "output_type": "execute_result",
          "data": {
            "text/html": [
              "<div>\n",
              "<style scoped>\n",
              "    .dataframe tbody tr th:only-of-type {\n",
              "        vertical-align: middle;\n",
              "    }\n",
              "\n",
              "    .dataframe tbody tr th {\n",
              "        vertical-align: top;\n",
              "    }\n",
              "\n",
              "    .dataframe thead th {\n",
              "        text-align: right;\n",
              "    }\n",
              "</style>\n",
              "<table border=\"1\" class=\"dataframe\">\n",
              "  <thead>\n",
              "    <tr style=\"text-align: right;\">\n",
              "      <th></th>\n",
              "      <th>Result</th>\n",
              "    </tr>\n",
              "  </thead>\n",
              "  <tbody>\n",
              "    <tr>\n",
              "      <th>MWU statistics</th>\n",
              "      <td>4179.500000</td>\n",
              "    </tr>\n",
              "    <tr>\n",
              "      <th>p-value</th>\n",
              "      <td>0.060734</td>\n",
              "    </tr>\n",
              "  </tbody>\n",
              "</table>\n",
              "</div>"
            ],
            "text/plain": [
              "                     Result\n",
              "MWU statistics  4179.500000\n",
              "p-value            0.060734"
            ]
          },
          "metadata": {
            "tags": []
          },
          "execution_count": 39
        }
      ]
    },
    {
      "cell_type": "markdown",
      "metadata": {
        "id": "8FIBtDGTWsi2"
      },
      "source": [
        "### Result and Interpretation\n",
        "Our result revealed that:\n",
        "<br>\n",
        "p-value = 0.060734 $>$ $\\alpha = 0.05$\n",
        "<br>\n",
        "We will **not reject** our null hypothesis. There is no significant difference in the triglyceride level between female and male."
      ]
    },
    {
      "cell_type": "markdown",
      "metadata": {
        "id": "b-obFkCwVQic"
      },
      "source": [
        "## Treatment group\n",
        "* $H_0$: There is no difference in the triglyceride level between penicillamine and placebo group.\n",
        "* $H_1$: There is a significant difference in triglyceride level between penicillamine and placebo group.\n",
        "* $\\alpha = 0.05$"
      ]
    },
    {
      "cell_type": "code",
      "metadata": {
        "colab": {
          "base_uri": "https://localhost:8080/",
          "height": 107
        },
        "id": "EjYPMd8YVCNf",
        "outputId": "6463b72b-5cf6-4d9b-e683-0683a3f06bff"
      },
      "source": [
        "# Subset array\n",
        "penicillamineTG = penicillamine['Triglyceride']\n",
        "placeboTG = placebo['Triglyceride']\n",
        "\n",
        "# Perform the Mann-Whitney U test\n",
        "MWU, pval = mannwhitneyu(penicillamineTG, placeboTG)\n",
        "\n",
        "result = pd.DataFrame([MWU, pval], \n",
        "                      index=['MWU statistics', 'p-value'],\n",
        "                      columns=['Result'])\n",
        "result"
      ],
      "execution_count": 40,
      "outputs": [
        {
          "output_type": "execute_result",
          "data": {
            "text/html": [
              "<div>\n",
              "<style scoped>\n",
              "    .dataframe tbody tr th:only-of-type {\n",
              "        vertical-align: middle;\n",
              "    }\n",
              "\n",
              "    .dataframe tbody tr th {\n",
              "        vertical-align: top;\n",
              "    }\n",
              "\n",
              "    .dataframe thead th {\n",
              "        text-align: right;\n",
              "    }\n",
              "</style>\n",
              "<table border=\"1\" class=\"dataframe\">\n",
              "  <thead>\n",
              "    <tr style=\"text-align: right;\">\n",
              "      <th></th>\n",
              "      <th>Result</th>\n",
              "    </tr>\n",
              "  </thead>\n",
              "  <tbody>\n",
              "    <tr>\n",
              "      <th>MWU statistics</th>\n",
              "      <td>11436.000000</td>\n",
              "    </tr>\n",
              "    <tr>\n",
              "      <th>p-value</th>\n",
              "      <td>0.179794</td>\n",
              "    </tr>\n",
              "  </tbody>\n",
              "</table>\n",
              "</div>"
            ],
            "text/plain": [
              "                      Result\n",
              "MWU statistics  11436.000000\n",
              "p-value             0.179794"
            ]
          },
          "metadata": {
            "tags": []
          },
          "execution_count": 40
        }
      ]
    },
    {
      "cell_type": "markdown",
      "metadata": {
        "id": "Tgd9-L8iVnLJ"
      },
      "source": [
        "### Result and Interpretation\n",
        "Our result revealed that:\n",
        "<br>\n",
        "p-value = 0.179794 $>$ $\\alpha = 0.05$\n",
        "<br>\n",
        "We will **not reject** our null hypothesis. There is no significant difference in the triglyceride level between penicillamine and placebo group."
      ]
    },
    {
      "cell_type": "markdown",
      "metadata": {
        "id": "uJMZYi4aWG7e"
      },
      "source": [
        "# AST - Kruskal-Wallis test\n",
        "* $H_0$: The median aspartate aminotransferase level of the groups are equal.\n",
        "* $H_0$: $\\widetilde{x}_{1}$ = $\\widetilde{x}_{2}$ = $\\widetilde{x}_{n}$\n",
        "* $H_1$: The median aspartate aminotransferase level of one or more groups are not equal.\n",
        "* $\\alpha = 0.05$"
      ]
    },
    {
      "cell_type": "markdown",
      "metadata": {
        "id": "MXUkBvrKW5CC"
      },
      "source": [
        "## Edema\n",
        "* $H_0$: The median AST level of the groups with edema, diuresed edema, and absent edema are equal.\n",
        "* $H_0$: $\\widetilde{x}_{present}$ = $\\widetilde{x}_{diurese}$ = $\\widetilde{x}_{absent}$\n",
        "* $H_1$: At least one of the groups' median AST level is not equal.\n",
        "* $\\alpha = 0.05$"
      ]
    },
    {
      "cell_type": "code",
      "metadata": {
        "colab": {
          "base_uri": "https://localhost:8080/",
          "height": 107
        },
        "id": "YdasAKggVh_z",
        "outputId": "75e5dad1-6fb7-43bd-e657-846791632c86"
      },
      "source": [
        "# Subset array\n",
        "presentAST = present['AST']\n",
        "diureseAST = diurese['AST']\n",
        "absentAST = absent['AST']\n",
        "\n",
        "# Perform the Kruskal-Wallis test\n",
        "KWH, pval = kruskal(presentAST, diureseAST, absentAST)\n",
        "\n",
        "result = pd.DataFrame([KWH, pval], \n",
        "                      index=['KWH statistics', 'p-value'],\n",
        "                      columns=['Result'])\n",
        "result"
      ],
      "execution_count": 41,
      "outputs": [
        {
          "output_type": "execute_result",
          "data": {
            "text/html": [
              "<div>\n",
              "<style scoped>\n",
              "    .dataframe tbody tr th:only-of-type {\n",
              "        vertical-align: middle;\n",
              "    }\n",
              "\n",
              "    .dataframe tbody tr th {\n",
              "        vertical-align: top;\n",
              "    }\n",
              "\n",
              "    .dataframe thead th {\n",
              "        text-align: right;\n",
              "    }\n",
              "</style>\n",
              "<table border=\"1\" class=\"dataframe\">\n",
              "  <thead>\n",
              "    <tr style=\"text-align: right;\">\n",
              "      <th></th>\n",
              "      <th>Result</th>\n",
              "    </tr>\n",
              "  </thead>\n",
              "  <tbody>\n",
              "    <tr>\n",
              "      <th>KWH statistics</th>\n",
              "      <td>4.735805</td>\n",
              "    </tr>\n",
              "    <tr>\n",
              "      <th>p-value</th>\n",
              "      <td>0.093677</td>\n",
              "    </tr>\n",
              "  </tbody>\n",
              "</table>\n",
              "</div>"
            ],
            "text/plain": [
              "                  Result\n",
              "KWH statistics  4.735805\n",
              "p-value         0.093677"
            ]
          },
          "metadata": {
            "tags": []
          },
          "execution_count": 41
        }
      ]
    },
    {
      "cell_type": "markdown",
      "metadata": {
        "id": "yzb8ltJYXeXc"
      },
      "source": [
        "### Result and Interpretation\n",
        "Our result revealed that:\n",
        "<br>\n",
        "p-value = 0.093677 $>$ $\\alpha = 0.05$\n",
        "<br>\n",
        "We will **not reject** our null hypothesis. There is no significant difference in the median AST level among the edema groups. Or, the median AST level among the groups are equal."
      ]
    },
    {
      "cell_type": "markdown",
      "metadata": {
        "id": "tAh7EI_DXx5T"
      },
      "source": [
        "## Censoring status\n",
        "* $H_0$: The median AST level of the groups with status dead, transplant, and censored are equal.\n",
        "* $H_0$: $\\widetilde{x}_{dead}$ = $\\widetilde{x}_{censored}$ = $\\widetilde{x}_{transplant}$\n",
        "* $H_1$: At least one of the groups' median AST level is not equal.\n",
        "* $\\alpha = 0.05$"
      ]
    },
    {
      "cell_type": "code",
      "metadata": {
        "colab": {
          "base_uri": "https://localhost:8080/",
          "height": 107
        },
        "id": "Ia5Q4k5xXaSX",
        "outputId": "f598d7de-942f-4671-ae4c-5e5ec674454d"
      },
      "source": [
        "# Subset array\n",
        "deadAST = dead['AST']\n",
        "censoredAST = censored['AST']\n",
        "transplantAST = transplant['AST']\n",
        "\n",
        "# Perform the Kruskal-Wallis test\n",
        "KWH, pval = kruskal(deadAST, censoredAST, transplantAST)\n",
        "\n",
        "result = pd.DataFrame([KWH, pval], \n",
        "                      index=['KWH statistics', 'p-value'],\n",
        "                      columns=['Result'])\n",
        "result"
      ],
      "execution_count": 42,
      "outputs": [
        {
          "output_type": "execute_result",
          "data": {
            "text/html": [
              "<div>\n",
              "<style scoped>\n",
              "    .dataframe tbody tr th:only-of-type {\n",
              "        vertical-align: middle;\n",
              "    }\n",
              "\n",
              "    .dataframe tbody tr th {\n",
              "        vertical-align: top;\n",
              "    }\n",
              "\n",
              "    .dataframe thead th {\n",
              "        text-align: right;\n",
              "    }\n",
              "</style>\n",
              "<table border=\"1\" class=\"dataframe\">\n",
              "  <thead>\n",
              "    <tr style=\"text-align: right;\">\n",
              "      <th></th>\n",
              "      <th>Result</th>\n",
              "    </tr>\n",
              "  </thead>\n",
              "  <tbody>\n",
              "    <tr>\n",
              "      <th>KWH statistics</th>\n",
              "      <td>3.526612e+01</td>\n",
              "    </tr>\n",
              "    <tr>\n",
              "      <th>p-value</th>\n",
              "      <td>2.198163e-08</td>\n",
              "    </tr>\n",
              "  </tbody>\n",
              "</table>\n",
              "</div>"
            ],
            "text/plain": [
              "                      Result\n",
              "KWH statistics  3.526612e+01\n",
              "p-value         2.198163e-08"
            ]
          },
          "metadata": {
            "tags": []
          },
          "execution_count": 42
        }
      ]
    },
    {
      "cell_type": "markdown",
      "metadata": {
        "id": "c1DNJQ9vYFiO"
      },
      "source": [
        "### Result and Interpretation\n",
        "Our result revealed that:\n",
        "<br>\n",
        "p-value = 2.198e-8 $<$ $\\alpha = 0.05$\n",
        "<br>\n",
        "We will **reject** our null hypothesis. At least one of the group's median AST is not equal."
      ]
    },
    {
      "cell_type": "markdown",
      "metadata": {
        "id": "-NAaJwmiYgMX"
      },
      "source": [
        "## Histology stage\n",
        "* $H_0$: The median AST level of the histology stage groups are equal.\n",
        "* $H_0$: $\\widetilde{x}_{stg1}$ = $\\widetilde{x}_{stg2}$ = $\\widetilde{x}_{stg3}$ = $\\widetilde{x}_{stg4}$\n",
        "* $H_1$: At least one of the groups' median AST level is not equal.\n",
        "* $\\alpha = 0.05$"
      ]
    },
    {
      "cell_type": "code",
      "metadata": {
        "colab": {
          "base_uri": "https://localhost:8080/",
          "height": 107
        },
        "id": "5Z8exxrfYDYP",
        "outputId": "728ae035-ffbb-4717-e3ab-811da7faae03"
      },
      "source": [
        "# Subset array\n",
        "St1AST = Stage1['AST']\n",
        "St2AST = Stage2['AST']\n",
        "St3AST = Stage3['AST']\n",
        "St4AST = Stage4['AST']\n",
        "\n",
        "# Perform the Kruskal-Wallis test\n",
        "KWH, pval = kruskal(St1AST, St2AST, St3AST, St4AST)\n",
        "\n",
        "result = pd.DataFrame([KWH, pval], \n",
        "                      index=['KWH statistics', 'p-value'],\n",
        "                      columns=['Result'])\n",
        "result"
      ],
      "execution_count": 43,
      "outputs": [
        {
          "output_type": "execute_result",
          "data": {
            "text/html": [
              "<div>\n",
              "<style scoped>\n",
              "    .dataframe tbody tr th:only-of-type {\n",
              "        vertical-align: middle;\n",
              "    }\n",
              "\n",
              "    .dataframe tbody tr th {\n",
              "        vertical-align: top;\n",
              "    }\n",
              "\n",
              "    .dataframe thead th {\n",
              "        text-align: right;\n",
              "    }\n",
              "</style>\n",
              "<table border=\"1\" class=\"dataframe\">\n",
              "  <thead>\n",
              "    <tr style=\"text-align: right;\">\n",
              "      <th></th>\n",
              "      <th>Result</th>\n",
              "    </tr>\n",
              "  </thead>\n",
              "  <tbody>\n",
              "    <tr>\n",
              "      <th>KWH statistics</th>\n",
              "      <td>16.107418</td>\n",
              "    </tr>\n",
              "    <tr>\n",
              "      <th>p-value</th>\n",
              "      <td>0.001078</td>\n",
              "    </tr>\n",
              "  </tbody>\n",
              "</table>\n",
              "</div>"
            ],
            "text/plain": [
              "                   Result\n",
              "KWH statistics  16.107418\n",
              "p-value          0.001078"
            ]
          },
          "metadata": {
            "tags": []
          },
          "execution_count": 43
        }
      ]
    },
    {
      "cell_type": "markdown",
      "metadata": {
        "id": "fv0o2eQpZBoH"
      },
      "source": [
        "### Result and Interpretation\n",
        "Our result revealed that:\n",
        "<br>\n",
        "p-value = 0.001078 $<$ $\\alpha = 0.05$\n",
        "<br>\n",
        "We will **reject** our null hypothesis. At least one of the group's median AST is not equal."
      ]
    },
    {
      "cell_type": "markdown",
      "metadata": {
        "id": "7QhvZiOuZMhQ"
      },
      "source": [
        "# AST - Mann-Whitney U test\n",
        "* $H_0$: There is no difference in the aspartate aminotransferase level between the 2 groups.\n",
        "* $H_1$: There is a difference in the aspartate aminotransferase level between the 2 groups.\n",
        "* $\\alpha = 0.05$\n"
      ]
    },
    {
      "cell_type": "markdown",
      "metadata": {
        "id": "yJr0xo7MZRPG"
      },
      "source": [
        "## Spider Angiomata\n",
        "* $H_0$: There is no difference in the AST level between the group with spider angiomata and those without.\n",
        "* $H_1$: There is a significant difference in AST level between having or not having spider angiomata.\n",
        "* $\\alpha = 0.05$"
      ]
    },
    {
      "cell_type": "code",
      "metadata": {
        "colab": {
          "base_uri": "https://localhost:8080/",
          "height": 107
        },
        "id": "OwZxM5U9YuRh",
        "outputId": "ff3c7482-ece3-4f47-f45a-6e5de5c22588"
      },
      "source": [
        "# Subset array\n",
        "nospiderAST = nospider['AST']\n",
        "yesspiderAST = yesspider['AST']\n",
        "\n",
        "# Perform the Mann-Whitney U test\n",
        "MWU, pval = mannwhitneyu(nospiderAST, yesspiderAST)\n",
        "\n",
        "result = pd.DataFrame([MWU, pval], \n",
        "                      index=['MWU statistics', 'p-value'],\n",
        "                      columns=['Result'])\n",
        "result"
      ],
      "execution_count": 44,
      "outputs": [
        {
          "output_type": "execute_result",
          "data": {
            "text/html": [
              "<div>\n",
              "<style scoped>\n",
              "    .dataframe tbody tr th:only-of-type {\n",
              "        vertical-align: middle;\n",
              "    }\n",
              "\n",
              "    .dataframe tbody tr th {\n",
              "        vertical-align: top;\n",
              "    }\n",
              "\n",
              "    .dataframe thead th {\n",
              "        text-align: right;\n",
              "    }\n",
              "</style>\n",
              "<table border=\"1\" class=\"dataframe\">\n",
              "  <thead>\n",
              "    <tr style=\"text-align: right;\">\n",
              "      <th></th>\n",
              "      <th>Result</th>\n",
              "    </tr>\n",
              "  </thead>\n",
              "  <tbody>\n",
              "    <tr>\n",
              "      <th>MWU statistics</th>\n",
              "      <td>8019.500000</td>\n",
              "    </tr>\n",
              "    <tr>\n",
              "      <th>p-value</th>\n",
              "      <td>0.003176</td>\n",
              "    </tr>\n",
              "  </tbody>\n",
              "</table>\n",
              "</div>"
            ],
            "text/plain": [
              "                     Result\n",
              "MWU statistics  8019.500000\n",
              "p-value            0.003176"
            ]
          },
          "metadata": {
            "tags": []
          },
          "execution_count": 44
        }
      ]
    },
    {
      "cell_type": "markdown",
      "metadata": {
        "id": "gDOu27EMZmzN"
      },
      "source": [
        "### Result and Interpretation\n",
        "Our result revealed that:\n",
        "<br>\n",
        "p-value = 0.003176 $<$ $\\alpha = 0.05$\n",
        "<br>\n",
        "We will **reject** our null hypothesis. There is a significant difference in the AST level between having or not having spider angiomata."
      ]
    },
    {
      "cell_type": "markdown",
      "metadata": {
        "id": "CMmnw-XwZ2I6"
      },
      "source": [
        "## Hepatomegaly\n",
        "* $H_0$: There is no difference in the AST level between the group with hepatomegaly and those without.\n",
        "* $H_1$: There is a significant difference in AST level between having or not having hepatomegaly.\n",
        "* $\\alpha = 0.05$"
      ]
    },
    {
      "cell_type": "code",
      "metadata": {
        "colab": {
          "base_uri": "https://localhost:8080/",
          "height": 107
        },
        "id": "AwiPWh0yZjOI",
        "outputId": "121b0424-0e21-442f-ef68-026ed4208c68"
      },
      "source": [
        "# Subset array\n",
        "nohepatoAST = nohepato['AST']\n",
        "yeshepatoAST = yeshepato['AST']\n",
        "\n",
        "# Perform the Mann-Whitney U test\n",
        "MWU, pval = mannwhitneyu(nohepatoAST, yeshepatoAST)\n",
        "\n",
        "result = pd.DataFrame([MWU, pval], \n",
        "                      index=['MWU statistics', 'p-value'],\n",
        "                      columns=['Result'])\n",
        "result"
      ],
      "execution_count": 45,
      "outputs": [
        {
          "output_type": "execute_result",
          "data": {
            "text/html": [
              "<div>\n",
              "<style scoped>\n",
              "    .dataframe tbody tr th:only-of-type {\n",
              "        vertical-align: middle;\n",
              "    }\n",
              "\n",
              "    .dataframe tbody tr th {\n",
              "        vertical-align: top;\n",
              "    }\n",
              "\n",
              "    .dataframe thead th {\n",
              "        text-align: right;\n",
              "    }\n",
              "</style>\n",
              "<table border=\"1\" class=\"dataframe\">\n",
              "  <thead>\n",
              "    <tr style=\"text-align: right;\">\n",
              "      <th></th>\n",
              "      <th>Result</th>\n",
              "    </tr>\n",
              "  </thead>\n",
              "  <tbody>\n",
              "    <tr>\n",
              "      <th>MWU statistics</th>\n",
              "      <td>9883.000000</td>\n",
              "    </tr>\n",
              "    <tr>\n",
              "      <th>p-value</th>\n",
              "      <td>0.002129</td>\n",
              "    </tr>\n",
              "  </tbody>\n",
              "</table>\n",
              "</div>"
            ],
            "text/plain": [
              "                     Result\n",
              "MWU statistics  9883.000000\n",
              "p-value            0.002129"
            ]
          },
          "metadata": {
            "tags": []
          },
          "execution_count": 45
        }
      ]
    },
    {
      "cell_type": "markdown",
      "metadata": {
        "id": "P1GyGKu8aYS3"
      },
      "source": [
        "### Result and Interpretation\n",
        "Our result revealed that:\n",
        "<br>\n",
        "p-value = 0.002129 $<$ $\\alpha = 0.05$\n",
        "<br>\n",
        "We will **reject** our null hypothesis. There is a significant difference in the AST level between having or not having hepatomegaly."
      ]
    },
    {
      "cell_type": "markdown",
      "metadata": {
        "id": "6u1UD6lvanWr"
      },
      "source": [
        "## Ascites\n",
        "* $H_0$: There is no difference in the AST level between the group with ascites and those without.\n",
        "* $H_1$: There is a significant difference in AST level between having or not having ascites.\n",
        "* $\\alpha = 0.05$"
      ]
    },
    {
      "cell_type": "code",
      "metadata": {
        "colab": {
          "base_uri": "https://localhost:8080/",
          "height": 107
        },
        "id": "pThPweP2aVVQ",
        "outputId": "d10ed6e9-07cf-492a-aad4-f0e8334bd3c2"
      },
      "source": [
        "# Subset array\n",
        "noascitesAST = noascites['AST']\n",
        "yesascitesAST = yesascites['AST']\n",
        "\n",
        "# Perform the Mann-Whitney U test\n",
        "MWU, pval = mannwhitneyu(noascitesAST, yesascitesAST)\n",
        "\n",
        "result = pd.DataFrame([MWU, pval], \n",
        "                      index=['MWU statistics', 'p-value'],\n",
        "                      columns=['Result'])\n",
        "result"
      ],
      "execution_count": 46,
      "outputs": [
        {
          "output_type": "execute_result",
          "data": {
            "text/html": [
              "<div>\n",
              "<style scoped>\n",
              "    .dataframe tbody tr th:only-of-type {\n",
              "        vertical-align: middle;\n",
              "    }\n",
              "\n",
              "    .dataframe tbody tr th {\n",
              "        vertical-align: top;\n",
              "    }\n",
              "\n",
              "    .dataframe thead th {\n",
              "        text-align: right;\n",
              "    }\n",
              "</style>\n",
              "<table border=\"1\" class=\"dataframe\">\n",
              "  <thead>\n",
              "    <tr style=\"text-align: right;\">\n",
              "      <th></th>\n",
              "      <th>Result</th>\n",
              "    </tr>\n",
              "  </thead>\n",
              "  <tbody>\n",
              "    <tr>\n",
              "      <th>MWU statistics</th>\n",
              "      <td>2823.50000</td>\n",
              "    </tr>\n",
              "    <tr>\n",
              "      <th>p-value</th>\n",
              "      <td>0.06831</td>\n",
              "    </tr>\n",
              "  </tbody>\n",
              "</table>\n",
              "</div>"
            ],
            "text/plain": [
              "                    Result\n",
              "MWU statistics  2823.50000\n",
              "p-value            0.06831"
            ]
          },
          "metadata": {
            "tags": []
          },
          "execution_count": 46
        }
      ]
    },
    {
      "cell_type": "markdown",
      "metadata": {
        "id": "GCUZi9UBa8Bi"
      },
      "source": [
        "### Result and Interpretation\n",
        "Our result revealed that:\n",
        "<br>\n",
        "p-value = 0.06831 $>$ $\\alpha = 0.05$\n",
        "<br>\n",
        "We will **not reject** our null hypothesis. There is no significant difference in the AST level between having or not having ascites."
      ]
    },
    {
      "cell_type": "markdown",
      "metadata": {
        "id": "uIa-7pBMbJY7"
      },
      "source": [
        "## Sex\n",
        "* $H_0$: There is no difference in the AST level between female and male.\n",
        "* $H_1$: There is a significant difference in AST level between female and male.\n",
        "* $\\alpha = 0.05$"
      ]
    },
    {
      "cell_type": "code",
      "metadata": {
        "colab": {
          "base_uri": "https://localhost:8080/",
          "height": 107
        },
        "id": "Yk2n39d-a1Ul",
        "outputId": "39ada6e5-adca-4e6c-c9ac-296adb14bca7"
      },
      "source": [
        "# Subset array\n",
        "femaleAST = female['AST']\n",
        "maleAST = male['AST']\n",
        "\n",
        "# Perform the Mann-Whitney U test\n",
        "MWU, pval = mannwhitneyu(femaleAST, maleAST)\n",
        "\n",
        "result = pd.DataFrame([MWU, pval],\n",
        "                      index=['MWU statistics', 'p-value'],\n",
        "                      columns=['Result'])\n",
        "result"
      ],
      "execution_count": 47,
      "outputs": [
        {
          "output_type": "execute_result",
          "data": {
            "text/html": [
              "<div>\n",
              "<style scoped>\n",
              "    .dataframe tbody tr th:only-of-type {\n",
              "        vertical-align: middle;\n",
              "    }\n",
              "\n",
              "    .dataframe tbody tr th {\n",
              "        vertical-align: top;\n",
              "    }\n",
              "\n",
              "    .dataframe thead th {\n",
              "        text-align: right;\n",
              "    }\n",
              "</style>\n",
              "<table border=\"1\" class=\"dataframe\">\n",
              "  <thead>\n",
              "    <tr style=\"text-align: right;\">\n",
              "      <th></th>\n",
              "      <th>Result</th>\n",
              "    </tr>\n",
              "  </thead>\n",
              "  <tbody>\n",
              "    <tr>\n",
              "      <th>MWU statistics</th>\n",
              "      <td>4784.00000</td>\n",
              "    </tr>\n",
              "    <tr>\n",
              "      <th>p-value</th>\n",
              "      <td>0.35925</td>\n",
              "    </tr>\n",
              "  </tbody>\n",
              "</table>\n",
              "</div>"
            ],
            "text/plain": [
              "                    Result\n",
              "MWU statistics  4784.00000\n",
              "p-value            0.35925"
            ]
          },
          "metadata": {
            "tags": []
          },
          "execution_count": 47
        }
      ]
    },
    {
      "cell_type": "markdown",
      "metadata": {
        "id": "adkY9O83bfd_"
      },
      "source": [
        "### Result and Interpretation\n",
        "Our result revealed that:\n",
        "<br>\n",
        "p-value = 0.35925 $>$ $\\alpha = 0.05$\n",
        "<br>\n",
        "We will **not reject** our null hypothesis. There is no significant difference in the AST level between male and female."
      ]
    },
    {
      "cell_type": "markdown",
      "metadata": {
        "id": "w6Ok1m70borc"
      },
      "source": [
        "## Treatment group\n",
        "* $H_0$: There is no difference in the AST level between penicillamine and placebo treatment group.\n",
        "* $H_1$: There is a significant difference in AST level between penicillamine and placebo treatment group.\n",
        "* $\\alpha = 0.05$"
      ]
    },
    {
      "cell_type": "code",
      "metadata": {
        "colab": {
          "base_uri": "https://localhost:8080/",
          "height": 107
        },
        "id": "PBI0fZYdbc66",
        "outputId": "68eaee88-b696-4d14-de7f-30a97fcbc2ef"
      },
      "source": [
        "# Subset array\n",
        "penicillamineAST = penicillamine['AST']\n",
        "placeboAST = placebo['AST']\n",
        "\n",
        "# Perform the Mann-Whitney U test\n",
        "MWU, pval = mannwhitneyu(penicillamineAST, placeboAST)\n",
        "\n",
        "result = pd.DataFrame([MWU, pval],\n",
        "                      index=['MWU statistics', 'p-value'],\n",
        "                      columns=['Result'])\n",
        "result"
      ],
      "execution_count": 48,
      "outputs": [
        {
          "output_type": "execute_result",
          "data": {
            "text/html": [
              "<div>\n",
              "<style scoped>\n",
              "    .dataframe tbody tr th:only-of-type {\n",
              "        vertical-align: middle;\n",
              "    }\n",
              "\n",
              "    .dataframe tbody tr th {\n",
              "        vertical-align: top;\n",
              "    }\n",
              "\n",
              "    .dataframe thead th {\n",
              "        text-align: right;\n",
              "    }\n",
              "</style>\n",
              "<table border=\"1\" class=\"dataframe\">\n",
              "  <thead>\n",
              "    <tr style=\"text-align: right;\">\n",
              "      <th></th>\n",
              "      <th>Result</th>\n",
              "    </tr>\n",
              "  </thead>\n",
              "  <tbody>\n",
              "    <tr>\n",
              "      <th>MWU statistics</th>\n",
              "      <td>11576.000000</td>\n",
              "    </tr>\n",
              "    <tr>\n",
              "      <th>p-value</th>\n",
              "      <td>0.229652</td>\n",
              "    </tr>\n",
              "  </tbody>\n",
              "</table>\n",
              "</div>"
            ],
            "text/plain": [
              "                      Result\n",
              "MWU statistics  11576.000000\n",
              "p-value             0.229652"
            ]
          },
          "metadata": {
            "tags": []
          },
          "execution_count": 48
        }
      ]
    },
    {
      "cell_type": "markdown",
      "metadata": {
        "id": "2ipIFYQAcBL9"
      },
      "source": [
        "### Result and Interpretation\n",
        "Our result revealed that:\n",
        "<br>\n",
        "p-value = 0.229652 $>$ $\\alpha = 0.05$\n",
        "<br>\n",
        "We will **not reject** our null hypothesis. There is no significant difference in the AST level between between penicillamine and placebo treatment group."
      ]
    },
    {
      "cell_type": "markdown",
      "metadata": {
        "id": "593HcXLDcWlC"
      },
      "source": [
        "# ALP - Kruskal-Wallis test\n",
        "* $H_0$: The median alkaline phosphatase level of the groups are equal.\n",
        "* $H_0$: $\\widetilde{x}_{1}$ = $\\widetilde{x}_{2}$ = $\\widetilde{x}_{n}$\n",
        "* $H_1$: The median alkaline phosphatase level of one or more groups are not equal.\n",
        "* $\\alpha = 0.05$"
      ]
    },
    {
      "cell_type": "markdown",
      "metadata": {
        "id": "gv3t-Jw0dYf6"
      },
      "source": [
        "## Edema\n",
        "* $H_0$: The median ALP level of the groups with edema, diuresed edema, and absent edema are equal.\n",
        "* $H_0$: $\\widetilde{x}_{present}$ = $\\widetilde{x}_{diurese}$ = $\\widetilde{x}_{absent}$\n",
        "* $H_1$: At least one of the groups' median ALP level is not equal.\n",
        "* $\\alpha = 0.05$"
      ]
    },
    {
      "cell_type": "code",
      "metadata": {
        "colab": {
          "base_uri": "https://localhost:8080/",
          "height": 107
        },
        "id": "Cfgt1CvXb-w-",
        "outputId": "a053f190-cd3a-42e2-98aa-4c2bfbfeef50"
      },
      "source": [
        "# Subset array\n",
        "presentALP = present['ALP']\n",
        "diureseALP = diurese['ALP']\n",
        "absentALP = absent['ALP']\n",
        "\n",
        "# Perform the Kruskal-Wallis test\n",
        "KWH, pval = kruskal(presentALP, diureseALP, absentALP)\n",
        "\n",
        "result = pd.DataFrame([KWH, pval], \n",
        "                      index=['KWH statistics', 'p-value'],\n",
        "                      columns=['Result'])\n",
        "result"
      ],
      "execution_count": 49,
      "outputs": [
        {
          "output_type": "execute_result",
          "data": {
            "text/html": [
              "<div>\n",
              "<style scoped>\n",
              "    .dataframe tbody tr th:only-of-type {\n",
              "        vertical-align: middle;\n",
              "    }\n",
              "\n",
              "    .dataframe tbody tr th {\n",
              "        vertical-align: top;\n",
              "    }\n",
              "\n",
              "    .dataframe thead th {\n",
              "        text-align: right;\n",
              "    }\n",
              "</style>\n",
              "<table border=\"1\" class=\"dataframe\">\n",
              "  <thead>\n",
              "    <tr style=\"text-align: right;\">\n",
              "      <th></th>\n",
              "      <th>Result</th>\n",
              "    </tr>\n",
              "  </thead>\n",
              "  <tbody>\n",
              "    <tr>\n",
              "      <th>KWH statistics</th>\n",
              "      <td>1.434058</td>\n",
              "    </tr>\n",
              "    <tr>\n",
              "      <th>p-value</th>\n",
              "      <td>0.488200</td>\n",
              "    </tr>\n",
              "  </tbody>\n",
              "</table>\n",
              "</div>"
            ],
            "text/plain": [
              "                  Result\n",
              "KWH statistics  1.434058\n",
              "p-value         0.488200"
            ]
          },
          "metadata": {
            "tags": []
          },
          "execution_count": 49
        }
      ]
    },
    {
      "cell_type": "markdown",
      "metadata": {
        "id": "dl0aejtAdhBg"
      },
      "source": [
        "### Result and Interpretation\n",
        "Our result revealed that:\n",
        "<br>\n",
        "p-value = 0.488200 $>$ $\\alpha = 0.05$\n",
        "<br>\n",
        "We will **not reject** our null hypothesis. There is no significant difference in the median ALP level among the edema groups. Or, the median AST level among the groups are equal."
      ]
    },
    {
      "cell_type": "markdown",
      "metadata": {
        "id": "lSxKKCzXdxFQ"
      },
      "source": [
        "## Censoring status\n",
        "* $H_0$: The median ALP level of the groups with status dead, transplant, and censored are equal.\n",
        "* $H_0$: $\\widetilde{x}_{dead}$ = $\\widetilde{x}_{censored}$ = $\\widetilde{x}_{transplant}$\n",
        "* $H_1$: At least one of the groups' median ALP level is not equal.\n",
        "* $\\alpha = 0.05$"
      ]
    },
    {
      "cell_type": "code",
      "metadata": {
        "colab": {
          "base_uri": "https://localhost:8080/",
          "height": 107
        },
        "id": "kh6qxaUtc3HU",
        "outputId": "55c2216d-8c3e-4377-a181-f69d20b0b793"
      },
      "source": [
        "# Subset array\n",
        "deadALP = dead['ALP']\n",
        "censoredALP = censored['ALP']\n",
        "transplantALP = transplant['ALP']\n",
        "\n",
        "# Perform the Kruskal-Wallis test\n",
        "KWH, pval = kruskal(deadALP, censoredALP, transplantALP)\n",
        "\n",
        "result = pd.DataFrame([KWH, pval], \n",
        "                      index=['KWH statistics', 'p-value'],\n",
        "                      columns=['Result'])\n",
        "result"
      ],
      "execution_count": 50,
      "outputs": [
        {
          "output_type": "execute_result",
          "data": {
            "text/html": [
              "<div>\n",
              "<style scoped>\n",
              "    .dataframe tbody tr th:only-of-type {\n",
              "        vertical-align: middle;\n",
              "    }\n",
              "\n",
              "    .dataframe tbody tr th {\n",
              "        vertical-align: top;\n",
              "    }\n",
              "\n",
              "    .dataframe thead th {\n",
              "        text-align: right;\n",
              "    }\n",
              "</style>\n",
              "<table border=\"1\" class=\"dataframe\">\n",
              "  <thead>\n",
              "    <tr style=\"text-align: right;\">\n",
              "      <th></th>\n",
              "      <th>Result</th>\n",
              "    </tr>\n",
              "  </thead>\n",
              "  <tbody>\n",
              "    <tr>\n",
              "      <th>KWH statistics</th>\n",
              "      <td>22.765818</td>\n",
              "    </tr>\n",
              "    <tr>\n",
              "      <th>p-value</th>\n",
              "      <td>0.000011</td>\n",
              "    </tr>\n",
              "  </tbody>\n",
              "</table>\n",
              "</div>"
            ],
            "text/plain": [
              "                   Result\n",
              "KWH statistics  22.765818\n",
              "p-value          0.000011"
            ]
          },
          "metadata": {
            "tags": []
          },
          "execution_count": 50
        }
      ]
    },
    {
      "cell_type": "markdown",
      "metadata": {
        "id": "d6vb-Ms9d41q"
      },
      "source": [
        "### Result and Interpretation\n",
        "Our result revealed that:\n",
        "<br>\n",
        "p-value = 0.000011 $<$ $\\alpha = 0.05$\n",
        "<br>\n",
        "We will **reject** our null hypothesis. At least one of the group's median ALP is not equal."
      ]
    },
    {
      "cell_type": "markdown",
      "metadata": {
        "id": "SCSzugsceO3J"
      },
      "source": [
        "## Histology stage\n",
        "* $H_0$: The median ALP level of the histology stage groups are equal.\n",
        "* $H_0$: $\\widetilde{x}_{stg1}$ = $\\widetilde{x}_{stg2}$ = $\\widetilde{x}_{stg3}$ = $\\widetilde{x}_{stg4}$\n",
        "* $H_1$: At least one of the groups' median ALP level is not equal.\n",
        "* $\\alpha = 0.05$"
      ]
    },
    {
      "cell_type": "code",
      "metadata": {
        "colab": {
          "base_uri": "https://localhost:8080/",
          "height": 107
        },
        "id": "O_0AM7UAc7fR",
        "outputId": "17d61d61-59ee-4063-d703-2ffb0eb4ecfc"
      },
      "source": [
        "# Subset array\n",
        "St1ALP = Stage1['ALP']\n",
        "St2ALP = Stage2['ALP']\n",
        "St3ALP = Stage3['ALP']\n",
        "St4ALP = Stage4['ALP']\n",
        "\n",
        "# Perform the Kruskal-Wallis test\n",
        "KWH, pval = kruskal(St1ALP, St2ALP, St3ALP, St4ALP)\n",
        "\n",
        "result = pd.DataFrame([KWH, pval], \n",
        "                      index=['KWH statistics', 'p-value'],\n",
        "                      columns=['Result'])\n",
        "result"
      ],
      "execution_count": 51,
      "outputs": [
        {
          "output_type": "execute_result",
          "data": {
            "text/html": [
              "<div>\n",
              "<style scoped>\n",
              "    .dataframe tbody tr th:only-of-type {\n",
              "        vertical-align: middle;\n",
              "    }\n",
              "\n",
              "    .dataframe tbody tr th {\n",
              "        vertical-align: top;\n",
              "    }\n",
              "\n",
              "    .dataframe thead th {\n",
              "        text-align: right;\n",
              "    }\n",
              "</style>\n",
              "<table border=\"1\" class=\"dataframe\">\n",
              "  <thead>\n",
              "    <tr style=\"text-align: right;\">\n",
              "      <th></th>\n",
              "      <th>Result</th>\n",
              "    </tr>\n",
              "  </thead>\n",
              "  <tbody>\n",
              "    <tr>\n",
              "      <th>KWH statistics</th>\n",
              "      <td>7.565153</td>\n",
              "    </tr>\n",
              "    <tr>\n",
              "      <th>p-value</th>\n",
              "      <td>0.055908</td>\n",
              "    </tr>\n",
              "  </tbody>\n",
              "</table>\n",
              "</div>"
            ],
            "text/plain": [
              "                  Result\n",
              "KWH statistics  7.565153\n",
              "p-value         0.055908"
            ]
          },
          "metadata": {
            "tags": []
          },
          "execution_count": 51
        }
      ]
    },
    {
      "cell_type": "markdown",
      "metadata": {
        "id": "xj2YeOGNec_Q"
      },
      "source": [
        "### Result and Interpretation\n",
        "Our result revealed that:\n",
        "<br>\n",
        "p-value = 0.055908 $>$ $\\alpha = 0.05$\n",
        "<br>\n",
        "We will **not reject** our null hypothesis. The ALP level among the histology stages are equal."
      ]
    },
    {
      "cell_type": "markdown",
      "metadata": {
        "id": "MN7DQAFceutY"
      },
      "source": [
        "# ALP - Mann-Whitney U test\n",
        "* $H_0$: There is no difference in the alkaline phosphatase level between the 2 groups.\n",
        "* $H_1$: There is a difference in the alkaline phosphatase level between the 2 groups.\n",
        "* $\\alpha = 0.05$\n"
      ]
    },
    {
      "cell_type": "markdown",
      "metadata": {
        "id": "5kpKBT8ffhmw"
      },
      "source": [
        "## Spider Angiomata\n",
        "* $H_0$: There is no difference in the ALP level between the group with spider angiomata and those without.\n",
        "* $H_1$: There is a significant difference in ALP level between having or not having spider angiomata.\n",
        "* $\\alpha = 0.05$"
      ]
    },
    {
      "cell_type": "code",
      "metadata": {
        "colab": {
          "base_uri": "https://localhost:8080/",
          "height": 107
        },
        "id": "X422vwCzeXsh",
        "outputId": "4ce749b1-0e59-42c2-c388-cadd3829236e"
      },
      "source": [
        "# Subset array\n",
        "nospiderALP = nospider['ALP']\n",
        "yesspiderALP = yesspider['ALP']\n",
        "\n",
        "# Perform the Mann-Whitney U test\n",
        "MWU, pval = mannwhitneyu(nospiderALP, yesspiderALP)\n",
        "\n",
        "result = pd.DataFrame([MWU, pval], \n",
        "                      index=['MWU statistics', 'p-value'],\n",
        "                      columns=['Result'])\n",
        "result"
      ],
      "execution_count": 52,
      "outputs": [
        {
          "output_type": "execute_result",
          "data": {
            "text/html": [
              "<div>\n",
              "<style scoped>\n",
              "    .dataframe tbody tr th:only-of-type {\n",
              "        vertical-align: middle;\n",
              "    }\n",
              "\n",
              "    .dataframe tbody tr th {\n",
              "        vertical-align: top;\n",
              "    }\n",
              "\n",
              "    .dataframe thead th {\n",
              "        text-align: right;\n",
              "    }\n",
              "</style>\n",
              "<table border=\"1\" class=\"dataframe\">\n",
              "  <thead>\n",
              "    <tr style=\"text-align: right;\">\n",
              "      <th></th>\n",
              "      <th>Result</th>\n",
              "    </tr>\n",
              "  </thead>\n",
              "  <tbody>\n",
              "    <tr>\n",
              "      <th>MWU statistics</th>\n",
              "      <td>8814.5000</td>\n",
              "    </tr>\n",
              "    <tr>\n",
              "      <th>p-value</th>\n",
              "      <td>0.0518</td>\n",
              "    </tr>\n",
              "  </tbody>\n",
              "</table>\n",
              "</div>"
            ],
            "text/plain": [
              "                   Result\n",
              "MWU statistics  8814.5000\n",
              "p-value            0.0518"
            ]
          },
          "metadata": {
            "tags": []
          },
          "execution_count": 52
        }
      ]
    },
    {
      "cell_type": "markdown",
      "metadata": {
        "id": "cSPm50Twfl_T"
      },
      "source": [
        "### Result and Interpretation\n",
        "Our result revealed that:\n",
        "<br>\n",
        "p-value = 0.0518 $<$ $\\alpha = 0.05$\n",
        "<br>\n",
        "We will **reject** our null hypothesis. There is a significant difference in the ALP level between having or not having spider angiomata."
      ]
    },
    {
      "cell_type": "markdown",
      "metadata": {
        "id": "Tfs41c_QfwfO"
      },
      "source": [
        "## Hepatomegaly\n",
        "* $H_0$: There is no difference in the ALP level between the group with hepatomegaly and those without.\n",
        "* $H_1$: There is a significant difference in ALP level between having or not having hepatomegaly.\n",
        "* $\\alpha = 0.05$"
      ]
    },
    {
      "cell_type": "code",
      "metadata": {
        "colab": {
          "base_uri": "https://localhost:8080/",
          "height": 107
        },
        "id": "D33FlBIJe6J5",
        "outputId": "30aef858-e46f-444b-d48f-7175db25a21a"
      },
      "source": [
        "# Subset array\n",
        "nohepatoALP = nohepato['ALP']\n",
        "yeshepatoALP = yeshepato['ALP']\n",
        "\n",
        "# Perform the Mann-Whitney U test\n",
        "MWU, pval = mannwhitneyu(nohepatoALP, yeshepatoALP)\n",
        "\n",
        "result = pd.DataFrame([MWU, pval], \n",
        "                      index=['MWU statistics', 'p-value'],\n",
        "                      columns=['Result'])\n",
        "result"
      ],
      "execution_count": 53,
      "outputs": [
        {
          "output_type": "execute_result",
          "data": {
            "text/html": [
              "<div>\n",
              "<style scoped>\n",
              "    .dataframe tbody tr th:only-of-type {\n",
              "        vertical-align: middle;\n",
              "    }\n",
              "\n",
              "    .dataframe tbody tr th {\n",
              "        vertical-align: top;\n",
              "    }\n",
              "\n",
              "    .dataframe thead th {\n",
              "        text-align: right;\n",
              "    }\n",
              "</style>\n",
              "<table border=\"1\" class=\"dataframe\">\n",
              "  <thead>\n",
              "    <tr style=\"text-align: right;\">\n",
              "      <th></th>\n",
              "      <th>Result</th>\n",
              "    </tr>\n",
              "  </thead>\n",
              "  <tbody>\n",
              "    <tr>\n",
              "      <th>MWU statistics</th>\n",
              "      <td>9840.500000</td>\n",
              "    </tr>\n",
              "    <tr>\n",
              "      <th>p-value</th>\n",
              "      <td>0.001798</td>\n",
              "    </tr>\n",
              "  </tbody>\n",
              "</table>\n",
              "</div>"
            ],
            "text/plain": [
              "                     Result\n",
              "MWU statistics  9840.500000\n",
              "p-value            0.001798"
            ]
          },
          "metadata": {
            "tags": []
          },
          "execution_count": 53
        }
      ]
    },
    {
      "cell_type": "markdown",
      "metadata": {
        "id": "87LAReKJf3N1"
      },
      "source": [
        "### Result and Interpretation\n",
        "Our result revealed that:\n",
        "<br>\n",
        "p-value = 0.001798 $<$ $\\alpha = 0.05$\n",
        "<br>\n",
        "We will **reject** our null hypothesis. There is a significant difference in the ALP level between having or not having hepatomegaly."
      ]
    },
    {
      "cell_type": "markdown",
      "metadata": {
        "id": "Xsx4k42-gJ11"
      },
      "source": [
        "## Ascites\n",
        "* $H_0$: There is no difference in the ALP level between the group with ascites and those without.\n",
        "* $H_1$: There is a significant difference in ALP level between having or not having ascites.\n",
        "* $\\alpha = 0.05$"
      ]
    },
    {
      "cell_type": "code",
      "metadata": {
        "colab": {
          "base_uri": "https://localhost:8080/",
          "height": 107
        },
        "id": "sedCo8KDe9oy",
        "outputId": "e006b8a7-57e6-4859-d6df-65fdaf47502c"
      },
      "source": [
        "# Subset array\n",
        "noascitesALP = noascites['ALP']\n",
        "yesascitesALP = yesascites['ALP']\n",
        "\n",
        "# Perform the Mann-Whitney U test\n",
        "MWU, pval = mannwhitneyu(noascitesALP, yesascitesALP)\n",
        "\n",
        "result = pd.DataFrame([MWU, pval], \n",
        "                      index=['MWU statistics', 'p-value'],\n",
        "                      columns=['Result'])\n",
        "result"
      ],
      "execution_count": 54,
      "outputs": [
        {
          "output_type": "execute_result",
          "data": {
            "text/html": [
              "<div>\n",
              "<style scoped>\n",
              "    .dataframe tbody tr th:only-of-type {\n",
              "        vertical-align: middle;\n",
              "    }\n",
              "\n",
              "    .dataframe tbody tr th {\n",
              "        vertical-align: top;\n",
              "    }\n",
              "\n",
              "    .dataframe thead th {\n",
              "        text-align: right;\n",
              "    }\n",
              "</style>\n",
              "<table border=\"1\" class=\"dataframe\">\n",
              "  <thead>\n",
              "    <tr style=\"text-align: right;\">\n",
              "      <th></th>\n",
              "      <th>Result</th>\n",
              "    </tr>\n",
              "  </thead>\n",
              "  <tbody>\n",
              "    <tr>\n",
              "      <th>MWU statistics</th>\n",
              "      <td>3217.500000</td>\n",
              "    </tr>\n",
              "    <tr>\n",
              "      <th>p-value</th>\n",
              "      <td>0.287561</td>\n",
              "    </tr>\n",
              "  </tbody>\n",
              "</table>\n",
              "</div>"
            ],
            "text/plain": [
              "                     Result\n",
              "MWU statistics  3217.500000\n",
              "p-value            0.287561"
            ]
          },
          "metadata": {
            "tags": []
          },
          "execution_count": 54
        }
      ]
    },
    {
      "cell_type": "markdown",
      "metadata": {
        "id": "KrY7daIOgTTy"
      },
      "source": [
        "### Result and Interpretation\n",
        "Our result revealed that:\n",
        "<br>\n",
        "p-value = 0.287561 $>$ $\\alpha = 0.05$\n",
        "<br>\n",
        "We will **not reject** our null hypothesis. There is no significant difference in the ALP level between having or not having ascites."
      ]
    },
    {
      "cell_type": "markdown",
      "metadata": {
        "id": "DGU3aP6Bgki1"
      },
      "source": [
        "## Sex\n",
        "* $H_0$: There is no difference in the ALP level between female and male.\n",
        "* $H_1$: There is a significant difference in ALP level between female and male.\n",
        "* $\\alpha = 0.05$"
      ]
    },
    {
      "cell_type": "code",
      "metadata": {
        "colab": {
          "base_uri": "https://localhost:8080/",
          "height": 107
        },
        "id": "eRTNsIzDfAOk",
        "outputId": "53768c2a-c890-4c3c-ef79-f5d913077b20"
      },
      "source": [
        "# Subset array\n",
        "femaleALP = female['ALP']\n",
        "maleALP = male['ALP']\n",
        "\n",
        "# Perform the Mann-Whitney U test\n",
        "MWU, pval = mannwhitneyu(femaleALP, maleALP)\n",
        "\n",
        "result = pd.DataFrame([MWU, pval],\n",
        "                      index=['MWU statistics', 'p-value'],\n",
        "                      columns=['Result'])\n",
        "result"
      ],
      "execution_count": 55,
      "outputs": [
        {
          "output_type": "execute_result",
          "data": {
            "text/html": [
              "<div>\n",
              "<style scoped>\n",
              "    .dataframe tbody tr th:only-of-type {\n",
              "        vertical-align: middle;\n",
              "    }\n",
              "\n",
              "    .dataframe tbody tr th {\n",
              "        vertical-align: top;\n",
              "    }\n",
              "\n",
              "    .dataframe thead th {\n",
              "        text-align: right;\n",
              "    }\n",
              "</style>\n",
              "<table border=\"1\" class=\"dataframe\">\n",
              "  <thead>\n",
              "    <tr style=\"text-align: right;\">\n",
              "      <th></th>\n",
              "      <th>Result</th>\n",
              "    </tr>\n",
              "  </thead>\n",
              "  <tbody>\n",
              "    <tr>\n",
              "      <th>MWU statistics</th>\n",
              "      <td>4933.000000</td>\n",
              "    </tr>\n",
              "    <tr>\n",
              "      <th>p-value</th>\n",
              "      <td>0.472985</td>\n",
              "    </tr>\n",
              "  </tbody>\n",
              "</table>\n",
              "</div>"
            ],
            "text/plain": [
              "                     Result\n",
              "MWU statistics  4933.000000\n",
              "p-value            0.472985"
            ]
          },
          "metadata": {
            "tags": []
          },
          "execution_count": 55
        }
      ]
    },
    {
      "cell_type": "markdown",
      "metadata": {
        "id": "4bx08Sb6hAKS"
      },
      "source": [
        "### Result and Interpretation\n",
        "Our result revealed that:\n",
        "<br>\n",
        "p-value = 0.472985 $>$ $\\alpha = 0.05$\n",
        "<br>\n",
        "We will **not reject** our null hypothesis. There is no significant difference in the ALP level between male and female."
      ]
    },
    {
      "cell_type": "markdown",
      "metadata": {
        "id": "n9MfDsq2hGuq"
      },
      "source": [
        "## Treatment group\n",
        "* $H_0$: There is no difference in the ALP level between penicillamine and placebo treatment group.\n",
        "* $H_1$: There is a significant difference in ALP level between penicillamine and placebo treatment group.\n",
        "* $\\alpha = 0.05$"
      ]
    },
    {
      "cell_type": "code",
      "metadata": {
        "colab": {
          "base_uri": "https://localhost:8080/",
          "height": 107
        },
        "id": "2pa-nPm6fC0L",
        "outputId": "22fc05cc-6c26-427a-a8ca-c61d2ff88567"
      },
      "source": [
        "# Subset array\n",
        "penicillamineALP = penicillamine['ALP']\n",
        "placeboALP = placebo['ALP']\n",
        "\n",
        "# Perform the Mann-Whitney U test\n",
        "MWU, pval = mannwhitneyu(penicillamineALP, placeboALP)\n",
        "\n",
        "result = pd.DataFrame([MWU, pval],\n",
        "                      index=['MWU statistics', 'p-value'],\n",
        "                      columns=['Result'])\n",
        "result"
      ],
      "execution_count": 56,
      "outputs": [
        {
          "output_type": "execute_result",
          "data": {
            "text/html": [
              "<div>\n",
              "<style scoped>\n",
              "    .dataframe tbody tr th:only-of-type {\n",
              "        vertical-align: middle;\n",
              "    }\n",
              "\n",
              "    .dataframe tbody tr th {\n",
              "        vertical-align: top;\n",
              "    }\n",
              "\n",
              "    .dataframe thead th {\n",
              "        text-align: right;\n",
              "    }\n",
              "</style>\n",
              "<table border=\"1\" class=\"dataframe\">\n",
              "  <thead>\n",
              "    <tr style=\"text-align: right;\">\n",
              "      <th></th>\n",
              "      <th>Result</th>\n",
              "    </tr>\n",
              "  </thead>\n",
              "  <tbody>\n",
              "    <tr>\n",
              "      <th>MWU statistics</th>\n",
              "      <td>11976.500000</td>\n",
              "    </tr>\n",
              "    <tr>\n",
              "      <th>p-value</th>\n",
              "      <td>0.406234</td>\n",
              "    </tr>\n",
              "  </tbody>\n",
              "</table>\n",
              "</div>"
            ],
            "text/plain": [
              "                      Result\n",
              "MWU statistics  11976.500000\n",
              "p-value             0.406234"
            ]
          },
          "metadata": {
            "tags": []
          },
          "execution_count": 56
        }
      ]
    },
    {
      "cell_type": "markdown",
      "metadata": {
        "id": "06hNrSHMhQfD"
      },
      "source": [
        "### Result and Interpretation\n",
        "Our result revealed that:\n",
        "<br>\n",
        "p-value = 0.406234 $>$ $\\alpha = 0.05$\n",
        "<br>\n",
        "We will **not reject** our null hypothesis. There is no significant difference in the ALP level between between penicillamine and placebo treatment group."
      ]
    },
    {
      "cell_type": "markdown",
      "metadata": {
        "id": "dub3DxrWhh05"
      },
      "source": [
        "# Copper - Kruskal-Wallis test\n",
        "* $H_0$: The median copper level of the groups are equal.\n",
        "* $H_0$: $\\widetilde{x}_{1}$ = $\\widetilde{x}_{2}$ = $\\widetilde{x}_{n}$\n",
        "* $H_1$: The median copper level of one or more groups are not equal.\n",
        "* $\\alpha = 0.05$"
      ]
    },
    {
      "cell_type": "markdown",
      "metadata": {
        "id": "BlI84QO0iDsn"
      },
      "source": [
        "## Edema\n",
        "* $H_0$: The median copper level of the groups with edema, diuresed edema, and absent edema are equal.\n",
        "* $H_0$: $\\widetilde{x}_{present}$ = $\\widetilde{x}_{diurese}$ = $\\widetilde{x}_{absent}$\n",
        "* $H_1$: At least one of the groups' median copper level is not equal.\n",
        "* $\\alpha = 0.05$"
      ]
    },
    {
      "cell_type": "code",
      "metadata": {
        "colab": {
          "base_uri": "https://localhost:8080/",
          "height": 107
        },
        "id": "beD5OS4HhNGI",
        "outputId": "7447d955-343d-4e03-d68a-6df0c08deb09"
      },
      "source": [
        "# Subset array\n",
        "presentCu = present['Copper']\n",
        "diureseCu = diurese['Copper']\n",
        "absentCu = absent['Copper']\n",
        "\n",
        "# Perform the Kruskal-Wallis test\n",
        "KWH, pval = kruskal(presentCu, diureseCu, absentCu)\n",
        "\n",
        "result = pd.DataFrame([KWH, pval], \n",
        "                      index=['KWH statistics', 'p-value'],\n",
        "                      columns=['Result'])\n",
        "result"
      ],
      "execution_count": 57,
      "outputs": [
        {
          "output_type": "execute_result",
          "data": {
            "text/html": [
              "<div>\n",
              "<style scoped>\n",
              "    .dataframe tbody tr th:only-of-type {\n",
              "        vertical-align: middle;\n",
              "    }\n",
              "\n",
              "    .dataframe tbody tr th {\n",
              "        vertical-align: top;\n",
              "    }\n",
              "\n",
              "    .dataframe thead th {\n",
              "        text-align: right;\n",
              "    }\n",
              "</style>\n",
              "<table border=\"1\" class=\"dataframe\">\n",
              "  <thead>\n",
              "    <tr style=\"text-align: right;\">\n",
              "      <th></th>\n",
              "      <th>Result</th>\n",
              "    </tr>\n",
              "  </thead>\n",
              "  <tbody>\n",
              "    <tr>\n",
              "      <th>KWH statistics</th>\n",
              "      <td>13.587529</td>\n",
              "    </tr>\n",
              "    <tr>\n",
              "      <th>p-value</th>\n",
              "      <td>0.001121</td>\n",
              "    </tr>\n",
              "  </tbody>\n",
              "</table>\n",
              "</div>"
            ],
            "text/plain": [
              "                   Result\n",
              "KWH statistics  13.587529\n",
              "p-value          0.001121"
            ]
          },
          "metadata": {
            "tags": []
          },
          "execution_count": 57
        }
      ]
    },
    {
      "cell_type": "markdown",
      "metadata": {
        "id": "Eo7OJ-6fiLYx"
      },
      "source": [
        "### Result and Interpretation\n",
        "Our result revealed that:\n",
        "<br>\n",
        "p-value = 0.001121 $<$ $\\alpha = 0.05$\n",
        "<br>\n",
        "We will **reject** our null hypothesis. At least one of the group's median copper is not equal."
      ]
    },
    {
      "cell_type": "markdown",
      "metadata": {
        "id": "9WyeyICCi7zh"
      },
      "source": [
        "## Censoring status\n",
        "* $H_0$: The median copper level of the groups with status dead, transplant, and censored are equal.\n",
        "* $H_0$: $\\widetilde{x}_{dead}$ = $\\widetilde{x}_{censored}$ = $\\widetilde{x}_{transplant}$\n",
        "* $H_1$: At least one of the groups' median copper level is not equal.\n",
        "* $\\alpha = 0.05$"
      ]
    },
    {
      "cell_type": "code",
      "metadata": {
        "colab": {
          "base_uri": "https://localhost:8080/",
          "height": 107
        },
        "id": "7swlwvKch5YC",
        "outputId": "a6df2478-c895-4469-a8f4-7d3d41f5765d"
      },
      "source": [
        "# Subset array\n",
        "deadCu = dead['Copper']\n",
        "censoredCu = censored['Copper']\n",
        "transplantCu = transplant['Copper']\n",
        "\n",
        "# Perform the Kruskal-Wallis test\n",
        "KWH, pval = kruskal(deadCu, censoredCu, transplantCu)\n",
        "\n",
        "result = pd.DataFrame([KWH, pval], \n",
        "                      index=['KWH statistics', 'p-value'],\n",
        "                      columns=['Result'])\n",
        "result"
      ],
      "execution_count": 58,
      "outputs": [
        {
          "output_type": "execute_result",
          "data": {
            "text/html": [
              "<div>\n",
              "<style scoped>\n",
              "    .dataframe tbody tr th:only-of-type {\n",
              "        vertical-align: middle;\n",
              "    }\n",
              "\n",
              "    .dataframe tbody tr th {\n",
              "        vertical-align: top;\n",
              "    }\n",
              "\n",
              "    .dataframe thead th {\n",
              "        text-align: right;\n",
              "    }\n",
              "</style>\n",
              "<table border=\"1\" class=\"dataframe\">\n",
              "  <thead>\n",
              "    <tr style=\"text-align: right;\">\n",
              "      <th></th>\n",
              "      <th>Result</th>\n",
              "    </tr>\n",
              "  </thead>\n",
              "  <tbody>\n",
              "    <tr>\n",
              "      <th>KWH statistics</th>\n",
              "      <td>6.238929e+01</td>\n",
              "    </tr>\n",
              "    <tr>\n",
              "      <th>p-value</th>\n",
              "      <td>2.833593e-14</td>\n",
              "    </tr>\n",
              "  </tbody>\n",
              "</table>\n",
              "</div>"
            ],
            "text/plain": [
              "                      Result\n",
              "KWH statistics  6.238929e+01\n",
              "p-value         2.833593e-14"
            ]
          },
          "metadata": {
            "tags": []
          },
          "execution_count": 58
        }
      ]
    },
    {
      "cell_type": "markdown",
      "metadata": {
        "id": "Y95zXeSgjES6"
      },
      "source": [
        "### Result and Interpretation\n",
        "Our result revealed that:\n",
        "<br>\n",
        "p-value = 0.000011 $<$ $\\alpha = 0.05$\n",
        "<br>\n",
        "We will **reject** our null hypothesis. At least one of the group's median copper is not equal."
      ]
    },
    {
      "cell_type": "markdown",
      "metadata": {
        "id": "Crdhh2GRjaB0"
      },
      "source": [
        "## Histology stage\n",
        "* $H_0$: The median copper level of the histology stage groups are equal.\n",
        "* $H_0$: $\\widetilde{x}_{stg1}$ = $\\widetilde{x}_{stg2}$ = $\\widetilde{x}_{stg3}$ = $\\widetilde{x}_{stg4}$\n",
        "* $H_1$: At least one of the groups' median copper level is not equal.\n",
        "* $\\alpha = 0.05$"
      ]
    },
    {
      "cell_type": "code",
      "metadata": {
        "colab": {
          "base_uri": "https://localhost:8080/",
          "height": 107
        },
        "id": "iZzArRZ5h717",
        "outputId": "50787234-5173-4f9c-8c16-e478f49158da"
      },
      "source": [
        "# Subset array\n",
        "St1Cu = Stage1['Copper']\n",
        "St2Cu = Stage2['Copper']\n",
        "St3Cu = Stage3['Copper']\n",
        "St4Cu = Stage4['Copper']\n",
        "\n",
        "# Perform the Kruskal-Wallis test\n",
        "KWH, pval = kruskal(St1Cu, St2Cu, St3Cu, St4Cu)\n",
        "\n",
        "result = pd.DataFrame([KWH, pval], \n",
        "                      index=['KWH statistics', 'p-value'],\n",
        "                      columns=['Result'])\n",
        "result"
      ],
      "execution_count": 59,
      "outputs": [
        {
          "output_type": "execute_result",
          "data": {
            "text/html": [
              "<div>\n",
              "<style scoped>\n",
              "    .dataframe tbody tr th:only-of-type {\n",
              "        vertical-align: middle;\n",
              "    }\n",
              "\n",
              "    .dataframe tbody tr th {\n",
              "        vertical-align: top;\n",
              "    }\n",
              "\n",
              "    .dataframe thead th {\n",
              "        text-align: right;\n",
              "    }\n",
              "</style>\n",
              "<table border=\"1\" class=\"dataframe\">\n",
              "  <thead>\n",
              "    <tr style=\"text-align: right;\">\n",
              "      <th></th>\n",
              "      <th>Result</th>\n",
              "    </tr>\n",
              "  </thead>\n",
              "  <tbody>\n",
              "    <tr>\n",
              "      <th>KWH statistics</th>\n",
              "      <td>27.365639</td>\n",
              "    </tr>\n",
              "    <tr>\n",
              "      <th>p-value</th>\n",
              "      <td>0.000005</td>\n",
              "    </tr>\n",
              "  </tbody>\n",
              "</table>\n",
              "</div>"
            ],
            "text/plain": [
              "                   Result\n",
              "KWH statistics  27.365639\n",
              "p-value          0.000005"
            ]
          },
          "metadata": {
            "tags": []
          },
          "execution_count": 59
        }
      ]
    },
    {
      "cell_type": "markdown",
      "metadata": {
        "id": "gHD9zCrKjlXi"
      },
      "source": [
        "### Result and Interpretation\n",
        "Our result revealed that:\n",
        "<br>\n",
        "p-value = 0.000005 $<$ $\\alpha = 0.05$\n",
        "<br>\n",
        "We will **reject** our null hypothesis. At least one of the groups' median copper is not equal."
      ]
    },
    {
      "cell_type": "markdown",
      "metadata": {
        "id": "_8yiSHi1kNS8"
      },
      "source": [
        "# Copper - Mann-Whitney U test\n",
        "* $H_0$: There is no difference in the copper level between the 2 groups.\n",
        "* $H_1$: There is a difference in the copper level between the 2 groups.\n",
        "* $\\alpha = 0.05$\n"
      ]
    },
    {
      "cell_type": "markdown",
      "metadata": {
        "id": "_-M3AYaNlRsE"
      },
      "source": [
        "## Spider Angiomata\n",
        "* $H_0$: There is no difference in the copper level between the group with spider angiomata and those without.\n",
        "* $H_1$: There is a significant difference in copper level between having or not having spider angiomata.\n",
        "* $\\alpha = 0.05$"
      ]
    },
    {
      "cell_type": "code",
      "metadata": {
        "colab": {
          "base_uri": "https://localhost:8080/",
          "height": 107
        },
        "id": "JksYDNjljiUE",
        "outputId": "62f14d15-07ae-4733-f7c0-de9cd245edfc"
      },
      "source": [
        "# Subset array\n",
        "nospiderCu = nospider['Copper']\n",
        "yesspiderCu = yesspider['Copper']\n",
        "\n",
        "# Perform the Mann-Whitney U test\n",
        "MWU, pval = mannwhitneyu(nospiderCu, yesspiderCu)\n",
        "\n",
        "result = pd.DataFrame([MWU, pval], \n",
        "                      index=['MWU statistics', 'p-value'],\n",
        "                      columns=['Result'])\n",
        "result"
      ],
      "execution_count": 60,
      "outputs": [
        {
          "output_type": "execute_result",
          "data": {
            "text/html": [
              "<div>\n",
              "<style scoped>\n",
              "    .dataframe tbody tr th:only-of-type {\n",
              "        vertical-align: middle;\n",
              "    }\n",
              "\n",
              "    .dataframe tbody tr th {\n",
              "        vertical-align: top;\n",
              "    }\n",
              "\n",
              "    .dataframe thead th {\n",
              "        text-align: right;\n",
              "    }\n",
              "</style>\n",
              "<table border=\"1\" class=\"dataframe\">\n",
              "  <thead>\n",
              "    <tr style=\"text-align: right;\">\n",
              "      <th></th>\n",
              "      <th>Result</th>\n",
              "    </tr>\n",
              "  </thead>\n",
              "  <tbody>\n",
              "    <tr>\n",
              "      <th>MWU statistics</th>\n",
              "      <td>6578.000000</td>\n",
              "    </tr>\n",
              "    <tr>\n",
              "      <th>p-value</th>\n",
              "      <td>0.000001</td>\n",
              "    </tr>\n",
              "  </tbody>\n",
              "</table>\n",
              "</div>"
            ],
            "text/plain": [
              "                     Result\n",
              "MWU statistics  6578.000000\n",
              "p-value            0.000001"
            ]
          },
          "metadata": {
            "tags": []
          },
          "execution_count": 60
        }
      ]
    },
    {
      "cell_type": "markdown",
      "metadata": {
        "id": "Bk7p8BYslZZd"
      },
      "source": [
        "### Result and Interpretation\n",
        "Our result revealed that:\n",
        "<br>\n",
        "p-value = 0.000001 $<$ $\\alpha = 0.05$\n",
        "<br>\n",
        "We will **reject** our null hypothesis. There is a significant difference in the copper level between having or not having spider angiomata."
      ]
    },
    {
      "cell_type": "markdown",
      "metadata": {
        "id": "s_PtXzUdlhgC"
      },
      "source": [
        "## Hepatomegaly\n",
        "* $H_0$: There is no difference in the copper level between the group with hepatomegaly and those without.\n",
        "* $H_1$: There is a significant difference in copper level between having or not having hepatomegaly.\n",
        "* $\\alpha = 0.05$"
      ]
    },
    {
      "cell_type": "code",
      "metadata": {
        "colab": {
          "base_uri": "https://localhost:8080/",
          "height": 107
        },
        "id": "dUph3ayCklz8",
        "outputId": "1dc6d792-c008-40ee-f10e-4382a1ca1f42"
      },
      "source": [
        "# Subset array\n",
        "nohepatoCu = nohepato['Copper']\n",
        "yeshepatoCu = yeshepato['Copper']\n",
        "\n",
        "# Perform the Mann-Whitney U test\n",
        "MWU, pval = mannwhitneyu(nohepatoCu, yeshepatoCu)\n",
        "\n",
        "result = pd.DataFrame([MWU, pval], \n",
        "                      index=['MWU statistics', 'p-value'],\n",
        "                      columns=['Result'])\n",
        "result"
      ],
      "execution_count": 61,
      "outputs": [
        {
          "output_type": "execute_result",
          "data": {
            "text/html": [
              "<div>\n",
              "<style scoped>\n",
              "    .dataframe tbody tr th:only-of-type {\n",
              "        vertical-align: middle;\n",
              "    }\n",
              "\n",
              "    .dataframe tbody tr th {\n",
              "        vertical-align: top;\n",
              "    }\n",
              "\n",
              "    .dataframe thead th {\n",
              "        text-align: right;\n",
              "    }\n",
              "</style>\n",
              "<table border=\"1\" class=\"dataframe\">\n",
              "  <thead>\n",
              "    <tr style=\"text-align: right;\">\n",
              "      <th></th>\n",
              "      <th>Result</th>\n",
              "    </tr>\n",
              "  </thead>\n",
              "  <tbody>\n",
              "    <tr>\n",
              "      <th>MWU statistics</th>\n",
              "      <td>8.231000e+03</td>\n",
              "    </tr>\n",
              "    <tr>\n",
              "      <th>p-value</th>\n",
              "      <td>4.054689e-07</td>\n",
              "    </tr>\n",
              "  </tbody>\n",
              "</table>\n",
              "</div>"
            ],
            "text/plain": [
              "                      Result\n",
              "MWU statistics  8.231000e+03\n",
              "p-value         4.054689e-07"
            ]
          },
          "metadata": {
            "tags": []
          },
          "execution_count": 61
        }
      ]
    },
    {
      "cell_type": "markdown",
      "metadata": {
        "id": "DnLuqQOFlrkg"
      },
      "source": [
        "### Result and Interpretation\n",
        "Our result revealed that:\n",
        "<br>\n",
        "p-value = 4.05e-7 $<$ $\\alpha = 0.05$\n",
        "<br>\n",
        "We will **reject** our null hypothesis. There is a significant difference in the copper level between having or not having hepatomegaly."
      ]
    },
    {
      "cell_type": "markdown",
      "metadata": {
        "id": "c2F1vzKAl1Js"
      },
      "source": [
        "## Ascites\n",
        "* $H_0$: There is no difference in the copper level between the group with ascites and those without.\n",
        "* $H_1$: There is a significant difference in copper level between having or not having ascites.\n",
        "* $\\alpha = 0.05$"
      ]
    },
    {
      "cell_type": "code",
      "metadata": {
        "colab": {
          "base_uri": "https://localhost:8080/",
          "height": 107
        },
        "id": "QInQnahLklp_",
        "outputId": "5559468c-1a61-4579-e7d7-c636c2cfb5f1"
      },
      "source": [
        "# Subset array\n",
        "noascitesCu = noascites['Copper']\n",
        "yesascitesCu = yesascites['Copper']\n",
        "\n",
        "# Perform the Mann-Whitney U test\n",
        "MWU, pval = mannwhitneyu(noascitesCu, yesascitesCu)\n",
        "\n",
        "result = pd.DataFrame([MWU, pval], \n",
        "                      index=['MWU statistics', 'p-value'],\n",
        "                      columns=['Result'])\n",
        "result"
      ],
      "execution_count": 62,
      "outputs": [
        {
          "output_type": "execute_result",
          "data": {
            "text/html": [
              "<div>\n",
              "<style scoped>\n",
              "    .dataframe tbody tr th:only-of-type {\n",
              "        vertical-align: middle;\n",
              "    }\n",
              "\n",
              "    .dataframe tbody tr th {\n",
              "        vertical-align: top;\n",
              "    }\n",
              "\n",
              "    .dataframe thead th {\n",
              "        text-align: right;\n",
              "    }\n",
              "</style>\n",
              "<table border=\"1\" class=\"dataframe\">\n",
              "  <thead>\n",
              "    <tr style=\"text-align: right;\">\n",
              "      <th></th>\n",
              "      <th>Result</th>\n",
              "    </tr>\n",
              "  </thead>\n",
              "  <tbody>\n",
              "    <tr>\n",
              "      <th>MWU statistics</th>\n",
              "      <td>2013.00000</td>\n",
              "    </tr>\n",
              "    <tr>\n",
              "      <th>p-value</th>\n",
              "      <td>0.00034</td>\n",
              "    </tr>\n",
              "  </tbody>\n",
              "</table>\n",
              "</div>"
            ],
            "text/plain": [
              "                    Result\n",
              "MWU statistics  2013.00000\n",
              "p-value            0.00034"
            ]
          },
          "metadata": {
            "tags": []
          },
          "execution_count": 62
        }
      ]
    },
    {
      "cell_type": "markdown",
      "metadata": {
        "id": "EdQDVB11mDAu"
      },
      "source": [
        "### Result and Interpretation\n",
        "Our result revealed that:\n",
        "<br>\n",
        "p-value = 0.00034 $<$ $\\alpha = 0.05$\n",
        "<br>\n",
        "We will **reject** our null hypothesis. There is a significant difference in the copper level between having or not having ascites."
      ]
    },
    {
      "cell_type": "markdown",
      "metadata": {
        "id": "UyVj8QEOmozT"
      },
      "source": [
        "## Sex\n",
        "* $H_0$: There is no difference in the copper level between female and male.\n",
        "* $H_1$: There is a significant difference in copper level between female and male.\n",
        "* $\\alpha = 0.05$"
      ]
    },
    {
      "cell_type": "code",
      "metadata": {
        "colab": {
          "base_uri": "https://localhost:8080/",
          "height": 107
        },
        "id": "k0m5CIjgkleo",
        "outputId": "51cd2091-91a7-4d70-af0b-45b6eda43415"
      },
      "source": [
        "# Subset array\n",
        "femaleCu = female['Copper']\n",
        "maleCu = male['Copper']\n",
        "\n",
        "# Perform the Mann-Whitney U test\n",
        "MWU, pval = mannwhitneyu(femaleCu, maleCu)\n",
        "\n",
        "result = pd.DataFrame([MWU, pval],\n",
        "                      index=['MWU statistics', 'p-value'],\n",
        "                      columns=['Result'])\n",
        "result"
      ],
      "execution_count": 63,
      "outputs": [
        {
          "output_type": "execute_result",
          "data": {
            "text/html": [
              "<div>\n",
              "<style scoped>\n",
              "    .dataframe tbody tr th:only-of-type {\n",
              "        vertical-align: middle;\n",
              "    }\n",
              "\n",
              "    .dataframe tbody tr th {\n",
              "        vertical-align: top;\n",
              "    }\n",
              "\n",
              "    .dataframe thead th {\n",
              "        text-align: right;\n",
              "    }\n",
              "</style>\n",
              "<table border=\"1\" class=\"dataframe\">\n",
              "  <thead>\n",
              "    <tr style=\"text-align: right;\">\n",
              "      <th></th>\n",
              "      <th>Result</th>\n",
              "    </tr>\n",
              "  </thead>\n",
              "  <tbody>\n",
              "    <tr>\n",
              "      <th>MWU statistics</th>\n",
              "      <td>2794.50000</td>\n",
              "    </tr>\n",
              "    <tr>\n",
              "      <th>p-value</th>\n",
              "      <td>0.00001</td>\n",
              "    </tr>\n",
              "  </tbody>\n",
              "</table>\n",
              "</div>"
            ],
            "text/plain": [
              "                    Result\n",
              "MWU statistics  2794.50000\n",
              "p-value            0.00001"
            ]
          },
          "metadata": {
            "tags": []
          },
          "execution_count": 63
        }
      ]
    },
    {
      "cell_type": "markdown",
      "metadata": {
        "id": "wCfLQOtkmvu7"
      },
      "source": [
        "### Result and Interpretation\n",
        "Our result revealed that:\n",
        "<br>\n",
        "p-value = 0.00001 $<$ $\\alpha = 0.05$\n",
        "<br>\n",
        "We will **reject** our null hypothesis. There is a significant difference in the copper level between male and female."
      ]
    },
    {
      "cell_type": "markdown",
      "metadata": {
        "id": "nwY-wCfOm46L"
      },
      "source": [
        "## Treatment group\n",
        "* $H_0$: There is no difference in the copper level between penicillamine and placebo treatment group.\n",
        "* $H_1$: There is a significant difference in copper level between penicillamine and placebo treatment group.\n",
        "* $\\alpha = 0.05$"
      ]
    },
    {
      "cell_type": "code",
      "metadata": {
        "colab": {
          "base_uri": "https://localhost:8080/",
          "height": 107
        },
        "id": "I1qnR_1eklUu",
        "outputId": "0aa217bc-9db3-41f8-e4c6-637dc26db709"
      },
      "source": [
        "# Subset array\n",
        "penicillamineCu = penicillamine['Copper']\n",
        "placeboCu = placebo['Copper']\n",
        "\n",
        "# Perform the Mann-Whitney U test\n",
        "MWU, pval = mannwhitneyu(penicillamineCu, placeboCu)\n",
        "\n",
        "result = pd.DataFrame([MWU, pval],\n",
        "                      index=['MWU statistics', 'p-value'],\n",
        "                      columns=['Result'])\n",
        "result"
      ],
      "execution_count": 64,
      "outputs": [
        {
          "output_type": "execute_result",
          "data": {
            "text/html": [
              "<div>\n",
              "<style scoped>\n",
              "    .dataframe tbody tr th:only-of-type {\n",
              "        vertical-align: middle;\n",
              "    }\n",
              "\n",
              "    .dataframe tbody tr th {\n",
              "        vertical-align: top;\n",
              "    }\n",
              "\n",
              "    .dataframe thead th {\n",
              "        text-align: right;\n",
              "    }\n",
              "</style>\n",
              "<table border=\"1\" class=\"dataframe\">\n",
              "  <thead>\n",
              "    <tr style=\"text-align: right;\">\n",
              "      <th></th>\n",
              "      <th>Result</th>\n",
              "    </tr>\n",
              "  </thead>\n",
              "  <tbody>\n",
              "    <tr>\n",
              "      <th>MWU statistics</th>\n",
              "      <td>11878.500000</td>\n",
              "    </tr>\n",
              "    <tr>\n",
              "      <th>p-value</th>\n",
              "      <td>0.359321</td>\n",
              "    </tr>\n",
              "  </tbody>\n",
              "</table>\n",
              "</div>"
            ],
            "text/plain": [
              "                      Result\n",
              "MWU statistics  11878.500000\n",
              "p-value             0.359321"
            ]
          },
          "metadata": {
            "tags": []
          },
          "execution_count": 64
        }
      ]
    },
    {
      "cell_type": "markdown",
      "metadata": {
        "id": "1ZHECCSGnD10"
      },
      "source": [
        "### Result and Interpretation\n",
        "Our result revealed that:\n",
        "<br>\n",
        "p-value = 0.359321 $>$ $\\alpha = 0.05$\n",
        "<br>\n",
        "We will **not reject** our null hypothesis. There is no significant difference in the copper level between between penicillamine and placebo treatment group."
      ]
    },
    {
      "cell_type": "markdown",
      "metadata": {
        "id": "GuxgXSXZn33R"
      },
      "source": [
        "# Cholesterol - Kruskal-Wallis test\n",
        "* $H_0$: The median cholesterol level of the groups are equal.\n",
        "* $H_0$: $\\widetilde{x}_{1}$ = $\\widetilde{x}_{2}$ = $\\widetilde{x}_{n}$\n",
        "* $H_1$: The median cholesterol level of one or more groups are not equal.\n",
        "* $\\alpha = 0.05$"
      ]
    },
    {
      "cell_type": "markdown",
      "metadata": {
        "id": "7LY8nxEsoiE6"
      },
      "source": [
        "## Edema\n",
        "* $H_0$: The median cholesterol level of the groups with edema, diuresed edema, and absent edema are equal.\n",
        "* $H_0$: $\\widetilde{x}_{present}$ = $\\widetilde{x}_{diurese}$ = $\\widetilde{x}_{absent}$\n",
        "* $H_1$: At least one of the groups' median cholesterol level is not equal.\n",
        "* $\\alpha = 0.05$"
      ]
    },
    {
      "cell_type": "code",
      "metadata": {
        "colab": {
          "base_uri": "https://localhost:8080/",
          "height": 107
        },
        "id": "vaMVMEGVkk5U",
        "outputId": "5d13d65d-41ee-42af-ae36-045c8924f06d"
      },
      "source": [
        "# Subset array\n",
        "presentChole = present['Cholesterol']\n",
        "diureseChole = diurese['Cholesterol']\n",
        "absentChole = absent['Cholesterol']\n",
        "\n",
        "# Perform the Kruskal-Wallis test\n",
        "KWH, pval = kruskal(presentChole, diureseChole, absentChole)\n",
        "\n",
        "result = pd.DataFrame([KWH, pval], \n",
        "                      index=['KWH statistics', 'p-value'],\n",
        "                      columns=['Result'])\n",
        "result"
      ],
      "execution_count": 65,
      "outputs": [
        {
          "output_type": "execute_result",
          "data": {
            "text/html": [
              "<div>\n",
              "<style scoped>\n",
              "    .dataframe tbody tr th:only-of-type {\n",
              "        vertical-align: middle;\n",
              "    }\n",
              "\n",
              "    .dataframe tbody tr th {\n",
              "        vertical-align: top;\n",
              "    }\n",
              "\n",
              "    .dataframe thead th {\n",
              "        text-align: right;\n",
              "    }\n",
              "</style>\n",
              "<table border=\"1\" class=\"dataframe\">\n",
              "  <thead>\n",
              "    <tr style=\"text-align: right;\">\n",
              "      <th></th>\n",
              "      <th>Result</th>\n",
              "    </tr>\n",
              "  </thead>\n",
              "  <tbody>\n",
              "    <tr>\n",
              "      <th>KWH statistics</th>\n",
              "      <td>7.364113</td>\n",
              "    </tr>\n",
              "    <tr>\n",
              "      <th>p-value</th>\n",
              "      <td>0.025171</td>\n",
              "    </tr>\n",
              "  </tbody>\n",
              "</table>\n",
              "</div>"
            ],
            "text/plain": [
              "                  Result\n",
              "KWH statistics  7.364113\n",
              "p-value         0.025171"
            ]
          },
          "metadata": {
            "tags": []
          },
          "execution_count": 65
        }
      ]
    },
    {
      "cell_type": "markdown",
      "metadata": {
        "id": "HYSds_ngoqQ4"
      },
      "source": [
        "### Result and Interpretation\n",
        "Our result revealed that:\n",
        "<br>\n",
        "p-value = 0.025171 $<$ $\\alpha = 0.05$\n",
        "<br>\n",
        "We will **reject** our null hypothesis. At least one of the group's median cholesterol is not equal."
      ]
    },
    {
      "cell_type": "markdown",
      "metadata": {
        "id": "aLDn2SMMoyE6"
      },
      "source": [
        "## Censoring status\n",
        "* $H_0$: The median cholesterol level of the groups with status dead, transplant, and censored are equal.\n",
        "* $H_0$: $\\widetilde{x}_{dead}$ = $\\widetilde{x}_{censored}$ = $\\widetilde{x}_{transplant}$\n",
        "* $H_1$: At least one of the groups' median cholesterol level is not equal.\n",
        "* $\\alpha = 0.05$"
      ]
    },
    {
      "cell_type": "code",
      "metadata": {
        "colab": {
          "base_uri": "https://localhost:8080/",
          "height": 107
        },
        "id": "o4JLdNTTn-k_",
        "outputId": "afabfd1a-f28c-4125-b685-47c8103e4ff3"
      },
      "source": [
        "# Subset array\n",
        "deadChole = dead['Cholesterol']\n",
        "censoredChole = censored['Cholesterol']\n",
        "transplantChole = transplant['Cholesterol']\n",
        "\n",
        "# Perform the Kruskal-Wallis test\n",
        "KWH, pval = kruskal(deadChole, censoredChole, transplantChole)\n",
        "\n",
        "result = pd.DataFrame([KWH, pval], \n",
        "                      index=['KWH statistics', 'p-value'],\n",
        "                      columns=['Result'])\n",
        "result"
      ],
      "execution_count": 66,
      "outputs": [
        {
          "output_type": "execute_result",
          "data": {
            "text/html": [
              "<div>\n",
              "<style scoped>\n",
              "    .dataframe tbody tr th:only-of-type {\n",
              "        vertical-align: middle;\n",
              "    }\n",
              "\n",
              "    .dataframe tbody tr th {\n",
              "        vertical-align: top;\n",
              "    }\n",
              "\n",
              "    .dataframe thead th {\n",
              "        text-align: right;\n",
              "    }\n",
              "</style>\n",
              "<table border=\"1\" class=\"dataframe\">\n",
              "  <thead>\n",
              "    <tr style=\"text-align: right;\">\n",
              "      <th></th>\n",
              "      <th>Result</th>\n",
              "    </tr>\n",
              "  </thead>\n",
              "  <tbody>\n",
              "    <tr>\n",
              "      <th>KWH statistics</th>\n",
              "      <td>11.293087</td>\n",
              "    </tr>\n",
              "    <tr>\n",
              "      <th>p-value</th>\n",
              "      <td>0.003530</td>\n",
              "    </tr>\n",
              "  </tbody>\n",
              "</table>\n",
              "</div>"
            ],
            "text/plain": [
              "                   Result\n",
              "KWH statistics  11.293087\n",
              "p-value          0.003530"
            ]
          },
          "metadata": {
            "tags": []
          },
          "execution_count": 66
        }
      ]
    },
    {
      "cell_type": "markdown",
      "metadata": {
        "id": "p4EpedNHo6z0"
      },
      "source": [
        "### Result and Interpretation\n",
        "Our result revealed that:\n",
        "<br>\n",
        "p-value = 0.00353 $<$ $\\alpha = 0.05$\n",
        "<br>\n",
        "We will **reject** our null hypothesis. At least one of the group's median cholesterol is not equal."
      ]
    },
    {
      "cell_type": "markdown",
      "metadata": {
        "id": "TdwxNLWmpELv"
      },
      "source": [
        "## Histology stage\n",
        "* $H_0$: The median cholesterol level of the histology stage groups are equal.\n",
        "* $H_0$: $\\widetilde{x}_{stg1}$ = $\\widetilde{x}_{stg2}$ = $\\widetilde{x}_{stg3}$ = $\\widetilde{x}_{stg4}$\n",
        "* $H_1$: At least one of the groups' median cholesterol level is not equal.\n",
        "* $\\alpha = 0.05$"
      ]
    },
    {
      "cell_type": "code",
      "metadata": {
        "colab": {
          "base_uri": "https://localhost:8080/",
          "height": 107
        },
        "id": "IvgDMjA9n-d2",
        "outputId": "0a91b024-42b5-473c-8bc1-9178fed84077"
      },
      "source": [
        "# Subset array\n",
        "St1Chole = Stage1['Cholesterol']\n",
        "St2Chole = Stage2['Cholesterol']\n",
        "St3Chole = Stage3['Cholesterol']\n",
        "St4Chole = Stage4['Cholesterol']\n",
        "\n",
        "# Perform the Kruskal-Wallis test\n",
        "KWH, pval = kruskal(St1Chole, St2Chole, St3Chole, St4Chole)\n",
        "\n",
        "result = pd.DataFrame([KWH, pval], \n",
        "                      index=['KWH statistics', 'p-value'],\n",
        "                      columns=['Result'])\n",
        "result"
      ],
      "execution_count": 67,
      "outputs": [
        {
          "output_type": "execute_result",
          "data": {
            "text/html": [
              "<div>\n",
              "<style scoped>\n",
              "    .dataframe tbody tr th:only-of-type {\n",
              "        vertical-align: middle;\n",
              "    }\n",
              "\n",
              "    .dataframe tbody tr th {\n",
              "        vertical-align: top;\n",
              "    }\n",
              "\n",
              "    .dataframe thead th {\n",
              "        text-align: right;\n",
              "    }\n",
              "</style>\n",
              "<table border=\"1\" class=\"dataframe\">\n",
              "  <thead>\n",
              "    <tr style=\"text-align: right;\">\n",
              "      <th></th>\n",
              "      <th>Result</th>\n",
              "    </tr>\n",
              "  </thead>\n",
              "  <tbody>\n",
              "    <tr>\n",
              "      <th>KWH statistics</th>\n",
              "      <td>9.780597</td>\n",
              "    </tr>\n",
              "    <tr>\n",
              "      <th>p-value</th>\n",
              "      <td>0.020526</td>\n",
              "    </tr>\n",
              "  </tbody>\n",
              "</table>\n",
              "</div>"
            ],
            "text/plain": [
              "                  Result\n",
              "KWH statistics  9.780597\n",
              "p-value         0.020526"
            ]
          },
          "metadata": {
            "tags": []
          },
          "execution_count": 67
        }
      ]
    },
    {
      "cell_type": "markdown",
      "metadata": {
        "id": "soybdUtUpSBJ"
      },
      "source": [
        "### Result and Interpretation\n",
        "Our result revealed that:\n",
        "<br>\n",
        "p-value = 0.020526 $<$ $\\alpha = 0.05$\n",
        "<br>\n",
        "We will **reject** our null hypothesis. At least one of the groups' median cholesterol is not equal."
      ]
    },
    {
      "cell_type": "markdown",
      "metadata": {
        "id": "ZhwGhGMYpdDm"
      },
      "source": [
        "# Cholesterol - Mann-Whitney U test\n",
        "* $H_0$: There is no difference in the cholesterol level between the 2 groups.\n",
        "* $H_1$: There is a difference in the cholesterol level between the 2 groups.\n",
        "* $\\alpha = 0.05$\n"
      ]
    },
    {
      "cell_type": "markdown",
      "metadata": {
        "id": "4xcYUT63p9zN"
      },
      "source": [
        "## Spider Angiomata\n",
        "* $H_0$: There is no difference in the cholesterol level between the group with spider angiomata and those without.\n",
        "* $H_1$: There is a significant difference in cholesterol level between having or not having spider angiomata.\n",
        "* $\\alpha = 0.05$"
      ]
    },
    {
      "cell_type": "code",
      "metadata": {
        "colab": {
          "base_uri": "https://localhost:8080/",
          "height": 107
        },
        "id": "c6rgljHfn-aS",
        "outputId": "770c0e60-74c2-4951-b6a5-4d0bf66d89b8"
      },
      "source": [
        "# Subset array\n",
        "nospiderChole = nospider['Cholesterol']\n",
        "yesspiderChole = yesspider['Cholesterol']\n",
        "\n",
        "# Perform the Mann-Whitney U test\n",
        "MWU, pval = mannwhitneyu(nospiderChole, yesspiderChole)\n",
        "\n",
        "result = pd.DataFrame([MWU, pval], \n",
        "                      index=['MWU statistics', 'p-value'],\n",
        "                      columns=['Result'])\n",
        "result"
      ],
      "execution_count": 68,
      "outputs": [
        {
          "output_type": "execute_result",
          "data": {
            "text/html": [
              "<div>\n",
              "<style scoped>\n",
              "    .dataframe tbody tr th:only-of-type {\n",
              "        vertical-align: middle;\n",
              "    }\n",
              "\n",
              "    .dataframe tbody tr th {\n",
              "        vertical-align: top;\n",
              "    }\n",
              "\n",
              "    .dataframe thead th {\n",
              "        text-align: right;\n",
              "    }\n",
              "</style>\n",
              "<table border=\"1\" class=\"dataframe\">\n",
              "  <thead>\n",
              "    <tr style=\"text-align: right;\">\n",
              "      <th></th>\n",
              "      <th>Result</th>\n",
              "    </tr>\n",
              "  </thead>\n",
              "  <tbody>\n",
              "    <tr>\n",
              "      <th>MWU statistics</th>\n",
              "      <td>9902.000000</td>\n",
              "    </tr>\n",
              "    <tr>\n",
              "      <th>p-value</th>\n",
              "      <td>0.451745</td>\n",
              "    </tr>\n",
              "  </tbody>\n",
              "</table>\n",
              "</div>"
            ],
            "text/plain": [
              "                     Result\n",
              "MWU statistics  9902.000000\n",
              "p-value            0.451745"
            ]
          },
          "metadata": {
            "tags": []
          },
          "execution_count": 68
        }
      ]
    },
    {
      "cell_type": "markdown",
      "metadata": {
        "id": "ov3XydpKqhGf"
      },
      "source": [
        "### Result and Interpretation\n",
        "Our result revealed that:\n",
        "<br>\n",
        "p-value = 0.451745 $>$ $\\alpha = 0.05$\n",
        "<br>\n",
        "We will **not reject** our null hypothesis. There is no significant difference in the cholesterol level between having or not having spider angiomata."
      ]
    },
    {
      "cell_type": "markdown",
      "metadata": {
        "id": "FhPI7-SPqw6z"
      },
      "source": [
        "## Hepatomegaly\n",
        "* $H_0$: There is no difference in the cholesterol level between the group with hepatomegaly and those without.\n",
        "* $H_1$: There is a significant difference in cholesterol level between having or not having hepatomegaly.\n",
        "* $\\alpha = 0.05$"
      ]
    },
    {
      "cell_type": "code",
      "metadata": {
        "colab": {
          "base_uri": "https://localhost:8080/",
          "height": 107
        },
        "id": "kwm63ls5pw0m",
        "outputId": "aa42b2ec-782f-41eb-ed01-51e97e192a10"
      },
      "source": [
        "# Subset array\n",
        "nohepatoChole = nohepato['Cholesterol']\n",
        "yeshepatoChole = yeshepato['Cholesterol']\n",
        "\n",
        "# Perform the Mann-Whitney U test\n",
        "MWU, pval = mannwhitneyu(nohepatoChole, yeshepatoChole)\n",
        "\n",
        "result = pd.DataFrame([MWU, pval], \n",
        "                      index=['MWU statistics', 'p-value'],\n",
        "                      columns=['Result'])\n",
        "result"
      ],
      "execution_count": 69,
      "outputs": [
        {
          "output_type": "execute_result",
          "data": {
            "text/html": [
              "<div>\n",
              "<style scoped>\n",
              "    .dataframe tbody tr th:only-of-type {\n",
              "        vertical-align: middle;\n",
              "    }\n",
              "\n",
              "    .dataframe tbody tr th {\n",
              "        vertical-align: top;\n",
              "    }\n",
              "\n",
              "    .dataframe thead th {\n",
              "        text-align: right;\n",
              "    }\n",
              "</style>\n",
              "<table border=\"1\" class=\"dataframe\">\n",
              "  <thead>\n",
              "    <tr style=\"text-align: right;\">\n",
              "      <th></th>\n",
              "      <th>Result</th>\n",
              "    </tr>\n",
              "  </thead>\n",
              "  <tbody>\n",
              "    <tr>\n",
              "      <th>MWU statistics</th>\n",
              "      <td>10837.000000</td>\n",
              "    </tr>\n",
              "    <tr>\n",
              "      <th>p-value</th>\n",
              "      <td>0.048347</td>\n",
              "    </tr>\n",
              "  </tbody>\n",
              "</table>\n",
              "</div>"
            ],
            "text/plain": [
              "                      Result\n",
              "MWU statistics  10837.000000\n",
              "p-value             0.048347"
            ]
          },
          "metadata": {
            "tags": []
          },
          "execution_count": 69
        }
      ]
    },
    {
      "cell_type": "markdown",
      "metadata": {
        "id": "stkTs8-Tq6l_"
      },
      "source": [
        "### Result and Interpretation\n",
        "Our result revealed that:\n",
        "<br>\n",
        "p-value = 0.048347 $<$ $\\alpha = 0.05$\n",
        "<br>\n",
        "We will **reject** our null hypothesis. There is a significant difference in the cholesterol level between having or not having hepatomegaly."
      ]
    },
    {
      "cell_type": "markdown",
      "metadata": {
        "id": "QRm1WAqArcf-"
      },
      "source": [
        "## Ascites\n",
        "* $H_0$: There is no difference in the cholesterol level between the group with ascites and those without.\n",
        "* $H_1$: There is a significant difference in cholesterol level between having or not having ascites.\n",
        "* $\\alpha = 0.05$"
      ]
    },
    {
      "cell_type": "code",
      "metadata": {
        "colab": {
          "base_uri": "https://localhost:8080/",
          "height": 107
        },
        "id": "-I4hQgbypwuX",
        "outputId": "a18dc638-93da-40b7-c01b-e618f786974f"
      },
      "source": [
        "# Subset array\n",
        "noascitesChole = noascites['Cholesterol']\n",
        "yesascitesChole = yesascites['Cholesterol']\n",
        "\n",
        "# Perform the Mann-Whitney U test\n",
        "MWU, pval = mannwhitneyu(noascitesChole, yesascitesChole)\n",
        "\n",
        "result = pd.DataFrame([MWU, pval], \n",
        "                      index=['MWU statistics', 'p-value'],\n",
        "                      columns=['Result'])\n",
        "result"
      ],
      "execution_count": 70,
      "outputs": [
        {
          "output_type": "execute_result",
          "data": {
            "text/html": [
              "<div>\n",
              "<style scoped>\n",
              "    .dataframe tbody tr th:only-of-type {\n",
              "        vertical-align: middle;\n",
              "    }\n",
              "\n",
              "    .dataframe tbody tr th {\n",
              "        vertical-align: top;\n",
              "    }\n",
              "\n",
              "    .dataframe thead th {\n",
              "        text-align: right;\n",
              "    }\n",
              "</style>\n",
              "<table border=\"1\" class=\"dataframe\">\n",
              "  <thead>\n",
              "    <tr style=\"text-align: right;\">\n",
              "      <th></th>\n",
              "      <th>Result</th>\n",
              "    </tr>\n",
              "  </thead>\n",
              "  <tbody>\n",
              "    <tr>\n",
              "      <th>MWU statistics</th>\n",
              "      <td>2680.000000</td>\n",
              "    </tr>\n",
              "    <tr>\n",
              "      <th>p-value</th>\n",
              "      <td>0.033843</td>\n",
              "    </tr>\n",
              "  </tbody>\n",
              "</table>\n",
              "</div>"
            ],
            "text/plain": [
              "                     Result\n",
              "MWU statistics  2680.000000\n",
              "p-value            0.033843"
            ]
          },
          "metadata": {
            "tags": []
          },
          "execution_count": 70
        }
      ]
    },
    {
      "cell_type": "markdown",
      "metadata": {
        "id": "359BN-UWrkVM"
      },
      "source": [
        "### Result and Interpretation\n",
        "Our result revealed that:\n",
        "<br>\n",
        "p-value = 0.033843 $<$ $\\alpha = 0.05$\n",
        "<br>\n",
        "We will **reject** our null hypothesis. There is a significant difference in the cholesterol level between having or not having ascites."
      ]
    },
    {
      "cell_type": "markdown",
      "metadata": {
        "id": "9nkzMNeRrtDZ"
      },
      "source": [
        "## Sex\n",
        "* $H_0$: There is no difference in the cholesterol level between female and male.\n",
        "* $H_1$: There is a significant difference in cholesterol level between female and male.\n",
        "* $\\alpha = 0.05$"
      ]
    },
    {
      "cell_type": "code",
      "metadata": {
        "colab": {
          "base_uri": "https://localhost:8080/",
          "height": 107
        },
        "id": "dZIXCqirpwno",
        "outputId": "10ed7805-368f-4d23-dfe9-41c4a8ca4a44"
      },
      "source": [
        "# Subset array\n",
        "femaleChole = female['Cholesterol']\n",
        "maleChole = male['Cholesterol']\n",
        "\n",
        "# Perform the Mann-Whitney U test\n",
        "MWU, pval = mannwhitneyu(femaleChole, maleChole)\n",
        "\n",
        "result = pd.DataFrame([MWU, pval],\n",
        "                      index=['MWU statistics', 'p-value'],\n",
        "                      columns=['Result'])\n",
        "result"
      ],
      "execution_count": 71,
      "outputs": [
        {
          "output_type": "execute_result",
          "data": {
            "text/html": [
              "<div>\n",
              "<style scoped>\n",
              "    .dataframe tbody tr th:only-of-type {\n",
              "        vertical-align: middle;\n",
              "    }\n",
              "\n",
              "    .dataframe tbody tr th {\n",
              "        vertical-align: top;\n",
              "    }\n",
              "\n",
              "    .dataframe thead th {\n",
              "        text-align: right;\n",
              "    }\n",
              "</style>\n",
              "<table border=\"1\" class=\"dataframe\">\n",
              "  <thead>\n",
              "    <tr style=\"text-align: right;\">\n",
              "      <th></th>\n",
              "      <th>Result</th>\n",
              "    </tr>\n",
              "  </thead>\n",
              "  <tbody>\n",
              "    <tr>\n",
              "      <th>MWU statistics</th>\n",
              "      <td>4949.500000</td>\n",
              "    </tr>\n",
              "    <tr>\n",
              "      <th>p-value</th>\n",
              "      <td>0.485892</td>\n",
              "    </tr>\n",
              "  </tbody>\n",
              "</table>\n",
              "</div>"
            ],
            "text/plain": [
              "                     Result\n",
              "MWU statistics  4949.500000\n",
              "p-value            0.485892"
            ]
          },
          "metadata": {
            "tags": []
          },
          "execution_count": 71
        }
      ]
    },
    {
      "cell_type": "markdown",
      "metadata": {
        "id": "JcHw-7QSr3Mc"
      },
      "source": [
        "### Result and Interpretation\n",
        "Our result revealed that:\n",
        "<br>\n",
        "p-value = 0.485892 $>$ $\\alpha = 0.05$\n",
        "<br>\n",
        "We will **not reject** our null hypothesis. There is no significant difference in the cholesterol level between male and female."
      ]
    },
    {
      "cell_type": "markdown",
      "metadata": {
        "id": "jlChXCjcsBF6"
      },
      "source": [
        "## Treatment group\n",
        "* $H_0$: There is no difference in the cholesterol level between penicillamine and placebo treatment group.\n",
        "* $H_1$: There is a significant difference in cholesterol level between penicillamine and placebo treatment group.\n",
        "* $\\alpha = 0.05$"
      ]
    },
    {
      "cell_type": "code",
      "metadata": {
        "colab": {
          "base_uri": "https://localhost:8080/",
          "height": 107
        },
        "id": "jAC6iH-Fpwgo",
        "outputId": "a7699e66-faf0-4901-c321-07b0be9c150b"
      },
      "source": [
        "# Subset array\n",
        "penicillamineChole = penicillamine['Cholesterol']\n",
        "placeboChole = placebo['Cholesterol']\n",
        "\n",
        "# Perform the Mann-Whitney U test\n",
        "MWU, pval = mannwhitneyu(penicillamineChole, placeboChole)\n",
        "\n",
        "result = pd.DataFrame([MWU, pval],\n",
        "                      index=['MWU statistics', 'p-value'],\n",
        "                      columns=['Result'])\n",
        "result"
      ],
      "execution_count": 72,
      "outputs": [
        {
          "output_type": "execute_result",
          "data": {
            "text/html": [
              "<div>\n",
              "<style scoped>\n",
              "    .dataframe tbody tr th:only-of-type {\n",
              "        vertical-align: middle;\n",
              "    }\n",
              "\n",
              "    .dataframe tbody tr th {\n",
              "        vertical-align: top;\n",
              "    }\n",
              "\n",
              "    .dataframe thead th {\n",
              "        text-align: right;\n",
              "    }\n",
              "</style>\n",
              "<table border=\"1\" class=\"dataframe\">\n",
              "  <thead>\n",
              "    <tr style=\"text-align: right;\">\n",
              "      <th></th>\n",
              "      <th>Result</th>\n",
              "    </tr>\n",
              "  </thead>\n",
              "  <tbody>\n",
              "    <tr>\n",
              "      <th>MWU statistics</th>\n",
              "      <td>11414.500000</td>\n",
              "    </tr>\n",
              "    <tr>\n",
              "      <th>p-value</th>\n",
              "      <td>0.172829</td>\n",
              "    </tr>\n",
              "  </tbody>\n",
              "</table>\n",
              "</div>"
            ],
            "text/plain": [
              "                      Result\n",
              "MWU statistics  11414.500000\n",
              "p-value             0.172829"
            ]
          },
          "metadata": {
            "tags": []
          },
          "execution_count": 72
        }
      ]
    },
    {
      "cell_type": "markdown",
      "metadata": {
        "id": "tdlKvtqhsJeS"
      },
      "source": [
        "### Result and Interpretation\n",
        "Our result revealed that:\n",
        "<br>\n",
        "p-value = 0.172829 $>$ $\\alpha = 0.05$\n",
        "<br>\n",
        "We will **not reject** our null hypothesis. There is no significant difference in the cholesterol level between between penicillamine and placebo treatment group."
      ]
    },
    {
      "cell_type": "markdown",
      "metadata": {
        "id": "UH0dXP7l3cI8"
      },
      "source": [
        ""
      ]
    },
    {
      "cell_type": "markdown",
      "metadata": {
        "id": "PGTK2HF13HdU"
      },
      "source": [
        "# AgeYrs - Kruskal-Wallis test (nonparametric), ANOVA (parametric)\n",
        "<br> Kruskal-Wallis test\n",
        "* $H_0$: The median age of the groups are equal.\n",
        "* $H_0$: $\\widetilde{x}_{1}$ = $\\widetilde{x}_{2}$ = $\\widetilde{x}_{n}$\n",
        "* $H_1$: The median age of one or more groups are not equal.\n",
        "\n",
        "<br> ANOVA\n",
        "* $H_0$: The mean age of the groups are equal.\n",
        "* $H_0$: $\\bar{x}_{1}$ $=$ $\\bar{x}_{2}$ $=$ $\\bar{x}_{n}$\n",
        "* $H_1$: There is a significant difference among the groups. At least, one group has an average different from other groups.\n",
        "\n",
        "$\\alpha = 0.05$"
      ]
    },
    {
      "cell_type": "markdown",
      "metadata": {
        "id": "LrPkZZ-Q3fa4"
      },
      "source": [
        "## Edema\n",
        "* $H_0$: The age of the groups with edema, diuresed edema, and absent edema are equal.\n",
        "* $H_1$: At least one of the groups' age is not equal.\n",
        "* $\\alpha = 0.05$"
      ]
    },
    {
      "cell_type": "code",
      "metadata": {
        "colab": {
          "base_uri": "https://localhost:8080/",
          "height": 198
        },
        "id": "-Ja4j_bMpwZm",
        "outputId": "ebed7d81-3e2f-4757-a122-d309b24d7932"
      },
      "source": [
        "# Subset array\n",
        "presentAY = present['AgeYrs']\n",
        "diureseAY = diurese['AgeYrs']\n",
        "absentAY = absent['AgeYrs']\n",
        "\n",
        "# Perform the Kruskal-Wallis test\n",
        "KWH, pval = kruskal(presentAY, diureseAY, absentAY)\n",
        "resultNonPara = pd.DataFrame([KWH, pval],\n",
        "                             index=['KWH statistics', 'p-value'],\n",
        "                             columns=['Non-Parametric'])\n",
        "#Perform ANOVA\n",
        "F1w, pval = f_oneway(presentAY, diureseAY, absentAY)\n",
        "resultPara = pd.DataFrame([F1w, pval],\n",
        "                          index=['F statistics', 'p-value'],\n",
        "                          columns=['Parametric'])\n",
        "display(resultNonPara)\n",
        "display(resultPara)"
      ],
      "execution_count": 73,
      "outputs": [
        {
          "output_type": "display_data",
          "data": {
            "text/html": [
              "<div>\n",
              "<style scoped>\n",
              "    .dataframe tbody tr th:only-of-type {\n",
              "        vertical-align: middle;\n",
              "    }\n",
              "\n",
              "    .dataframe tbody tr th {\n",
              "        vertical-align: top;\n",
              "    }\n",
              "\n",
              "    .dataframe thead th {\n",
              "        text-align: right;\n",
              "    }\n",
              "</style>\n",
              "<table border=\"1\" class=\"dataframe\">\n",
              "  <thead>\n",
              "    <tr style=\"text-align: right;\">\n",
              "      <th></th>\n",
              "      <th>Non-Parametric</th>\n",
              "    </tr>\n",
              "  </thead>\n",
              "  <tbody>\n",
              "    <tr>\n",
              "      <th>KWH statistics</th>\n",
              "      <td>12.113239</td>\n",
              "    </tr>\n",
              "    <tr>\n",
              "      <th>p-value</th>\n",
              "      <td>0.002342</td>\n",
              "    </tr>\n",
              "  </tbody>\n",
              "</table>\n",
              "</div>"
            ],
            "text/plain": [
              "                Non-Parametric\n",
              "KWH statistics       12.113239\n",
              "p-value               0.002342"
            ]
          },
          "metadata": {
            "tags": []
          }
        },
        {
          "output_type": "display_data",
          "data": {
            "text/html": [
              "<div>\n",
              "<style scoped>\n",
              "    .dataframe tbody tr th:only-of-type {\n",
              "        vertical-align: middle;\n",
              "    }\n",
              "\n",
              "    .dataframe tbody tr th {\n",
              "        vertical-align: top;\n",
              "    }\n",
              "\n",
              "    .dataframe thead th {\n",
              "        text-align: right;\n",
              "    }\n",
              "</style>\n",
              "<table border=\"1\" class=\"dataframe\">\n",
              "  <thead>\n",
              "    <tr style=\"text-align: right;\">\n",
              "      <th></th>\n",
              "      <th>Parametric</th>\n",
              "    </tr>\n",
              "  </thead>\n",
              "  <tbody>\n",
              "    <tr>\n",
              "      <th>F statistics</th>\n",
              "      <td>8.094348</td>\n",
              "    </tr>\n",
              "    <tr>\n",
              "      <th>p-value</th>\n",
              "      <td>0.000375</td>\n",
              "    </tr>\n",
              "  </tbody>\n",
              "</table>\n",
              "</div>"
            ],
            "text/plain": [
              "              Parametric\n",
              "F statistics    8.094348\n",
              "p-value         0.000375"
            ]
          },
          "metadata": {
            "tags": []
          }
        }
      ]
    },
    {
      "cell_type": "markdown",
      "metadata": {
        "id": "I_rHyn4C9SvM"
      },
      "source": [
        "### Result and Interpretation\n",
        "Both tests have a p-value of $<$ $\\alpha = 0.05$\n",
        "<br>\n",
        "We will **reject** our null hypothesis. At least one of the group's age is not equal."
      ]
    },
    {
      "cell_type": "markdown",
      "metadata": {
        "id": "AneSjtV_9uXy"
      },
      "source": [
        "## Censoring status\n",
        "* $H_0$: The age of the groups with status dead, transplant, and censored are equal.\n",
        "* $H_1$: At least one of the groups' age is not equal.\n",
        "* $\\alpha = 0.05$"
      ]
    },
    {
      "cell_type": "code",
      "metadata": {
        "colab": {
          "base_uri": "https://localhost:8080/",
          "height": 198
        },
        "id": "jRof7ddU6DfQ",
        "outputId": "925fdb05-7cf0-434d-d09d-fd0361de25dd"
      },
      "source": [
        "# Subset array\n",
        "deadAY = dead['AgeYrs']\n",
        "censoredAY = censored['AgeYrs']\n",
        "transplantAY = transplant['AgeYrs']\n",
        "\n",
        "# Perform the Kruskal-Wallis test\n",
        "KWH, pval = kruskal(deadAY, censoredAY, transplantAY)\n",
        "resultNonPara = pd.DataFrame([KWH, pval],\n",
        "                             index=['KWH statistics', 'p-value'],\n",
        "                             columns=['Non-Parametric'])\n",
        "#Perform ANOVA\n",
        "F1w, pval = f_oneway(deadAY, censoredAY, transplantAY)\n",
        "resultPara = pd.DataFrame([F1w, pval],\n",
        "                          index=['F statistics', 'p-value'],\n",
        "                          columns=['Parametric'])\n",
        "display(resultNonPara)\n",
        "display(resultPara)"
      ],
      "execution_count": 74,
      "outputs": [
        {
          "output_type": "display_data",
          "data": {
            "text/html": [
              "<div>\n",
              "<style scoped>\n",
              "    .dataframe tbody tr th:only-of-type {\n",
              "        vertical-align: middle;\n",
              "    }\n",
              "\n",
              "    .dataframe tbody tr th {\n",
              "        vertical-align: top;\n",
              "    }\n",
              "\n",
              "    .dataframe thead th {\n",
              "        text-align: right;\n",
              "    }\n",
              "</style>\n",
              "<table border=\"1\" class=\"dataframe\">\n",
              "  <thead>\n",
              "    <tr style=\"text-align: right;\">\n",
              "      <th></th>\n",
              "      <th>Non-Parametric</th>\n",
              "    </tr>\n",
              "  </thead>\n",
              "  <tbody>\n",
              "    <tr>\n",
              "      <th>KWH statistics</th>\n",
              "      <td>2.878890e+01</td>\n",
              "    </tr>\n",
              "    <tr>\n",
              "      <th>p-value</th>\n",
              "      <td>5.604937e-07</td>\n",
              "    </tr>\n",
              "  </tbody>\n",
              "</table>\n",
              "</div>"
            ],
            "text/plain": [
              "                Non-Parametric\n",
              "KWH statistics    2.878890e+01\n",
              "p-value           5.604937e-07"
            ]
          },
          "metadata": {
            "tags": []
          }
        },
        {
          "output_type": "display_data",
          "data": {
            "text/html": [
              "<div>\n",
              "<style scoped>\n",
              "    .dataframe tbody tr th:only-of-type {\n",
              "        vertical-align: middle;\n",
              "    }\n",
              "\n",
              "    .dataframe tbody tr th {\n",
              "        vertical-align: top;\n",
              "    }\n",
              "\n",
              "    .dataframe thead th {\n",
              "        text-align: right;\n",
              "    }\n",
              "</style>\n",
              "<table border=\"1\" class=\"dataframe\">\n",
              "  <thead>\n",
              "    <tr style=\"text-align: right;\">\n",
              "      <th></th>\n",
              "      <th>Parametric</th>\n",
              "    </tr>\n",
              "  </thead>\n",
              "  <tbody>\n",
              "    <tr>\n",
              "      <th>F statistics</th>\n",
              "      <td>1.516812e+01</td>\n",
              "    </tr>\n",
              "    <tr>\n",
              "      <th>p-value</th>\n",
              "      <td>5.202500e-07</td>\n",
              "    </tr>\n",
              "  </tbody>\n",
              "</table>\n",
              "</div>"
            ],
            "text/plain": [
              "                Parametric\n",
              "F statistics  1.516812e+01\n",
              "p-value       5.202500e-07"
            ]
          },
          "metadata": {
            "tags": []
          }
        }
      ]
    },
    {
      "cell_type": "markdown",
      "metadata": {
        "id": "RbkBRyFD-bvV"
      },
      "source": [
        "### Result and Interpretation\n",
        "Both tests have a p-value of $<$ $\\alpha = 0.05$\n",
        "<br>\n",
        "We will **reject** our null hypothesis. At least one of the group's age is not equal."
      ]
    },
    {
      "cell_type": "markdown",
      "metadata": {
        "id": "Y2DGomEM-h0v"
      },
      "source": [
        "## Histology stage\n",
        "* $H_0$: The age of the histology stage groups are equal.\n",
        "* $H_1$: At least one of the groups' age is not equal.\n",
        "* $\\alpha = 0.05$"
      ]
    },
    {
      "cell_type": "code",
      "metadata": {
        "colab": {
          "base_uri": "https://localhost:8080/",
          "height": 198
        },
        "id": "mWNzxW3F-W3x",
        "outputId": "b4497f26-a0b7-459c-8095-ceffe42e980d"
      },
      "source": [
        "# Subset array\n",
        "St1AY = Stage1['AgeYrs']\n",
        "St2AY = Stage2['AgeYrs']\n",
        "St3AY = Stage3['AgeYrs']\n",
        "St4AY = Stage4['AgeYrs']\n",
        "\n",
        "# Perform the Kruskal-Wallis test\n",
        "KWH, pval = kruskal(St1AY, St2AY, St3AY, St4AY)\n",
        "resultNonPara = pd.DataFrame([KWH, pval],\n",
        "                             index=['KWH statistics', 'p-value'],\n",
        "                             columns=['Non-Parametric'])\n",
        "#Perform ANOVA\n",
        "F1w, pval = f_oneway(St1AY, St2AY, St3AY, St4AY)\n",
        "resultPara = pd.DataFrame([F1w, pval],\n",
        "                          index=['F statistics', 'p-value'],\n",
        "                          columns=['Parametric'])\n",
        "display(resultNonPara)\n",
        "display(resultPara)"
      ],
      "execution_count": 75,
      "outputs": [
        {
          "output_type": "display_data",
          "data": {
            "text/html": [
              "<div>\n",
              "<style scoped>\n",
              "    .dataframe tbody tr th:only-of-type {\n",
              "        vertical-align: middle;\n",
              "    }\n",
              "\n",
              "    .dataframe tbody tr th {\n",
              "        vertical-align: top;\n",
              "    }\n",
              "\n",
              "    .dataframe thead th {\n",
              "        text-align: right;\n",
              "    }\n",
              "</style>\n",
              "<table border=\"1\" class=\"dataframe\">\n",
              "  <thead>\n",
              "    <tr style=\"text-align: right;\">\n",
              "      <th></th>\n",
              "      <th>Non-Parametric</th>\n",
              "    </tr>\n",
              "  </thead>\n",
              "  <tbody>\n",
              "    <tr>\n",
              "      <th>KWH statistics</th>\n",
              "      <td>13.149277</td>\n",
              "    </tr>\n",
              "    <tr>\n",
              "      <th>p-value</th>\n",
              "      <td>0.004325</td>\n",
              "    </tr>\n",
              "  </tbody>\n",
              "</table>\n",
              "</div>"
            ],
            "text/plain": [
              "                Non-Parametric\n",
              "KWH statistics       13.149277\n",
              "p-value               0.004325"
            ]
          },
          "metadata": {
            "tags": []
          }
        },
        {
          "output_type": "display_data",
          "data": {
            "text/html": [
              "<div>\n",
              "<style scoped>\n",
              "    .dataframe tbody tr th:only-of-type {\n",
              "        vertical-align: middle;\n",
              "    }\n",
              "\n",
              "    .dataframe tbody tr th {\n",
              "        vertical-align: top;\n",
              "    }\n",
              "\n",
              "    .dataframe thead th {\n",
              "        text-align: right;\n",
              "    }\n",
              "</style>\n",
              "<table border=\"1\" class=\"dataframe\">\n",
              "  <thead>\n",
              "    <tr style=\"text-align: right;\">\n",
              "      <th></th>\n",
              "      <th>Parametric</th>\n",
              "    </tr>\n",
              "  </thead>\n",
              "  <tbody>\n",
              "    <tr>\n",
              "      <th>F statistics</th>\n",
              "      <td>4.667148</td>\n",
              "    </tr>\n",
              "    <tr>\n",
              "      <th>p-value</th>\n",
              "      <td>0.003320</td>\n",
              "    </tr>\n",
              "  </tbody>\n",
              "</table>\n",
              "</div>"
            ],
            "text/plain": [
              "              Parametric\n",
              "F statistics    4.667148\n",
              "p-value         0.003320"
            ]
          },
          "metadata": {
            "tags": []
          }
        }
      ]
    },
    {
      "cell_type": "markdown",
      "metadata": {
        "id": "iH0QyT5l_YEg"
      },
      "source": [
        "### Result and Interpretation\n",
        "Both tests have a p-value of $<$ $\\alpha = 0.05$\n",
        "<br>\n",
        "We will **reject** our null hypothesis. At least one of the group's age is not equal."
      ]
    },
    {
      "cell_type": "markdown",
      "metadata": {
        "id": "u-UQfvfd_gVi"
      },
      "source": [
        "# AgeYrs - Mann-Whitney U test (nonparametric), t-test (parametric)\n",
        "* $H_0$: The age of the 2 groups are equal.\n",
        "* $H_1$: There is a significant age difference between the 2 groups.\n",
        "* $\\alpha = 0.05$"
      ]
    },
    {
      "cell_type": "markdown",
      "metadata": {
        "id": "kVXrFMD-AdZE"
      },
      "source": [
        "## Spider Angiomata\n",
        "* $H_0$: There is no difference in the age of the 2 groups having spider angiomata and those without.\n",
        "* $H_1$: There is a difference in the age of the 2 groups having spider angiomata and those without.\n",
        "* $\\alpha = 0.05$"
      ]
    },
    {
      "cell_type": "code",
      "metadata": {
        "colab": {
          "base_uri": "https://localhost:8080/",
          "height": 198
        },
        "id": "R1irYKEl_SrM",
        "outputId": "582629b1-b6e5-49d7-a7bd-61c8dc7347eb"
      },
      "source": [
        "# Subset array\n",
        "nospiderAY = nospider['AgeYrs']\n",
        "yesspiderAY = yesspider['AgeYrs']\n",
        "\n",
        "# Perform the Mann-Whitney U test\n",
        "MWU, pval = mannwhitneyu(nospiderAY, yesspiderAY)\n",
        "resultNonPara = pd.DataFrame([MWU, pval],\n",
        "                             index=['KWH statistics', 'p-value'],\n",
        "                             columns=['Non-Parametric'])\n",
        "# Perform t-test\n",
        "tstat, pval= stats.ttest_ind(nospiderAY, yesspiderAY)\n",
        "resultPara = pd.DataFrame([tstat, pval],\n",
        "                          index=['F statistics', 'p-value'],\n",
        "                          columns=['Parametric'])\n",
        "display(resultNonPara)\n",
        "display(resultPara)"
      ],
      "execution_count": 76,
      "outputs": [
        {
          "output_type": "display_data",
          "data": {
            "text/html": [
              "<div>\n",
              "<style scoped>\n",
              "    .dataframe tbody tr th:only-of-type {\n",
              "        vertical-align: middle;\n",
              "    }\n",
              "\n",
              "    .dataframe tbody tr th {\n",
              "        vertical-align: top;\n",
              "    }\n",
              "\n",
              "    .dataframe thead th {\n",
              "        text-align: right;\n",
              "    }\n",
              "</style>\n",
              "<table border=\"1\" class=\"dataframe\">\n",
              "  <thead>\n",
              "    <tr style=\"text-align: right;\">\n",
              "      <th></th>\n",
              "      <th>Non-Parametric</th>\n",
              "    </tr>\n",
              "  </thead>\n",
              "  <tbody>\n",
              "    <tr>\n",
              "      <th>KWH statistics</th>\n",
              "      <td>9333.000000</td>\n",
              "    </tr>\n",
              "    <tr>\n",
              "      <th>p-value</th>\n",
              "      <td>0.181569</td>\n",
              "    </tr>\n",
              "  </tbody>\n",
              "</table>\n",
              "</div>"
            ],
            "text/plain": [
              "                Non-Parametric\n",
              "KWH statistics     9333.000000\n",
              "p-value               0.181569"
            ]
          },
          "metadata": {
            "tags": []
          }
        },
        {
          "output_type": "display_data",
          "data": {
            "text/html": [
              "<div>\n",
              "<style scoped>\n",
              "    .dataframe tbody tr th:only-of-type {\n",
              "        vertical-align: middle;\n",
              "    }\n",
              "\n",
              "    .dataframe tbody tr th {\n",
              "        vertical-align: top;\n",
              "    }\n",
              "\n",
              "    .dataframe thead th {\n",
              "        text-align: right;\n",
              "    }\n",
              "</style>\n",
              "<table border=\"1\" class=\"dataframe\">\n",
              "  <thead>\n",
              "    <tr style=\"text-align: right;\">\n",
              "      <th></th>\n",
              "      <th>Parametric</th>\n",
              "    </tr>\n",
              "  </thead>\n",
              "  <tbody>\n",
              "    <tr>\n",
              "      <th>F statistics</th>\n",
              "      <td>0.883332</td>\n",
              "    </tr>\n",
              "    <tr>\n",
              "      <th>p-value</th>\n",
              "      <td>0.377742</td>\n",
              "    </tr>\n",
              "  </tbody>\n",
              "</table>\n",
              "</div>"
            ],
            "text/plain": [
              "              Parametric\n",
              "F statistics    0.883332\n",
              "p-value         0.377742"
            ]
          },
          "metadata": {
            "tags": []
          }
        }
      ]
    },
    {
      "cell_type": "markdown",
      "metadata": {
        "id": "DJdLyUYUCWUu"
      },
      "source": [
        "### Result and Interpretation\n",
        "Both tests have a p-value of $>$ $\\alpha = 0.05$\n",
        "<br>\n",
        "We will **not reject** our null hypothesis. The 2 groups have equal age."
      ]
    },
    {
      "cell_type": "markdown",
      "metadata": {
        "id": "MvgD1CUVCvMK"
      },
      "source": [
        "## Hepatomegaly\n",
        "* $H_0$: There is no difference in the age of the 2 groups having hepatomegaly and those without.\n",
        "* $H_1$: There is a difference in the age of the 2 groups having hepatomegaly and those without.\n",
        "* $\\alpha = 0.05$"
      ]
    },
    {
      "cell_type": "code",
      "metadata": {
        "colab": {
          "base_uri": "https://localhost:8080/",
          "height": 198
        },
        "id": "wHy1StPOBbl1",
        "outputId": "420628db-b267-4f70-8e3c-622e8631a7c1"
      },
      "source": [
        "# Subset array\n",
        "nohepatoAY = nohepato['AgeYrs']\n",
        "yeshepatoAY = yeshepato['AgeYrs']\n",
        "\n",
        "# Perform the Mann-Whitney U test\n",
        "MWU, pval = mannwhitneyu(nohepatoAY, yeshepatoAY)\n",
        "resultNonPara = pd.DataFrame([MWU, pval],\n",
        "                             index=['KWH statistics', 'p-value'],\n",
        "                             columns=['Non-Parametric'])\n",
        "# Perform t-test\n",
        "tstat, pval= stats.ttest_ind(nohepatoAY, yeshepatoAY)\n",
        "resultPara = pd.DataFrame([tstat, pval],\n",
        "                          index=['F statistics', 'p-value'],\n",
        "                          columns=['Parametric'])\n",
        "display(resultNonPara)\n",
        "display(resultPara)"
      ],
      "execution_count": 77,
      "outputs": [
        {
          "output_type": "display_data",
          "data": {
            "text/html": [
              "<div>\n",
              "<style scoped>\n",
              "    .dataframe tbody tr th:only-of-type {\n",
              "        vertical-align: middle;\n",
              "    }\n",
              "\n",
              "    .dataframe tbody tr th {\n",
              "        vertical-align: top;\n",
              "    }\n",
              "\n",
              "    .dataframe thead th {\n",
              "        text-align: right;\n",
              "    }\n",
              "</style>\n",
              "<table border=\"1\" class=\"dataframe\">\n",
              "  <thead>\n",
              "    <tr style=\"text-align: right;\">\n",
              "      <th></th>\n",
              "      <th>Non-Parametric</th>\n",
              "    </tr>\n",
              "  </thead>\n",
              "  <tbody>\n",
              "    <tr>\n",
              "      <th>KWH statistics</th>\n",
              "      <td>10973.500000</td>\n",
              "    </tr>\n",
              "    <tr>\n",
              "      <th>p-value</th>\n",
              "      <td>0.068231</td>\n",
              "    </tr>\n",
              "  </tbody>\n",
              "</table>\n",
              "</div>"
            ],
            "text/plain": [
              "                Non-Parametric\n",
              "KWH statistics    10973.500000\n",
              "p-value               0.068231"
            ]
          },
          "metadata": {
            "tags": []
          }
        },
        {
          "output_type": "display_data",
          "data": {
            "text/html": [
              "<div>\n",
              "<style scoped>\n",
              "    .dataframe tbody tr th:only-of-type {\n",
              "        vertical-align: middle;\n",
              "    }\n",
              "\n",
              "    .dataframe tbody tr th {\n",
              "        vertical-align: top;\n",
              "    }\n",
              "\n",
              "    .dataframe thead th {\n",
              "        text-align: right;\n",
              "    }\n",
              "</style>\n",
              "<table border=\"1\" class=\"dataframe\">\n",
              "  <thead>\n",
              "    <tr style=\"text-align: right;\">\n",
              "      <th></th>\n",
              "      <th>Parametric</th>\n",
              "    </tr>\n",
              "  </thead>\n",
              "  <tbody>\n",
              "    <tr>\n",
              "      <th>F statistics</th>\n",
              "      <td>-1.331115</td>\n",
              "    </tr>\n",
              "    <tr>\n",
              "      <th>p-value</th>\n",
              "      <td>0.184129</td>\n",
              "    </tr>\n",
              "  </tbody>\n",
              "</table>\n",
              "</div>"
            ],
            "text/plain": [
              "              Parametric\n",
              "F statistics   -1.331115\n",
              "p-value         0.184129"
            ]
          },
          "metadata": {
            "tags": []
          }
        }
      ]
    },
    {
      "cell_type": "markdown",
      "metadata": {
        "id": "bVrx2Y5vDLc9"
      },
      "source": [
        "### Result and Interpretation\n",
        "Both tests have a p-value of $>$ $\\alpha = 0.05$\n",
        "<br>\n",
        "We will **not reject** our null hypothesis. The 2 groups have equal age."
      ]
    },
    {
      "cell_type": "markdown",
      "metadata": {
        "id": "VUl6Oww6DP1y"
      },
      "source": [
        "## Ascites\n",
        "* $H_0$: There is no difference in the age of the 2 groups having ascites and those without.\n",
        "* $H_1$: There is a difference in the age of the 2 groups having ascites and those without.\n",
        "* $\\alpha = 0.05$"
      ]
    },
    {
      "cell_type": "code",
      "metadata": {
        "colab": {
          "base_uri": "https://localhost:8080/",
          "height": 198
        },
        "id": "P2eUCKqVDG9R",
        "outputId": "0a87c2d8-8b60-4352-cd56-d1b55dbcff87"
      },
      "source": [
        "# Subset array\n",
        "noascitesAY = noascites['AgeYrs']\n",
        "yesascitesAY = yesascites['AgeYrs']\n",
        "\n",
        "# Perform the Mann-Whitney U test\n",
        "MWU, pval = mannwhitneyu(noascitesAY, yesascitesAY)\n",
        "resultNonPara = pd.DataFrame([MWU, pval],\n",
        "                             index=['KWH statistics', 'p-value'],\n",
        "                             columns=['Non-Parametric'])\n",
        "# Perform t-test\n",
        "tstat, pval= stats.ttest_ind(noascitesAY, yesascitesAY)\n",
        "resultPara = pd.DataFrame([tstat, pval],\n",
        "                          index=['F statistics', 'p-value'],\n",
        "                          columns=['Parametric'])\n",
        "display(resultNonPara)\n",
        "display(resultPara)"
      ],
      "execution_count": 78,
      "outputs": [
        {
          "output_type": "display_data",
          "data": {
            "text/html": [
              "<div>\n",
              "<style scoped>\n",
              "    .dataframe tbody tr th:only-of-type {\n",
              "        vertical-align: middle;\n",
              "    }\n",
              "\n",
              "    .dataframe tbody tr th {\n",
              "        vertical-align: top;\n",
              "    }\n",
              "\n",
              "    .dataframe thead th {\n",
              "        text-align: right;\n",
              "    }\n",
              "</style>\n",
              "<table border=\"1\" class=\"dataframe\">\n",
              "  <thead>\n",
              "    <tr style=\"text-align: right;\">\n",
              "      <th></th>\n",
              "      <th>Non-Parametric</th>\n",
              "    </tr>\n",
              "  </thead>\n",
              "  <tbody>\n",
              "    <tr>\n",
              "      <th>KWH statistics</th>\n",
              "      <td>1876.0000</td>\n",
              "    </tr>\n",
              "    <tr>\n",
              "      <th>p-value</th>\n",
              "      <td>0.0001</td>\n",
              "    </tr>\n",
              "  </tbody>\n",
              "</table>\n",
              "</div>"
            ],
            "text/plain": [
              "                Non-Parametric\n",
              "KWH statistics       1876.0000\n",
              "p-value                 0.0001"
            ]
          },
          "metadata": {
            "tags": []
          }
        },
        {
          "output_type": "display_data",
          "data": {
            "text/html": [
              "<div>\n",
              "<style scoped>\n",
              "    .dataframe tbody tr th:only-of-type {\n",
              "        vertical-align: middle;\n",
              "    }\n",
              "\n",
              "    .dataframe tbody tr th {\n",
              "        vertical-align: top;\n",
              "    }\n",
              "\n",
              "    .dataframe thead th {\n",
              "        text-align: right;\n",
              "    }\n",
              "</style>\n",
              "<table border=\"1\" class=\"dataframe\">\n",
              "  <thead>\n",
              "    <tr style=\"text-align: right;\">\n",
              "      <th></th>\n",
              "      <th>Parametric</th>\n",
              "    </tr>\n",
              "  </thead>\n",
              "  <tbody>\n",
              "    <tr>\n",
              "      <th>F statistics</th>\n",
              "      <td>-4.196580</td>\n",
              "    </tr>\n",
              "    <tr>\n",
              "      <th>p-value</th>\n",
              "      <td>0.000035</td>\n",
              "    </tr>\n",
              "  </tbody>\n",
              "</table>\n",
              "</div>"
            ],
            "text/plain": [
              "              Parametric\n",
              "F statistics   -4.196580\n",
              "p-value         0.000035"
            ]
          },
          "metadata": {
            "tags": []
          }
        }
      ]
    },
    {
      "cell_type": "markdown",
      "metadata": {
        "id": "DLkrYooTDmvI"
      },
      "source": [
        "### Result and Interpretation\n",
        "Both tests have a p-value of $<$ $\\alpha = 0.05$\n",
        "<br>\n",
        "We will **reject** our null hypothesis. There is a significant difference in the age of the 2 groups."
      ]
    },
    {
      "cell_type": "markdown",
      "metadata": {
        "id": "QP9YI0UOEBtL"
      },
      "source": [
        "## Sex\n",
        "* $H_0$: There is no difference in the age between female and male.\n",
        "* $H_1$: There is a difference in the age between female and male.\n",
        "* $\\alpha = 0.05$"
      ]
    },
    {
      "cell_type": "code",
      "metadata": {
        "colab": {
          "base_uri": "https://localhost:8080/",
          "height": 198
        },
        "id": "_513P3jfDi2p",
        "outputId": "113b4bf0-cf11-4da0-f82f-eb28674c2d7e"
      },
      "source": [
        "# Subset array\n",
        "femaleAY = female['AgeYrs']\n",
        "maleAY = male['AgeYrs']\n",
        "\n",
        "# Perform the Mann-Whitney U test\n",
        "MWU, pval = mannwhitneyu(femaleAY, maleAY)\n",
        "resultNonPara = pd.DataFrame([MWU, pval],\n",
        "                             index=['KWH statistics', 'p-value'],\n",
        "                             columns=['Non-Parametric'])\n",
        "# Perform t-test\n",
        "tstat, pval= stats.ttest_ind(femaleAY, maleAY)\n",
        "resultPara = pd.DataFrame([tstat, pval],\n",
        "                          index=['F statistics', 'p-value'],\n",
        "                          columns=['Parametric'])\n",
        "display(resultNonPara)\n",
        "display(resultPara)"
      ],
      "execution_count": 79,
      "outputs": [
        {
          "output_type": "display_data",
          "data": {
            "text/html": [
              "<div>\n",
              "<style scoped>\n",
              "    .dataframe tbody tr th:only-of-type {\n",
              "        vertical-align: middle;\n",
              "    }\n",
              "\n",
              "    .dataframe tbody tr th {\n",
              "        vertical-align: top;\n",
              "    }\n",
              "\n",
              "    .dataframe thead th {\n",
              "        text-align: right;\n",
              "    }\n",
              "</style>\n",
              "<table border=\"1\" class=\"dataframe\">\n",
              "  <thead>\n",
              "    <tr style=\"text-align: right;\">\n",
              "      <th></th>\n",
              "      <th>Non-Parametric</th>\n",
              "    </tr>\n",
              "  </thead>\n",
              "  <tbody>\n",
              "    <tr>\n",
              "      <th>KWH statistics</th>\n",
              "      <td>3272.000000</td>\n",
              "    </tr>\n",
              "    <tr>\n",
              "      <th>p-value</th>\n",
              "      <td>0.000433</td>\n",
              "    </tr>\n",
              "  </tbody>\n",
              "</table>\n",
              "</div>"
            ],
            "text/plain": [
              "                Non-Parametric\n",
              "KWH statistics     3272.000000\n",
              "p-value               0.000433"
            ]
          },
          "metadata": {
            "tags": []
          }
        },
        {
          "output_type": "display_data",
          "data": {
            "text/html": [
              "<div>\n",
              "<style scoped>\n",
              "    .dataframe tbody tr th:only-of-type {\n",
              "        vertical-align: middle;\n",
              "    }\n",
              "\n",
              "    .dataframe tbody tr th {\n",
              "        vertical-align: top;\n",
              "    }\n",
              "\n",
              "    .dataframe thead th {\n",
              "        text-align: right;\n",
              "    }\n",
              "</style>\n",
              "<table border=\"1\" class=\"dataframe\">\n",
              "  <thead>\n",
              "    <tr style=\"text-align: right;\">\n",
              "      <th></th>\n",
              "      <th>Parametric</th>\n",
              "    </tr>\n",
              "  </thead>\n",
              "  <tbody>\n",
              "    <tr>\n",
              "      <th>F statistics</th>\n",
              "      <td>-3.807763</td>\n",
              "    </tr>\n",
              "    <tr>\n",
              "      <th>p-value</th>\n",
              "      <td>0.000169</td>\n",
              "    </tr>\n",
              "  </tbody>\n",
              "</table>\n",
              "</div>"
            ],
            "text/plain": [
              "              Parametric\n",
              "F statistics   -3.807763\n",
              "p-value         0.000169"
            ]
          },
          "metadata": {
            "tags": []
          }
        }
      ]
    },
    {
      "cell_type": "markdown",
      "metadata": {
        "id": "q3iRn6HrEiyL"
      },
      "source": [
        "### Result and Interpretation\n",
        "Both tests have a p-value of $<$ $\\alpha = 0.05$\n",
        "<br>\n",
        "We will **reject** our null hypothesis. There is a significant difference in the age between female and male."
      ]
    },
    {
      "cell_type": "markdown",
      "metadata": {
        "id": "bj1ZcgIOEqL3"
      },
      "source": [
        "## Treatment group\n",
        "* $H_0$: There is no difference in the age between penicillamine and placebo treatment group.\n",
        "* $H_1$: There is a difference in the age between penicillamine and placebo treatment group.\n",
        "* $\\alpha = 0.05$"
      ]
    },
    {
      "cell_type": "code",
      "metadata": {
        "colab": {
          "base_uri": "https://localhost:8080/",
          "height": 198
        },
        "id": "z77tLBQFEfzp",
        "outputId": "8a0e6d62-0adf-4665-dca0-4711d044e830"
      },
      "source": [
        "# Subset array\n",
        "penicillamineAY = penicillamine['AgeYrs']\n",
        "placeboAY = placebo['AgeYrs']\n",
        "\n",
        "# Perform the Mann-Whitney U test\n",
        "MWU, pval = mannwhitneyu(penicillamineAY, placeboAY)\n",
        "resultNonPara = pd.DataFrame([MWU, pval],\n",
        "                             index=['KWH statistics', 'p-value'],\n",
        "                             columns=['Non-Parametric'])\n",
        "# Perform t-test\n",
        "tstat, pval= stats.ttest_ind(penicillamineAY, placeboAY)\n",
        "resultPara = pd.DataFrame([tstat, pval],\n",
        "                          index=['F statistics', 'p-value'],\n",
        "                          columns=['Parametric'])\n",
        "display(resultNonPara)\n",
        "display(resultPara)"
      ],
      "execution_count": 80,
      "outputs": [
        {
          "output_type": "display_data",
          "data": {
            "text/html": [
              "<div>\n",
              "<style scoped>\n",
              "    .dataframe tbody tr th:only-of-type {\n",
              "        vertical-align: middle;\n",
              "    }\n",
              "\n",
              "    .dataframe tbody tr th {\n",
              "        vertical-align: top;\n",
              "    }\n",
              "\n",
              "    .dataframe thead th {\n",
              "        text-align: right;\n",
              "    }\n",
              "</style>\n",
              "<table border=\"1\" class=\"dataframe\">\n",
              "  <thead>\n",
              "    <tr style=\"text-align: right;\">\n",
              "      <th></th>\n",
              "      <th>Non-Parametric</th>\n",
              "    </tr>\n",
              "  </thead>\n",
              "  <tbody>\n",
              "    <tr>\n",
              "      <th>KWH statistics</th>\n",
              "      <td>10307.000000</td>\n",
              "    </tr>\n",
              "    <tr>\n",
              "      <th>p-value</th>\n",
              "      <td>0.009827</td>\n",
              "    </tr>\n",
              "  </tbody>\n",
              "</table>\n",
              "</div>"
            ],
            "text/plain": [
              "                Non-Parametric\n",
              "KWH statistics    10307.000000\n",
              "p-value               0.009827"
            ]
          },
          "metadata": {
            "tags": []
          }
        },
        {
          "output_type": "display_data",
          "data": {
            "text/html": [
              "<div>\n",
              "<style scoped>\n",
              "    .dataframe tbody tr th:only-of-type {\n",
              "        vertical-align: middle;\n",
              "    }\n",
              "\n",
              "    .dataframe tbody tr th {\n",
              "        vertical-align: top;\n",
              "    }\n",
              "\n",
              "    .dataframe thead th {\n",
              "        text-align: right;\n",
              "    }\n",
              "</style>\n",
              "<table border=\"1\" class=\"dataframe\">\n",
              "  <thead>\n",
              "    <tr style=\"text-align: right;\">\n",
              "      <th></th>\n",
              "      <th>Parametric</th>\n",
              "    </tr>\n",
              "  </thead>\n",
              "  <tbody>\n",
              "    <tr>\n",
              "      <th>F statistics</th>\n",
              "      <td>2.385273</td>\n",
              "    </tr>\n",
              "    <tr>\n",
              "      <th>p-value</th>\n",
              "      <td>0.017667</td>\n",
              "    </tr>\n",
              "  </tbody>\n",
              "</table>\n",
              "</div>"
            ],
            "text/plain": [
              "              Parametric\n",
              "F statistics    2.385273\n",
              "p-value         0.017667"
            ]
          },
          "metadata": {
            "tags": []
          }
        }
      ]
    },
    {
      "cell_type": "markdown",
      "metadata": {
        "id": "tc_TtohSFSq4"
      },
      "source": [
        "### Result and Interpretation\n",
        "Both tests have a p-value of $<$ $\\alpha = 0.05$\n",
        "<br>\n",
        "We will **reject** our null hypothesis. There is a significant difference in the age between penicillamine and placebo treatment group."
      ]
    },
    {
      "cell_type": "markdown",
      "metadata": {
        "id": "TNAGixofFrKI"
      },
      "source": [
        "# Platelet - Kruskal-Wallis test (nonparametric), ANOVA (parametric)\n",
        "<br> Kruskal-Wallis test\n",
        "* $H_0$: The median platelet of the groups are equal.\n",
        "* $H_0$: $\\widetilde{x}_{1}$ = $\\widetilde{x}_{2}$ = $\\widetilde{x}_{n}$\n",
        "* $H_1$: The median age of one or more groups are not equal.\n",
        "\n",
        "<br> ANOVA\n",
        "* $H_0$: The mean platelet of the groups are equal.\n",
        "* $H_0$: $\\bar{x}_{1}$ $=$ $\\bar{x}_{2}$ $=$ $\\bar{x}_{n}$\n",
        "* $H_1$: There is a significant difference among the groups. At least, one group has an average different from other groups.\n",
        "\n",
        "$\\alpha = 0.05$"
      ]
    },
    {
      "cell_type": "markdown",
      "metadata": {
        "id": "Ez6LjeeSG6Hi"
      },
      "source": [
        "## Edema\n",
        "* $H_0$: The platelet of the groups with edema, diuresed edema, and absent edema are equal.\n",
        "* $H_1$: At least one of the groups' platelet is not equal.\n",
        "* $\\alpha = 0.05$"
      ]
    },
    {
      "cell_type": "code",
      "metadata": {
        "colab": {
          "base_uri": "https://localhost:8080/",
          "height": 198
        },
        "id": "Aw3dxYALFOme",
        "outputId": "49ef318d-8266-4875-bc1e-f402bc85a270"
      },
      "source": [
        "# Subset array\n",
        "presentPlat = present['Platelet']\n",
        "diuresePlat = diurese['Platelet']\n",
        "absentPlat = absent['Platelet']\n",
        "\n",
        "# Perform the Kruskal-Wallis test\n",
        "KWH, pval = kruskal(presentPlat, diuresePlat, absentPlat)\n",
        "resultNonPara = pd.DataFrame([KWH, pval],\n",
        "                             index=['KWH statistics', 'p-value'],\n",
        "                             columns=['Non-Parametric'])\n",
        "#Perform ANOVA\n",
        "F1w, pval = f_oneway(presentPlat, diuresePlat, absentPlat)\n",
        "resultPara = pd.DataFrame([F1w, pval],\n",
        "                          index=['F statistics', 'p-value'],\n",
        "                          columns=['Parametric'])\n",
        "display(resultNonPara)\n",
        "display(resultPara)"
      ],
      "execution_count": 81,
      "outputs": [
        {
          "output_type": "display_data",
          "data": {
            "text/html": [
              "<div>\n",
              "<style scoped>\n",
              "    .dataframe tbody tr th:only-of-type {\n",
              "        vertical-align: middle;\n",
              "    }\n",
              "\n",
              "    .dataframe tbody tr th {\n",
              "        vertical-align: top;\n",
              "    }\n",
              "\n",
              "    .dataframe thead th {\n",
              "        text-align: right;\n",
              "    }\n",
              "</style>\n",
              "<table border=\"1\" class=\"dataframe\">\n",
              "  <thead>\n",
              "    <tr style=\"text-align: right;\">\n",
              "      <th></th>\n",
              "      <th>Non-Parametric</th>\n",
              "    </tr>\n",
              "  </thead>\n",
              "  <tbody>\n",
              "    <tr>\n",
              "      <th>KWH statistics</th>\n",
              "      <td>18.561159</td>\n",
              "    </tr>\n",
              "    <tr>\n",
              "      <th>p-value</th>\n",
              "      <td>0.000093</td>\n",
              "    </tr>\n",
              "  </tbody>\n",
              "</table>\n",
              "</div>"
            ],
            "text/plain": [
              "                Non-Parametric\n",
              "KWH statistics       18.561159\n",
              "p-value               0.000093"
            ]
          },
          "metadata": {
            "tags": []
          }
        },
        {
          "output_type": "display_data",
          "data": {
            "text/html": [
              "<div>\n",
              "<style scoped>\n",
              "    .dataframe tbody tr th:only-of-type {\n",
              "        vertical-align: middle;\n",
              "    }\n",
              "\n",
              "    .dataframe tbody tr th {\n",
              "        vertical-align: top;\n",
              "    }\n",
              "\n",
              "    .dataframe thead th {\n",
              "        text-align: right;\n",
              "    }\n",
              "</style>\n",
              "<table border=\"1\" class=\"dataframe\">\n",
              "  <thead>\n",
              "    <tr style=\"text-align: right;\">\n",
              "      <th></th>\n",
              "      <th>Parametric</th>\n",
              "    </tr>\n",
              "  </thead>\n",
              "  <tbody>\n",
              "    <tr>\n",
              "      <th>F statistics</th>\n",
              "      <td>9.029939</td>\n",
              "    </tr>\n",
              "    <tr>\n",
              "      <th>p-value</th>\n",
              "      <td>0.000154</td>\n",
              "    </tr>\n",
              "  </tbody>\n",
              "</table>\n",
              "</div>"
            ],
            "text/plain": [
              "              Parametric\n",
              "F statistics    9.029939\n",
              "p-value         0.000154"
            ]
          },
          "metadata": {
            "tags": []
          }
        }
      ]
    },
    {
      "cell_type": "markdown",
      "metadata": {
        "id": "ZYio6lcuHDJH"
      },
      "source": [
        "### Result and Interpretation\n",
        "Both tests have a p-value of $<$ $\\alpha = 0.05$\n",
        "<br>\n",
        "We will **reject** our null hypothesis. At least one of the group's platelet is not equal."
      ]
    },
    {
      "cell_type": "markdown",
      "metadata": {
        "id": "LnILGbMkHLSG"
      },
      "source": [
        "## Censoring status\n",
        "* $H_0$: The platelet of the groups with status dead, transplant, and censored are equal.\n",
        "* $H_1$: At least one of the groups' platelet is not equal.\n",
        "* $\\alpha = 0.05$"
      ]
    },
    {
      "cell_type": "code",
      "metadata": {
        "colab": {
          "base_uri": "https://localhost:8080/",
          "height": 198
        },
        "id": "uca3nMBDF2Am",
        "outputId": "2814478d-5485-4622-ac27-3bbe1183e72b"
      },
      "source": [
        "# Subset array\n",
        "deadPlat = dead['Platelet']\n",
        "censoredPlat = censored['Platelet']\n",
        "transplantPlat = transplant['Platelet']\n",
        "\n",
        "# Perform the Kruskal-Wallis test\n",
        "KWH, pval = kruskal(deadPlat, censoredPlat, transplantPlat)\n",
        "resultNonPara = pd.DataFrame([KWH, pval],\n",
        "                             index=['KWH statistics', 'p-value'],\n",
        "                             columns=['Non-Parametric'])\n",
        "#Perform ANOVA\n",
        "F1w, pval = f_oneway(deadPlat, censoredPlat, transplantPlat)\n",
        "resultPara = pd.DataFrame([F1w, pval],\n",
        "                          index=['F statistics', 'p-value'],\n",
        "                          columns=['Parametric'])\n",
        "display(resultNonPara)\n",
        "display(resultPara)"
      ],
      "execution_count": 82,
      "outputs": [
        {
          "output_type": "display_data",
          "data": {
            "text/html": [
              "<div>\n",
              "<style scoped>\n",
              "    .dataframe tbody tr th:only-of-type {\n",
              "        vertical-align: middle;\n",
              "    }\n",
              "\n",
              "    .dataframe tbody tr th {\n",
              "        vertical-align: top;\n",
              "    }\n",
              "\n",
              "    .dataframe thead th {\n",
              "        text-align: right;\n",
              "    }\n",
              "</style>\n",
              "<table border=\"1\" class=\"dataframe\">\n",
              "  <thead>\n",
              "    <tr style=\"text-align: right;\">\n",
              "      <th></th>\n",
              "      <th>Non-Parametric</th>\n",
              "    </tr>\n",
              "  </thead>\n",
              "  <tbody>\n",
              "    <tr>\n",
              "      <th>KWH statistics</th>\n",
              "      <td>12.917306</td>\n",
              "    </tr>\n",
              "    <tr>\n",
              "      <th>p-value</th>\n",
              "      <td>0.001567</td>\n",
              "    </tr>\n",
              "  </tbody>\n",
              "</table>\n",
              "</div>"
            ],
            "text/plain": [
              "                Non-Parametric\n",
              "KWH statistics       12.917306\n",
              "p-value               0.001567"
            ]
          },
          "metadata": {
            "tags": []
          }
        },
        {
          "output_type": "display_data",
          "data": {
            "text/html": [
              "<div>\n",
              "<style scoped>\n",
              "    .dataframe tbody tr th:only-of-type {\n",
              "        vertical-align: middle;\n",
              "    }\n",
              "\n",
              "    .dataframe tbody tr th {\n",
              "        vertical-align: top;\n",
              "    }\n",
              "\n",
              "    .dataframe thead th {\n",
              "        text-align: right;\n",
              "    }\n",
              "</style>\n",
              "<table border=\"1\" class=\"dataframe\">\n",
              "  <thead>\n",
              "    <tr style=\"text-align: right;\">\n",
              "      <th></th>\n",
              "      <th>Parametric</th>\n",
              "    </tr>\n",
              "  </thead>\n",
              "  <tbody>\n",
              "    <tr>\n",
              "      <th>F statistics</th>\n",
              "      <td>5.260333</td>\n",
              "    </tr>\n",
              "    <tr>\n",
              "      <th>p-value</th>\n",
              "      <td>0.005669</td>\n",
              "    </tr>\n",
              "  </tbody>\n",
              "</table>\n",
              "</div>"
            ],
            "text/plain": [
              "              Parametric\n",
              "F statistics    5.260333\n",
              "p-value         0.005669"
            ]
          },
          "metadata": {
            "tags": []
          }
        }
      ]
    },
    {
      "cell_type": "markdown",
      "metadata": {
        "id": "ErGBsp5iHWmT"
      },
      "source": [
        "### Result and Interpretation\n",
        "Both tests have a p-value of $<$ $\\alpha = 0.05$\n",
        "<br>\n",
        "We will **reject** our null hypothesis. At least one of the group's platelet is not equal."
      ]
    },
    {
      "cell_type": "markdown",
      "metadata": {
        "id": "yTqJWpcHHxJO"
      },
      "source": [
        "## Histology stage\n",
        "* $H_0$: The platelet of the histology stage groups are equal.\n",
        "* $H_1$: At least one of the groups' platelet is not equal.\n",
        "* $\\alpha = 0.05$"
      ]
    },
    {
      "cell_type": "code",
      "metadata": {
        "colab": {
          "base_uri": "https://localhost:8080/",
          "height": 198
        },
        "id": "3rZ-tMg6F1yV",
        "outputId": "77e605b0-2cf5-4d3e-c2a6-0e0bcf6c0d28"
      },
      "source": [
        "# Subset array\n",
        "St1Plat = Stage1['Platelet']\n",
        "St2Plat = Stage2['Platelet']\n",
        "St3Plat = Stage3['Platelet']\n",
        "St4Plat = Stage4['Platelet']\n",
        "\n",
        "# Perform the Kruskal-Wallis test\n",
        "KWH, pval = kruskal(St1Plat, St2Plat, St3Plat, St4Plat)\n",
        "resultNonPara = pd.DataFrame([KWH, pval],\n",
        "                             index=['KWH statistics', 'p-value'],\n",
        "                             columns=['Non-Parametric'])\n",
        "#Perform ANOVA\n",
        "F1w, pval = f_oneway(St1Plat, St2Plat, St3Plat, St4Plat)\n",
        "resultPara = pd.DataFrame([F1w, pval],\n",
        "                          index=['F statistics', 'p-value'],\n",
        "                          columns=['Parametric'])\n",
        "display(resultNonPara)\n",
        "display(resultPara)"
      ],
      "execution_count": 83,
      "outputs": [
        {
          "output_type": "display_data",
          "data": {
            "text/html": [
              "<div>\n",
              "<style scoped>\n",
              "    .dataframe tbody tr th:only-of-type {\n",
              "        vertical-align: middle;\n",
              "    }\n",
              "\n",
              "    .dataframe tbody tr th {\n",
              "        vertical-align: top;\n",
              "    }\n",
              "\n",
              "    .dataframe thead th {\n",
              "        text-align: right;\n",
              "    }\n",
              "</style>\n",
              "<table border=\"1\" class=\"dataframe\">\n",
              "  <thead>\n",
              "    <tr style=\"text-align: right;\">\n",
              "      <th></th>\n",
              "      <th>Non-Parametric</th>\n",
              "    </tr>\n",
              "  </thead>\n",
              "  <tbody>\n",
              "    <tr>\n",
              "      <th>KWH statistics</th>\n",
              "      <td>21.924471</td>\n",
              "    </tr>\n",
              "    <tr>\n",
              "      <th>p-value</th>\n",
              "      <td>0.000068</td>\n",
              "    </tr>\n",
              "  </tbody>\n",
              "</table>\n",
              "</div>"
            ],
            "text/plain": [
              "                Non-Parametric\n",
              "KWH statistics       21.924471\n",
              "p-value               0.000068"
            ]
          },
          "metadata": {
            "tags": []
          }
        },
        {
          "output_type": "display_data",
          "data": {
            "text/html": [
              "<div>\n",
              "<style scoped>\n",
              "    .dataframe tbody tr th:only-of-type {\n",
              "        vertical-align: middle;\n",
              "    }\n",
              "\n",
              "    .dataframe tbody tr th {\n",
              "        vertical-align: top;\n",
              "    }\n",
              "\n",
              "    .dataframe thead th {\n",
              "        text-align: right;\n",
              "    }\n",
              "</style>\n",
              "<table border=\"1\" class=\"dataframe\">\n",
              "  <thead>\n",
              "    <tr style=\"text-align: right;\">\n",
              "      <th></th>\n",
              "      <th>Parametric</th>\n",
              "    </tr>\n",
              "  </thead>\n",
              "  <tbody>\n",
              "    <tr>\n",
              "      <th>F statistics</th>\n",
              "      <td>8.390374</td>\n",
              "    </tr>\n",
              "    <tr>\n",
              "      <th>p-value</th>\n",
              "      <td>0.000022</td>\n",
              "    </tr>\n",
              "  </tbody>\n",
              "</table>\n",
              "</div>"
            ],
            "text/plain": [
              "              Parametric\n",
              "F statistics    8.390374\n",
              "p-value         0.000022"
            ]
          },
          "metadata": {
            "tags": []
          }
        }
      ]
    },
    {
      "cell_type": "markdown",
      "metadata": {
        "id": "dENNsidOH67X"
      },
      "source": [
        "### Result and Interpretation\n",
        "Both tests have a p-value of $<$ $\\alpha = 0.05$\n",
        "<br>\n",
        "We will **reject** our null hypothesis. At least one of the group's platelet is not equal."
      ]
    },
    {
      "cell_type": "markdown",
      "metadata": {
        "id": "x7pi2Xw7IFfp"
      },
      "source": [
        "# Platelet - Mann-Whitney U test (nonparametric), t-test (parametric)\n",
        "* $H_0$: The platelet of the 2 groups are equal.\n",
        "* $H_1$: There is a significant platelet difference between the 2 groups.\n",
        "* $\\alpha = 0.05$"
      ]
    },
    {
      "cell_type": "markdown",
      "metadata": {
        "id": "dLo5H7P8RDgE"
      },
      "source": [
        "## Spider Angiomata\n",
        "* $H_0$: There is no difference in the platelet of the 2 groups having spider angiomata and those without.\n",
        "* $H_1$: There is a difference in the platelet of the 2 groups having spider angiomata and those without.\n",
        "* $\\alpha = 0.05$"
      ]
    },
    {
      "cell_type": "code",
      "metadata": {
        "colab": {
          "base_uri": "https://localhost:8080/",
          "height": 198
        },
        "id": "NyNqJdp0F1t_",
        "outputId": "3e621711-3b9d-49a8-ff2a-7508fa1dbd42"
      },
      "source": [
        "# Subset array\n",
        "nospiderPlat = nospider['Platelet']\n",
        "yesspiderPlat = yesspider['Platelet']\n",
        "\n",
        "# Perform the Mann-Whitney U test\n",
        "MWU, pval = mannwhitneyu(nospiderPlat, yesspiderPlat)\n",
        "resultNonPara = pd.DataFrame([MWU, pval],\n",
        "                             index=['KWH statistics', 'p-value'],\n",
        "                             columns=['Non-Parametric'])\n",
        "# Perform t-test\n",
        "tstat, pval= stats.ttest_ind(nospiderPlat, yesspiderPlat)\n",
        "resultPara = pd.DataFrame([tstat, pval],\n",
        "                          index=['F statistics', 'p-value'],\n",
        "                          columns=['Parametric'])\n",
        "display(resultNonPara)\n",
        "display(resultPara)"
      ],
      "execution_count": 84,
      "outputs": [
        {
          "output_type": "display_data",
          "data": {
            "text/html": [
              "<div>\n",
              "<style scoped>\n",
              "    .dataframe tbody tr th:only-of-type {\n",
              "        vertical-align: middle;\n",
              "    }\n",
              "\n",
              "    .dataframe tbody tr th {\n",
              "        vertical-align: top;\n",
              "    }\n",
              "\n",
              "    .dataframe thead th {\n",
              "        text-align: right;\n",
              "    }\n",
              "</style>\n",
              "<table border=\"1\" class=\"dataframe\">\n",
              "  <thead>\n",
              "    <tr style=\"text-align: right;\">\n",
              "      <th></th>\n",
              "      <th>Non-Parametric</th>\n",
              "    </tr>\n",
              "  </thead>\n",
              "  <tbody>\n",
              "    <tr>\n",
              "      <th>KWH statistics</th>\n",
              "      <td>8002.000000</td>\n",
              "    </tr>\n",
              "    <tr>\n",
              "      <th>p-value</th>\n",
              "      <td>0.002951</td>\n",
              "    </tr>\n",
              "  </tbody>\n",
              "</table>\n",
              "</div>"
            ],
            "text/plain": [
              "                Non-Parametric\n",
              "KWH statistics     8002.000000\n",
              "p-value               0.002951"
            ]
          },
          "metadata": {
            "tags": []
          }
        },
        {
          "output_type": "display_data",
          "data": {
            "text/html": [
              "<div>\n",
              "<style scoped>\n",
              "    .dataframe tbody tr th:only-of-type {\n",
              "        vertical-align: middle;\n",
              "    }\n",
              "\n",
              "    .dataframe tbody tr th {\n",
              "        vertical-align: top;\n",
              "    }\n",
              "\n",
              "    .dataframe thead th {\n",
              "        text-align: right;\n",
              "    }\n",
              "</style>\n",
              "<table border=\"1\" class=\"dataframe\">\n",
              "  <thead>\n",
              "    <tr style=\"text-align: right;\">\n",
              "      <th></th>\n",
              "      <th>Parametric</th>\n",
              "    </tr>\n",
              "  </thead>\n",
              "  <tbody>\n",
              "    <tr>\n",
              "      <th>F statistics</th>\n",
              "      <td>2.871961</td>\n",
              "    </tr>\n",
              "    <tr>\n",
              "      <th>p-value</th>\n",
              "      <td>0.004360</td>\n",
              "    </tr>\n",
              "  </tbody>\n",
              "</table>\n",
              "</div>"
            ],
            "text/plain": [
              "              Parametric\n",
              "F statistics    2.871961\n",
              "p-value         0.004360"
            ]
          },
          "metadata": {
            "tags": []
          }
        }
      ]
    },
    {
      "cell_type": "markdown",
      "metadata": {
        "id": "K8ZJrVpLRLP1"
      },
      "source": [
        "### Result and Interpretation\n",
        "Both tests have a p-value of $<$ $\\alpha = 0.05$\n",
        "<br>\n",
        "We will **reject** our null hypothesis. There is a significant difference in the platelet of those having spider angiomata and having not."
      ]
    },
    {
      "cell_type": "markdown",
      "metadata": {
        "id": "anWSOx-7RZ-E"
      },
      "source": [
        "## Hepatomegaly\n",
        "* $H_0$: There is no difference in the platelet of the 2 groups having hepatomegaly and those without.\n",
        "* $H_1$: There is a difference in the platelet of the 2 groups having hepatomegaly and those without.\n",
        "* $\\alpha = 0.05$"
      ]
    },
    {
      "cell_type": "code",
      "metadata": {
        "colab": {
          "base_uri": "https://localhost:8080/",
          "height": 198
        },
        "id": "-Uf0Jf7zP53A",
        "outputId": "147970be-ce46-4a06-8920-4dd167a0524c"
      },
      "source": [
        "# Subset array\n",
        "nohepatoPlat = nohepato['Platelet']\n",
        "yeshepatoPlat = yeshepato['Platelet']\n",
        "\n",
        "# Perform the Mann-Whitney U test\n",
        "MWU, pval = mannwhitneyu(nohepatoPlat, yeshepatoPlat)\n",
        "resultNonPara = pd.DataFrame([MWU, pval],\n",
        "                             index=['KWH statistics', 'p-value'],\n",
        "                             columns=['Non-Parametric'])\n",
        "# Perform t-test\n",
        "tstat, pval= stats.ttest_ind(nohepatoPlat, yeshepatoPlat)\n",
        "resultPara = pd.DataFrame([tstat, pval],\n",
        "                          index=['F statistics', 'p-value'],\n",
        "                          columns=['Parametric'])\n",
        "display(resultNonPara)\n",
        "display(resultPara)"
      ],
      "execution_count": 85,
      "outputs": [
        {
          "output_type": "display_data",
          "data": {
            "text/html": [
              "<div>\n",
              "<style scoped>\n",
              "    .dataframe tbody tr th:only-of-type {\n",
              "        vertical-align: middle;\n",
              "    }\n",
              "\n",
              "    .dataframe tbody tr th {\n",
              "        vertical-align: top;\n",
              "    }\n",
              "\n",
              "    .dataframe thead th {\n",
              "        text-align: right;\n",
              "    }\n",
              "</style>\n",
              "<table border=\"1\" class=\"dataframe\">\n",
              "  <thead>\n",
              "    <tr style=\"text-align: right;\">\n",
              "      <th></th>\n",
              "      <th>Non-Parametric</th>\n",
              "    </tr>\n",
              "  </thead>\n",
              "  <tbody>\n",
              "    <tr>\n",
              "      <th>KWH statistics</th>\n",
              "      <td>9314.500000</td>\n",
              "    </tr>\n",
              "    <tr>\n",
              "      <th>p-value</th>\n",
              "      <td>0.000177</td>\n",
              "    </tr>\n",
              "  </tbody>\n",
              "</table>\n",
              "</div>"
            ],
            "text/plain": [
              "                Non-Parametric\n",
              "KWH statistics     9314.500000\n",
              "p-value               0.000177"
            ]
          },
          "metadata": {
            "tags": []
          }
        },
        {
          "output_type": "display_data",
          "data": {
            "text/html": [
              "<div>\n",
              "<style scoped>\n",
              "    .dataframe tbody tr th:only-of-type {\n",
              "        vertical-align: middle;\n",
              "    }\n",
              "\n",
              "    .dataframe tbody tr th {\n",
              "        vertical-align: top;\n",
              "    }\n",
              "\n",
              "    .dataframe thead th {\n",
              "        text-align: right;\n",
              "    }\n",
              "</style>\n",
              "<table border=\"1\" class=\"dataframe\">\n",
              "  <thead>\n",
              "    <tr style=\"text-align: right;\">\n",
              "      <th></th>\n",
              "      <th>Parametric</th>\n",
              "    </tr>\n",
              "  </thead>\n",
              "  <tbody>\n",
              "    <tr>\n",
              "      <th>F statistics</th>\n",
              "      <td>3.389361</td>\n",
              "    </tr>\n",
              "    <tr>\n",
              "      <th>p-value</th>\n",
              "      <td>0.000791</td>\n",
              "    </tr>\n",
              "  </tbody>\n",
              "</table>\n",
              "</div>"
            ],
            "text/plain": [
              "              Parametric\n",
              "F statistics    3.389361\n",
              "p-value         0.000791"
            ]
          },
          "metadata": {
            "tags": []
          }
        }
      ]
    },
    {
      "cell_type": "markdown",
      "metadata": {
        "id": "oiJ2ZBV5Rhwt"
      },
      "source": [
        "### Result and Interpretation\n",
        "Both tests have a p-value of $<$ $\\alpha = 0.05$\n",
        "<br>\n",
        "We will **reject** our null hypothesis. There is a significant difference in the platelet of those having hepatomegaly and having not."
      ]
    },
    {
      "cell_type": "markdown",
      "metadata": {
        "id": "lRH7UFKJRql2"
      },
      "source": [
        "## Ascites\n",
        "* $H_0$: There is no difference in the platelet of the 2 groups having ascites and those without.\n",
        "* $H_1$: There is a difference in the platelet of the 2 groups having ascites and those without.\n",
        "* $\\alpha = 0.05$"
      ]
    },
    {
      "cell_type": "code",
      "metadata": {
        "colab": {
          "base_uri": "https://localhost:8080/",
          "height": 198
        },
        "id": "3kYHm9QgP6hn",
        "outputId": "1b60a662-44b9-44f5-8d0a-cf7e34087c58"
      },
      "source": [
        "# Subset array\n",
        "noascitesPlat = noascites['Platelet']\n",
        "yesascitesPlat = yesascites['Platelet']\n",
        "\n",
        "# Perform the Mann-Whitney U test\n",
        "MWU, pval = mannwhitneyu(noascitesPlat, yesascitesPlat)\n",
        "resultNonPara = pd.DataFrame([MWU, pval],\n",
        "                             index=['KWH statistics', 'p-value'],\n",
        "                             columns=['Non-Parametric'])\n",
        "# Perform t-test\n",
        "tstat, pval= stats.ttest_ind(noascitesPlat, yesascitesPlat)\n",
        "resultPara = pd.DataFrame([tstat, pval],\n",
        "                          index=['F statistics', 'p-value'],\n",
        "                          columns=['Parametric'])\n",
        "display(resultNonPara)\n",
        "display(resultPara)"
      ],
      "execution_count": 86,
      "outputs": [
        {
          "output_type": "display_data",
          "data": {
            "text/html": [
              "<div>\n",
              "<style scoped>\n",
              "    .dataframe tbody tr th:only-of-type {\n",
              "        vertical-align: middle;\n",
              "    }\n",
              "\n",
              "    .dataframe tbody tr th {\n",
              "        vertical-align: top;\n",
              "    }\n",
              "\n",
              "    .dataframe thead th {\n",
              "        text-align: right;\n",
              "    }\n",
              "</style>\n",
              "<table border=\"1\" class=\"dataframe\">\n",
              "  <thead>\n",
              "    <tr style=\"text-align: right;\">\n",
              "      <th></th>\n",
              "      <th>Non-Parametric</th>\n",
              "    </tr>\n",
              "  </thead>\n",
              "  <tbody>\n",
              "    <tr>\n",
              "      <th>KWH statistics</th>\n",
              "      <td>1817.000000</td>\n",
              "    </tr>\n",
              "    <tr>\n",
              "      <th>p-value</th>\n",
              "      <td>0.000057</td>\n",
              "    </tr>\n",
              "  </tbody>\n",
              "</table>\n",
              "</div>"
            ],
            "text/plain": [
              "                Non-Parametric\n",
              "KWH statistics     1817.000000\n",
              "p-value               0.000057"
            ]
          },
          "metadata": {
            "tags": []
          }
        },
        {
          "output_type": "display_data",
          "data": {
            "text/html": [
              "<div>\n",
              "<style scoped>\n",
              "    .dataframe tbody tr th:only-of-type {\n",
              "        vertical-align: middle;\n",
              "    }\n",
              "\n",
              "    .dataframe tbody tr th {\n",
              "        vertical-align: top;\n",
              "    }\n",
              "\n",
              "    .dataframe thead th {\n",
              "        text-align: right;\n",
              "    }\n",
              "</style>\n",
              "<table border=\"1\" class=\"dataframe\">\n",
              "  <thead>\n",
              "    <tr style=\"text-align: right;\">\n",
              "      <th></th>\n",
              "      <th>Parametric</th>\n",
              "    </tr>\n",
              "  </thead>\n",
              "  <tbody>\n",
              "    <tr>\n",
              "      <th>F statistics</th>\n",
              "      <td>3.883801</td>\n",
              "    </tr>\n",
              "    <tr>\n",
              "      <th>p-value</th>\n",
              "      <td>0.000126</td>\n",
              "    </tr>\n",
              "  </tbody>\n",
              "</table>\n",
              "</div>"
            ],
            "text/plain": [
              "              Parametric\n",
              "F statistics    3.883801\n",
              "p-value         0.000126"
            ]
          },
          "metadata": {
            "tags": []
          }
        }
      ]
    },
    {
      "cell_type": "markdown",
      "metadata": {
        "id": "VJzKbNT5RyQ8"
      },
      "source": [
        "### Result and Interpretation\n",
        "Both tests have a p-value of $<$ $\\alpha = 0.05$\n",
        "<br>\n",
        "We will **reject** our null hypothesis. There is a significant difference in the platelet of those having ascites and having not."
      ]
    },
    {
      "cell_type": "markdown",
      "metadata": {
        "id": "ipo144OxR22y"
      },
      "source": [
        "## Sex\n",
        "* $H_0$: There is no difference in the platelet between female and male.\n",
        "* $H_1$: There is a difference in the platelet between female and male.\n",
        "* $\\alpha = 0.05$"
      ]
    },
    {
      "cell_type": "code",
      "metadata": {
        "colab": {
          "base_uri": "https://localhost:8080/",
          "height": 198
        },
        "id": "6fQ501oVP6R7",
        "outputId": "abc026fa-9792-4bd1-c99f-627b09346178"
      },
      "source": [
        "# Subset array\n",
        "femalePlat = female['Platelet']\n",
        "malePlat = male['Platelet']\n",
        "\n",
        "# Perform the Mann-Whitney U test\n",
        "MWU, pval = mannwhitneyu(femalePlat, malePlat)\n",
        "resultNonPara = pd.DataFrame([MWU, pval],\n",
        "                             index=['KWH statistics', 'p-value'],\n",
        "                             columns=['Non-Parametric'])\n",
        "# Perform t-test\n",
        "tstat, pval= stats.ttest_ind(femalePlat, malePlat)\n",
        "resultPara = pd.DataFrame([tstat, pval],\n",
        "                          index=['F statistics', 'p-value'],\n",
        "                          columns=['Parametric'])\n",
        "display(resultNonPara)\n",
        "display(resultPara)"
      ],
      "execution_count": 87,
      "outputs": [
        {
          "output_type": "display_data",
          "data": {
            "text/html": [
              "<div>\n",
              "<style scoped>\n",
              "    .dataframe tbody tr th:only-of-type {\n",
              "        vertical-align: middle;\n",
              "    }\n",
              "\n",
              "    .dataframe tbody tr th {\n",
              "        vertical-align: top;\n",
              "    }\n",
              "\n",
              "    .dataframe thead th {\n",
              "        text-align: right;\n",
              "    }\n",
              "</style>\n",
              "<table border=\"1\" class=\"dataframe\">\n",
              "  <thead>\n",
              "    <tr style=\"text-align: right;\">\n",
              "      <th></th>\n",
              "      <th>Non-Parametric</th>\n",
              "    </tr>\n",
              "  </thead>\n",
              "  <tbody>\n",
              "    <tr>\n",
              "      <th>KWH statistics</th>\n",
              "      <td>4225.000000</td>\n",
              "    </tr>\n",
              "    <tr>\n",
              "      <th>p-value</th>\n",
              "      <td>0.072346</td>\n",
              "    </tr>\n",
              "  </tbody>\n",
              "</table>\n",
              "</div>"
            ],
            "text/plain": [
              "                Non-Parametric\n",
              "KWH statistics     4225.000000\n",
              "p-value               0.072346"
            ]
          },
          "metadata": {
            "tags": []
          }
        },
        {
          "output_type": "display_data",
          "data": {
            "text/html": [
              "<div>\n",
              "<style scoped>\n",
              "    .dataframe tbody tr th:only-of-type {\n",
              "        vertical-align: middle;\n",
              "    }\n",
              "\n",
              "    .dataframe tbody tr th {\n",
              "        vertical-align: top;\n",
              "    }\n",
              "\n",
              "    .dataframe thead th {\n",
              "        text-align: right;\n",
              "    }\n",
              "</style>\n",
              "<table border=\"1\" class=\"dataframe\">\n",
              "  <thead>\n",
              "    <tr style=\"text-align: right;\">\n",
              "      <th></th>\n",
              "      <th>Parametric</th>\n",
              "    </tr>\n",
              "  </thead>\n",
              "  <tbody>\n",
              "    <tr>\n",
              "      <th>F statistics</th>\n",
              "      <td>1.707891</td>\n",
              "    </tr>\n",
              "    <tr>\n",
              "      <th>p-value</th>\n",
              "      <td>0.088658</td>\n",
              "    </tr>\n",
              "  </tbody>\n",
              "</table>\n",
              "</div>"
            ],
            "text/plain": [
              "              Parametric\n",
              "F statistics    1.707891\n",
              "p-value         0.088658"
            ]
          },
          "metadata": {
            "tags": []
          }
        }
      ]
    },
    {
      "cell_type": "markdown",
      "metadata": {
        "id": "JaBpl0z6R_v_"
      },
      "source": [
        "### Result and Interpretation\n",
        "Both tests have a p-value of $>$ $\\alpha = 0.05$\n",
        "<br>\n",
        "We will **not reject** our null hypothesis. There is no significant difference in the platelet between female and male."
      ]
    },
    {
      "cell_type": "markdown",
      "metadata": {
        "id": "71T72xW-SLMh"
      },
      "source": [
        "## Treatment group\n",
        "* $H_0$: There is no difference in the platelet between penicillamine and placebo treatment group.\n",
        "* $H_1$: There is a difference in the platelet between penicillamine and placebo treatment group.\n",
        "* $\\alpha = 0.05$"
      ]
    },
    {
      "cell_type": "code",
      "metadata": {
        "colab": {
          "base_uri": "https://localhost:8080/",
          "height": 198
        },
        "id": "2IWNxzXYP590",
        "outputId": "82f51b57-7475-4d7a-cdb3-53bb046d96b1"
      },
      "source": [
        "# Subset array\n",
        "penicillaminePlat = penicillamine['Platelet']\n",
        "placeboPlat = placebo['Platelet']\n",
        "\n",
        "# Perform the Mann-Whitney U test\n",
        "MWU, pval = mannwhitneyu(penicillaminePlat, placeboPlat)\n",
        "resultNonPara = pd.DataFrame([MWU, pval],\n",
        "                             index=['KWH statistics', 'p-value'],\n",
        "                             columns=['Non-Parametric'])\n",
        "# Perform t-test\n",
        "tstat, pval= stats.ttest_ind(penicillaminePlat, placeboPlat)\n",
        "resultPara = pd.DataFrame([tstat, pval],\n",
        "                          index=['F statistics', 'p-value'],\n",
        "                          columns=['Parametric'])\n",
        "display(resultNonPara)\n",
        "display(resultPara)"
      ],
      "execution_count": 88,
      "outputs": [
        {
          "output_type": "display_data",
          "data": {
            "text/html": [
              "<div>\n",
              "<style scoped>\n",
              "    .dataframe tbody tr th:only-of-type {\n",
              "        vertical-align: middle;\n",
              "    }\n",
              "\n",
              "    .dataframe tbody tr th {\n",
              "        vertical-align: top;\n",
              "    }\n",
              "\n",
              "    .dataframe thead th {\n",
              "        text-align: right;\n",
              "    }\n",
              "</style>\n",
              "<table border=\"1\" class=\"dataframe\">\n",
              "  <thead>\n",
              "    <tr style=\"text-align: right;\">\n",
              "      <th></th>\n",
              "      <th>Non-Parametric</th>\n",
              "    </tr>\n",
              "  </thead>\n",
              "  <tbody>\n",
              "    <tr>\n",
              "      <th>KWH statistics</th>\n",
              "      <td>11578.000000</td>\n",
              "    </tr>\n",
              "    <tr>\n",
              "      <th>p-value</th>\n",
              "      <td>0.230417</td>\n",
              "    </tr>\n",
              "  </tbody>\n",
              "</table>\n",
              "</div>"
            ],
            "text/plain": [
              "                Non-Parametric\n",
              "KWH statistics    11578.000000\n",
              "p-value               0.230417"
            ]
          },
          "metadata": {
            "tags": []
          }
        },
        {
          "output_type": "display_data",
          "data": {
            "text/html": [
              "<div>\n",
              "<style scoped>\n",
              "    .dataframe tbody tr th:only-of-type {\n",
              "        vertical-align: middle;\n",
              "    }\n",
              "\n",
              "    .dataframe tbody tr th {\n",
              "        vertical-align: top;\n",
              "    }\n",
              "\n",
              "    .dataframe thead th {\n",
              "        text-align: right;\n",
              "    }\n",
              "</style>\n",
              "<table border=\"1\" class=\"dataframe\">\n",
              "  <thead>\n",
              "    <tr style=\"text-align: right;\">\n",
              "      <th></th>\n",
              "      <th>Parametric</th>\n",
              "    </tr>\n",
              "  </thead>\n",
              "  <tbody>\n",
              "    <tr>\n",
              "      <th>F statistics</th>\n",
              "      <td>-0.591685</td>\n",
              "    </tr>\n",
              "    <tr>\n",
              "      <th>p-value</th>\n",
              "      <td>0.554493</td>\n",
              "    </tr>\n",
              "  </tbody>\n",
              "</table>\n",
              "</div>"
            ],
            "text/plain": [
              "              Parametric\n",
              "F statistics   -0.591685\n",
              "p-value         0.554493"
            ]
          },
          "metadata": {
            "tags": []
          }
        }
      ]
    },
    {
      "cell_type": "markdown",
      "metadata": {
        "id": "X9AgIBEPSciU"
      },
      "source": [
        "### Result and Interpretation\n",
        "Both tests have a p-value of $>$ $\\alpha = 0.05$\n",
        "<br>\n",
        "We will **not reject** our null hypothesis. There is no significant difference in the platelet between female and male."
      ]
    },
    {
      "cell_type": "markdown",
      "metadata": {
        "id": "rdQoL7Y-SreF"
      },
      "source": [
        "# Albumin - Kruskal-Wallis test (nonparametric), ANOVA (parametric)\n",
        "<br> Kruskal-Wallis test\n",
        "* $H_0$: The median albumin of the groups are equal.\n",
        "* $H_0$: $\\widetilde{x}_{1}$ = $\\widetilde{x}_{2}$ = $\\widetilde{x}_{n}$\n",
        "* $H_1$: The median age of one or more groups are not equal.\n",
        "\n",
        "<br> ANOVA\n",
        "* $H_0$: The mean albumin of the groups are equal.\n",
        "* $H_0$: $\\bar{x}_{1}$ $=$ $\\bar{x}_{2}$ $=$ $\\bar{x}_{n}$\n",
        "* $H_1$: There is a significant difference among the groups. At least, one group has an average different from other groups.\n",
        "\n",
        "$\\alpha = 0.05$"
      ]
    },
    {
      "cell_type": "markdown",
      "metadata": {
        "id": "DA_Lu2qHTnEs"
      },
      "source": [
        "## Edema\n",
        "* $H_0$: The albumin of the groups with edema, diuresed edema, and absent edema are equal.\n",
        "* $H_1$: At least one of the groups' albumin is not equal.\n",
        "* $\\alpha = 0.05$"
      ]
    },
    {
      "cell_type": "code",
      "metadata": {
        "colab": {
          "base_uri": "https://localhost:8080/",
          "height": 198
        },
        "id": "kyDYmf0-SaEA",
        "outputId": "218c7a4e-7c77-4067-da9a-e44b39946b30"
      },
      "source": [
        "# Subset array\n",
        "presentAlb = present['Albumin']\n",
        "diureseAlb = diurese['Albumin']\n",
        "absentAlb = absent['Albumin']\n",
        "\n",
        "# Perform the Kruskal-Wallis test\n",
        "KWH, pval = kruskal(presentAlb, diureseAlb, absentAlb)\n",
        "resultNonPara = pd.DataFrame([KWH, pval],\n",
        "                             index=['KWH statistics', 'p-value'],\n",
        "                             columns=['Non-Parametric'])\n",
        "#Perform ANOVA\n",
        "F1w, pval = f_oneway(presentAlb, diureseAlb, absentAlb)\n",
        "resultPara = pd.DataFrame([F1w, pval],\n",
        "                          index=['F statistics', 'p-value'],\n",
        "                          columns=['Parametric'])\n",
        "display(resultNonPara)\n",
        "display(resultPara)"
      ],
      "execution_count": 89,
      "outputs": [
        {
          "output_type": "display_data",
          "data": {
            "text/html": [
              "<div>\n",
              "<style scoped>\n",
              "    .dataframe tbody tr th:only-of-type {\n",
              "        vertical-align: middle;\n",
              "    }\n",
              "\n",
              "    .dataframe tbody tr th {\n",
              "        vertical-align: top;\n",
              "    }\n",
              "\n",
              "    .dataframe thead th {\n",
              "        text-align: right;\n",
              "    }\n",
              "</style>\n",
              "<table border=\"1\" class=\"dataframe\">\n",
              "  <thead>\n",
              "    <tr style=\"text-align: right;\">\n",
              "      <th></th>\n",
              "      <th>Non-Parametric</th>\n",
              "    </tr>\n",
              "  </thead>\n",
              "  <tbody>\n",
              "    <tr>\n",
              "      <th>KWH statistics</th>\n",
              "      <td>3.843361e+01</td>\n",
              "    </tr>\n",
              "    <tr>\n",
              "      <th>p-value</th>\n",
              "      <td>4.510730e-09</td>\n",
              "    </tr>\n",
              "  </tbody>\n",
              "</table>\n",
              "</div>"
            ],
            "text/plain": [
              "                Non-Parametric\n",
              "KWH statistics    3.843361e+01\n",
              "p-value           4.510730e-09"
            ]
          },
          "metadata": {
            "tags": []
          }
        },
        {
          "output_type": "display_data",
          "data": {
            "text/html": [
              "<div>\n",
              "<style scoped>\n",
              "    .dataframe tbody tr th:only-of-type {\n",
              "        vertical-align: middle;\n",
              "    }\n",
              "\n",
              "    .dataframe tbody tr th {\n",
              "        vertical-align: top;\n",
              "    }\n",
              "\n",
              "    .dataframe thead th {\n",
              "        text-align: right;\n",
              "    }\n",
              "</style>\n",
              "<table border=\"1\" class=\"dataframe\">\n",
              "  <thead>\n",
              "    <tr style=\"text-align: right;\">\n",
              "      <th></th>\n",
              "      <th>Parametric</th>\n",
              "    </tr>\n",
              "  </thead>\n",
              "  <tbody>\n",
              "    <tr>\n",
              "      <th>F statistics</th>\n",
              "      <td>3.182372e+01</td>\n",
              "    </tr>\n",
              "    <tr>\n",
              "      <th>p-value</th>\n",
              "      <td>2.710328e-13</td>\n",
              "    </tr>\n",
              "  </tbody>\n",
              "</table>\n",
              "</div>"
            ],
            "text/plain": [
              "                Parametric\n",
              "F statistics  3.182372e+01\n",
              "p-value       2.710328e-13"
            ]
          },
          "metadata": {
            "tags": []
          }
        }
      ]
    },
    {
      "cell_type": "markdown",
      "metadata": {
        "id": "JFtyutcMTsgR"
      },
      "source": [
        "### Result and Interpretation\n",
        "Both tests have a p-value of $<$ $\\alpha = 0.05$\n",
        "<br>\n",
        "We will **reject** our null hypothesis. At least 1 group's albumin is not equal."
      ]
    },
    {
      "cell_type": "markdown",
      "metadata": {
        "id": "HtN4fAxdUCKh"
      },
      "source": [
        "## Censoring status\n",
        "* $H_0$: The albumin of the groups with status dead, transplant, and censored are equal.\n",
        "* $H_1$: At least one of the groups' albumin is not equal.\n",
        "* $\\alpha = 0.05$"
      ]
    },
    {
      "cell_type": "code",
      "metadata": {
        "colab": {
          "base_uri": "https://localhost:8080/",
          "height": 198
        },
        "id": "M1Rab_GoS2Xe",
        "outputId": "5a9d7147-9096-4de3-98b2-5cf127a152e4"
      },
      "source": [
        "# Subset array\n",
        "deadAlb = dead['Albumin']\n",
        "censoredAlb = censored['Albumin']\n",
        "transplantAlb = transplant['Albumin']\n",
        "\n",
        "# Perform the Kruskal-Wallis test\n",
        "KWH, pval = kruskal(deadAlb, censoredAlb, transplantAlb)\n",
        "resultNonPara = pd.DataFrame([KWH, pval],\n",
        "                             index=['KWH statistics', 'p-value'],\n",
        "                             columns=['Non-Parametric'])\n",
        "#Perform ANOVA\n",
        "F1w, pval = f_oneway(deadAlb, censoredAlb, transplantAlb)\n",
        "resultPara = pd.DataFrame([F1w, pval],\n",
        "                          index=['F statistics', 'p-value'],\n",
        "                          columns=['Parametric'])\n",
        "display(resultNonPara)\n",
        "display(resultPara)"
      ],
      "execution_count": 90,
      "outputs": [
        {
          "output_type": "display_data",
          "data": {
            "text/html": [
              "<div>\n",
              "<style scoped>\n",
              "    .dataframe tbody tr th:only-of-type {\n",
              "        vertical-align: middle;\n",
              "    }\n",
              "\n",
              "    .dataframe tbody tr th {\n",
              "        vertical-align: top;\n",
              "    }\n",
              "\n",
              "    .dataframe thead th {\n",
              "        text-align: right;\n",
              "    }\n",
              "</style>\n",
              "<table border=\"1\" class=\"dataframe\">\n",
              "  <thead>\n",
              "    <tr style=\"text-align: right;\">\n",
              "      <th></th>\n",
              "      <th>Non-Parametric</th>\n",
              "    </tr>\n",
              "  </thead>\n",
              "  <tbody>\n",
              "    <tr>\n",
              "      <th>KWH statistics</th>\n",
              "      <td>25.525491</td>\n",
              "    </tr>\n",
              "    <tr>\n",
              "      <th>p-value</th>\n",
              "      <td>0.000003</td>\n",
              "    </tr>\n",
              "  </tbody>\n",
              "</table>\n",
              "</div>"
            ],
            "text/plain": [
              "                Non-Parametric\n",
              "KWH statistics       25.525491\n",
              "p-value               0.000003"
            ]
          },
          "metadata": {
            "tags": []
          }
        },
        {
          "output_type": "display_data",
          "data": {
            "text/html": [
              "<div>\n",
              "<style scoped>\n",
              "    .dataframe tbody tr th:only-of-type {\n",
              "        vertical-align: middle;\n",
              "    }\n",
              "\n",
              "    .dataframe tbody tr th {\n",
              "        vertical-align: top;\n",
              "    }\n",
              "\n",
              "    .dataframe thead th {\n",
              "        text-align: right;\n",
              "    }\n",
              "</style>\n",
              "<table border=\"1\" class=\"dataframe\">\n",
              "  <thead>\n",
              "    <tr style=\"text-align: right;\">\n",
              "      <th></th>\n",
              "      <th>Parametric</th>\n",
              "    </tr>\n",
              "  </thead>\n",
              "  <tbody>\n",
              "    <tr>\n",
              "      <th>F statistics</th>\n",
              "      <td>1.672777e+01</td>\n",
              "    </tr>\n",
              "    <tr>\n",
              "      <th>p-value</th>\n",
              "      <td>1.265427e-07</td>\n",
              "    </tr>\n",
              "  </tbody>\n",
              "</table>\n",
              "</div>"
            ],
            "text/plain": [
              "                Parametric\n",
              "F statistics  1.672777e+01\n",
              "p-value       1.265427e-07"
            ]
          },
          "metadata": {
            "tags": []
          }
        }
      ]
    },
    {
      "cell_type": "markdown",
      "metadata": {
        "id": "u_m4rCJgUIya"
      },
      "source": [
        "### Result and Interpretation\n",
        "Both tests have a p-value of $<$ $\\alpha = 0.05$\n",
        "<br>\n",
        "We will **reject** our null hypothesis. At least 1 group's albumin is not equal."
      ]
    },
    {
      "cell_type": "markdown",
      "metadata": {
        "id": "Aq27juzQUNbt"
      },
      "source": [
        "## Histology stage\n",
        "* $H_0$: The albumin of the histology stage groups are equal.\n",
        "* $H_1$: At least one of the groups' albumin is not equal.\n",
        "* $\\alpha = 0.05$"
      ]
    },
    {
      "cell_type": "code",
      "metadata": {
        "colab": {
          "base_uri": "https://localhost:8080/",
          "height": 198
        },
        "id": "hRB4yVAgS2MC",
        "outputId": "99bfc30f-9958-41e6-8c8d-3d1c92133883"
      },
      "source": [
        "# Subset array\n",
        "St1Alb = Stage1['Albumin']\n",
        "St2Alb = Stage2['Albumin']\n",
        "St3Alb = Stage3['Albumin']\n",
        "St4Alb = Stage4['Albumin']\n",
        "\n",
        "# Perform the Kruskal-Wallis test\n",
        "KWH, pval = kruskal(St1Alb, St2Alb, St3Alb, St4Alb)\n",
        "resultNonPara = pd.DataFrame([KWH, pval],\n",
        "                             index=['KWH statistics', 'p-value'],\n",
        "                             columns=['Non-Parametric'])\n",
        "#Perform ANOVA\n",
        "F1w, pval = f_oneway(St1Alb, St2Alb, St3Alb, St4Alb)\n",
        "resultPara = pd.DataFrame([F1w, pval],\n",
        "                          index=['F statistics', 'p-value'],\n",
        "                          columns=['Parametric'])\n",
        "display(resultNonPara)\n",
        "display(resultPara)"
      ],
      "execution_count": 91,
      "outputs": [
        {
          "output_type": "display_data",
          "data": {
            "text/html": [
              "<div>\n",
              "<style scoped>\n",
              "    .dataframe tbody tr th:only-of-type {\n",
              "        vertical-align: middle;\n",
              "    }\n",
              "\n",
              "    .dataframe tbody tr th {\n",
              "        vertical-align: top;\n",
              "    }\n",
              "\n",
              "    .dataframe thead th {\n",
              "        text-align: right;\n",
              "    }\n",
              "</style>\n",
              "<table border=\"1\" class=\"dataframe\">\n",
              "  <thead>\n",
              "    <tr style=\"text-align: right;\">\n",
              "      <th></th>\n",
              "      <th>Non-Parametric</th>\n",
              "    </tr>\n",
              "  </thead>\n",
              "  <tbody>\n",
              "    <tr>\n",
              "      <th>KWH statistics</th>\n",
              "      <td>4.651346e+01</td>\n",
              "    </tr>\n",
              "    <tr>\n",
              "      <th>p-value</th>\n",
              "      <td>4.410751e-10</td>\n",
              "    </tr>\n",
              "  </tbody>\n",
              "</table>\n",
              "</div>"
            ],
            "text/plain": [
              "                Non-Parametric\n",
              "KWH statistics    4.651346e+01\n",
              "p-value           4.410751e-10"
            ]
          },
          "metadata": {
            "tags": []
          }
        },
        {
          "output_type": "display_data",
          "data": {
            "text/html": [
              "<div>\n",
              "<style scoped>\n",
              "    .dataframe tbody tr th:only-of-type {\n",
              "        vertical-align: middle;\n",
              "    }\n",
              "\n",
              "    .dataframe tbody tr th {\n",
              "        vertical-align: top;\n",
              "    }\n",
              "\n",
              "    .dataframe thead th {\n",
              "        text-align: right;\n",
              "    }\n",
              "</style>\n",
              "<table border=\"1\" class=\"dataframe\">\n",
              "  <thead>\n",
              "    <tr style=\"text-align: right;\">\n",
              "      <th></th>\n",
              "      <th>Parametric</th>\n",
              "    </tr>\n",
              "  </thead>\n",
              "  <tbody>\n",
              "    <tr>\n",
              "      <th>F statistics</th>\n",
              "      <td>1.901207e+01</td>\n",
              "    </tr>\n",
              "    <tr>\n",
              "      <th>p-value</th>\n",
              "      <td>2.446976e-11</td>\n",
              "    </tr>\n",
              "  </tbody>\n",
              "</table>\n",
              "</div>"
            ],
            "text/plain": [
              "                Parametric\n",
              "F statistics  1.901207e+01\n",
              "p-value       2.446976e-11"
            ]
          },
          "metadata": {
            "tags": []
          }
        }
      ]
    },
    {
      "cell_type": "markdown",
      "metadata": {
        "id": "81D8nz7pUa4t"
      },
      "source": [
        "### Result and Interpretation\n",
        "Both tests have a p-value of $<$ $\\alpha = 0.05$\n",
        "<br>\n",
        "We will **reject** our null hypothesis. At least 1 group's albumin is not equal."
      ]
    },
    {
      "cell_type": "markdown",
      "metadata": {
        "id": "6AdxO5zlUl1S"
      },
      "source": [
        "# Albumin - Mann-Whitney U test (nonparametric), t-test (parametric)\n",
        "* $H_0$: The albumin of the 2 groups are equal.\n",
        "* $H_1$: There is a significant albumin difference between the 2 groups.\n",
        "* $\\alpha = 0.05$"
      ]
    },
    {
      "cell_type": "markdown",
      "metadata": {
        "id": "uPRDYEGaVqlQ"
      },
      "source": [
        "## Spider Angiomata\n",
        "* $H_0$: There is no difference in the albumin of the 2 groups having spider angiomata and those without.\n",
        "* $H_1$: There is a difference in the albumin of the 2 groups having spider angiomata and those without.\n",
        "* $\\alpha = 0.05$"
      ]
    },
    {
      "cell_type": "code",
      "metadata": {
        "colab": {
          "base_uri": "https://localhost:8080/",
          "height": 198
        },
        "id": "HmwojcRgS2I1",
        "outputId": "06f1edc3-3f86-4b97-8682-a6407ef10585"
      },
      "source": [
        "# Subset array\n",
        "nospiderAlb = nospider['Albumin']\n",
        "yesspiderAlb = yesspider['Albumin']\n",
        "\n",
        "# Perform the Mann-Whitney U test\n",
        "MWU, pval = mannwhitneyu(nospiderAlb, yesspiderAlb)\n",
        "resultNonPara = pd.DataFrame([MWU, pval],\n",
        "                             index=['KWH statistics', 'p-value'],\n",
        "                             columns=['Non-Parametric'])\n",
        "# Perform t-test\n",
        "tstat, pval= stats.ttest_ind(nospiderAlb, yesspiderAlb)\n",
        "resultPara = pd.DataFrame([tstat, pval],\n",
        "                          index=['F statistics', 'p-value'],\n",
        "                          columns=['Parametric'])\n",
        "display(resultNonPara)\n",
        "display(resultPara)"
      ],
      "execution_count": 92,
      "outputs": [
        {
          "output_type": "display_data",
          "data": {
            "text/html": [
              "<div>\n",
              "<style scoped>\n",
              "    .dataframe tbody tr th:only-of-type {\n",
              "        vertical-align: middle;\n",
              "    }\n",
              "\n",
              "    .dataframe tbody tr th {\n",
              "        vertical-align: top;\n",
              "    }\n",
              "\n",
              "    .dataframe thead th {\n",
              "        text-align: right;\n",
              "    }\n",
              "</style>\n",
              "<table border=\"1\" class=\"dataframe\">\n",
              "  <thead>\n",
              "    <tr style=\"text-align: right;\">\n",
              "      <th></th>\n",
              "      <th>Non-Parametric</th>\n",
              "    </tr>\n",
              "  </thead>\n",
              "  <tbody>\n",
              "    <tr>\n",
              "      <th>KWH statistics</th>\n",
              "      <td>7076.000000</td>\n",
              "    </tr>\n",
              "    <tr>\n",
              "      <th>p-value</th>\n",
              "      <td>0.000027</td>\n",
              "    </tr>\n",
              "  </tbody>\n",
              "</table>\n",
              "</div>"
            ],
            "text/plain": [
              "                Non-Parametric\n",
              "KWH statistics     7076.000000\n",
              "p-value               0.000027"
            ]
          },
          "metadata": {
            "tags": []
          }
        },
        {
          "output_type": "display_data",
          "data": {
            "text/html": [
              "<div>\n",
              "<style scoped>\n",
              "    .dataframe tbody tr th:only-of-type {\n",
              "        vertical-align: middle;\n",
              "    }\n",
              "\n",
              "    .dataframe tbody tr th {\n",
              "        vertical-align: top;\n",
              "    }\n",
              "\n",
              "    .dataframe thead th {\n",
              "        text-align: right;\n",
              "    }\n",
              "</style>\n",
              "<table border=\"1\" class=\"dataframe\">\n",
              "  <thead>\n",
              "    <tr style=\"text-align: right;\">\n",
              "      <th></th>\n",
              "      <th>Parametric</th>\n",
              "    </tr>\n",
              "  </thead>\n",
              "  <tbody>\n",
              "    <tr>\n",
              "      <th>F statistics</th>\n",
              "      <td>4.232444</td>\n",
              "    </tr>\n",
              "    <tr>\n",
              "      <th>p-value</th>\n",
              "      <td>0.000030</td>\n",
              "    </tr>\n",
              "  </tbody>\n",
              "</table>\n",
              "</div>"
            ],
            "text/plain": [
              "              Parametric\n",
              "F statistics    4.232444\n",
              "p-value         0.000030"
            ]
          },
          "metadata": {
            "tags": []
          }
        }
      ]
    },
    {
      "cell_type": "markdown",
      "metadata": {
        "id": "l7ejxahOV3ma"
      },
      "source": [
        "### Result and Interpretation\n",
        "Both tests have a p-value of $<$ $\\alpha = 0.05$\n",
        "<br>\n",
        "We will **reject** our null hypothesis. There is a significant difference in the albumin of those having spider angiomata and having not."
      ]
    },
    {
      "cell_type": "markdown",
      "metadata": {
        "id": "ZdApQBEPWAWS"
      },
      "source": [
        "## Hepatomegaly\n",
        "* $H_0$: There is no difference in the albumin of the 2 groups having hepatomegaly and those without.\n",
        "* $H_1$: There is a difference in the albumin of the 2 groups having hepatomegaly and those without.\n",
        "* $\\alpha = 0.05$"
      ]
    },
    {
      "cell_type": "code",
      "metadata": {
        "colab": {
          "base_uri": "https://localhost:8080/",
          "height": 198
        },
        "id": "YMM-X0L3U1XP",
        "outputId": "10aea3b8-11b1-41ea-a564-db72b77f6d13"
      },
      "source": [
        "# Subset array\n",
        "nohepatoAlb = nohepato['Albumin']\n",
        "yeshepatoAlb = yeshepato['Albumin']\n",
        "\n",
        "# Perform the Mann-Whitney U test\n",
        "MWU, pval = mannwhitneyu(nohepatoAlb, yeshepatoAlb)\n",
        "resultNonPara = pd.DataFrame([MWU, pval],\n",
        "                             index=['KWH statistics', 'p-value'],\n",
        "                             columns=['Non-Parametric'])\n",
        "# Perform t-test\n",
        "tstat, pval= stats.ttest_ind(nohepatoAlb, yeshepatoAlb)\n",
        "resultPara = pd.DataFrame([tstat, pval],\n",
        "                          index=['F statistics', 'p-value'],\n",
        "                          columns=['Parametric'])\n",
        "display(resultNonPara)\n",
        "display(resultPara)"
      ],
      "execution_count": 93,
      "outputs": [
        {
          "output_type": "display_data",
          "data": {
            "text/html": [
              "<div>\n",
              "<style scoped>\n",
              "    .dataframe tbody tr th:only-of-type {\n",
              "        vertical-align: middle;\n",
              "    }\n",
              "\n",
              "    .dataframe tbody tr th {\n",
              "        vertical-align: top;\n",
              "    }\n",
              "\n",
              "    .dataframe thead th {\n",
              "        text-align: right;\n",
              "    }\n",
              "</style>\n",
              "<table border=\"1\" class=\"dataframe\">\n",
              "  <thead>\n",
              "    <tr style=\"text-align: right;\">\n",
              "      <th></th>\n",
              "      <th>Non-Parametric</th>\n",
              "    </tr>\n",
              "  </thead>\n",
              "  <tbody>\n",
              "    <tr>\n",
              "      <th>KWH statistics</th>\n",
              "      <td>7.887500e+03</td>\n",
              "    </tr>\n",
              "    <tr>\n",
              "      <th>p-value</th>\n",
              "      <td>4.066615e-08</td>\n",
              "    </tr>\n",
              "  </tbody>\n",
              "</table>\n",
              "</div>"
            ],
            "text/plain": [
              "                Non-Parametric\n",
              "KWH statistics    7.887500e+03\n",
              "p-value           4.066615e-08"
            ]
          },
          "metadata": {
            "tags": []
          }
        },
        {
          "output_type": "display_data",
          "data": {
            "text/html": [
              "<div>\n",
              "<style scoped>\n",
              "    .dataframe tbody tr th:only-of-type {\n",
              "        vertical-align: middle;\n",
              "    }\n",
              "\n",
              "    .dataframe tbody tr th {\n",
              "        vertical-align: top;\n",
              "    }\n",
              "\n",
              "    .dataframe thead th {\n",
              "        text-align: right;\n",
              "    }\n",
              "</style>\n",
              "<table border=\"1\" class=\"dataframe\">\n",
              "  <thead>\n",
              "    <tr style=\"text-align: right;\">\n",
              "      <th></th>\n",
              "      <th>Parametric</th>\n",
              "    </tr>\n",
              "  </thead>\n",
              "  <tbody>\n",
              "    <tr>\n",
              "      <th>F statistics</th>\n",
              "      <td>5.520658e+00</td>\n",
              "    </tr>\n",
              "    <tr>\n",
              "      <th>p-value</th>\n",
              "      <td>7.147028e-08</td>\n",
              "    </tr>\n",
              "  </tbody>\n",
              "</table>\n",
              "</div>"
            ],
            "text/plain": [
              "                Parametric\n",
              "F statistics  5.520658e+00\n",
              "p-value       7.147028e-08"
            ]
          },
          "metadata": {
            "tags": []
          }
        }
      ]
    },
    {
      "cell_type": "markdown",
      "metadata": {
        "id": "YXkBtALdWHOP"
      },
      "source": [
        "### Result and Interpretation\n",
        "Both tests have a p-value of $<$ $\\alpha = 0.05$\n",
        "<br>\n",
        "We will **reject** our null hypothesis. There is a significant difference in the albumin of those having hepatomegaly and having not."
      ]
    },
    {
      "cell_type": "markdown",
      "metadata": {
        "id": "lwO_hS4lWQhD"
      },
      "source": [
        "## Ascites\n",
        "* $H_0$: There is no difference in the albumin of the 2 groups having ascites and those without.\n",
        "* $H_1$: There is a difference in the albumin of the 2 groups having ascites and those without.\n",
        "* $\\alpha = 0.05$"
      ]
    },
    {
      "cell_type": "code",
      "metadata": {
        "colab": {
          "base_uri": "https://localhost:8080/",
          "height": 198
        },
        "id": "G8YoVOUoU1A5",
        "outputId": "3c02d5aa-8fe0-4430-d119-1b62e25b9b32"
      },
      "source": [
        "# Subset array\n",
        "noascitesAlb = noascites['Albumin']\n",
        "yesascitesAlb = yesascites['Albumin']\n",
        "\n",
        "# Perform the Mann-Whitney U test\n",
        "MWU, pval = mannwhitneyu(noascitesAlb, yesascitesAlb)\n",
        "resultNonPara = pd.DataFrame([MWU, pval],\n",
        "                             index=['KWH statistics', 'p-value'],\n",
        "                             columns=['Non-Parametric'])\n",
        "# Perform t-test\n",
        "tstat, pval= stats.ttest_ind(noascitesAlb, yesascitesAlb)\n",
        "resultPara = pd.DataFrame([tstat, pval],\n",
        "                          index=['F statistics', 'p-value'],\n",
        "                          columns=['Parametric'])\n",
        "display(resultNonPara)\n",
        "display(resultPara)"
      ],
      "execution_count": 94,
      "outputs": [
        {
          "output_type": "display_data",
          "data": {
            "text/html": [
              "<div>\n",
              "<style scoped>\n",
              "    .dataframe tbody tr th:only-of-type {\n",
              "        vertical-align: middle;\n",
              "    }\n",
              "\n",
              "    .dataframe tbody tr th {\n",
              "        vertical-align: top;\n",
              "    }\n",
              "\n",
              "    .dataframe thead th {\n",
              "        text-align: right;\n",
              "    }\n",
              "</style>\n",
              "<table border=\"1\" class=\"dataframe\">\n",
              "  <thead>\n",
              "    <tr style=\"text-align: right;\">\n",
              "      <th></th>\n",
              "      <th>Non-Parametric</th>\n",
              "    </tr>\n",
              "  </thead>\n",
              "  <tbody>\n",
              "    <tr>\n",
              "      <th>KWH statistics</th>\n",
              "      <td>1.031000e+03</td>\n",
              "    </tr>\n",
              "    <tr>\n",
              "      <th>p-value</th>\n",
              "      <td>5.633341e-09</td>\n",
              "    </tr>\n",
              "  </tbody>\n",
              "</table>\n",
              "</div>"
            ],
            "text/plain": [
              "                Non-Parametric\n",
              "KWH statistics    1.031000e+03\n",
              "p-value           5.633341e-09"
            ]
          },
          "metadata": {
            "tags": []
          }
        },
        {
          "output_type": "display_data",
          "data": {
            "text/html": [
              "<div>\n",
              "<style scoped>\n",
              "    .dataframe tbody tr th:only-of-type {\n",
              "        vertical-align: middle;\n",
              "    }\n",
              "\n",
              "    .dataframe tbody tr th {\n",
              "        vertical-align: top;\n",
              "    }\n",
              "\n",
              "    .dataframe thead th {\n",
              "        text-align: right;\n",
              "    }\n",
              "</style>\n",
              "<table border=\"1\" class=\"dataframe\">\n",
              "  <thead>\n",
              "    <tr style=\"text-align: right;\">\n",
              "      <th></th>\n",
              "      <th>Parametric</th>\n",
              "    </tr>\n",
              "  </thead>\n",
              "  <tbody>\n",
              "    <tr>\n",
              "      <th>F statistics</th>\n",
              "      <td>7.442448e+00</td>\n",
              "    </tr>\n",
              "    <tr>\n",
              "      <th>p-value</th>\n",
              "      <td>9.814688e-13</td>\n",
              "    </tr>\n",
              "  </tbody>\n",
              "</table>\n",
              "</div>"
            ],
            "text/plain": [
              "                Parametric\n",
              "F statistics  7.442448e+00\n",
              "p-value       9.814688e-13"
            ]
          },
          "metadata": {
            "tags": []
          }
        }
      ]
    },
    {
      "cell_type": "markdown",
      "metadata": {
        "id": "WgsZJa4zWW07"
      },
      "source": [
        "### Result and Interpretation\n",
        "Both tests have a p-value of $<$ $\\alpha = 0.05$\n",
        "<br>\n",
        "We will **reject** our null hypothesis. There is a significant difference in the albumin of those having ascites and having not."
      ]
    },
    {
      "cell_type": "markdown",
      "metadata": {
        "id": "iymjd-CCWcDF"
      },
      "source": [
        "## Sex\n",
        "* $H_0$: There is no difference in the albumin between female and male.\n",
        "* $H_1$: There is a difference in the albumin between female and male.\n",
        "* $\\alpha = 0.05$"
      ]
    },
    {
      "cell_type": "code",
      "metadata": {
        "colab": {
          "base_uri": "https://localhost:8080/",
          "height": 198
        },
        "id": "Q6CCCo3dU097",
        "outputId": "22cc902f-81c7-4ba6-9f83-d192bab47bc5"
      },
      "source": [
        "# Subset array\n",
        "femaleAlb = female['Albumin']\n",
        "maleAlb = male['Albumin']\n",
        "\n",
        "# Perform the Mann-Whitney U test\n",
        "MWU, pval = mannwhitneyu(femaleAlb, maleAlb)\n",
        "resultNonPara = pd.DataFrame([MWU, pval],\n",
        "                             index=['KWH statistics', 'p-value'],\n",
        "                             columns=['Non-Parametric'])\n",
        "# Perform t-test\n",
        "tstat, pval= stats.ttest_ind(femaleAlb, maleAlb)\n",
        "resultPara = pd.DataFrame([tstat, pval],\n",
        "                          index=['F statistics', 'p-value'],\n",
        "                          columns=['Parametric'])\n",
        "display(resultNonPara)\n",
        "display(resultPara)"
      ],
      "execution_count": 95,
      "outputs": [
        {
          "output_type": "display_data",
          "data": {
            "text/html": [
              "<div>\n",
              "<style scoped>\n",
              "    .dataframe tbody tr th:only-of-type {\n",
              "        vertical-align: middle;\n",
              "    }\n",
              "\n",
              "    .dataframe tbody tr th {\n",
              "        vertical-align: top;\n",
              "    }\n",
              "\n",
              "    .dataframe thead th {\n",
              "        text-align: right;\n",
              "    }\n",
              "</style>\n",
              "<table border=\"1\" class=\"dataframe\">\n",
              "  <thead>\n",
              "    <tr style=\"text-align: right;\">\n",
              "      <th></th>\n",
              "      <th>Non-Parametric</th>\n",
              "    </tr>\n",
              "  </thead>\n",
              "  <tbody>\n",
              "    <tr>\n",
              "      <th>KWH statistics</th>\n",
              "      <td>4297.500000</td>\n",
              "    </tr>\n",
              "    <tr>\n",
              "      <th>p-value</th>\n",
              "      <td>0.094054</td>\n",
              "    </tr>\n",
              "  </tbody>\n",
              "</table>\n",
              "</div>"
            ],
            "text/plain": [
              "                Non-Parametric\n",
              "KWH statistics     4297.500000\n",
              "p-value               0.094054"
            ]
          },
          "metadata": {
            "tags": []
          }
        },
        {
          "output_type": "display_data",
          "data": {
            "text/html": [
              "<div>\n",
              "<style scoped>\n",
              "    .dataframe tbody tr th:only-of-type {\n",
              "        vertical-align: middle;\n",
              "    }\n",
              "\n",
              "    .dataframe tbody tr th {\n",
              "        vertical-align: top;\n",
              "    }\n",
              "\n",
              "    .dataframe thead th {\n",
              "        text-align: right;\n",
              "    }\n",
              "</style>\n",
              "<table border=\"1\" class=\"dataframe\">\n",
              "  <thead>\n",
              "    <tr style=\"text-align: right;\">\n",
              "      <th></th>\n",
              "      <th>Parametric</th>\n",
              "    </tr>\n",
              "  </thead>\n",
              "  <tbody>\n",
              "    <tr>\n",
              "      <th>F statistics</th>\n",
              "      <td>-0.898626</td>\n",
              "    </tr>\n",
              "    <tr>\n",
              "      <th>p-value</th>\n",
              "      <td>0.369549</td>\n",
              "    </tr>\n",
              "  </tbody>\n",
              "</table>\n",
              "</div>"
            ],
            "text/plain": [
              "              Parametric\n",
              "F statistics   -0.898626\n",
              "p-value         0.369549"
            ]
          },
          "metadata": {
            "tags": []
          }
        }
      ]
    },
    {
      "cell_type": "markdown",
      "metadata": {
        "id": "uuajVqb8XGzk"
      },
      "source": [
        "### Result and Interpretation\n",
        "Both tests have a p-value of $>$ $\\alpha = 0.05$\n",
        "<br>\n",
        "We will **not reject** our null hypothesis. There is no significant difference in the albumin between female and male."
      ]
    },
    {
      "cell_type": "markdown",
      "metadata": {
        "id": "XPR7BHRzXUjp"
      },
      "source": [
        "## Treatment group\n",
        "* $H_0$: There is no difference in the albumin between penicillamine and placebo treatment group.\n",
        "* $H_1$: There is a difference in the albumin between penicillamine and placebo treatment group.\n",
        "* $\\alpha = 0.05$"
      ]
    },
    {
      "cell_type": "code",
      "metadata": {
        "colab": {
          "base_uri": "https://localhost:8080/",
          "height": 198
        },
        "id": "9cG1JmKKS2GJ",
        "outputId": "bcfaa0e3-7385-4090-83c9-15aeb7f7c571"
      },
      "source": [
        "# Subset array\n",
        "penicillamineAlb = penicillamine['Albumin']\n",
        "placeboAlb = placebo['Albumin']\n",
        "\n",
        "# Perform the Mann-Whitney U test\n",
        "MWU, pval = mannwhitneyu(penicillamineAlb, placeboAlb)\n",
        "resultNonPara = pd.DataFrame([MWU, pval],\n",
        "                             index=['KWH statistics', 'p-value'],\n",
        "                             columns=['Non-Parametric'])\n",
        "# Perform t-test\n",
        "tstat, pval= stats.ttest_ind(penicillamineAlb, placeboAlb)\n",
        "resultPara = pd.DataFrame([tstat, pval],\n",
        "                          index=['F statistics', 'p-value'],\n",
        "                          columns=['Parametric'])\n",
        "display(resultNonPara)\n",
        "display(resultPara)"
      ],
      "execution_count": 96,
      "outputs": [
        {
          "output_type": "display_data",
          "data": {
            "text/html": [
              "<div>\n",
              "<style scoped>\n",
              "    .dataframe tbody tr th:only-of-type {\n",
              "        vertical-align: middle;\n",
              "    }\n",
              "\n",
              "    .dataframe tbody tr th {\n",
              "        vertical-align: top;\n",
              "    }\n",
              "\n",
              "    .dataframe thead th {\n",
              "        text-align: right;\n",
              "    }\n",
              "</style>\n",
              "<table border=\"1\" class=\"dataframe\">\n",
              "  <thead>\n",
              "    <tr style=\"text-align: right;\">\n",
              "      <th></th>\n",
              "      <th>Non-Parametric</th>\n",
              "    </tr>\n",
              "  </thead>\n",
              "  <tbody>\n",
              "    <tr>\n",
              "      <th>KWH statistics</th>\n",
              "      <td>12116.500000</td>\n",
              "    </tr>\n",
              "    <tr>\n",
              "      <th>p-value</th>\n",
              "      <td>0.475476</td>\n",
              "    </tr>\n",
              "  </tbody>\n",
              "</table>\n",
              "</div>"
            ],
            "text/plain": [
              "                Non-Parametric\n",
              "KWH statistics    12116.500000\n",
              "p-value               0.475476"
            ]
          },
          "metadata": {
            "tags": []
          }
        },
        {
          "output_type": "display_data",
          "data": {
            "text/html": [
              "<div>\n",
              "<style scoped>\n",
              "    .dataframe tbody tr th:only-of-type {\n",
              "        vertical-align: middle;\n",
              "    }\n",
              "\n",
              "    .dataframe tbody tr th {\n",
              "        vertical-align: top;\n",
              "    }\n",
              "\n",
              "    .dataframe thead th {\n",
              "        text-align: right;\n",
              "    }\n",
              "</style>\n",
              "<table border=\"1\" class=\"dataframe\">\n",
              "  <thead>\n",
              "    <tr style=\"text-align: right;\">\n",
              "      <th></th>\n",
              "      <th>Parametric</th>\n",
              "    </tr>\n",
              "  </thead>\n",
              "  <tbody>\n",
              "    <tr>\n",
              "      <th>F statistics</th>\n",
              "      <td>-0.158862</td>\n",
              "    </tr>\n",
              "    <tr>\n",
              "      <th>p-value</th>\n",
              "      <td>0.873881</td>\n",
              "    </tr>\n",
              "  </tbody>\n",
              "</table>\n",
              "</div>"
            ],
            "text/plain": [
              "              Parametric\n",
              "F statistics   -0.158862\n",
              "p-value         0.873881"
            ]
          },
          "metadata": {
            "tags": []
          }
        }
      ]
    },
    {
      "cell_type": "markdown",
      "metadata": {
        "id": "ArUMwnQdXb-g"
      },
      "source": [
        "### Result and Interpretation\n",
        "Both tests have a p-value of $>$ $\\alpha = 0.05$\n",
        "<br>\n",
        "We will **not reject** our null hypothesis. There is no significant difference in the albumin between penicillamine and placebo treatment group."
      ]
    },
    {
      "cell_type": "code",
      "metadata": {
        "id": "nmYPP-qtXaQY"
      },
      "source": [
        ""
      ],
      "execution_count": 96,
      "outputs": []
    }
  ]
}